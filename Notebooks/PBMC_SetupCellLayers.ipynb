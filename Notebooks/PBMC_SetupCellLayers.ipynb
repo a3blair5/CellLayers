{
 "cells": [
  {
   "cell_type": "code",
   "execution_count": 7,
   "id": "f5db6f8d-bc65-4a13-a3b2-08b6146e177a",
   "metadata": {},
   "outputs": [
    {
     "name": "stderr",
     "output_type": "stream",
     "text": [
      "Attaching SeuratObject\n",
      "\n"
     ]
    }
   ],
   "source": [
    "library(SetupCellLayers)\n",
    "library(Seurat)"
   ]
  },
  {
   "cell_type": "code",
   "execution_count": 3,
   "id": "ed39eb32-ddaa-43aa-b923-22d670e0d5e3",
   "metadata": {},
   "outputs": [],
   "source": [
    "sobj <- readRDS('../Data/PBMC/pbmc3k.rds')"
   ]
  },
  {
   "cell_type": "code",
   "execution_count": 9,
   "id": "93baa67c-9cdd-47b3-a604-d08c71c2d3b5",
   "metadata": {},
   "outputs": [],
   "source": [
    "Idents(sobj) <- 'seurat_annotations'\n",
    "sobj <- subset(x = sobj, downsample = 100, subset=seurat_annotations!=\"<NA>\")"
   ]
  },
  {
   "cell_type": "code",
   "execution_count": 16,
   "id": "1be24096-1e38-474a-96fe-7daab6ce595d",
   "metadata": {},
   "outputs": [],
   "source": [
    "# Basic Seurat analysis\n",
    "sobj[[\"percent.mt\"]] <- PercentageFeatureSet(sobj, pattern = \"^MT-\")\n",
    "sobj <- subset(sobj, subset = nFeature_RNA > 200 & nFeature_RNA < 2500 & percent.mt < 5)\n",
    "sobj <- NormalizeData(sobj, normalization.method = \"LogNormalize\", scale.factor = 10000)\n",
    "sobj <- FindVariableFeatures(sobj, selection.method = \"vst\", nfeatures = 2000)\n",
    "all.genes <- rownames(sobj)\n",
    "sobj <- ScaleData(sobj, features = all.genes)\n",
    "sobj <- RunPCA(sobj, features = VariableFeatures(object = sobj))\n",
    "sobj <- JackStraw(sobj, num.replicate = 100)\n",
    "sobj <- ScoreJackStraw(sobj, dims = 1:20)\n",
    "sobj <- FindNeighbors(sobj, dims = 1:10)\n",
    "sobj <- RunUMAP(sobj, dims = 1:10)\n",
    "# DimPlot(sobj, reduction = \"umap\")"
   ]
  },
  {
   "cell_type": "code",
   "execution_count": 17,
   "id": "860df3bb-a37a-4830-9269-e43ec94dac79",
   "metadata": {},
   "outputs": [],
   "source": [
    "cl.setup <- compute_modularity(sobj, seq(0.1, 0.5, by=0.1),\n",
    "                               '../Data/Test-SetupCellLayers/PBMC_modularity.csv')"
   ]
  },
  {
   "cell_type": "code",
   "execution_count": 13,
   "id": "5d3b2617-3a9d-49f6-ac05-8055da10a36f",
   "metadata": {},
   "outputs": [
    {
     "data": {
      "text/plain": [
       "$sobj\n",
       "An object of class Seurat \n",
       "13714 features across 746 samples within 1 assay \n",
       "Active assay: RNA (13714 features, 2000 variable features)\n",
       " 2 dimensional reductions calculated: pca, umap\n",
       "\n",
       "$mod\n",
       "  resolution modularity\n",
       "1    res.0.1     0.9630\n",
       "2    res.0.2     0.9393\n",
       "3    res.0.3     0.9222\n",
       "4    res.0.4     0.9051\n",
       "5    res.0.5     0.8881\n"
      ]
     },
     "metadata": {},
     "output_type": "display_data"
    }
   ],
   "source": [
    "cl.setup[['sil']] <- compute_silhouette_scores(as.character(cl.setup$mod$'resolution'),\n",
    "                                               cl.setup$sobj,)"
   ]
  }
 ],
 "metadata": {
  "kernelspec": {
   "display_name": "R",
   "language": "R",
   "name": "ir"
  },
  "language_info": {
   "codemirror_mode": "r",
   "file_extension": ".r",
   "mimetype": "text/x-r-source",
   "name": "R",
   "pygments_lexer": "r",
   "version": "4.1.1"
  }
 },
 "nbformat": 4,
 "nbformat_minor": 5
}
