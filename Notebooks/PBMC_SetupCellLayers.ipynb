{
 "cells": [
  {
   "cell_type": "code",
   "execution_count": 1,
   "id": "f5db6f8d-bc65-4a13-a3b2-08b6146e177a",
   "metadata": {},
   "outputs": [
    {
     "name": "stderr",
     "output_type": "stream",
     "text": [
      "Attaching SeuratObject\n",
      "\n"
     ]
    }
   ],
   "source": [
    "library(Seurat)\n",
    "library(SetupCellLayers)"
   ]
  },
  {
   "cell_type": "code",
   "execution_count": 2,
   "id": "ed39eb32-ddaa-43aa-b923-22d670e0d5e3",
   "metadata": {},
   "outputs": [],
   "source": [
    "sobj <- readRDS('../Data/PBMC/pbmc3k.rds')"
   ]
  },
  {
   "cell_type": "code",
   "execution_count": 3,
   "id": "93baa67c-9cdd-47b3-a604-d08c71c2d3b5",
   "metadata": {},
   "outputs": [],
   "source": [
    "Idents(sobj) <- 'seurat_annotations'\n",
    "sobj <- subset(x = sobj, downsample = 100, subset=seurat_annotations!=\"<NA>\")"
   ]
  },
  {
   "cell_type": "code",
   "execution_count": 4,
   "id": "1be24096-1e38-474a-96fe-7daab6ce595d",
   "metadata": {},
   "outputs": [
    {
     "name": "stderr",
     "output_type": "stream",
     "text": [
      "Centering and scaling data matrix\n",
      "\n",
      "PC_ 1 \n",
      "Positive:  IL32, CD3D, CD3E, CTSW, GZMA, CST7, LDHB, CD247, LTB, NKG7 \n",
      "\t   STK17A, TPT1, CD2, CCL5, ACAP1, HOPX, PRF1, FGFBP2, ALOX5AP, GZMB \n",
      "\t   NCR3, SELL, GZMH, GIMAP5, GNLY, CCL4, GZMK, KLRG1, ARPC5L, AQP3 \n",
      "Negative:  CST3, LST1, AIF1, FTH1, FTL, CFD, TYMP, SERPINA1, CD68, IFITM3 \n",
      "\t   COTL1, LYZ, TYROBP, FCER1G, CTSS, FCN1, SAT1, SPI1, CFP, PSAP \n",
      "\t   IFI30, LGALS1, S100A9, NPC2, S100A11, RP11-290F20.3, MS4A7, TIMP1, OAZ1, LGALS3 \n",
      "PC_ 2 \n",
      "Positive:  SDPR, GNG11, PF4, GP9, SPARC, PTCRA, TUBB1, PPBP, ITGA2B, TMEM40 \n",
      "\t   HIST1H2AC, MMD, AP001189.4, NRGN, CLU, CD9, ACRBP, RGS18, CA2, TSC22D1 \n",
      "\t   TREML1, F13A1, LY6G6F, GP1BA, CMTM5, C2orf88, SEPT5, CLEC1B, MYL9, MAP3K7CL \n",
      "Negative:  RPS2, TMSB10, S100A4, COX4I1, TPT1, S100A6, JUNB, S100A11, S100A10, FOS \n",
      "\t   TYROBP, ZFP36, VIM, HLA-DPA1, LGALS1, CTSS, LST1, RBM3, IFITM2, CD48 \n",
      "\t   RAC2, TYMP, PYCARD, IFI6, FCN1, EMP3, C1orf162, IFITM3, AIF1, IFI30 \n",
      "PC_ 3 \n",
      "Positive:  CD79A, MS4A1, HLA-DRA, HLA-DQA1, HLA-DQB1, TCL1A, LINC00926, VPREB3, HLA-DPB1, LTB \n",
      "\t   CD74, HLA-DMA, FCER2, CD79B, HLA-DMB, HLA-DRB1, HLA-DQA2, HLA-DRB5, BANK1, TSPAN13 \n",
      "\t   CD37, PPAPDC1B, NCF1, FCRLA, HLA-DPA1, HLA-DOB, HVCN1, RPS2, PKIG, KIAA0125 \n",
      "Negative:  NKG7, PRF1, GZMB, CST7, GZMA, FGFBP2, CTSW, GNLY, FCGR3A, SPON2 \n",
      "\t   CD247, CCL4, GZMH, SRGN, CLIC3, AKR1C3, XCL2, IGFBP7, CCL5, CTSC \n",
      "\t   HOPX, ID2, RHOC, S100A4, RAP1B, ACTB, IFITM2, ANXA1, PTGDR, XCL1 \n",
      "PC_ 4 \n",
      "Positive:  CD3D, S100A8, S100A9, TMSB4X, S100A6, RBP7, CD14, CD3E, S100A4, CD2 \n",
      "\t   FOS, LDHB, IL32, FCN1, AQP3, S100A12, JUNB, VIM, CDA, S100A10 \n",
      "\t   LGALS2, GIMAP4, GIMAP7, CD44, FYB, CFD, CLEC4E, TSPO, VCAN, MS4A6A \n",
      "Negative:  HLA-DQA1, CD74, HLA-DQB1, CD79A, HLA-DQA2, HLA-DPB1, HLA-DPA1, CD79B, HLA-DRB1, MS4A1 \n",
      "\t   HLA-DRB5, HLA-DRA, HLA-DMB, HLA-DMA, TCL1A, PLD4, VPREB3, IRF8, LINC00926, GZMB \n",
      "\t   TSPAN13, PLAC8, SERPINF1, BANK1, HLA-DOB, HVCN1, MZB1, FCER2, CD72, HNRNPA2B1 \n",
      "PC_ 5 \n",
      "Positive:  LTB, CD3D, LDHB, JUNB, CD3E, TPT1, IL32, CD2, AQP3, CD48 \n",
      "\t   NAP1L1, HINT1, CKB, VIM, MS4A4A, RPS2, PTGES3, HES4, CYTIP, ATP1A1 \n",
      "\t   FAM110A, CD44, PPM1N, MS4A7, CDKN1C, TRAF3IP3, ICAM2, CCNI, ITM2A, FOS \n",
      "Negative:  S100A8, LGALS2, CD14, GZMB, CCL3, GNLY, FGFBP2, S100A9, SPON2, MS4A6A \n",
      "\t   GSTP1, PRF1, RBP7, TYROBP, IGFBP7, S100A12, NKG7, CCL4, CST7, AKR1C3 \n",
      "\t   CLIC3, XCL2, GZMA, FCN1, LYZ, GPX1, CLEC4E, ALDH2, NCF1, GZMH \n",
      "\n",
      "Computing nearest neighbor graph\n",
      "\n",
      "Computing SNN\n",
      "\n",
      "Warning message:\n",
      "“The default method for RunUMAP has changed from calling Python UMAP via reticulate to the R-native UWOT using the cosine metric\n",
      "To use Python UMAP via reticulate, set umap.method to 'umap-learn' and metric to 'correlation'\n",
      "This message will be shown once per session”\n",
      "00:27:36 UMAP embedding parameters a = 0.9922 b = 1.112\n",
      "\n",
      "00:27:36 Read 746 rows and found 10 numeric columns\n",
      "\n",
      "00:27:36 Using Annoy for neighbor search, n_neighbors = 30\n",
      "\n",
      "00:27:36 Building Annoy index with metric = cosine, n_trees = 50\n",
      "\n",
      "0%   10   20   30   40   50   60   70   80   90   100%\n",
      "\n",
      "[----|----|----|----|----|----|----|----|----|----|\n",
      "\n",
      "*\n",
      "*\n",
      "*\n",
      "*\n",
      "*\n",
      "*\n",
      "*\n",
      "*\n",
      "*\n",
      "*\n",
      "*\n",
      "*\n",
      "*\n",
      "*\n",
      "*\n",
      "*\n",
      "*\n",
      "*\n",
      "*\n",
      "*\n",
      "*\n",
      "*\n",
      "*\n",
      "*\n",
      "*\n",
      "*\n",
      "*\n",
      "*\n",
      "*\n",
      "*\n",
      "*\n",
      "*\n",
      "*\n",
      "*\n",
      "*\n",
      "*\n",
      "*\n",
      "*\n",
      "*\n",
      "*\n",
      "*\n",
      "*\n",
      "*\n",
      "*\n",
      "*\n",
      "*\n",
      "*\n",
      "*\n",
      "*\n",
      "*\n",
      "|\n",
      "\n",
      "00:27:37 Writing NN index file to temp file /tmp/RtmpRZoWSY/file11ca5cd65219\n",
      "\n",
      "00:27:37 Searching Annoy index using 1 thread, search_k = 3000\n",
      "\n",
      "00:27:37 Annoy recall = 100%\n",
      "\n",
      "00:27:37 Commencing smooth kNN distance calibration using 1 thread\n",
      "\n",
      "00:27:38 Initializing from normalized Laplacian + noise\n",
      "\n",
      "00:27:38 Commencing optimization for 500 epochs, with 28398 positive edges\n",
      "\n",
      "00:27:39 Optimization finished\n",
      "\n"
     ]
    }
   ],
   "source": [
    "# Basic Seurat analysis\n",
    "sobj[[\"percent.mt\"]] <- PercentageFeatureSet(sobj, pattern = \"^MT-\")\n",
    "sobj <- subset(sobj, subset = nFeature_RNA > 200 & nFeature_RNA < 2500 & percent.mt < 5)\n",
    "sobj <- NormalizeData(sobj, normalization.method = \"LogNormalize\", scale.factor = 10000)\n",
    "sobj <- FindVariableFeatures(sobj, selection.method = \"vst\", nfeatures = 2000)\n",
    "all.genes <- rownames(sobj)\n",
    "sobj <- ScaleData(sobj, features = all.genes)\n",
    "sobj <- RunPCA(sobj, features = VariableFeatures(object = sobj))\n",
    "sobj <- JackStraw(sobj, num.replicate = 100)\n",
    "sobj <- ScoreJackStraw(sobj, dims = 1:20)\n",
    "sobj <- FindNeighbors(sobj, dims = 1:10)\n",
    "sobj <- RunUMAP(sobj, dims = 1:10)"
   ]
  },
  {
   "cell_type": "code",
   "execution_count": 7,
   "id": "860df3bb-a37a-4830-9269-e43ec94dac79",
   "metadata": {},
   "outputs": [],
   "source": [
    "cl.setup <- compute_modularity(sobj, seq(0.1, 0.5, by=0.1),\n",
    "                               '../Data/Test-SetupCellLayers/PBMC_modularity.csv')"
   ]
  },
  {
   "cell_type": "code",
   "execution_count": 8,
   "id": "5d3b2617-3a9d-49f6-ac05-8055da10a36f",
   "metadata": {},
   "outputs": [],
   "source": [
    "cl.setup[['sil']] <- compute_silhouette_scores(cl.setup$sobj,\n",
    "                                               as.character(cl.setup$mod$'resolution'),\n",
    "                                               '../Data/Test-SetupCellLayers/PBMC_silhouette_scores.csv')"
   ]
  },
  {
   "cell_type": "code",
   "execution_count": null,
   "id": "b3927adf-57a7-40bd-81d9-2a6b7eab03d0",
   "metadata": {},
   "outputs": [],
   "source": []
  }
 ],
 "metadata": {
  "kernelspec": {
   "display_name": "R",
   "language": "R",
   "name": "ir"
  },
  "language_info": {
   "codemirror_mode": "r",
   "file_extension": ".r",
   "mimetype": "text/x-r-source",
   "name": "R",
   "pygments_lexer": "r",
   "version": "4.1.1"
  }
 },
 "nbformat": 4,
 "nbformat_minor": 5
}
