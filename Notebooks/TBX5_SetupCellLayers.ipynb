{
 "cells": [
  {
   "cell_type": "code",
   "execution_count": 2,
   "id": "2fdaa850-e8c6-41e7-97a8-ad87d209088a",
   "metadata": {},
   "outputs": [],
   "source": [
    "library(enrichR)\n",
    "library(Seurat)\n",
    "library(SetupCellLayers)"
   ]
  },
  {
   "cell_type": "code",
   "execution_count": null,
   "id": "ae580c0e-e0fd-42d2-a2ec-7cb83cc5cdcd",
   "metadata": {},
   "outputs": [],
   "source": []
  }
 ],
 "metadata": {
  "kernelspec": {
   "display_name": "R",
   "language": "R",
   "name": "ir"
  },
  "language_info": {
   "codemirror_mode": "r",
   "file_extension": ".r",
   "mimetype": "text/x-r-source",
   "name": "R",
   "pygments_lexer": "r",
   "version": "4.1.1"
  }
 },
 "nbformat": 4,
 "nbformat_minor": 5
}
