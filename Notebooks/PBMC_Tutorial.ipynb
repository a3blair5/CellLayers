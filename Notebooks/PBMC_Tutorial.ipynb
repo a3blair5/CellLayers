{
 "cells": [
  {
   "cell_type": "code",
   "execution_count": 5,
   "metadata": {},
   "outputs": [],
   "source": [
    "import pandas as pd\n",
    "import CellLayers"
   ]
  },
  {
   "cell_type": "code",
   "execution_count": 6,
   "metadata": {},
   "outputs": [],
   "source": [
    "exp_df = pd.read_csv('../Data/PBMC_exp.csv',index_col=[0])\n",
    "meta_df = pd.read_csv('../Data/PBMC_meta.csv',index_col=[0])\n",
    "mod_df = pd.read_csv('../Data/pbmc_modularity.csv',index_col=[0])\n",
    "sil_df = pd.read_csv('../Data/pbmc_silhouette_scores.csv', index_col=[0])"
   ]
  },
  {
   "cell_type": "code",
   "execution_count": 7,
   "metadata": {},
   "outputs": [],
   "source": [
    "sankey = CellLayers.run(exp_df, meta_df, modularity=mod_df, silhouette=sil_df, genes=['CD3E'])"
   ]
  },
  {
   "cell_type": "code",
   "execution_count": 8,
   "metadata": {},
   "outputs": [
    {
     "data": {
      "application/vnd.plotly.v1+json": {
       "config": {
        "plotlyServerURL": "https://plot.ly"
       },
       "data": [
        {
         "link": {
          "color": [
           "#807cba",
           "#fbfafc",
           "#fcfbfd",
           "#9f9cc9",
           "#faf9fc",
           "#fbfafc",
           "#9490c3",
           "#807cba",
           "#fbfafc",
           "#fcfbfd",
           "#9f9cc9",
           "#faf9fc",
           "#fbfafc",
           "#f2f0f7",
           "#3f007d",
           "#776cb1",
           "#fbfafc",
           "#fcfbfd",
           "#d1d2e7",
           "#817ebb",
           "#8683bd",
           "#faf9fc",
           "#fbfafc",
           "#acaad1",
           "#f2f0f7",
           "#3f007d",
           "#776cb1",
           "#fbfafc",
           "#fcfbfd",
           "#d1d2e7",
           "#827fbb",
           "#8683bd",
           "#faf9fc",
           "#8b87bf",
           "#fbfafc",
           "#f2f0f7",
           "#d4d4e8",
           "#705eaa"
          ],
          "source": [
           0,
           2,
           1,
           3,
           1,
           1,
           0,
           5,
           9,
           8,
           6,
           4,
           7,
           4,
           5,
           12,
           16,
           15,
           13,
           13,
           12,
           10,
           14,
           12,
           11,
           13,
           21,
           25,
           24,
           19,
           18,
           22,
           23,
           22,
           20,
           17,
           22,
           21
          ],
          "target": [
           5,
           9,
           8,
           6,
           4,
           7,
           6,
           12,
           16,
           15,
           13,
           10,
           14,
           11,
           13,
           21,
           25,
           24,
           19,
           18,
           22,
           23,
           20,
           18,
           17,
           21,
           33,
           34,
           30,
           28,
           27,
           31,
           32,
           33,
           29,
           26,
           27,
           27
          ],
          "value": [
           1189,
           344,
           480,
           415,
           176,
           32,
           2,
           1188,
           344,
           480,
           417,
           162,
           32,
           14,
           1,
           461,
           344,
           480,
           155,
           262,
           723,
           162,
           32,
           4,
           14,
           1,
           461,
           344,
           480,
           155,
           266,
           697,
           162,
           22,
           32,
           14,
           4,
           1
          ]
         },
         "node": {
          "color": [
           "#a50026",
           "#e65036",
           "#d93429",
           "#fffab7",
           "#fff0a8",
           "#a50026",
           "#fffab7",
           "#e24731",
           "#ab0626",
           "#d93429",
           "#f57547",
           "#a50026",
           "#d62f27",
           "#fffbb9",
           "#f57547",
           "#f46d43",
           "#ef633f",
           "#a50026",
           "#fff0a8",
           "#fecc7e",
           "#f57547",
           "#fffbb9",
           "#fdbb6d",
           "#f57547",
           "#f57547",
           "#f67c4a",
           "#a50026",
           "#fff0a8",
           "#fecc7e",
           "#f57547",
           "#f57547",
           "#fdbb6d",
           "#f57547",
           "#fffbb9",
           "#f67c4a"
          ],
          "customdata": [
           "Modularity 0.96<br />Silhouette 0.32",
           "Modularity 0.96<br />Silhouette 0.22",
           "Modularity 0.96<br />Silhouette 0.25",
           "Modularity 0.96<br />Silhouette 0.01",
           "Modularity 0.93<br />Silhouette 0.03",
           "Modularity 0.93<br />Silhouette 0.32",
           "Modularity 0.93<br />Silhouette 0.01",
           "Modularity 0.93<br />Silhouette 0.23",
           "Modularity 0.93<br />Silhouette 0.31",
           "Modularity 0.93<br />Silhouette 0.25",
           "Modularity 0.91<br />Silhouette 0.23",
           "Modularity 0.91<br />Silhouette 0.4",
           "Modularity 0.91<br />Silhouette 0.32",
           "Modularity 0.91<br />Silhouette 0.01",
           "Modularity 0.91<br />Silhouette 0.23",
           "Modularity 0.91<br />Silhouette 0.24",
           "Modularity 0.91<br />Silhouette 0.25",
           "Modularity 0.89<br />Silhouette 0.4",
           "Modularity 0.89<br />Silhouette 0.04",
           "Modularity 0.89<br />Silhouette 0.11",
           "Modularity 0.89<br />Silhouette 0.23",
           "Modularity 0.89<br />Silhouette 0.01",
           "Modularity 0.89<br />Silhouette 0.14",
           "Modularity 0.89<br />Silhouette 0.23",
           "Modularity 0.89<br />Silhouette 0.23",
           "Modularity 0.89<br />Silhouette 0.22",
           "Modularity 0.87<br />Silhouette 0.4",
           "Modularity 0.87<br />Silhouette 0.04",
           "Modularity 0.87<br />Silhouette 0.11",
           "Modularity 0.87<br />Silhouette 0.23",
           "Modularity 0.87<br />Silhouette 0.23",
           "Modularity 0.87<br />Silhouette 0.14",
           "Modularity 0.87<br />Silhouette 0.23",
           "Modularity 0.87<br />Silhouette 0.01",
           "Modularity 0.87<br />Silhouette 0.22"
          ],
          "hovertemplate": "%{customdata}",
          "label": [
           "res.0.1_0",
           "res.0.1_1",
           "res.0.1_3",
           "res.0.1_2",
           "res.0.2_4",
           "res.0.2_0",
           "res.0.2_2",
           "res.0.2_5",
           "res.0.2_1",
           "res.0.2_3",
           "res.0.3_4",
           "res.0.3_6",
           "res.0.3_0",
           "res.0.3_2",
           "res.0.3_5",
           "res.0.3_1",
           "res.0.3_3",
           "res.0.4_8",
           "res.0.4_4",
           "res.0.4_6",
           "res.0.4_7",
           "res.0.4_2",
           "res.0.4_0",
           "res.0.4_5",
           "res.0.4_1",
           "res.0.4_3",
           "res.0.5_8",
           "res.0.5_4",
           "res.0.5_6",
           "res.0.5_7",
           "res.0.5_2",
           "res.0.5_0",
           "res.0.5_5",
           "res.0.5_1",
           "res.0.5_3"
          ],
          "pad": 10,
          "thickness": 10
         },
         "orientation": "h",
         "type": "sankey"
        },
        {
         "marker": {
          "colorscale": [
           [
            0,
            "#a50026"
           ],
           [
            0.029411764705882353,
            "#e65036"
           ],
           [
            0.058823529411764705,
            "#d93429"
           ],
           [
            0.08823529411764706,
            "#fffab7"
           ],
           [
            0.11764705882352941,
            "#fff0a8"
           ],
           [
            0.14705882352941177,
            "#a50026"
           ],
           [
            0.17647058823529413,
            "#fffab7"
           ],
           [
            0.20588235294117646,
            "#e24731"
           ],
           [
            0.23529411764705882,
            "#ab0626"
           ],
           [
            0.2647058823529412,
            "#d93429"
           ],
           [
            0.29411764705882354,
            "#f57547"
           ],
           [
            0.3235294117647059,
            "#a50026"
           ],
           [
            0.35294117647058826,
            "#d62f27"
           ],
           [
            0.38235294117647056,
            "#fffbb9"
           ],
           [
            0.4117647058823529,
            "#f57547"
           ],
           [
            0.4411764705882353,
            "#f46d43"
           ],
           [
            0.47058823529411764,
            "#ef633f"
           ],
           [
            0.5,
            "#a50026"
           ],
           [
            0.5294117647058824,
            "#fff0a8"
           ],
           [
            0.5588235294117647,
            "#fecc7e"
           ],
           [
            0.5882352941176471,
            "#f57547"
           ],
           [
            0.6176470588235294,
            "#fffbb9"
           ],
           [
            0.6470588235294118,
            "#fdbb6d"
           ],
           [
            0.6764705882352942,
            "#f57547"
           ],
           [
            0.7058823529411765,
            "#f57547"
           ],
           [
            0.7352941176470589,
            "#f67c4a"
           ],
           [
            0.7647058823529411,
            "#a50026"
           ],
           [
            0.7941176470588235,
            "#fff0a8"
           ],
           [
            0.8235294117647058,
            "#fecc7e"
           ],
           [
            0.8529411764705882,
            "#f57547"
           ],
           [
            0.8823529411764706,
            "#f57547"
           ],
           [
            0.9117647058823529,
            "#fdbb6d"
           ],
           [
            0.9411764705882353,
            "#f57547"
           ],
           [
            0.9705882352941176,
            "#fffbb9"
           ],
           [
            1,
            "#f67c4a"
           ]
          ]
         },
         "mode": "markers",
         "type": "scatter",
         "visible": true,
         "x": [
          null
         ],
         "y": [
          null
         ]
        },
        {
         "marker": {
          "cmax": 2.6245696606237003,
          "cmin": 0.15795521061068996,
          "colorscale": [
           [
            0,
            "#fcfbfd"
           ],
           [
            0.02702702702702703,
            "#fcfbfd"
           ],
           [
            0.05405405405405406,
            "#fcfbfd"
           ],
           [
            0.08108108108108109,
            "#fcfbfd"
           ],
           [
            0.10810810810810811,
            "#fbfafc"
           ],
           [
            0.13513513513513514,
            "#fbfafc"
           ],
           [
            0.16216216216216217,
            "#fbfafc"
           ],
           [
            0.1891891891891892,
            "#fbfafc"
           ],
           [
            0.21621621621621623,
            "#fbfafc"
           ],
           [
            0.24324324324324326,
            "#fbfafc"
           ],
           [
            0.2702702702702703,
            "#fbfafc"
           ],
           [
            0.2972972972972973,
            "#fbfafc"
           ],
           [
            0.32432432432432434,
            "#faf9fc"
           ],
           [
            0.35135135135135137,
            "#faf9fc"
           ],
           [
            0.3783783783783784,
            "#faf9fc"
           ],
           [
            0.40540540540540543,
            "#faf9fc"
           ],
           [
            0.43243243243243246,
            "#f2f0f7"
           ],
           [
            0.4594594594594595,
            "#f2f0f7"
           ],
           [
            0.4864864864864865,
            "#f2f0f7"
           ],
           [
            0.5135135135135135,
            "#d4d4e8"
           ],
           [
            0.5405405405405406,
            "#d1d2e7"
           ],
           [
            0.5675675675675675,
            "#d1d2e7"
           ],
           [
            0.5945945945945946,
            "#acaad1"
           ],
           [
            0.6216216216216216,
            "#9f9cc9"
           ],
           [
            0.6486486486486487,
            "#9f9cc9"
           ],
           [
            0.6756756756756757,
            "#9490c3"
           ],
           [
            0.7027027027027027,
            "#8b87bf"
           ],
           [
            0.7297297297297297,
            "#8683bd"
           ],
           [
            0.7567567567567568,
            "#8683bd"
           ],
           [
            0.7837837837837838,
            "#827fbb"
           ],
           [
            0.8108108108108109,
            "#817ebb"
           ],
           [
            0.8378378378378378,
            "#807cba"
           ],
           [
            0.8648648648648649,
            "#807cba"
           ],
           [
            0.8918918918918919,
            "#776cb1"
           ],
           [
            0.918918918918919,
            "#776cb1"
           ],
           [
            0.9459459459459459,
            "#705eaa"
           ],
           [
            0.972972972972973,
            "#3f007d"
           ],
           [
            1,
            "#3f007d"
           ]
          ],
          "showscale": true
         },
         "mode": "markers",
         "type": "scatter",
         "visible": true,
         "x": [
          null
         ],
         "y": [
          null
         ]
        },
        {
         "marker": {
          "cmax": 1,
          "cmin": -1,
          "colorbar": {
           "x": 1.1,
           "y": 0.5
          },
          "colorscale": [
           [
            0,
            "#313695"
           ],
           [
            0.05,
            "#3a54a4"
           ],
           [
            0.1,
            "#4574b3"
           ],
           [
            0.15,
            "#5c90c2"
           ],
           [
            0.2,
            "#74add1"
           ],
           [
            0.25,
            "#90c3dd"
           ],
           [
            0.3,
            "#aad8e9"
           ],
           [
            0.35,
            "#c5e6f0"
           ],
           [
            0.4,
            "#e0f3f8"
           ],
           [
            0.45,
            "#f0f9db"
           ],
           [
            0.5,
            "#fffebe"
           ],
           [
            0.55,
            "#fff0a8"
           ],
           [
            0.6,
            "#fee090"
           ],
           [
            0.65,
            "#fdc778"
           ],
           [
            0.7,
            "#fdad60"
           ],
           [
            0.75,
            "#f88c51"
           ],
           [
            0.8,
            "#f46d43"
           ],
           [
            0.85,
            "#e54e35"
           ],
           [
            0.9,
            "#d62f27"
           ],
           [
            0.95,
            "#bd1726"
           ],
           [
            1,
            "#a50026"
           ]
          ],
          "showscale": true
         },
         "mode": "markers",
         "type": "scatter",
         "visible": true,
         "x": [
          null
         ],
         "y": [
          null
         ]
        }
       ],
       "layout": {
        "autosize": true,
        "paper_bgcolor": "rgba(0, 0, 0, 0)",
        "plot_bgcolor": "rgba(0, 0, 0, 0)",
        "showlegend": false,
        "template": {
         "data": {
          "bar": [
           {
            "error_x": {
             "color": "#2a3f5f"
            },
            "error_y": {
             "color": "#2a3f5f"
            },
            "marker": {
             "line": {
              "color": "#E5ECF6",
              "width": 0.5
             }
            },
            "type": "bar"
           }
          ],
          "barpolar": [
           {
            "marker": {
             "line": {
              "color": "#E5ECF6",
              "width": 0.5
             }
            },
            "type": "barpolar"
           }
          ],
          "carpet": [
           {
            "aaxis": {
             "endlinecolor": "#2a3f5f",
             "gridcolor": "white",
             "linecolor": "white",
             "minorgridcolor": "white",
             "startlinecolor": "#2a3f5f"
            },
            "baxis": {
             "endlinecolor": "#2a3f5f",
             "gridcolor": "white",
             "linecolor": "white",
             "minorgridcolor": "white",
             "startlinecolor": "#2a3f5f"
            },
            "type": "carpet"
           }
          ],
          "choropleth": [
           {
            "colorbar": {
             "outlinewidth": 0,
             "ticks": ""
            },
            "type": "choropleth"
           }
          ],
          "contour": [
           {
            "colorbar": {
             "outlinewidth": 0,
             "ticks": ""
            },
            "colorscale": [
             [
              0,
              "#0d0887"
             ],
             [
              0.1111111111111111,
              "#46039f"
             ],
             [
              0.2222222222222222,
              "#7201a8"
             ],
             [
              0.3333333333333333,
              "#9c179e"
             ],
             [
              0.4444444444444444,
              "#bd3786"
             ],
             [
              0.5555555555555556,
              "#d8576b"
             ],
             [
              0.6666666666666666,
              "#ed7953"
             ],
             [
              0.7777777777777778,
              "#fb9f3a"
             ],
             [
              0.8888888888888888,
              "#fdca26"
             ],
             [
              1,
              "#f0f921"
             ]
            ],
            "type": "contour"
           }
          ],
          "contourcarpet": [
           {
            "colorbar": {
             "outlinewidth": 0,
             "ticks": ""
            },
            "type": "contourcarpet"
           }
          ],
          "heatmap": [
           {
            "colorbar": {
             "outlinewidth": 0,
             "ticks": ""
            },
            "colorscale": [
             [
              0,
              "#0d0887"
             ],
             [
              0.1111111111111111,
              "#46039f"
             ],
             [
              0.2222222222222222,
              "#7201a8"
             ],
             [
              0.3333333333333333,
              "#9c179e"
             ],
             [
              0.4444444444444444,
              "#bd3786"
             ],
             [
              0.5555555555555556,
              "#d8576b"
             ],
             [
              0.6666666666666666,
              "#ed7953"
             ],
             [
              0.7777777777777778,
              "#fb9f3a"
             ],
             [
              0.8888888888888888,
              "#fdca26"
             ],
             [
              1,
              "#f0f921"
             ]
            ],
            "type": "heatmap"
           }
          ],
          "heatmapgl": [
           {
            "colorbar": {
             "outlinewidth": 0,
             "ticks": ""
            },
            "colorscale": [
             [
              0,
              "#0d0887"
             ],
             [
              0.1111111111111111,
              "#46039f"
             ],
             [
              0.2222222222222222,
              "#7201a8"
             ],
             [
              0.3333333333333333,
              "#9c179e"
             ],
             [
              0.4444444444444444,
              "#bd3786"
             ],
             [
              0.5555555555555556,
              "#d8576b"
             ],
             [
              0.6666666666666666,
              "#ed7953"
             ],
             [
              0.7777777777777778,
              "#fb9f3a"
             ],
             [
              0.8888888888888888,
              "#fdca26"
             ],
             [
              1,
              "#f0f921"
             ]
            ],
            "type": "heatmapgl"
           }
          ],
          "histogram": [
           {
            "marker": {
             "colorbar": {
              "outlinewidth": 0,
              "ticks": ""
             }
            },
            "type": "histogram"
           }
          ],
          "histogram2d": [
           {
            "colorbar": {
             "outlinewidth": 0,
             "ticks": ""
            },
            "colorscale": [
             [
              0,
              "#0d0887"
             ],
             [
              0.1111111111111111,
              "#46039f"
             ],
             [
              0.2222222222222222,
              "#7201a8"
             ],
             [
              0.3333333333333333,
              "#9c179e"
             ],
             [
              0.4444444444444444,
              "#bd3786"
             ],
             [
              0.5555555555555556,
              "#d8576b"
             ],
             [
              0.6666666666666666,
              "#ed7953"
             ],
             [
              0.7777777777777778,
              "#fb9f3a"
             ],
             [
              0.8888888888888888,
              "#fdca26"
             ],
             [
              1,
              "#f0f921"
             ]
            ],
            "type": "histogram2d"
           }
          ],
          "histogram2dcontour": [
           {
            "colorbar": {
             "outlinewidth": 0,
             "ticks": ""
            },
            "colorscale": [
             [
              0,
              "#0d0887"
             ],
             [
              0.1111111111111111,
              "#46039f"
             ],
             [
              0.2222222222222222,
              "#7201a8"
             ],
             [
              0.3333333333333333,
              "#9c179e"
             ],
             [
              0.4444444444444444,
              "#bd3786"
             ],
             [
              0.5555555555555556,
              "#d8576b"
             ],
             [
              0.6666666666666666,
              "#ed7953"
             ],
             [
              0.7777777777777778,
              "#fb9f3a"
             ],
             [
              0.8888888888888888,
              "#fdca26"
             ],
             [
              1,
              "#f0f921"
             ]
            ],
            "type": "histogram2dcontour"
           }
          ],
          "mesh3d": [
           {
            "colorbar": {
             "outlinewidth": 0,
             "ticks": ""
            },
            "type": "mesh3d"
           }
          ],
          "parcoords": [
           {
            "line": {
             "colorbar": {
              "outlinewidth": 0,
              "ticks": ""
             }
            },
            "type": "parcoords"
           }
          ],
          "pie": [
           {
            "automargin": true,
            "type": "pie"
           }
          ],
          "scatter": [
           {
            "marker": {
             "colorbar": {
              "outlinewidth": 0,
              "ticks": ""
             }
            },
            "type": "scatter"
           }
          ],
          "scatter3d": [
           {
            "line": {
             "colorbar": {
              "outlinewidth": 0,
              "ticks": ""
             }
            },
            "marker": {
             "colorbar": {
              "outlinewidth": 0,
              "ticks": ""
             }
            },
            "type": "scatter3d"
           }
          ],
          "scattercarpet": [
           {
            "marker": {
             "colorbar": {
              "outlinewidth": 0,
              "ticks": ""
             }
            },
            "type": "scattercarpet"
           }
          ],
          "scattergeo": [
           {
            "marker": {
             "colorbar": {
              "outlinewidth": 0,
              "ticks": ""
             }
            },
            "type": "scattergeo"
           }
          ],
          "scattergl": [
           {
            "marker": {
             "colorbar": {
              "outlinewidth": 0,
              "ticks": ""
             }
            },
            "type": "scattergl"
           }
          ],
          "scattermapbox": [
           {
            "marker": {
             "colorbar": {
              "outlinewidth": 0,
              "ticks": ""
             }
            },
            "type": "scattermapbox"
           }
          ],
          "scatterpolar": [
           {
            "marker": {
             "colorbar": {
              "outlinewidth": 0,
              "ticks": ""
             }
            },
            "type": "scatterpolar"
           }
          ],
          "scatterpolargl": [
           {
            "marker": {
             "colorbar": {
              "outlinewidth": 0,
              "ticks": ""
             }
            },
            "type": "scatterpolargl"
           }
          ],
          "scatterternary": [
           {
            "marker": {
             "colorbar": {
              "outlinewidth": 0,
              "ticks": ""
             }
            },
            "type": "scatterternary"
           }
          ],
          "surface": [
           {
            "colorbar": {
             "outlinewidth": 0,
             "ticks": ""
            },
            "colorscale": [
             [
              0,
              "#0d0887"
             ],
             [
              0.1111111111111111,
              "#46039f"
             ],
             [
              0.2222222222222222,
              "#7201a8"
             ],
             [
              0.3333333333333333,
              "#9c179e"
             ],
             [
              0.4444444444444444,
              "#bd3786"
             ],
             [
              0.5555555555555556,
              "#d8576b"
             ],
             [
              0.6666666666666666,
              "#ed7953"
             ],
             [
              0.7777777777777778,
              "#fb9f3a"
             ],
             [
              0.8888888888888888,
              "#fdca26"
             ],
             [
              1,
              "#f0f921"
             ]
            ],
            "type": "surface"
           }
          ],
          "table": [
           {
            "cells": {
             "fill": {
              "color": "#EBF0F8"
             },
             "line": {
              "color": "white"
             }
            },
            "header": {
             "fill": {
              "color": "#C8D4E3"
             },
             "line": {
              "color": "white"
             }
            },
            "type": "table"
           }
          ]
         },
         "layout": {
          "annotationdefaults": {
           "arrowcolor": "#2a3f5f",
           "arrowhead": 0,
           "arrowwidth": 1
          },
          "coloraxis": {
           "colorbar": {
            "outlinewidth": 0,
            "ticks": ""
           }
          },
          "colorscale": {
           "diverging": [
            [
             0,
             "#8e0152"
            ],
            [
             0.1,
             "#c51b7d"
            ],
            [
             0.2,
             "#de77ae"
            ],
            [
             0.3,
             "#f1b6da"
            ],
            [
             0.4,
             "#fde0ef"
            ],
            [
             0.5,
             "#f7f7f7"
            ],
            [
             0.6,
             "#e6f5d0"
            ],
            [
             0.7,
             "#b8e186"
            ],
            [
             0.8,
             "#7fbc41"
            ],
            [
             0.9,
             "#4d9221"
            ],
            [
             1,
             "#276419"
            ]
           ],
           "sequential": [
            [
             0,
             "#0d0887"
            ],
            [
             0.1111111111111111,
             "#46039f"
            ],
            [
             0.2222222222222222,
             "#7201a8"
            ],
            [
             0.3333333333333333,
             "#9c179e"
            ],
            [
             0.4444444444444444,
             "#bd3786"
            ],
            [
             0.5555555555555556,
             "#d8576b"
            ],
            [
             0.6666666666666666,
             "#ed7953"
            ],
            [
             0.7777777777777778,
             "#fb9f3a"
            ],
            [
             0.8888888888888888,
             "#fdca26"
            ],
            [
             1,
             "#f0f921"
            ]
           ],
           "sequentialminus": [
            [
             0,
             "#0d0887"
            ],
            [
             0.1111111111111111,
             "#46039f"
            ],
            [
             0.2222222222222222,
             "#7201a8"
            ],
            [
             0.3333333333333333,
             "#9c179e"
            ],
            [
             0.4444444444444444,
             "#bd3786"
            ],
            [
             0.5555555555555556,
             "#d8576b"
            ],
            [
             0.6666666666666666,
             "#ed7953"
            ],
            [
             0.7777777777777778,
             "#fb9f3a"
            ],
            [
             0.8888888888888888,
             "#fdca26"
            ],
            [
             1,
             "#f0f921"
            ]
           ]
          },
          "colorway": [
           "#636efa",
           "#EF553B",
           "#00cc96",
           "#ab63fa",
           "#FFA15A",
           "#19d3f3",
           "#FF6692",
           "#B6E880",
           "#FF97FF",
           "#FECB52"
          ],
          "font": {
           "color": "#2a3f5f"
          },
          "geo": {
           "bgcolor": "white",
           "lakecolor": "white",
           "landcolor": "#E5ECF6",
           "showlakes": true,
           "showland": true,
           "subunitcolor": "white"
          },
          "hoverlabel": {
           "align": "left"
          },
          "hovermode": "closest",
          "mapbox": {
           "style": "light"
          },
          "paper_bgcolor": "white",
          "plot_bgcolor": "#E5ECF6",
          "polar": {
           "angularaxis": {
            "gridcolor": "white",
            "linecolor": "white",
            "ticks": ""
           },
           "bgcolor": "#E5ECF6",
           "radialaxis": {
            "gridcolor": "white",
            "linecolor": "white",
            "ticks": ""
           }
          },
          "scene": {
           "xaxis": {
            "backgroundcolor": "#E5ECF6",
            "gridcolor": "white",
            "gridwidth": 2,
            "linecolor": "white",
            "showbackground": true,
            "ticks": "",
            "zerolinecolor": "white"
           },
           "yaxis": {
            "backgroundcolor": "#E5ECF6",
            "gridcolor": "white",
            "gridwidth": 2,
            "linecolor": "white",
            "showbackground": true,
            "ticks": "",
            "zerolinecolor": "white"
           },
           "zaxis": {
            "backgroundcolor": "#E5ECF6",
            "gridcolor": "white",
            "gridwidth": 2,
            "linecolor": "white",
            "showbackground": true,
            "ticks": "",
            "zerolinecolor": "white"
           }
          },
          "shapedefaults": {
           "line": {
            "color": "#2a3f5f"
           }
          },
          "ternary": {
           "aaxis": {
            "gridcolor": "white",
            "linecolor": "white",
            "ticks": ""
           },
           "baxis": {
            "gridcolor": "white",
            "linecolor": "white",
            "ticks": ""
           },
           "bgcolor": "#E5ECF6",
           "caxis": {
            "gridcolor": "white",
            "linecolor": "white",
            "ticks": ""
           }
          },
          "title": {
           "x": 0.05
          },
          "xaxis": {
           "automargin": true,
           "gridcolor": "white",
           "linecolor": "white",
           "ticks": "",
           "title": {
            "standoff": 15
           },
           "zerolinecolor": "white",
           "zerolinewidth": 2
          },
          "yaxis": {
           "automargin": true,
           "gridcolor": "white",
           "linecolor": "white",
           "ticks": "",
           "title": {
            "standoff": 15
           },
           "zerolinecolor": "white",
           "zerolinewidth": 2
          }
         }
        },
        "updatemenus": [
         {
          "buttons": [
           {
            "args": [
             {
              "link": {
               "color": [
                "#807cba",
                "#fbfafc",
                "#fcfbfd",
                "#9f9cc9",
                "#faf9fc",
                "#fbfafc",
                "#9490c3",
                "#807cba",
                "#fbfafc",
                "#fcfbfd",
                "#9f9cc9",
                "#faf9fc",
                "#fbfafc",
                "#f2f0f7",
                "#3f007d",
                "#776cb1",
                "#fbfafc",
                "#fcfbfd",
                "#d1d2e7",
                "#817ebb",
                "#8683bd",
                "#faf9fc",
                "#fbfafc",
                "#acaad1",
                "#f2f0f7",
                "#3f007d",
                "#776cb1",
                "#fbfafc",
                "#fcfbfd",
                "#d1d2e7",
                "#827fbb",
                "#8683bd",
                "#faf9fc",
                "#8b87bf",
                "#fbfafc",
                "#f2f0f7",
                "#d4d4e8",
                "#705eaa"
               ],
               "source": [
                0,
                2,
                1,
                3,
                1,
                1,
                0,
                5,
                9,
                8,
                6,
                4,
                7,
                4,
                5,
                12,
                16,
                15,
                13,
                13,
                12,
                10,
                14,
                12,
                11,
                13,
                21,
                25,
                24,
                19,
                18,
                22,
                23,
                22,
                20,
                17,
                22,
                21
               ],
               "target": [
                5,
                9,
                8,
                6,
                4,
                7,
                6,
                12,
                16,
                15,
                13,
                10,
                14,
                11,
                13,
                21,
                25,
                24,
                19,
                18,
                22,
                23,
                20,
                18,
                17,
                21,
                33,
                34,
                30,
                28,
                27,
                31,
                32,
                33,
                29,
                26,
                27,
                27
               ],
               "value": [
                1189,
                344,
                480,
                415,
                176,
                32,
                2,
                1188,
                344,
                480,
                417,
                162,
                32,
                14,
                1,
                461,
                344,
                480,
                155,
                262,
                723,
                162,
                32,
                4,
                14,
                1,
                461,
                344,
                480,
                155,
                266,
                697,
                162,
                22,
                32,
                14,
                4,
                1
               ]
              },
              "visible": [
               true,
               true,
               true
              ]
             }
            ],
            "label": "CD3E",
            "method": "update"
           }
          ],
          "x": -0.05,
          "y": 0.9
         },
         {
          "buttons": [
           {
            "args": [
             "arrangement",
             "snap"
            ],
            "label": "Snap",
            "method": "restyle"
           },
           {
            "args": [
             "arrangement",
             "perpendicular"
            ],
            "label": "Perpendicular",
            "method": "restyle"
           },
           {
            "args": [
             "arrangement",
             "freeform"
            ],
            "label": "Freeform",
            "method": "restyle"
           },
           {
            "args": [
             "arrangement",
             "fixed"
            ],
            "label": "Fixed",
            "method": "restyle"
           }
          ],
          "x": 0,
          "y": 1.25
         },
         {
          "buttons": [
           {
            "args": [
             "paper_bgcolor",
             "white"
            ],
            "label": "Light",
            "method": "relayout"
           },
           {
            "args": [
             "paper_bgcolor",
             "black"
            ],
            "label": "Dark",
            "method": "relayout"
           }
          ],
          "x": 0.2,
          "y": 1.25
         },
         {
          "buttons": [
           {
            "args": [
             "node.thickness",
             8
            ],
            "label": "Thin",
            "method": "restyle"
           },
           {
            "args": [
             "node.thickness",
             15
            ],
            "label": "Thick",
            "method": "restyle"
           }
          ],
          "x": 0.4,
          "y": 1.25
         },
         {
          "buttons": [
           {
            "args": [
             "node.pad",
             15
            ],
            "label": "Small gap",
            "method": "restyle"
           },
           {
            "args": [
             "node.pad",
             20
            ],
            "label": "Large gap",
            "method": "restyle"
           }
          ],
          "x": 0.6,
          "y": 1.25
         },
         {
          "buttons": [
           {
            "args": [
             "orientation",
             "h"
            ],
            "label": "Horizontal",
            "method": "restyle"
           },
           {
            "args": [
             "orientation",
             "v"
            ],
            "label": "Vertical",
            "method": "restyle"
           }
          ],
          "x": 0.8,
          "y": 1.25
         }
        ],
        "xaxis": {
         "autorange": true,
         "range": [
          -1,
          6
         ],
         "showgrid": false,
         "showticklabels": false,
         "zeroline": false
        },
        "yaxis": {
         "autorange": true,
         "range": [
          -1,
          4
         ],
         "showgrid": false,
         "showticklabels": false,
         "zeroline": false
        }
       }
      },
      "text/html": [
       "<div>\n",
       "        \n",
       "        \n",
       "            <div id=\"bf453c83-4952-4225-be2c-aab5b5afb173\" class=\"plotly-graph-div\" style=\"height:525px; width:100%;\"></div>\n",
       "            <script type=\"text/javascript\">\n",
       "                require([\"plotly\"], function(Plotly) {\n",
       "                    window.PLOTLYENV=window.PLOTLYENV || {};\n",
       "                    \n",
       "                if (document.getElementById(\"bf453c83-4952-4225-be2c-aab5b5afb173\")) {\n",
       "                    Plotly.newPlot(\n",
       "                        'bf453c83-4952-4225-be2c-aab5b5afb173',\n",
       "                        [{\"link\": {\"color\": [\"#807cba\", \"#fbfafc\", \"#fcfbfd\", \"#9f9cc9\", \"#faf9fc\", \"#fbfafc\", \"#9490c3\", \"#807cba\", \"#fbfafc\", \"#fcfbfd\", \"#9f9cc9\", \"#faf9fc\", \"#fbfafc\", \"#f2f0f7\", \"#3f007d\", \"#776cb1\", \"#fbfafc\", \"#fcfbfd\", \"#d1d2e7\", \"#817ebb\", \"#8683bd\", \"#faf9fc\", \"#fbfafc\", \"#acaad1\", \"#f2f0f7\", \"#3f007d\", \"#776cb1\", \"#fbfafc\", \"#fcfbfd\", \"#d1d2e7\", \"#827fbb\", \"#8683bd\", \"#faf9fc\", \"#8b87bf\", \"#fbfafc\", \"#f2f0f7\", \"#d4d4e8\", \"#705eaa\"], \"source\": [0, 2, 1, 3, 1, 1, 0, 5, 9, 8, 6, 4, 7, 4, 5, 12, 16, 15, 13, 13, 12, 10, 14, 12, 11, 13, 21, 25, 24, 19, 18, 22, 23, 22, 20, 17, 22, 21], \"target\": [5, 9, 8, 6, 4, 7, 6, 12, 16, 15, 13, 10, 14, 11, 13, 21, 25, 24, 19, 18, 22, 23, 20, 18, 17, 21, 33, 34, 30, 28, 27, 31, 32, 33, 29, 26, 27, 27], \"value\": [1189, 344, 480, 415, 176, 32, 2, 1188, 344, 480, 417, 162, 32, 14, 1, 461, 344, 480, 155, 262, 723, 162, 32, 4, 14, 1, 461, 344, 480, 155, 266, 697, 162, 22, 32, 14, 4, 1]}, \"node\": {\"color\": [\"#a50026\", \"#e65036\", \"#d93429\", \"#fffab7\", \"#fff0a8\", \"#a50026\", \"#fffab7\", \"#e24731\", \"#ab0626\", \"#d93429\", \"#f57547\", \"#a50026\", \"#d62f27\", \"#fffbb9\", \"#f57547\", \"#f46d43\", \"#ef633f\", \"#a50026\", \"#fff0a8\", \"#fecc7e\", \"#f57547\", \"#fffbb9\", \"#fdbb6d\", \"#f57547\", \"#f57547\", \"#f67c4a\", \"#a50026\", \"#fff0a8\", \"#fecc7e\", \"#f57547\", \"#f57547\", \"#fdbb6d\", \"#f57547\", \"#fffbb9\", \"#f67c4a\"], \"customdata\": [\"Modularity 0.96<br />Silhouette 0.32\", \"Modularity 0.96<br />Silhouette 0.22\", \"Modularity 0.96<br />Silhouette 0.25\", \"Modularity 0.96<br />Silhouette 0.01\", \"Modularity 0.93<br />Silhouette 0.03\", \"Modularity 0.93<br />Silhouette 0.32\", \"Modularity 0.93<br />Silhouette 0.01\", \"Modularity 0.93<br />Silhouette 0.23\", \"Modularity 0.93<br />Silhouette 0.31\", \"Modularity 0.93<br />Silhouette 0.25\", \"Modularity 0.91<br />Silhouette 0.23\", \"Modularity 0.91<br />Silhouette 0.4\", \"Modularity 0.91<br />Silhouette 0.32\", \"Modularity 0.91<br />Silhouette 0.01\", \"Modularity 0.91<br />Silhouette 0.23\", \"Modularity 0.91<br />Silhouette 0.24\", \"Modularity 0.91<br />Silhouette 0.25\", \"Modularity 0.89<br />Silhouette 0.4\", \"Modularity 0.89<br />Silhouette 0.04\", \"Modularity 0.89<br />Silhouette 0.11\", \"Modularity 0.89<br />Silhouette 0.23\", \"Modularity 0.89<br />Silhouette 0.01\", \"Modularity 0.89<br />Silhouette 0.14\", \"Modularity 0.89<br />Silhouette 0.23\", \"Modularity 0.89<br />Silhouette 0.23\", \"Modularity 0.89<br />Silhouette 0.22\", \"Modularity 0.87<br />Silhouette 0.4\", \"Modularity 0.87<br />Silhouette 0.04\", \"Modularity 0.87<br />Silhouette 0.11\", \"Modularity 0.87<br />Silhouette 0.23\", \"Modularity 0.87<br />Silhouette 0.23\", \"Modularity 0.87<br />Silhouette 0.14\", \"Modularity 0.87<br />Silhouette 0.23\", \"Modularity 0.87<br />Silhouette 0.01\", \"Modularity 0.87<br />Silhouette 0.22\"], \"hovertemplate\": \"%{customdata}\", \"label\": [\"res.0.1_0\", \"res.0.1_1\", \"res.0.1_3\", \"res.0.1_2\", \"res.0.2_4\", \"res.0.2_0\", \"res.0.2_2\", \"res.0.2_5\", \"res.0.2_1\", \"res.0.2_3\", \"res.0.3_4\", \"res.0.3_6\", \"res.0.3_0\", \"res.0.3_2\", \"res.0.3_5\", \"res.0.3_1\", \"res.0.3_3\", \"res.0.4_8\", \"res.0.4_4\", \"res.0.4_6\", \"res.0.4_7\", \"res.0.4_2\", \"res.0.4_0\", \"res.0.4_5\", \"res.0.4_1\", \"res.0.4_3\", \"res.0.5_8\", \"res.0.5_4\", \"res.0.5_6\", \"res.0.5_7\", \"res.0.5_2\", \"res.0.5_0\", \"res.0.5_5\", \"res.0.5_1\", \"res.0.5_3\"], \"pad\": 10, \"thickness\": 10}, \"orientation\": \"h\", \"type\": \"sankey\"}, {\"marker\": {\"colorscale\": [[0.0, \"#a50026\"], [0.029411764705882353, \"#e65036\"], [0.058823529411764705, \"#d93429\"], [0.08823529411764706, \"#fffab7\"], [0.11764705882352941, \"#fff0a8\"], [0.14705882352941177, \"#a50026\"], [0.17647058823529413, \"#fffab7\"], [0.20588235294117646, \"#e24731\"], [0.23529411764705882, \"#ab0626\"], [0.2647058823529412, \"#d93429\"], [0.29411764705882354, \"#f57547\"], [0.3235294117647059, \"#a50026\"], [0.35294117647058826, \"#d62f27\"], [0.38235294117647056, \"#fffbb9\"], [0.4117647058823529, \"#f57547\"], [0.4411764705882353, \"#f46d43\"], [0.47058823529411764, \"#ef633f\"], [0.5, \"#a50026\"], [0.5294117647058824, \"#fff0a8\"], [0.5588235294117647, \"#fecc7e\"], [0.5882352941176471, \"#f57547\"], [0.6176470588235294, \"#fffbb9\"], [0.6470588235294118, \"#fdbb6d\"], [0.6764705882352942, \"#f57547\"], [0.7058823529411765, \"#f57547\"], [0.7352941176470589, \"#f67c4a\"], [0.7647058823529411, \"#a50026\"], [0.7941176470588235, \"#fff0a8\"], [0.8235294117647058, \"#fecc7e\"], [0.8529411764705882, \"#f57547\"], [0.8823529411764706, \"#f57547\"], [0.9117647058823529, \"#fdbb6d\"], [0.9411764705882353, \"#f57547\"], [0.9705882352941176, \"#fffbb9\"], [1.0, \"#f67c4a\"]]}, \"mode\": \"markers\", \"type\": \"scatter\", \"visible\": true, \"x\": [null], \"y\": [null]}, {\"marker\": {\"cmax\": 2.6245696606237003, \"cmin\": 0.15795521061068996, \"colorscale\": [[0.0, \"#fcfbfd\"], [0.02702702702702703, \"#fcfbfd\"], [0.05405405405405406, \"#fcfbfd\"], [0.08108108108108109, \"#fcfbfd\"], [0.10810810810810811, \"#fbfafc\"], [0.13513513513513514, \"#fbfafc\"], [0.16216216216216217, \"#fbfafc\"], [0.1891891891891892, \"#fbfafc\"], [0.21621621621621623, \"#fbfafc\"], [0.24324324324324326, \"#fbfafc\"], [0.2702702702702703, \"#fbfafc\"], [0.2972972972972973, \"#fbfafc\"], [0.32432432432432434, \"#faf9fc\"], [0.35135135135135137, \"#faf9fc\"], [0.3783783783783784, \"#faf9fc\"], [0.40540540540540543, \"#faf9fc\"], [0.43243243243243246, \"#f2f0f7\"], [0.4594594594594595, \"#f2f0f7\"], [0.4864864864864865, \"#f2f0f7\"], [0.5135135135135135, \"#d4d4e8\"], [0.5405405405405406, \"#d1d2e7\"], [0.5675675675675675, \"#d1d2e7\"], [0.5945945945945946, \"#acaad1\"], [0.6216216216216216, \"#9f9cc9\"], [0.6486486486486487, \"#9f9cc9\"], [0.6756756756756757, \"#9490c3\"], [0.7027027027027027, \"#8b87bf\"], [0.7297297297297297, \"#8683bd\"], [0.7567567567567568, \"#8683bd\"], [0.7837837837837838, \"#827fbb\"], [0.8108108108108109, \"#817ebb\"], [0.8378378378378378, \"#807cba\"], [0.8648648648648649, \"#807cba\"], [0.8918918918918919, \"#776cb1\"], [0.918918918918919, \"#776cb1\"], [0.9459459459459459, \"#705eaa\"], [0.972972972972973, \"#3f007d\"], [1.0, \"#3f007d\"]], \"showscale\": true}, \"mode\": \"markers\", \"type\": \"scatter\", \"visible\": true, \"x\": [null], \"y\": [null]}, {\"marker\": {\"cmax\": 1, \"cmin\": -1, \"colorbar\": {\"x\": 1.1}, \"colorscale\": [[0.0, \"#313695\"], [0.05, \"#3a54a4\"], [0.1, \"#4574b3\"], [0.15, \"#5c90c2\"], [0.2, \"#74add1\"], [0.25, \"#90c3dd\"], [0.3, \"#aad8e9\"], [0.35, \"#c5e6f0\"], [0.4, \"#e0f3f8\"], [0.45, \"#f0f9db\"], [0.5, \"#fffebe\"], [0.55, \"#fff0a8\"], [0.6, \"#fee090\"], [0.65, \"#fdc778\"], [0.7, \"#fdad60\"], [0.75, \"#f88c51\"], [0.8, \"#f46d43\"], [0.85, \"#e54e35\"], [0.9, \"#d62f27\"], [0.95, \"#bd1726\"], [1.0, \"#a50026\"]], \"showscale\": true}, \"mode\": \"markers\", \"type\": \"scatter\", \"visible\": true, \"x\": [null], \"y\": [null]}],\n",
       "                        {\"paper_bgcolor\": \"rgba(0, 0, 0, 0)\", \"plot_bgcolor\": \"rgba(0, 0, 0, 0)\", \"showlegend\": false, \"template\": {\"data\": {\"bar\": [{\"error_x\": {\"color\": \"#2a3f5f\"}, \"error_y\": {\"color\": \"#2a3f5f\"}, \"marker\": {\"line\": {\"color\": \"#E5ECF6\", \"width\": 0.5}}, \"type\": \"bar\"}], \"barpolar\": [{\"marker\": {\"line\": {\"color\": \"#E5ECF6\", \"width\": 0.5}}, \"type\": \"barpolar\"}], \"carpet\": [{\"aaxis\": {\"endlinecolor\": \"#2a3f5f\", \"gridcolor\": \"white\", \"linecolor\": \"white\", \"minorgridcolor\": \"white\", \"startlinecolor\": \"#2a3f5f\"}, \"baxis\": {\"endlinecolor\": \"#2a3f5f\", \"gridcolor\": \"white\", \"linecolor\": \"white\", \"minorgridcolor\": \"white\", \"startlinecolor\": \"#2a3f5f\"}, \"type\": \"carpet\"}], \"choropleth\": [{\"colorbar\": {\"outlinewidth\": 0, \"ticks\": \"\"}, \"type\": \"choropleth\"}], \"contour\": [{\"colorbar\": {\"outlinewidth\": 0, \"ticks\": \"\"}, \"colorscale\": [[0.0, \"#0d0887\"], [0.1111111111111111, \"#46039f\"], [0.2222222222222222, \"#7201a8\"], [0.3333333333333333, \"#9c179e\"], [0.4444444444444444, \"#bd3786\"], [0.5555555555555556, \"#d8576b\"], [0.6666666666666666, \"#ed7953\"], [0.7777777777777778, \"#fb9f3a\"], [0.8888888888888888, \"#fdca26\"], [1.0, \"#f0f921\"]], \"type\": \"contour\"}], \"contourcarpet\": [{\"colorbar\": {\"outlinewidth\": 0, \"ticks\": \"\"}, \"type\": \"contourcarpet\"}], \"heatmap\": [{\"colorbar\": {\"outlinewidth\": 0, \"ticks\": \"\"}, \"colorscale\": [[0.0, \"#0d0887\"], [0.1111111111111111, \"#46039f\"], [0.2222222222222222, \"#7201a8\"], [0.3333333333333333, \"#9c179e\"], [0.4444444444444444, \"#bd3786\"], [0.5555555555555556, \"#d8576b\"], [0.6666666666666666, \"#ed7953\"], [0.7777777777777778, \"#fb9f3a\"], [0.8888888888888888, \"#fdca26\"], [1.0, \"#f0f921\"]], \"type\": \"heatmap\"}], \"heatmapgl\": [{\"colorbar\": {\"outlinewidth\": 0, \"ticks\": \"\"}, \"colorscale\": [[0.0, \"#0d0887\"], [0.1111111111111111, \"#46039f\"], [0.2222222222222222, \"#7201a8\"], [0.3333333333333333, \"#9c179e\"], [0.4444444444444444, \"#bd3786\"], [0.5555555555555556, \"#d8576b\"], [0.6666666666666666, \"#ed7953\"], [0.7777777777777778, \"#fb9f3a\"], [0.8888888888888888, \"#fdca26\"], [1.0, \"#f0f921\"]], \"type\": \"heatmapgl\"}], \"histogram\": [{\"marker\": {\"colorbar\": {\"outlinewidth\": 0, \"ticks\": \"\"}}, \"type\": \"histogram\"}], \"histogram2d\": [{\"colorbar\": {\"outlinewidth\": 0, \"ticks\": \"\"}, \"colorscale\": [[0.0, \"#0d0887\"], [0.1111111111111111, \"#46039f\"], [0.2222222222222222, \"#7201a8\"], [0.3333333333333333, \"#9c179e\"], [0.4444444444444444, \"#bd3786\"], [0.5555555555555556, \"#d8576b\"], [0.6666666666666666, \"#ed7953\"], [0.7777777777777778, \"#fb9f3a\"], [0.8888888888888888, \"#fdca26\"], [1.0, \"#f0f921\"]], \"type\": \"histogram2d\"}], \"histogram2dcontour\": [{\"colorbar\": {\"outlinewidth\": 0, \"ticks\": \"\"}, \"colorscale\": [[0.0, \"#0d0887\"], [0.1111111111111111, \"#46039f\"], [0.2222222222222222, \"#7201a8\"], [0.3333333333333333, \"#9c179e\"], [0.4444444444444444, \"#bd3786\"], [0.5555555555555556, \"#d8576b\"], [0.6666666666666666, \"#ed7953\"], [0.7777777777777778, \"#fb9f3a\"], [0.8888888888888888, \"#fdca26\"], [1.0, \"#f0f921\"]], \"type\": \"histogram2dcontour\"}], \"mesh3d\": [{\"colorbar\": {\"outlinewidth\": 0, \"ticks\": \"\"}, \"type\": \"mesh3d\"}], \"parcoords\": [{\"line\": {\"colorbar\": {\"outlinewidth\": 0, \"ticks\": \"\"}}, \"type\": \"parcoords\"}], \"pie\": [{\"automargin\": true, \"type\": \"pie\"}], \"scatter\": [{\"marker\": {\"colorbar\": {\"outlinewidth\": 0, \"ticks\": \"\"}}, \"type\": \"scatter\"}], \"scatter3d\": [{\"line\": {\"colorbar\": {\"outlinewidth\": 0, \"ticks\": \"\"}}, \"marker\": {\"colorbar\": {\"outlinewidth\": 0, \"ticks\": \"\"}}, \"type\": \"scatter3d\"}], \"scattercarpet\": [{\"marker\": {\"colorbar\": {\"outlinewidth\": 0, \"ticks\": \"\"}}, \"type\": \"scattercarpet\"}], \"scattergeo\": [{\"marker\": {\"colorbar\": {\"outlinewidth\": 0, \"ticks\": \"\"}}, \"type\": \"scattergeo\"}], \"scattergl\": [{\"marker\": {\"colorbar\": {\"outlinewidth\": 0, \"ticks\": \"\"}}, \"type\": \"scattergl\"}], \"scattermapbox\": [{\"marker\": {\"colorbar\": {\"outlinewidth\": 0, \"ticks\": \"\"}}, \"type\": \"scattermapbox\"}], \"scatterpolar\": [{\"marker\": {\"colorbar\": {\"outlinewidth\": 0, \"ticks\": \"\"}}, \"type\": \"scatterpolar\"}], \"scatterpolargl\": [{\"marker\": {\"colorbar\": {\"outlinewidth\": 0, \"ticks\": \"\"}}, \"type\": \"scatterpolargl\"}], \"scatterternary\": [{\"marker\": {\"colorbar\": {\"outlinewidth\": 0, \"ticks\": \"\"}}, \"type\": \"scatterternary\"}], \"surface\": [{\"colorbar\": {\"outlinewidth\": 0, \"ticks\": \"\"}, \"colorscale\": [[0.0, \"#0d0887\"], [0.1111111111111111, \"#46039f\"], [0.2222222222222222, \"#7201a8\"], [0.3333333333333333, \"#9c179e\"], [0.4444444444444444, \"#bd3786\"], [0.5555555555555556, \"#d8576b\"], [0.6666666666666666, \"#ed7953\"], [0.7777777777777778, \"#fb9f3a\"], [0.8888888888888888, \"#fdca26\"], [1.0, \"#f0f921\"]], \"type\": \"surface\"}], \"table\": [{\"cells\": {\"fill\": {\"color\": \"#EBF0F8\"}, \"line\": {\"color\": \"white\"}}, \"header\": {\"fill\": {\"color\": \"#C8D4E3\"}, \"line\": {\"color\": \"white\"}}, \"type\": \"table\"}]}, \"layout\": {\"annotationdefaults\": {\"arrowcolor\": \"#2a3f5f\", \"arrowhead\": 0, \"arrowwidth\": 1}, \"coloraxis\": {\"colorbar\": {\"outlinewidth\": 0, \"ticks\": \"\"}}, \"colorscale\": {\"diverging\": [[0, \"#8e0152\"], [0.1, \"#c51b7d\"], [0.2, \"#de77ae\"], [0.3, \"#f1b6da\"], [0.4, \"#fde0ef\"], [0.5, \"#f7f7f7\"], [0.6, \"#e6f5d0\"], [0.7, \"#b8e186\"], [0.8, \"#7fbc41\"], [0.9, \"#4d9221\"], [1, \"#276419\"]], \"sequential\": [[0.0, \"#0d0887\"], [0.1111111111111111, \"#46039f\"], [0.2222222222222222, \"#7201a8\"], [0.3333333333333333, \"#9c179e\"], [0.4444444444444444, \"#bd3786\"], [0.5555555555555556, \"#d8576b\"], [0.6666666666666666, \"#ed7953\"], [0.7777777777777778, \"#fb9f3a\"], [0.8888888888888888, \"#fdca26\"], [1.0, \"#f0f921\"]], \"sequentialminus\": [[0.0, \"#0d0887\"], [0.1111111111111111, \"#46039f\"], [0.2222222222222222, \"#7201a8\"], [0.3333333333333333, \"#9c179e\"], [0.4444444444444444, \"#bd3786\"], [0.5555555555555556, \"#d8576b\"], [0.6666666666666666, \"#ed7953\"], [0.7777777777777778, \"#fb9f3a\"], [0.8888888888888888, \"#fdca26\"], [1.0, \"#f0f921\"]]}, \"colorway\": [\"#636efa\", \"#EF553B\", \"#00cc96\", \"#ab63fa\", \"#FFA15A\", \"#19d3f3\", \"#FF6692\", \"#B6E880\", \"#FF97FF\", \"#FECB52\"], \"font\": {\"color\": \"#2a3f5f\"}, \"geo\": {\"bgcolor\": \"white\", \"lakecolor\": \"white\", \"landcolor\": \"#E5ECF6\", \"showlakes\": true, \"showland\": true, \"subunitcolor\": \"white\"}, \"hoverlabel\": {\"align\": \"left\"}, \"hovermode\": \"closest\", \"mapbox\": {\"style\": \"light\"}, \"paper_bgcolor\": \"white\", \"plot_bgcolor\": \"#E5ECF6\", \"polar\": {\"angularaxis\": {\"gridcolor\": \"white\", \"linecolor\": \"white\", \"ticks\": \"\"}, \"bgcolor\": \"#E5ECF6\", \"radialaxis\": {\"gridcolor\": \"white\", \"linecolor\": \"white\", \"ticks\": \"\"}}, \"scene\": {\"xaxis\": {\"backgroundcolor\": \"#E5ECF6\", \"gridcolor\": \"white\", \"gridwidth\": 2, \"linecolor\": \"white\", \"showbackground\": true, \"ticks\": \"\", \"zerolinecolor\": \"white\"}, \"yaxis\": {\"backgroundcolor\": \"#E5ECF6\", \"gridcolor\": \"white\", \"gridwidth\": 2, \"linecolor\": \"white\", \"showbackground\": true, \"ticks\": \"\", \"zerolinecolor\": \"white\"}, \"zaxis\": {\"backgroundcolor\": \"#E5ECF6\", \"gridcolor\": \"white\", \"gridwidth\": 2, \"linecolor\": \"white\", \"showbackground\": true, \"ticks\": \"\", \"zerolinecolor\": \"white\"}}, \"shapedefaults\": {\"line\": {\"color\": \"#2a3f5f\"}}, \"ternary\": {\"aaxis\": {\"gridcolor\": \"white\", \"linecolor\": \"white\", \"ticks\": \"\"}, \"baxis\": {\"gridcolor\": \"white\", \"linecolor\": \"white\", \"ticks\": \"\"}, \"bgcolor\": \"#E5ECF6\", \"caxis\": {\"gridcolor\": \"white\", \"linecolor\": \"white\", \"ticks\": \"\"}}, \"title\": {\"x\": 0.05}, \"xaxis\": {\"automargin\": true, \"gridcolor\": \"white\", \"linecolor\": \"white\", \"ticks\": \"\", \"title\": {\"standoff\": 15}, \"zerolinecolor\": \"white\", \"zerolinewidth\": 2}, \"yaxis\": {\"automargin\": true, \"gridcolor\": \"white\", \"linecolor\": \"white\", \"ticks\": \"\", \"title\": {\"standoff\": 15}, \"zerolinecolor\": \"white\", \"zerolinewidth\": 2}}}, \"updatemenus\": [{\"buttons\": [{\"args\": [{\"link\": {\"color\": [\"#807cba\", \"#fbfafc\", \"#fcfbfd\", \"#9f9cc9\", \"#faf9fc\", \"#fbfafc\", \"#9490c3\", \"#807cba\", \"#fbfafc\", \"#fcfbfd\", \"#9f9cc9\", \"#faf9fc\", \"#fbfafc\", \"#f2f0f7\", \"#3f007d\", \"#776cb1\", \"#fbfafc\", \"#fcfbfd\", \"#d1d2e7\", \"#817ebb\", \"#8683bd\", \"#faf9fc\", \"#fbfafc\", \"#acaad1\", \"#f2f0f7\", \"#3f007d\", \"#776cb1\", \"#fbfafc\", \"#fcfbfd\", \"#d1d2e7\", \"#827fbb\", \"#8683bd\", \"#faf9fc\", \"#8b87bf\", \"#fbfafc\", \"#f2f0f7\", \"#d4d4e8\", \"#705eaa\"], \"source\": [0, 2, 1, 3, 1, 1, 0, 5, 9, 8, 6, 4, 7, 4, 5, 12, 16, 15, 13, 13, 12, 10, 14, 12, 11, 13, 21, 25, 24, 19, 18, 22, 23, 22, 20, 17, 22, 21], \"target\": [5, 9, 8, 6, 4, 7, 6, 12, 16, 15, 13, 10, 14, 11, 13, 21, 25, 24, 19, 18, 22, 23, 20, 18, 17, 21, 33, 34, 30, 28, 27, 31, 32, 33, 29, 26, 27, 27], \"value\": [1189, 344, 480, 415, 176, 32, 2, 1188, 344, 480, 417, 162, 32, 14, 1, 461, 344, 480, 155, 262, 723, 162, 32, 4, 14, 1, 461, 344, 480, 155, 266, 697, 162, 22, 32, 14, 4, 1]}, \"visible\": [true, true, true]}], \"label\": \"CD3E\", \"method\": \"update\"}], \"y\": 0.9}, {\"buttons\": [{\"args\": [\"arrangement\", \"snap\"], \"label\": \"Snap\", \"method\": \"restyle\"}, {\"args\": [\"arrangement\", \"perpendicular\"], \"label\": \"Perpendicular\", \"method\": \"restyle\"}, {\"args\": [\"arrangement\", \"freeform\"], \"label\": \"Freeform\", \"method\": \"restyle\"}, {\"args\": [\"arrangement\", \"fixed\"], \"label\": \"Fixed\", \"method\": \"restyle\"}], \"x\": 0, \"y\": 1.25}, {\"buttons\": [{\"args\": [\"paper_bgcolor\", \"white\"], \"label\": \"Light\", \"method\": \"relayout\"}, {\"args\": [\"paper_bgcolor\", \"black\"], \"label\": \"Dark\", \"method\": \"relayout\"}], \"x\": 0.2, \"y\": 1.25}, {\"buttons\": [{\"args\": [\"node.thickness\", 8], \"label\": \"Thin\", \"method\": \"restyle\"}, {\"args\": [\"node.thickness\", 15], \"label\": \"Thick\", \"method\": \"restyle\"}], \"x\": 0.4, \"y\": 1.25}, {\"buttons\": [{\"args\": [\"node.pad\", 15], \"label\": \"Small gap\", \"method\": \"restyle\"}, {\"args\": [\"node.pad\", 20], \"label\": \"Large gap\", \"method\": \"restyle\"}], \"x\": 0.6, \"y\": 1.25}, {\"buttons\": [{\"args\": [\"orientation\", \"h\"], \"label\": \"Horizontal\", \"method\": \"restyle\"}, {\"args\": [\"orientation\", \"v\"], \"label\": \"Vertical\", \"method\": \"restyle\"}], \"x\": 0.8, \"y\": 1.25}], \"xaxis\": {\"showgrid\": false, \"showticklabels\": false, \"zeroline\": false}, \"yaxis\": {\"showgrid\": false, \"showticklabels\": false, \"zeroline\": false}},\n",
       "                        {\"responsive\": true}\n",
       "                    ).then(function(){\n",
       "                            \n",
       "var gd = document.getElementById('bf453c83-4952-4225-be2c-aab5b5afb173');\n",
       "var x = new MutationObserver(function (mutations, observer) {{\n",
       "        var display = window.getComputedStyle(gd).display;\n",
       "        if (!display || display === 'none') {{\n",
       "            console.log([gd, 'removed!']);\n",
       "            Plotly.purge(gd);\n",
       "            observer.disconnect();\n",
       "        }}\n",
       "}});\n",
       "\n",
       "// Listen for the removal of the full notebook cells\n",
       "var notebookContainer = gd.closest('#notebook-container');\n",
       "if (notebookContainer) {{\n",
       "    x.observe(notebookContainer, {childList: true});\n",
       "}}\n",
       "\n",
       "// Listen for the clearing of the current output cell\n",
       "var outputEl = gd.closest('.output');\n",
       "if (outputEl) {{\n",
       "    x.observe(outputEl, {childList: true});\n",
       "}}\n",
       "\n",
       "                        })\n",
       "                };\n",
       "                });\n",
       "            </script>\n",
       "        </div>"
      ]
     },
     "metadata": {},
     "output_type": "display_data"
    }
   ],
   "source": [
    "sankey.show()"
   ]
  }
 ],
 "metadata": {
  "kernelspec": {
   "display_name": "Python 3",
   "language": "python",
   "name": "python3"
  },
  "language_info": {
   "codemirror_mode": {
    "name": "ipython",
    "version": 3
   },
   "file_extension": ".py",
   "mimetype": "text/x-python",
   "name": "python",
   "nbconvert_exporter": "python",
   "pygments_lexer": "ipython3",
   "version": "3.7.6"
  }
 },
 "nbformat": 4,
 "nbformat_minor": 4
}
