{
 "cells": [
  {
   "cell_type": "code",
   "execution_count": 2,
   "metadata": {},
   "outputs": [],
   "source": [
    "import pandas as pd\n",
    "import CellLayers\n",
    "# import plotly\n",
    "# import matplotlib\n",
    "# import matplotlib.colors as mcolors\n",
    "# import matplotlib.cm as cm\n",
    "# import plotly.graph_objects as go"
   ]
  },
  {
   "cell_type": "markdown",
   "metadata": {},
   "source": [
    "# Import Data"
   ]
  },
  {
   "cell_type": "code",
   "execution_count": 3,
   "metadata": {},
   "outputs": [],
   "source": [
    "pbmc_exp = pd.read_csv('../Data/PBMC/PBMC_exp.csv',index_col=[0])\n",
    "pbmc_meta = pd.read_csv('../Data/PBMC/PBMC_meta.csv',index_col=[0])\n",
    "pbmc_modularity = pd.read_csv('../Data/PBMC/pbmc_modularity.csv',index_col=[0])\n",
    "pbmc_silhouette_scores = pd.read_csv('../Data/PBMC/pbmc_silhouette_scores.csv', index_col=[0])"
   ]
  },
  {
   "cell_type": "code",
   "execution_count": 4,
   "metadata": {},
   "outputs": [
    {
     "data": {
      "text/html": [
       "<div>\n",
       "<style scoped>\n",
       "    .dataframe tbody tr th:only-of-type {\n",
       "        vertical-align: middle;\n",
       "    }\n",
       "\n",
       "    .dataframe tbody tr th {\n",
       "        vertical-align: top;\n",
       "    }\n",
       "\n",
       "    .dataframe thead th {\n",
       "        text-align: right;\n",
       "    }\n",
       "</style>\n",
       "<table border=\"1\" class=\"dataframe\">\n",
       "  <thead>\n",
       "    <tr style=\"text-align: right;\">\n",
       "      <th></th>\n",
       "      <th>AL627309.1</th>\n",
       "      <th>AP006222.2</th>\n",
       "      <th>RP11-206L10.2</th>\n",
       "      <th>RP11-206L10.9</th>\n",
       "      <th>LINC00115</th>\n",
       "      <th>NOC2L</th>\n",
       "      <th>KLHL17</th>\n",
       "      <th>PLEKHN1</th>\n",
       "      <th>RP11-54O7.17</th>\n",
       "      <th>HES4</th>\n",
       "      <th>...</th>\n",
       "      <th>MT-ND4L</th>\n",
       "      <th>MT-ND4</th>\n",
       "      <th>MT-ND5</th>\n",
       "      <th>MT-ND6</th>\n",
       "      <th>MT-CYB</th>\n",
       "      <th>AC145212.1</th>\n",
       "      <th>AL592183.1</th>\n",
       "      <th>AL354822.1</th>\n",
       "      <th>PNRC2.1</th>\n",
       "      <th>SRSF10.1</th>\n",
       "    </tr>\n",
       "  </thead>\n",
       "  <tbody>\n",
       "    <tr>\n",
       "      <th>AAACATTGAGCTAC</th>\n",
       "      <td>0.0</td>\n",
       "      <td>0.0</td>\n",
       "      <td>0.0</td>\n",
       "      <td>0.0</td>\n",
       "      <td>0.0</td>\n",
       "      <td>0.0</td>\n",
       "      <td>0.0</td>\n",
       "      <td>0.0</td>\n",
       "      <td>0.0</td>\n",
       "      <td>0.0</td>\n",
       "      <td>...</td>\n",
       "      <td>0.000000</td>\n",
       "      <td>4.223994</td>\n",
       "      <td>1.111715</td>\n",
       "      <td>0.0</td>\n",
       "      <td>2.851662</td>\n",
       "      <td>0.0</td>\n",
       "      <td>1.111715</td>\n",
       "      <td>0.0</td>\n",
       "      <td>0.0</td>\n",
       "      <td>0.0</td>\n",
       "    </tr>\n",
       "    <tr>\n",
       "      <th>AAACCGTGCTTCCG</th>\n",
       "      <td>0.0</td>\n",
       "      <td>0.0</td>\n",
       "      <td>0.0</td>\n",
       "      <td>0.0</td>\n",
       "      <td>0.0</td>\n",
       "      <td>0.0</td>\n",
       "      <td>0.0</td>\n",
       "      <td>0.0</td>\n",
       "      <td>0.0</td>\n",
       "      <td>0.0</td>\n",
       "      <td>...</td>\n",
       "      <td>1.566387</td>\n",
       "      <td>2.515108</td>\n",
       "      <td>2.149274</td>\n",
       "      <td>0.0</td>\n",
       "      <td>2.149274</td>\n",
       "      <td>0.0</td>\n",
       "      <td>0.000000</td>\n",
       "      <td>0.0</td>\n",
       "      <td>0.0</td>\n",
       "      <td>0.0</td>\n",
       "    </tr>\n",
       "    <tr>\n",
       "      <th>AAACCGTGTATGCG</th>\n",
       "      <td>0.0</td>\n",
       "      <td>0.0</td>\n",
       "      <td>0.0</td>\n",
       "      <td>0.0</td>\n",
       "      <td>0.0</td>\n",
       "      <td>0.0</td>\n",
       "      <td>0.0</td>\n",
       "      <td>0.0</td>\n",
       "      <td>0.0</td>\n",
       "      <td>0.0</td>\n",
       "      <td>...</td>\n",
       "      <td>0.000000</td>\n",
       "      <td>0.000000</td>\n",
       "      <td>3.063772</td>\n",
       "      <td>0.0</td>\n",
       "      <td>2.416278</td>\n",
       "      <td>0.0</td>\n",
       "      <td>0.000000</td>\n",
       "      <td>0.0</td>\n",
       "      <td>0.0</td>\n",
       "      <td>0.0</td>\n",
       "    </tr>\n",
       "    <tr>\n",
       "      <th>AAACGCTGTAGCCA</th>\n",
       "      <td>0.0</td>\n",
       "      <td>0.0</td>\n",
       "      <td>0.0</td>\n",
       "      <td>0.0</td>\n",
       "      <td>0.0</td>\n",
       "      <td>0.0</td>\n",
       "      <td>0.0</td>\n",
       "      <td>0.0</td>\n",
       "      <td>0.0</td>\n",
       "      <td>0.0</td>\n",
       "      <td>...</td>\n",
       "      <td>0.000000</td>\n",
       "      <td>2.814586</td>\n",
       "      <td>0.000000</td>\n",
       "      <td>0.0</td>\n",
       "      <td>2.179642</td>\n",
       "      <td>0.0</td>\n",
       "      <td>0.000000</td>\n",
       "      <td>0.0</td>\n",
       "      <td>0.0</td>\n",
       "      <td>0.0</td>\n",
       "    </tr>\n",
       "    <tr>\n",
       "      <th>AAACGCTGTTTCTG</th>\n",
       "      <td>0.0</td>\n",
       "      <td>0.0</td>\n",
       "      <td>0.0</td>\n",
       "      <td>0.0</td>\n",
       "      <td>0.0</td>\n",
       "      <td>0.0</td>\n",
       "      <td>0.0</td>\n",
       "      <td>0.0</td>\n",
       "      <td>0.0</td>\n",
       "      <td>0.0</td>\n",
       "      <td>...</td>\n",
       "      <td>0.000000</td>\n",
       "      <td>3.339271</td>\n",
       "      <td>2.309182</td>\n",
       "      <td>0.0</td>\n",
       "      <td>0.000000</td>\n",
       "      <td>0.0</td>\n",
       "      <td>0.000000</td>\n",
       "      <td>0.0</td>\n",
       "      <td>0.0</td>\n",
       "      <td>0.0</td>\n",
       "    </tr>\n",
       "  </tbody>\n",
       "</table>\n",
       "<p>5 rows × 13714 columns</p>\n",
       "</div>"
      ],
      "text/plain": [
       "                AL627309.1  AP006222.2  RP11-206L10.2  RP11-206L10.9  \\\n",
       "AAACATTGAGCTAC         0.0         0.0            0.0            0.0   \n",
       "AAACCGTGCTTCCG         0.0         0.0            0.0            0.0   \n",
       "AAACCGTGTATGCG         0.0         0.0            0.0            0.0   \n",
       "AAACGCTGTAGCCA         0.0         0.0            0.0            0.0   \n",
       "AAACGCTGTTTCTG         0.0         0.0            0.0            0.0   \n",
       "\n",
       "                LINC00115  NOC2L  KLHL17  PLEKHN1  RP11-54O7.17  HES4  ...  \\\n",
       "AAACATTGAGCTAC        0.0    0.0     0.0      0.0           0.0   0.0  ...   \n",
       "AAACCGTGCTTCCG        0.0    0.0     0.0      0.0           0.0   0.0  ...   \n",
       "AAACCGTGTATGCG        0.0    0.0     0.0      0.0           0.0   0.0  ...   \n",
       "AAACGCTGTAGCCA        0.0    0.0     0.0      0.0           0.0   0.0  ...   \n",
       "AAACGCTGTTTCTG        0.0    0.0     0.0      0.0           0.0   0.0  ...   \n",
       "\n",
       "                 MT-ND4L    MT-ND4    MT-ND5  MT-ND6    MT-CYB  AC145212.1  \\\n",
       "AAACATTGAGCTAC  0.000000  4.223994  1.111715     0.0  2.851662         0.0   \n",
       "AAACCGTGCTTCCG  1.566387  2.515108  2.149274     0.0  2.149274         0.0   \n",
       "AAACCGTGTATGCG  0.000000  0.000000  3.063772     0.0  2.416278         0.0   \n",
       "AAACGCTGTAGCCA  0.000000  2.814586  0.000000     0.0  2.179642         0.0   \n",
       "AAACGCTGTTTCTG  0.000000  3.339271  2.309182     0.0  0.000000         0.0   \n",
       "\n",
       "                AL592183.1  AL354822.1  PNRC2.1  SRSF10.1  \n",
       "AAACATTGAGCTAC    1.111715         0.0      0.0       0.0  \n",
       "AAACCGTGCTTCCG    0.000000         0.0      0.0       0.0  \n",
       "AAACCGTGTATGCG    0.000000         0.0      0.0       0.0  \n",
       "AAACGCTGTAGCCA    0.000000         0.0      0.0       0.0  \n",
       "AAACGCTGTTTCTG    0.000000         0.0      0.0       0.0  \n",
       "\n",
       "[5 rows x 13714 columns]"
      ]
     },
     "execution_count": 4,
     "metadata": {},
     "output_type": "execute_result"
    }
   ],
   "source": [
    "pbmc_exp.head()"
   ]
  },
  {
   "cell_type": "code",
   "execution_count": 5,
   "metadata": {},
   "outputs": [
    {
     "data": {
      "text/html": [
       "<div>\n",
       "<style scoped>\n",
       "    .dataframe tbody tr th:only-of-type {\n",
       "        vertical-align: middle;\n",
       "    }\n",
       "\n",
       "    .dataframe tbody tr th {\n",
       "        vertical-align: top;\n",
       "    }\n",
       "\n",
       "    .dataframe thead th {\n",
       "        text-align: right;\n",
       "    }\n",
       "</style>\n",
       "<table border=\"1\" class=\"dataframe\">\n",
       "  <thead>\n",
       "    <tr style=\"text-align: right;\">\n",
       "      <th></th>\n",
       "      <th>orig.ident</th>\n",
       "      <th>nCount_RNA</th>\n",
       "      <th>nFeature_RNA</th>\n",
       "      <th>seurat_annotations</th>\n",
       "      <th>percent.mt</th>\n",
       "      <th>res.0.1</th>\n",
       "      <th>res.0.2</th>\n",
       "      <th>res.0.3</th>\n",
       "      <th>res.0.4</th>\n",
       "      <th>res.0.5</th>\n",
       "    </tr>\n",
       "  </thead>\n",
       "  <tbody>\n",
       "    <tr>\n",
       "      <th>AAACATTGAGCTAC</th>\n",
       "      <td>pbmc3k</td>\n",
       "      <td>4903</td>\n",
       "      <td>1352</td>\n",
       "      <td>B</td>\n",
       "      <td>3.793596</td>\n",
       "      <td>3</td>\n",
       "      <td>4</td>\n",
       "      <td>3</td>\n",
       "      <td>3</td>\n",
       "      <td>3</td>\n",
       "    </tr>\n",
       "    <tr>\n",
       "      <th>AAACCGTGCTTCCG</th>\n",
       "      <td>pbmc3k</td>\n",
       "      <td>2639</td>\n",
       "      <td>960</td>\n",
       "      <td>CD14+ Mono</td>\n",
       "      <td>1.743085</td>\n",
       "      <td>1</td>\n",
       "      <td>5</td>\n",
       "      <td>5</td>\n",
       "      <td>5</td>\n",
       "      <td>5</td>\n",
       "    </tr>\n",
       "    <tr>\n",
       "      <th>AAACCGTGTATGCG</th>\n",
       "      <td>pbmc3k</td>\n",
       "      <td>980</td>\n",
       "      <td>521</td>\n",
       "      <td>NK</td>\n",
       "      <td>1.224490</td>\n",
       "      <td>2</td>\n",
       "      <td>3</td>\n",
       "      <td>2</td>\n",
       "      <td>2</td>\n",
       "      <td>2</td>\n",
       "    </tr>\n",
       "    <tr>\n",
       "      <th>AAACGCTGTAGCCA</th>\n",
       "      <td>pbmc3k</td>\n",
       "      <td>1275</td>\n",
       "      <td>532</td>\n",
       "      <td>Naive CD4 T</td>\n",
       "      <td>1.176471</td>\n",
       "      <td>0</td>\n",
       "      <td>0</td>\n",
       "      <td>0</td>\n",
       "      <td>0</td>\n",
       "      <td>0</td>\n",
       "    </tr>\n",
       "    <tr>\n",
       "      <th>AAACGCTGTTTCTG</th>\n",
       "      <td>pbmc3k</td>\n",
       "      <td>1103</td>\n",
       "      <td>550</td>\n",
       "      <td>FCGR3A+ Mono</td>\n",
       "      <td>2.901179</td>\n",
       "      <td>1</td>\n",
       "      <td>2</td>\n",
       "      <td>1</td>\n",
       "      <td>1</td>\n",
       "      <td>1</td>\n",
       "    </tr>\n",
       "  </tbody>\n",
       "</table>\n",
       "</div>"
      ],
      "text/plain": [
       "               orig.ident  nCount_RNA  nFeature_RNA seurat_annotations  \\\n",
       "AAACATTGAGCTAC     pbmc3k        4903          1352                  B   \n",
       "AAACCGTGCTTCCG     pbmc3k        2639           960         CD14+ Mono   \n",
       "AAACCGTGTATGCG     pbmc3k         980           521                 NK   \n",
       "AAACGCTGTAGCCA     pbmc3k        1275           532        Naive CD4 T   \n",
       "AAACGCTGTTTCTG     pbmc3k        1103           550       FCGR3A+ Mono   \n",
       "\n",
       "                percent.mt  res.0.1  res.0.2  res.0.3  res.0.4  res.0.5  \n",
       "AAACATTGAGCTAC    3.793596        3        4        3        3        3  \n",
       "AAACCGTGCTTCCG    1.743085        1        5        5        5        5  \n",
       "AAACCGTGTATGCG    1.224490        2        3        2        2        2  \n",
       "AAACGCTGTAGCCA    1.176471        0        0        0        0        0  \n",
       "AAACGCTGTTTCTG    2.901179        1        2        1        1        1  "
      ]
     },
     "execution_count": 5,
     "metadata": {},
     "output_type": "execute_result"
    }
   ],
   "source": [
    "pbmc_meta.head()"
   ]
  },
  {
   "cell_type": "code",
   "execution_count": 6,
   "metadata": {},
   "outputs": [
    {
     "data": {
      "text/html": [
       "<div>\n",
       "<style scoped>\n",
       "    .dataframe tbody tr th:only-of-type {\n",
       "        vertical-align: middle;\n",
       "    }\n",
       "\n",
       "    .dataframe tbody tr th {\n",
       "        vertical-align: top;\n",
       "    }\n",
       "\n",
       "    .dataframe thead th {\n",
       "        text-align: right;\n",
       "    }\n",
       "</style>\n",
       "<table border=\"1\" class=\"dataframe\">\n",
       "  <thead>\n",
       "    <tr style=\"text-align: right;\">\n",
       "      <th></th>\n",
       "      <th>resolution</th>\n",
       "      <th>modularity</th>\n",
       "    </tr>\n",
       "  </thead>\n",
       "  <tbody>\n",
       "    <tr>\n",
       "      <th>1</th>\n",
       "      <td>res.0.1</td>\n",
       "      <td>0.9630</td>\n",
       "    </tr>\n",
       "    <tr>\n",
       "      <th>2</th>\n",
       "      <td>res.0.2</td>\n",
       "      <td>0.9393</td>\n",
       "    </tr>\n",
       "    <tr>\n",
       "      <th>3</th>\n",
       "      <td>res.0.3</td>\n",
       "      <td>0.9222</td>\n",
       "    </tr>\n",
       "    <tr>\n",
       "      <th>4</th>\n",
       "      <td>res.0.4</td>\n",
       "      <td>0.9051</td>\n",
       "    </tr>\n",
       "    <tr>\n",
       "      <th>5</th>\n",
       "      <td>res.0.5</td>\n",
       "      <td>0.8881</td>\n",
       "    </tr>\n",
       "  </tbody>\n",
       "</table>\n",
       "</div>"
      ],
      "text/plain": [
       "  resolution  modularity\n",
       "1    res.0.1      0.9630\n",
       "2    res.0.2      0.9393\n",
       "3    res.0.3      0.9222\n",
       "4    res.0.4      0.9051\n",
       "5    res.0.5      0.8881"
      ]
     },
     "execution_count": 6,
     "metadata": {},
     "output_type": "execute_result"
    }
   ],
   "source": [
    "pbmc_modularity.head()"
   ]
  },
  {
   "cell_type": "code",
   "execution_count": 7,
   "metadata": {},
   "outputs": [
    {
     "data": {
      "text/html": [
       "<div>\n",
       "<style scoped>\n",
       "    .dataframe tbody tr th:only-of-type {\n",
       "        vertical-align: middle;\n",
       "    }\n",
       "\n",
       "    .dataframe tbody tr th {\n",
       "        vertical-align: top;\n",
       "    }\n",
       "\n",
       "    .dataframe thead th {\n",
       "        text-align: right;\n",
       "    }\n",
       "</style>\n",
       "<table border=\"1\" class=\"dataframe\">\n",
       "  <thead>\n",
       "    <tr style=\"text-align: right;\">\n",
       "      <th></th>\n",
       "      <th>res_cluster</th>\n",
       "      <th>sil</th>\n",
       "    </tr>\n",
       "  </thead>\n",
       "  <tbody>\n",
       "    <tr>\n",
       "      <th>1</th>\n",
       "      <td>res.0.1_0</td>\n",
       "      <td>0.184938</td>\n",
       "    </tr>\n",
       "    <tr>\n",
       "      <th>2</th>\n",
       "      <td>res.0.1_1</td>\n",
       "      <td>0.228455</td>\n",
       "    </tr>\n",
       "    <tr>\n",
       "      <th>3</th>\n",
       "      <td>res.0.1_2</td>\n",
       "      <td>0.150576</td>\n",
       "    </tr>\n",
       "    <tr>\n",
       "      <th>4</th>\n",
       "      <td>res.0.1_3</td>\n",
       "      <td>0.306258</td>\n",
       "    </tr>\n",
       "    <tr>\n",
       "      <th>5</th>\n",
       "      <td>res.0.1_4</td>\n",
       "      <td>0.054722</td>\n",
       "    </tr>\n",
       "  </tbody>\n",
       "</table>\n",
       "</div>"
      ],
      "text/plain": [
       "  res_cluster       sil\n",
       "1   res.0.1_0  0.184938\n",
       "2   res.0.1_1  0.228455\n",
       "3   res.0.1_2  0.150576\n",
       "4   res.0.1_3  0.306258\n",
       "5   res.0.1_4  0.054722"
      ]
     },
     "execution_count": 7,
     "metadata": {},
     "output_type": "execute_result"
    }
   ],
   "source": [
    "pbmc_silhouette_scores.head() # updated columns to res_cluster and sil (previous was res and sil)"
   ]
  },
  {
   "cell_type": "markdown",
   "metadata": {},
   "source": [
    "# Figure 1 A"
   ]
  },
  {
   "cell_type": "code",
   "execution_count": 27,
   "metadata": {},
   "outputs": [],
   "source": [
    "sankey_fig, sankey_dict = CellLayers.build_sankey(pbmc_exp,\n",
    "                                 pbmc_meta,\n",
    "                                 modularity=pbmc_modularity,\n",
    "                                 silhouette=pbmc_silhouette_scores,\n",
    "                                 genes=['CD3E','FCER1A'])"
   ]
  },
  {
   "cell_type": "code",
   "execution_count": 28,
   "metadata": {},
   "outputs": [
    {
     "data": {
      "application/vnd.plotly.v1+json": {
       "config": {
        "plotlyServerURL": "https://plot.ly"
       },
       "data": [
        {
         "link": {
          "color": [
           "#f6f4f9",
           "#fcfbfd",
           "#c5c6e1",
           "#7566ae",
           "#f7f6fa",
           "#7d78b7",
           "#f7f6fa",
           "#f6f4f9",
           "#fcfbfd",
           "#c5c6e1",
           "#7566ae",
           "#f7f6fa",
           "#705eaa",
           "#f7f6fa",
           "#f3f2f8",
           "#f6f4f9",
           "#fcfbfd",
           "#c5c6e1",
           "#7566ae",
           "#f7f6fa",
           "#705eaa",
           "#f7f6fa",
           "#f3f2f8",
           "#f6f4f9",
           "#fcfbfd",
           "#c5c6e1",
           "#7566ae",
           "#f7f6fa",
           "#705eaa",
           "#f7f6fa",
           "#f3f2f8",
           "#3f007d"
          ],
          "source": [
           4,
           0,
           2,
           3,
           0,
           3,
           1,
           6,
           8,
           11,
           10,
           7,
           5,
           9,
           5,
           19,
           16,
           14,
           18,
           13,
           15,
           17,
           12,
           27,
           24,
           22,
           26,
           21,
           23,
           25,
           20,
           26
          ],
          "target": [
           6,
           8,
           11,
           10,
           7,
           5,
           9,
           19,
           16,
           14,
           18,
           13,
           15,
           17,
           12,
           27,
           24,
           22,
           26,
           21,
           23,
           25,
           20,
           35,
           32,
           30,
           34,
           29,
           31,
           33,
           28,
           31
          ],
          "value": [
           99,
           94,
           101,
           203,
           107,
           110,
           32,
           99,
           94,
           101,
           203,
           107,
           97,
           32,
           13,
           99,
           94,
           101,
           203,
           107,
           97,
           32,
           13,
           99,
           94,
           101,
           202,
           107,
           97,
           32,
           13,
           1
          ]
         },
         "node": {
          "color": [
           "#e0422f",
           "#fee699",
           "#f99355",
           "#f57245",
           "#a50026",
           "#f57748",
           "#f46d43",
           "#f16640",
           "#fdb366",
           "#feefa6",
           "#a50026",
           "#fece7f",
           "#f8864f",
           "#a50026",
           "#feeba1",
           "#fed081",
           "#f36b42",
           "#fee496",
           "#bb1526",
           "#af0926",
           "#f8864f",
           "#a50026",
           "#feeba1",
           "#fed081",
           "#f36b42",
           "#fee496",
           "#bb1526",
           "#af0926",
           "#f8864f",
           "#a50026",
           "#feeba1",
           "#fed081",
           "#f36b42",
           "#fee496",
           "#bb1526",
           "#af0926"
          ],
          "customdata": [
           "Modularity 0.96<br />Silhouette 0.23",
           "Modularity 0.96<br />Silhouette 0.05",
           "Modularity 0.96<br />Silhouette 0.15",
           "Modularity 0.96<br />Silhouette 0.18",
           "Modularity 0.96<br />Silhouette 0.31",
           "Modularity 0.94<br />Silhouette -0.21",
           "Modularity 0.94<br />Silhouette 0.22",
           "Modularity 0.94<br />Silhouette 0.23",
           "Modularity 0.94<br />Silhouette 0.14",
           "Modularity 0.94<br />Silhouette 0.04",
           "Modularity 0.94<br />Silhouette 0.37",
           "Modularity 0.94<br />Silhouette 0.1",
           "Modularity 0.92<br />Silhouette 0.12",
           "Modularity 0.92<br />Silhouette 0.23",
           "Modularity 0.92<br />Silhouette 0.03",
           "Modularity 0.92<br />Silhouette 0.06",
           "Modularity 0.92<br />Silhouette 0.14",
           "Modularity 0.92<br />Silhouette 0.04",
           "Modularity 0.92<br />Silhouette 0.21",
           "Modularity 0.92<br />Silhouette 0.22",
           "Modularity 0.91<br />Silhouette 0.12",
           "Modularity 0.91<br />Silhouette 0.23",
           "Modularity 0.91<br />Silhouette 0.03",
           "Modularity 0.91<br />Silhouette 0.06",
           "Modularity 0.91<br />Silhouette 0.14",
           "Modularity 0.91<br />Silhouette 0.04",
           "Modularity 0.91<br />Silhouette 0.21",
           "Modularity 0.91<br />Silhouette 0.22",
           "Modularity 0.89<br />Silhouette 0.12",
           "Modularity 0.89<br />Silhouette 0.23",
           "Modularity 0.89<br />Silhouette 0.03",
           "Modularity 0.89<br />Silhouette 0.06",
           "Modularity 0.89<br />Silhouette 0.14",
           "Modularity 0.89<br />Silhouette 0.04",
           "Modularity 0.89<br />Silhouette 0.21",
           "Modularity 0.89<br />Silhouette 0.22"
          ],
          "hovertemplate": "%{customdata}",
          "label": [
           "res.0.1_1",
           "res.0.1_4",
           "res.0.1_2",
           "res.0.1_0",
           "res.0.1_3",
           "res.0.2_1",
           "res.0.2_4",
           "res.0.2_2",
           "res.0.2_5",
           "res.0.2_6",
           "res.0.2_0",
           "res.0.2_3",
           "res.0.3_7",
           "res.0.3_1",
           "res.0.3_2",
           "res.0.3_4",
           "res.0.3_5",
           "res.0.3_6",
           "res.0.3_0",
           "res.0.3_3",
           "res.0.4_7",
           "res.0.4_1",
           "res.0.4_2",
           "res.0.4_4",
           "res.0.4_5",
           "res.0.4_6",
           "res.0.4_0",
           "res.0.4_3",
           "res.0.5_7",
           "res.0.5_1",
           "res.0.5_2",
           "res.0.5_4",
           "res.0.5_5",
           "res.0.5_6",
           "res.0.5_0",
           "res.0.5_3"
          ],
          "pad": 10,
          "thickness": 10
         },
         "orientation": "h",
         "type": "sankey"
        },
        {
         "marker": {
          "colorscale": [
           [
            0,
            "#e0422f"
           ],
           [
            0.02857142857142857,
            "#fee699"
           ],
           [
            0.05714285714285714,
            "#f99355"
           ],
           [
            0.08571428571428572,
            "#f57245"
           ],
           [
            0.11428571428571428,
            "#a50026"
           ],
           [
            0.14285714285714285,
            "#f57748"
           ],
           [
            0.17142857142857143,
            "#f46d43"
           ],
           [
            0.2,
            "#f16640"
           ],
           [
            0.22857142857142856,
            "#fdb366"
           ],
           [
            0.2571428571428571,
            "#feefa6"
           ],
           [
            0.2857142857142857,
            "#a50026"
           ],
           [
            0.3142857142857143,
            "#fece7f"
           ],
           [
            0.34285714285714286,
            "#f8864f"
           ],
           [
            0.37142857142857144,
            "#a50026"
           ],
           [
            0.4,
            "#feeba1"
           ],
           [
            0.42857142857142855,
            "#fed081"
           ],
           [
            0.45714285714285713,
            "#f36b42"
           ],
           [
            0.4857142857142857,
            "#fee496"
           ],
           [
            0.5142857142857142,
            "#bb1526"
           ],
           [
            0.5428571428571428,
            "#af0926"
           ],
           [
            0.5714285714285714,
            "#f8864f"
           ],
           [
            0.6,
            "#a50026"
           ],
           [
            0.6285714285714286,
            "#feeba1"
           ],
           [
            0.6571428571428571,
            "#fed081"
           ],
           [
            0.6857142857142857,
            "#f36b42"
           ],
           [
            0.7142857142857143,
            "#fee496"
           ],
           [
            0.7428571428571429,
            "#bb1526"
           ],
           [
            0.7714285714285715,
            "#af0926"
           ],
           [
            0.8,
            "#f8864f"
           ],
           [
            0.8285714285714286,
            "#a50026"
           ],
           [
            0.8571428571428571,
            "#feeba1"
           ],
           [
            0.8857142857142857,
            "#fed081"
           ],
           [
            0.9142857142857143,
            "#f36b42"
           ],
           [
            0.9428571428571428,
            "#fee496"
           ],
           [
            0.9714285714285714,
            "#bb1526"
           ],
           [
            1,
            "#af0926"
           ]
          ]
         },
         "mode": "markers",
         "type": "scatter",
         "visible": true,
         "x": [
          null
         ],
         "y": [
          null
         ]
        },
        {
         "marker": {
          "cmax": 2.45138897878499,
          "cmin": 0.078627602249135,
          "colorscale": [
           [
            0,
            "#fcfbfd"
           ],
           [
            0.03225806451612903,
            "#fcfbfd"
           ],
           [
            0.06451612903225806,
            "#fcfbfd"
           ],
           [
            0.0967741935483871,
            "#fcfbfd"
           ],
           [
            0.12903225806451613,
            "#f7f6fa"
           ],
           [
            0.16129032258064516,
            "#f7f6fa"
           ],
           [
            0.1935483870967742,
            "#f7f6fa"
           ],
           [
            0.22580645161290322,
            "#f7f6fa"
           ],
           [
            0.25806451612903225,
            "#f7f6fa"
           ],
           [
            0.2903225806451613,
            "#f7f6fa"
           ],
           [
            0.3225806451612903,
            "#f7f6fa"
           ],
           [
            0.3548387096774194,
            "#f7f6fa"
           ],
           [
            0.3870967741935484,
            "#f6f4f9"
           ],
           [
            0.41935483870967744,
            "#f6f4f9"
           ],
           [
            0.45161290322580644,
            "#f6f4f9"
           ],
           [
            0.4838709677419355,
            "#f6f4f9"
           ],
           [
            0.5161290322580645,
            "#f3f2f8"
           ],
           [
            0.5483870967741935,
            "#f3f2f8"
           ],
           [
            0.5806451612903226,
            "#f3f2f8"
           ],
           [
            0.6129032258064516,
            "#c5c6e1"
           ],
           [
            0.6451612903225806,
            "#c5c6e1"
           ],
           [
            0.6774193548387096,
            "#c5c6e1"
           ],
           [
            0.7096774193548387,
            "#c5c6e1"
           ],
           [
            0.7419354838709677,
            "#7d78b7"
           ],
           [
            0.7741935483870968,
            "#7566ae"
           ],
           [
            0.8064516129032258,
            "#7566ae"
           ],
           [
            0.8387096774193549,
            "#7566ae"
           ],
           [
            0.8709677419354839,
            "#7566ae"
           ],
           [
            0.9032258064516129,
            "#705eaa"
           ],
           [
            0.9354838709677419,
            "#705eaa"
           ],
           [
            0.967741935483871,
            "#705eaa"
           ],
           [
            1,
            "#3f007d"
           ]
          ],
          "showscale": true
         },
         "mode": "markers",
         "type": "scatter",
         "visible": true,
         "x": [
          null
         ],
         "y": [
          null
         ]
        },
        {
         "marker": {
          "cmax": 2.0924138959475647,
          "cmin": 0,
          "colorscale": [
           [
            0,
            "#fcfbfd"
           ],
           [
            0.03225806451612903,
            "#fcfbfd"
           ],
           [
            0.06451612903225806,
            "#fcfbfd"
           ],
           [
            0.0967741935483871,
            "#fcfbfd"
           ],
           [
            0.12903225806451613,
            "#fcfbfd"
           ],
           [
            0.16129032258064516,
            "#fcfbfd"
           ],
           [
            0.1935483870967742,
            "#fcfbfd"
           ],
           [
            0.22580645161290322,
            "#fcfbfd"
           ],
           [
            0.25806451612903225,
            "#fcfbfd"
           ],
           [
            0.2903225806451613,
            "#fcfbfd"
           ],
           [
            0.3225806451612903,
            "#fcfbfd"
           ],
           [
            0.3548387096774194,
            "#fcfbfd"
           ],
           [
            0.3870967741935484,
            "#fcfbfd"
           ],
           [
            0.41935483870967744,
            "#fcfbfd"
           ],
           [
            0.45161290322580644,
            "#fcfbfd"
           ],
           [
            0.4838709677419355,
            "#fcfbfd"
           ],
           [
            0.5161290322580645,
            "#fcfbfd"
           ],
           [
            0.5483870967741935,
            "#fcfbfd"
           ],
           [
            0.5806451612903226,
            "#fcfbfd"
           ],
           [
            0.6129032258064516,
            "#fcfbfd"
           ],
           [
            0.6451612903225806,
            "#fbfafc"
           ],
           [
            0.6774193548387096,
            "#fbfafc"
           ],
           [
            0.7096774193548387,
            "#fbfafc"
           ],
           [
            0.7419354838709677,
            "#fbfafc"
           ],
           [
            0.7741935483870968,
            "#fbfafc"
           ],
           [
            0.8064516129032258,
            "#fbfafc"
           ],
           [
            0.8387096774193549,
            "#fbfafc"
           ],
           [
            0.8709677419354839,
            "#fbfafc"
           ],
           [
            0.9032258064516129,
            "#3f007d"
           ],
           [
            0.9354838709677419,
            "#3f007d"
           ],
           [
            0.967741935483871,
            "#3f007d"
           ],
           [
            1,
            "#3f007d"
           ]
          ],
          "showscale": true
         },
         "mode": "markers",
         "type": "scatter",
         "visible": false,
         "x": [
          null
         ],
         "y": [
          null
         ]
        },
        {
         "marker": {
          "cmax": 1,
          "cmin": -1,
          "colorbar": {
           "x": 1.1,
           "y": 0.5
          },
          "colorscale": [
           [
            0,
            "#313695"
           ],
           [
            0.05,
            "#3a54a4"
           ],
           [
            0.1,
            "#4574b3"
           ],
           [
            0.15,
            "#5c90c2"
           ],
           [
            0.2,
            "#74add1"
           ],
           [
            0.25,
            "#90c3dd"
           ],
           [
            0.3,
            "#aad8e9"
           ],
           [
            0.35,
            "#c5e6f0"
           ],
           [
            0.4,
            "#e0f3f8"
           ],
           [
            0.45,
            "#f0f9db"
           ],
           [
            0.5,
            "#fffebe"
           ],
           [
            0.55,
            "#fff0a8"
           ],
           [
            0.6,
            "#fee090"
           ],
           [
            0.65,
            "#fdc778"
           ],
           [
            0.7,
            "#fdad60"
           ],
           [
            0.75,
            "#f88c51"
           ],
           [
            0.8,
            "#f46d43"
           ],
           [
            0.85,
            "#e54e35"
           ],
           [
            0.9,
            "#d62f27"
           ],
           [
            0.95,
            "#bd1726"
           ],
           [
            1,
            "#a50026"
           ]
          ],
          "showscale": true
         },
         "mode": "markers",
         "type": "scatter",
         "visible": true,
         "x": [
          null
         ],
         "y": [
          null
         ]
        }
       ],
       "layout": {
        "autosize": true,
        "paper_bgcolor": "rgba(0, 0, 0, 0)",
        "plot_bgcolor": "rgba(0, 0, 0, 0)",
        "showlegend": false,
        "template": {
         "data": {
          "bar": [
           {
            "error_x": {
             "color": "#2a3f5f"
            },
            "error_y": {
             "color": "#2a3f5f"
            },
            "marker": {
             "line": {
              "color": "#E5ECF6",
              "width": 0.5
             },
             "pattern": {
              "fillmode": "overlay",
              "size": 10,
              "solidity": 0.2
             }
            },
            "type": "bar"
           }
          ],
          "barpolar": [
           {
            "marker": {
             "line": {
              "color": "#E5ECF6",
              "width": 0.5
             },
             "pattern": {
              "fillmode": "overlay",
              "size": 10,
              "solidity": 0.2
             }
            },
            "type": "barpolar"
           }
          ],
          "carpet": [
           {
            "aaxis": {
             "endlinecolor": "#2a3f5f",
             "gridcolor": "white",
             "linecolor": "white",
             "minorgridcolor": "white",
             "startlinecolor": "#2a3f5f"
            },
            "baxis": {
             "endlinecolor": "#2a3f5f",
             "gridcolor": "white",
             "linecolor": "white",
             "minorgridcolor": "white",
             "startlinecolor": "#2a3f5f"
            },
            "type": "carpet"
           }
          ],
          "choropleth": [
           {
            "colorbar": {
             "outlinewidth": 0,
             "ticks": ""
            },
            "type": "choropleth"
           }
          ],
          "contour": [
           {
            "colorbar": {
             "outlinewidth": 0,
             "ticks": ""
            },
            "colorscale": [
             [
              0,
              "#0d0887"
             ],
             [
              0.1111111111111111,
              "#46039f"
             ],
             [
              0.2222222222222222,
              "#7201a8"
             ],
             [
              0.3333333333333333,
              "#9c179e"
             ],
             [
              0.4444444444444444,
              "#bd3786"
             ],
             [
              0.5555555555555556,
              "#d8576b"
             ],
             [
              0.6666666666666666,
              "#ed7953"
             ],
             [
              0.7777777777777778,
              "#fb9f3a"
             ],
             [
              0.8888888888888888,
              "#fdca26"
             ],
             [
              1,
              "#f0f921"
             ]
            ],
            "type": "contour"
           }
          ],
          "contourcarpet": [
           {
            "colorbar": {
             "outlinewidth": 0,
             "ticks": ""
            },
            "type": "contourcarpet"
           }
          ],
          "heatmap": [
           {
            "colorbar": {
             "outlinewidth": 0,
             "ticks": ""
            },
            "colorscale": [
             [
              0,
              "#0d0887"
             ],
             [
              0.1111111111111111,
              "#46039f"
             ],
             [
              0.2222222222222222,
              "#7201a8"
             ],
             [
              0.3333333333333333,
              "#9c179e"
             ],
             [
              0.4444444444444444,
              "#bd3786"
             ],
             [
              0.5555555555555556,
              "#d8576b"
             ],
             [
              0.6666666666666666,
              "#ed7953"
             ],
             [
              0.7777777777777778,
              "#fb9f3a"
             ],
             [
              0.8888888888888888,
              "#fdca26"
             ],
             [
              1,
              "#f0f921"
             ]
            ],
            "type": "heatmap"
           }
          ],
          "heatmapgl": [
           {
            "colorbar": {
             "outlinewidth": 0,
             "ticks": ""
            },
            "colorscale": [
             [
              0,
              "#0d0887"
             ],
             [
              0.1111111111111111,
              "#46039f"
             ],
             [
              0.2222222222222222,
              "#7201a8"
             ],
             [
              0.3333333333333333,
              "#9c179e"
             ],
             [
              0.4444444444444444,
              "#bd3786"
             ],
             [
              0.5555555555555556,
              "#d8576b"
             ],
             [
              0.6666666666666666,
              "#ed7953"
             ],
             [
              0.7777777777777778,
              "#fb9f3a"
             ],
             [
              0.8888888888888888,
              "#fdca26"
             ],
             [
              1,
              "#f0f921"
             ]
            ],
            "type": "heatmapgl"
           }
          ],
          "histogram": [
           {
            "marker": {
             "pattern": {
              "fillmode": "overlay",
              "size": 10,
              "solidity": 0.2
             }
            },
            "type": "histogram"
           }
          ],
          "histogram2d": [
           {
            "colorbar": {
             "outlinewidth": 0,
             "ticks": ""
            },
            "colorscale": [
             [
              0,
              "#0d0887"
             ],
             [
              0.1111111111111111,
              "#46039f"
             ],
             [
              0.2222222222222222,
              "#7201a8"
             ],
             [
              0.3333333333333333,
              "#9c179e"
             ],
             [
              0.4444444444444444,
              "#bd3786"
             ],
             [
              0.5555555555555556,
              "#d8576b"
             ],
             [
              0.6666666666666666,
              "#ed7953"
             ],
             [
              0.7777777777777778,
              "#fb9f3a"
             ],
             [
              0.8888888888888888,
              "#fdca26"
             ],
             [
              1,
              "#f0f921"
             ]
            ],
            "type": "histogram2d"
           }
          ],
          "histogram2dcontour": [
           {
            "colorbar": {
             "outlinewidth": 0,
             "ticks": ""
            },
            "colorscale": [
             [
              0,
              "#0d0887"
             ],
             [
              0.1111111111111111,
              "#46039f"
             ],
             [
              0.2222222222222222,
              "#7201a8"
             ],
             [
              0.3333333333333333,
              "#9c179e"
             ],
             [
              0.4444444444444444,
              "#bd3786"
             ],
             [
              0.5555555555555556,
              "#d8576b"
             ],
             [
              0.6666666666666666,
              "#ed7953"
             ],
             [
              0.7777777777777778,
              "#fb9f3a"
             ],
             [
              0.8888888888888888,
              "#fdca26"
             ],
             [
              1,
              "#f0f921"
             ]
            ],
            "type": "histogram2dcontour"
           }
          ],
          "mesh3d": [
           {
            "colorbar": {
             "outlinewidth": 0,
             "ticks": ""
            },
            "type": "mesh3d"
           }
          ],
          "parcoords": [
           {
            "line": {
             "colorbar": {
              "outlinewidth": 0,
              "ticks": ""
             }
            },
            "type": "parcoords"
           }
          ],
          "pie": [
           {
            "automargin": true,
            "type": "pie"
           }
          ],
          "scatter": [
           {
            "marker": {
             "colorbar": {
              "outlinewidth": 0,
              "ticks": ""
             }
            },
            "type": "scatter"
           }
          ],
          "scatter3d": [
           {
            "line": {
             "colorbar": {
              "outlinewidth": 0,
              "ticks": ""
             }
            },
            "marker": {
             "colorbar": {
              "outlinewidth": 0,
              "ticks": ""
             }
            },
            "type": "scatter3d"
           }
          ],
          "scattercarpet": [
           {
            "marker": {
             "colorbar": {
              "outlinewidth": 0,
              "ticks": ""
             }
            },
            "type": "scattercarpet"
           }
          ],
          "scattergeo": [
           {
            "marker": {
             "colorbar": {
              "outlinewidth": 0,
              "ticks": ""
             }
            },
            "type": "scattergeo"
           }
          ],
          "scattergl": [
           {
            "marker": {
             "colorbar": {
              "outlinewidth": 0,
              "ticks": ""
             }
            },
            "type": "scattergl"
           }
          ],
          "scattermapbox": [
           {
            "marker": {
             "colorbar": {
              "outlinewidth": 0,
              "ticks": ""
             }
            },
            "type": "scattermapbox"
           }
          ],
          "scatterpolar": [
           {
            "marker": {
             "colorbar": {
              "outlinewidth": 0,
              "ticks": ""
             }
            },
            "type": "scatterpolar"
           }
          ],
          "scatterpolargl": [
           {
            "marker": {
             "colorbar": {
              "outlinewidth": 0,
              "ticks": ""
             }
            },
            "type": "scatterpolargl"
           }
          ],
          "scatterternary": [
           {
            "marker": {
             "colorbar": {
              "outlinewidth": 0,
              "ticks": ""
             }
            },
            "type": "scatterternary"
           }
          ],
          "surface": [
           {
            "colorbar": {
             "outlinewidth": 0,
             "ticks": ""
            },
            "colorscale": [
             [
              0,
              "#0d0887"
             ],
             [
              0.1111111111111111,
              "#46039f"
             ],
             [
              0.2222222222222222,
              "#7201a8"
             ],
             [
              0.3333333333333333,
              "#9c179e"
             ],
             [
              0.4444444444444444,
              "#bd3786"
             ],
             [
              0.5555555555555556,
              "#d8576b"
             ],
             [
              0.6666666666666666,
              "#ed7953"
             ],
             [
              0.7777777777777778,
              "#fb9f3a"
             ],
             [
              0.8888888888888888,
              "#fdca26"
             ],
             [
              1,
              "#f0f921"
             ]
            ],
            "type": "surface"
           }
          ],
          "table": [
           {
            "cells": {
             "fill": {
              "color": "#EBF0F8"
             },
             "line": {
              "color": "white"
             }
            },
            "header": {
             "fill": {
              "color": "#C8D4E3"
             },
             "line": {
              "color": "white"
             }
            },
            "type": "table"
           }
          ]
         },
         "layout": {
          "annotationdefaults": {
           "arrowcolor": "#2a3f5f",
           "arrowhead": 0,
           "arrowwidth": 1
          },
          "autotypenumbers": "strict",
          "coloraxis": {
           "colorbar": {
            "outlinewidth": 0,
            "ticks": ""
           }
          },
          "colorscale": {
           "diverging": [
            [
             0,
             "#8e0152"
            ],
            [
             0.1,
             "#c51b7d"
            ],
            [
             0.2,
             "#de77ae"
            ],
            [
             0.3,
             "#f1b6da"
            ],
            [
             0.4,
             "#fde0ef"
            ],
            [
             0.5,
             "#f7f7f7"
            ],
            [
             0.6,
             "#e6f5d0"
            ],
            [
             0.7,
             "#b8e186"
            ],
            [
             0.8,
             "#7fbc41"
            ],
            [
             0.9,
             "#4d9221"
            ],
            [
             1,
             "#276419"
            ]
           ],
           "sequential": [
            [
             0,
             "#0d0887"
            ],
            [
             0.1111111111111111,
             "#46039f"
            ],
            [
             0.2222222222222222,
             "#7201a8"
            ],
            [
             0.3333333333333333,
             "#9c179e"
            ],
            [
             0.4444444444444444,
             "#bd3786"
            ],
            [
             0.5555555555555556,
             "#d8576b"
            ],
            [
             0.6666666666666666,
             "#ed7953"
            ],
            [
             0.7777777777777778,
             "#fb9f3a"
            ],
            [
             0.8888888888888888,
             "#fdca26"
            ],
            [
             1,
             "#f0f921"
            ]
           ],
           "sequentialminus": [
            [
             0,
             "#0d0887"
            ],
            [
             0.1111111111111111,
             "#46039f"
            ],
            [
             0.2222222222222222,
             "#7201a8"
            ],
            [
             0.3333333333333333,
             "#9c179e"
            ],
            [
             0.4444444444444444,
             "#bd3786"
            ],
            [
             0.5555555555555556,
             "#d8576b"
            ],
            [
             0.6666666666666666,
             "#ed7953"
            ],
            [
             0.7777777777777778,
             "#fb9f3a"
            ],
            [
             0.8888888888888888,
             "#fdca26"
            ],
            [
             1,
             "#f0f921"
            ]
           ]
          },
          "colorway": [
           "#636efa",
           "#EF553B",
           "#00cc96",
           "#ab63fa",
           "#FFA15A",
           "#19d3f3",
           "#FF6692",
           "#B6E880",
           "#FF97FF",
           "#FECB52"
          ],
          "font": {
           "color": "#2a3f5f"
          },
          "geo": {
           "bgcolor": "white",
           "lakecolor": "white",
           "landcolor": "#E5ECF6",
           "showlakes": true,
           "showland": true,
           "subunitcolor": "white"
          },
          "hoverlabel": {
           "align": "left"
          },
          "hovermode": "closest",
          "mapbox": {
           "style": "light"
          },
          "paper_bgcolor": "white",
          "plot_bgcolor": "#E5ECF6",
          "polar": {
           "angularaxis": {
            "gridcolor": "white",
            "linecolor": "white",
            "ticks": ""
           },
           "bgcolor": "#E5ECF6",
           "radialaxis": {
            "gridcolor": "white",
            "linecolor": "white",
            "ticks": ""
           }
          },
          "scene": {
           "xaxis": {
            "backgroundcolor": "#E5ECF6",
            "gridcolor": "white",
            "gridwidth": 2,
            "linecolor": "white",
            "showbackground": true,
            "ticks": "",
            "zerolinecolor": "white"
           },
           "yaxis": {
            "backgroundcolor": "#E5ECF6",
            "gridcolor": "white",
            "gridwidth": 2,
            "linecolor": "white",
            "showbackground": true,
            "ticks": "",
            "zerolinecolor": "white"
           },
           "zaxis": {
            "backgroundcolor": "#E5ECF6",
            "gridcolor": "white",
            "gridwidth": 2,
            "linecolor": "white",
            "showbackground": true,
            "ticks": "",
            "zerolinecolor": "white"
           }
          },
          "shapedefaults": {
           "line": {
            "color": "#2a3f5f"
           }
          },
          "ternary": {
           "aaxis": {
            "gridcolor": "white",
            "linecolor": "white",
            "ticks": ""
           },
           "baxis": {
            "gridcolor": "white",
            "linecolor": "white",
            "ticks": ""
           },
           "bgcolor": "#E5ECF6",
           "caxis": {
            "gridcolor": "white",
            "linecolor": "white",
            "ticks": ""
           }
          },
          "title": {
           "x": 0.05
          },
          "xaxis": {
           "automargin": true,
           "gridcolor": "white",
           "linecolor": "white",
           "ticks": "",
           "title": {
            "standoff": 15
           },
           "zerolinecolor": "white",
           "zerolinewidth": 2
          },
          "yaxis": {
           "automargin": true,
           "gridcolor": "white",
           "linecolor": "white",
           "ticks": "",
           "title": {
            "standoff": 15
           },
           "zerolinecolor": "white",
           "zerolinewidth": 2
          }
         }
        },
        "updatemenus": [
         {
          "buttons": [
           {
            "args": [
             {
              "link": {
               "color": [
                "#f6f4f9",
                "#fcfbfd",
                "#c5c6e1",
                "#7566ae",
                "#f7f6fa",
                "#7d78b7",
                "#f7f6fa",
                "#f6f4f9",
                "#fcfbfd",
                "#c5c6e1",
                "#7566ae",
                "#f7f6fa",
                "#705eaa",
                "#f7f6fa",
                "#f3f2f8",
                "#f6f4f9",
                "#fcfbfd",
                "#c5c6e1",
                "#7566ae",
                "#f7f6fa",
                "#705eaa",
                "#f7f6fa",
                "#f3f2f8",
                "#f6f4f9",
                "#fcfbfd",
                "#c5c6e1",
                "#7566ae",
                "#f7f6fa",
                "#705eaa",
                "#f7f6fa",
                "#f3f2f8",
                "#3f007d"
               ],
               "source": [
                4,
                0,
                2,
                3,
                0,
                3,
                1,
                6,
                8,
                11,
                10,
                7,
                5,
                9,
                5,
                19,
                16,
                14,
                18,
                13,
                15,
                17,
                12,
                27,
                24,
                22,
                26,
                21,
                23,
                25,
                20,
                26
               ],
               "target": [
                6,
                8,
                11,
                10,
                7,
                5,
                9,
                19,
                16,
                14,
                18,
                13,
                15,
                17,
                12,
                27,
                24,
                22,
                26,
                21,
                23,
                25,
                20,
                35,
                32,
                30,
                34,
                29,
                31,
                33,
                28,
                31
               ],
               "value": [
                99,
                94,
                101,
                203,
                107,
                110,
                32,
                99,
                94,
                101,
                203,
                107,
                97,
                32,
                13,
                99,
                94,
                101,
                203,
                107,
                97,
                32,
                13,
                99,
                94,
                101,
                202,
                107,
                97,
                32,
                13,
                1
               ]
              },
              "visible": [
               true,
               true,
               true,
               false
              ]
             }
            ],
            "label": "CD3E",
            "method": "update"
           },
           {
            "args": [
             {
              "link": {
               "color": [
                "#fcfbfd",
                "#fcfbfd",
                "#fbfafc",
                "#fbfafc",
                "#fcfbfd",
                "#fcfbfd",
                "#3f007d",
                "#fcfbfd",
                "#fcfbfd",
                "#fbfafc",
                "#fbfafc",
                "#fcfbfd",
                "#fcfbfd",
                "#3f007d",
                "#fcfbfd",
                "#fcfbfd",
                "#fcfbfd",
                "#fbfafc",
                "#fbfafc",
                "#fcfbfd",
                "#fcfbfd",
                "#3f007d",
                "#fcfbfd",
                "#fcfbfd",
                "#fcfbfd",
                "#fbfafc",
                "#fbfafc",
                "#fcfbfd",
                "#fcfbfd",
                "#3f007d",
                "#fcfbfd",
                "#fcfbfd"
               ],
               "source": [
                4,
                0,
                2,
                3,
                0,
                3,
                1,
                6,
                8,
                11,
                10,
                7,
                5,
                9,
                5,
                19,
                16,
                14,
                18,
                13,
                15,
                17,
                12,
                27,
                24,
                22,
                26,
                21,
                23,
                25,
                20,
                26
               ],
               "target": [
                6,
                8,
                11,
                10,
                7,
                5,
                9,
                19,
                16,
                14,
                18,
                13,
                15,
                17,
                12,
                27,
                24,
                22,
                26,
                21,
                23,
                25,
                20,
                35,
                32,
                30,
                34,
                29,
                31,
                33,
                28,
                31
               ],
               "value": [
                99,
                94,
                101,
                203,
                107,
                110,
                32,
                99,
                94,
                101,
                203,
                107,
                97,
                32,
                13,
                99,
                94,
                101,
                203,
                107,
                97,
                32,
                13,
                99,
                94,
                101,
                202,
                107,
                97,
                32,
                13,
                1
               ]
              },
              "visible": [
               true,
               true,
               false,
               true
              ]
             }
            ],
            "label": "FCER1A",
            "method": "update"
           }
          ],
          "x": -0.05,
          "y": 0.9
         },
         {
          "buttons": [
           {
            "args": [
             "arrangement",
             "snap"
            ],
            "label": "Snap",
            "method": "restyle"
           },
           {
            "args": [
             "arrangement",
             "perpendicular"
            ],
            "label": "Perpendicular",
            "method": "restyle"
           },
           {
            "args": [
             "arrangement",
             "freeform"
            ],
            "label": "Freeform",
            "method": "restyle"
           },
           {
            "args": [
             "arrangement",
             "fixed"
            ],
            "label": "Fixed",
            "method": "restyle"
           }
          ],
          "x": 0,
          "y": 1.25
         },
         {
          "buttons": [
           {
            "args": [
             "paper_bgcolor",
             "white"
            ],
            "label": "Light",
            "method": "relayout"
           },
           {
            "args": [
             "paper_bgcolor",
             "black"
            ],
            "label": "Dark",
            "method": "relayout"
           }
          ],
          "x": 0.2,
          "y": 1.25
         },
         {
          "buttons": [
           {
            "args": [
             "node.thickness",
             8
            ],
            "label": "Thin",
            "method": "restyle"
           },
           {
            "args": [
             "node.thickness",
             15
            ],
            "label": "Thick",
            "method": "restyle"
           }
          ],
          "x": 0.4,
          "y": 1.25
         },
         {
          "buttons": [
           {
            "args": [
             "node.pad",
             15
            ],
            "label": "Small gap",
            "method": "restyle"
           },
           {
            "args": [
             "node.pad",
             20
            ],
            "label": "Large gap",
            "method": "restyle"
           }
          ],
          "x": 0.6,
          "y": 1.25
         },
         {
          "buttons": [
           {
            "args": [
             "orientation",
             "h"
            ],
            "label": "Horizontal",
            "method": "restyle"
           },
           {
            "args": [
             "orientation",
             "v"
            ],
            "label": "Vertical",
            "method": "restyle"
           }
          ],
          "x": 0.8,
          "y": 1.25
         }
        ],
        "xaxis": {
         "autorange": true,
         "range": [
          -1,
          6
         ],
         "showgrid": false,
         "showticklabels": false,
         "zeroline": false
        },
        "yaxis": {
         "autorange": true,
         "range": [
          -1,
          4
         ],
         "showgrid": false,
         "showticklabels": false,
         "zeroline": false
        }
       }
      },
      "image/png": "[encoded data removed]",
      "text/html": [
       "<div>                            <div id=\"4dd4596d-a18d-4fc2-ba44-af5537b80c2d\" class=\"plotly-graph-div\" style=\"height:525px; width:100%;\"></div>            <script type=\"text/javascript\">                require([\"plotly\"], function(Plotly) {                    window.PLOTLYENV=window.PLOTLYENV || {};                                    if (document.getElementById(\"4dd4596d-a18d-4fc2-ba44-af5537b80c2d\")) {                    Plotly.newPlot(                        \"4dd4596d-a18d-4fc2-ba44-af5537b80c2d\",                        [{\"link\":{\"color\":[\"#f6f4f9\",\"#fcfbfd\",\"#c5c6e1\",\"#7566ae\",\"#f7f6fa\",\"#7d78b7\",\"#f7f6fa\",\"#f6f4f9\",\"#fcfbfd\",\"#c5c6e1\",\"#7566ae\",\"#f7f6fa\",\"#705eaa\",\"#f7f6fa\",\"#f3f2f8\",\"#f6f4f9\",\"#fcfbfd\",\"#c5c6e1\",\"#7566ae\",\"#f7f6fa\",\"#705eaa\",\"#f7f6fa\",\"#f3f2f8\",\"#f6f4f9\",\"#fcfbfd\",\"#c5c6e1\",\"#7566ae\",\"#f7f6fa\",\"#705eaa\",\"#f7f6fa\",\"#f3f2f8\",\"#3f007d\"],\"source\":[4,0,2,3,0,3,1,6,8,11,10,7,5,9,5,19,16,14,18,13,15,17,12,27,24,22,26,21,23,25,20,26],\"target\":[6,8,11,10,7,5,9,19,16,14,18,13,15,17,12,27,24,22,26,21,23,25,20,35,32,30,34,29,31,33,28,31],\"value\":[99,94,101,203,107,110,32,99,94,101,203,107,97,32,13,99,94,101,203,107,97,32,13,99,94,101,202,107,97,32,13,1]},\"node\":{\"color\":[\"#e0422f\",\"#fee699\",\"#f99355\",\"#f57245\",\"#a50026\",\"#f57748\",\"#f46d43\",\"#f16640\",\"#fdb366\",\"#feefa6\",\"#a50026\",\"#fece7f\",\"#f8864f\",\"#a50026\",\"#feeba1\",\"#fed081\",\"#f36b42\",\"#fee496\",\"#bb1526\",\"#af0926\",\"#f8864f\",\"#a50026\",\"#feeba1\",\"#fed081\",\"#f36b42\",\"#fee496\",\"#bb1526\",\"#af0926\",\"#f8864f\",\"#a50026\",\"#feeba1\",\"#fed081\",\"#f36b42\",\"#fee496\",\"#bb1526\",\"#af0926\"],\"customdata\":[\"Modularity 0.96<br />Silhouette 0.23\",\"Modularity 0.96<br />Silhouette 0.05\",\"Modularity 0.96<br />Silhouette 0.15\",\"Modularity 0.96<br />Silhouette 0.18\",\"Modularity 0.96<br />Silhouette 0.31\",\"Modularity 0.94<br />Silhouette -0.21\",\"Modularity 0.94<br />Silhouette 0.22\",\"Modularity 0.94<br />Silhouette 0.23\",\"Modularity 0.94<br />Silhouette 0.14\",\"Modularity 0.94<br />Silhouette 0.04\",\"Modularity 0.94<br />Silhouette 0.37\",\"Modularity 0.94<br />Silhouette 0.1\",\"Modularity 0.92<br />Silhouette 0.12\",\"Modularity 0.92<br />Silhouette 0.23\",\"Modularity 0.92<br />Silhouette 0.03\",\"Modularity 0.92<br />Silhouette 0.06\",\"Modularity 0.92<br />Silhouette 0.14\",\"Modularity 0.92<br />Silhouette 0.04\",\"Modularity 0.92<br />Silhouette 0.21\",\"Modularity 0.92<br />Silhouette 0.22\",\"Modularity 0.91<br />Silhouette 0.12\",\"Modularity 0.91<br />Silhouette 0.23\",\"Modularity 0.91<br />Silhouette 0.03\",\"Modularity 0.91<br />Silhouette 0.06\",\"Modularity 0.91<br />Silhouette 0.14\",\"Modularity 0.91<br />Silhouette 0.04\",\"Modularity 0.91<br />Silhouette 0.21\",\"Modularity 0.91<br />Silhouette 0.22\",\"Modularity 0.89<br />Silhouette 0.12\",\"Modularity 0.89<br />Silhouette 0.23\",\"Modularity 0.89<br />Silhouette 0.03\",\"Modularity 0.89<br />Silhouette 0.06\",\"Modularity 0.89<br />Silhouette 0.14\",\"Modularity 0.89<br />Silhouette 0.04\",\"Modularity 0.89<br />Silhouette 0.21\",\"Modularity 0.89<br />Silhouette 0.22\"],\"hovertemplate\":\"%{customdata}\",\"label\":[\"res.0.1_1\",\"res.0.1_4\",\"res.0.1_2\",\"res.0.1_0\",\"res.0.1_3\",\"res.0.2_1\",\"res.0.2_4\",\"res.0.2_2\",\"res.0.2_5\",\"res.0.2_6\",\"res.0.2_0\",\"res.0.2_3\",\"res.0.3_7\",\"res.0.3_1\",\"res.0.3_2\",\"res.0.3_4\",\"res.0.3_5\",\"res.0.3_6\",\"res.0.3_0\",\"res.0.3_3\",\"res.0.4_7\",\"res.0.4_1\",\"res.0.4_2\",\"res.0.4_4\",\"res.0.4_5\",\"res.0.4_6\",\"res.0.4_0\",\"res.0.4_3\",\"res.0.5_7\",\"res.0.5_1\",\"res.0.5_2\",\"res.0.5_4\",\"res.0.5_5\",\"res.0.5_6\",\"res.0.5_0\",\"res.0.5_3\"],\"pad\":10,\"thickness\":10},\"orientation\":\"h\",\"type\":\"sankey\"},{\"marker\":{\"colorscale\":[[0.0,\"#e0422f\"],[0.02857142857142857,\"#fee699\"],[0.05714285714285714,\"#f99355\"],[0.08571428571428572,\"#f57245\"],[0.11428571428571428,\"#a50026\"],[0.14285714285714285,\"#f57748\"],[0.17142857142857143,\"#f46d43\"],[0.2,\"#f16640\"],[0.22857142857142856,\"#fdb366\"],[0.2571428571428571,\"#feefa6\"],[0.2857142857142857,\"#a50026\"],[0.3142857142857143,\"#fece7f\"],[0.34285714285714286,\"#f8864f\"],[0.37142857142857144,\"#a50026\"],[0.4,\"#feeba1\"],[0.42857142857142855,\"#fed081\"],[0.45714285714285713,\"#f36b42\"],[0.4857142857142857,\"#fee496\"],[0.5142857142857142,\"#bb1526\"],[0.5428571428571428,\"#af0926\"],[0.5714285714285714,\"#f8864f\"],[0.6,\"#a50026\"],[0.6285714285714286,\"#feeba1\"],[0.6571428571428571,\"#fed081\"],[0.6857142857142857,\"#f36b42\"],[0.7142857142857143,\"#fee496\"],[0.7428571428571429,\"#bb1526\"],[0.7714285714285715,\"#af0926\"],[0.8,\"#f8864f\"],[0.8285714285714286,\"#a50026\"],[0.8571428571428571,\"#feeba1\"],[0.8857142857142857,\"#fed081\"],[0.9142857142857143,\"#f36b42\"],[0.9428571428571428,\"#fee496\"],[0.9714285714285714,\"#bb1526\"],[1.0,\"#af0926\"]]},\"mode\":\"markers\",\"visible\":true,\"x\":[null],\"y\":[null],\"type\":\"scatter\"},{\"marker\":{\"cmax\":2.45138897878499,\"cmin\":0.078627602249135,\"colorscale\":[[0.0,\"#fcfbfd\"],[0.03225806451612903,\"#fcfbfd\"],[0.06451612903225806,\"#fcfbfd\"],[0.0967741935483871,\"#fcfbfd\"],[0.12903225806451613,\"#f7f6fa\"],[0.16129032258064516,\"#f7f6fa\"],[0.1935483870967742,\"#f7f6fa\"],[0.22580645161290322,\"#f7f6fa\"],[0.25806451612903225,\"#f7f6fa\"],[0.2903225806451613,\"#f7f6fa\"],[0.3225806451612903,\"#f7f6fa\"],[0.3548387096774194,\"#f7f6fa\"],[0.3870967741935484,\"#f6f4f9\"],[0.41935483870967744,\"#f6f4f9\"],[0.45161290322580644,\"#f6f4f9\"],[0.4838709677419355,\"#f6f4f9\"],[0.5161290322580645,\"#f3f2f8\"],[0.5483870967741935,\"#f3f2f8\"],[0.5806451612903226,\"#f3f2f8\"],[0.6129032258064516,\"#c5c6e1\"],[0.6451612903225806,\"#c5c6e1\"],[0.6774193548387096,\"#c5c6e1\"],[0.7096774193548387,\"#c5c6e1\"],[0.7419354838709677,\"#7d78b7\"],[0.7741935483870968,\"#7566ae\"],[0.8064516129032258,\"#7566ae\"],[0.8387096774193549,\"#7566ae\"],[0.8709677419354839,\"#7566ae\"],[0.9032258064516129,\"#705eaa\"],[0.9354838709677419,\"#705eaa\"],[0.967741935483871,\"#705eaa\"],[1.0,\"#3f007d\"]],\"showscale\":true},\"mode\":\"markers\",\"visible\":true,\"x\":[null],\"y\":[null],\"type\":\"scatter\"},{\"marker\":{\"cmax\":2.0924138959475647,\"cmin\":0.0,\"colorscale\":[[0.0,\"#fcfbfd\"],[0.03225806451612903,\"#fcfbfd\"],[0.06451612903225806,\"#fcfbfd\"],[0.0967741935483871,\"#fcfbfd\"],[0.12903225806451613,\"#fcfbfd\"],[0.16129032258064516,\"#fcfbfd\"],[0.1935483870967742,\"#fcfbfd\"],[0.22580645161290322,\"#fcfbfd\"],[0.25806451612903225,\"#fcfbfd\"],[0.2903225806451613,\"#fcfbfd\"],[0.3225806451612903,\"#fcfbfd\"],[0.3548387096774194,\"#fcfbfd\"],[0.3870967741935484,\"#fcfbfd\"],[0.41935483870967744,\"#fcfbfd\"],[0.45161290322580644,\"#fcfbfd\"],[0.4838709677419355,\"#fcfbfd\"],[0.5161290322580645,\"#fcfbfd\"],[0.5483870967741935,\"#fcfbfd\"],[0.5806451612903226,\"#fcfbfd\"],[0.6129032258064516,\"#fcfbfd\"],[0.6451612903225806,\"#fbfafc\"],[0.6774193548387096,\"#fbfafc\"],[0.7096774193548387,\"#fbfafc\"],[0.7419354838709677,\"#fbfafc\"],[0.7741935483870968,\"#fbfafc\"],[0.8064516129032258,\"#fbfafc\"],[0.8387096774193549,\"#fbfafc\"],[0.8709677419354839,\"#fbfafc\"],[0.9032258064516129,\"#3f007d\"],[0.9354838709677419,\"#3f007d\"],[0.967741935483871,\"#3f007d\"],[1.0,\"#3f007d\"]],\"showscale\":true},\"mode\":\"markers\",\"visible\":false,\"x\":[null],\"y\":[null],\"type\":\"scatter\"},{\"marker\":{\"cmax\":1,\"cmin\":-1,\"colorbar\":{\"x\":1.1},\"colorscale\":[[0.0,\"#313695\"],[0.05,\"#3a54a4\"],[0.1,\"#4574b3\"],[0.15,\"#5c90c2\"],[0.2,\"#74add1\"],[0.25,\"#90c3dd\"],[0.3,\"#aad8e9\"],[0.35,\"#c5e6f0\"],[0.4,\"#e0f3f8\"],[0.45,\"#f0f9db\"],[0.5,\"#fffebe\"],[0.55,\"#fff0a8\"],[0.6,\"#fee090\"],[0.65,\"#fdc778\"],[0.7,\"#fdad60\"],[0.75,\"#f88c51\"],[0.8,\"#f46d43\"],[0.85,\"#e54e35\"],[0.9,\"#d62f27\"],[0.95,\"#bd1726\"],[1.0,\"#a50026\"]],\"showscale\":true},\"mode\":\"markers\",\"visible\":true,\"x\":[null],\"y\":[null],\"type\":\"scatter\"}],                        {\"template\":{\"data\":{\"bar\":[{\"error_x\":{\"color\":\"#2a3f5f\"},\"error_y\":{\"color\":\"#2a3f5f\"},\"marker\":{\"line\":{\"color\":\"#E5ECF6\",\"width\":0.5},\"pattern\":{\"fillmode\":\"overlay\",\"size\":10,\"solidity\":0.2}},\"type\":\"bar\"}],\"barpolar\":[{\"marker\":{\"line\":{\"color\":\"#E5ECF6\",\"width\":0.5},\"pattern\":{\"fillmode\":\"overlay\",\"size\":10,\"solidity\":0.2}},\"type\":\"barpolar\"}],\"carpet\":[{\"aaxis\":{\"endlinecolor\":\"#2a3f5f\",\"gridcolor\":\"white\",\"linecolor\":\"white\",\"minorgridcolor\":\"white\",\"startlinecolor\":\"#2a3f5f\"},\"baxis\":{\"endlinecolor\":\"#2a3f5f\",\"gridcolor\":\"white\",\"linecolor\":\"white\",\"minorgridcolor\":\"white\",\"startlinecolor\":\"#2a3f5f\"},\"type\":\"carpet\"}],\"choropleth\":[{\"colorbar\":{\"outlinewidth\":0,\"ticks\":\"\"},\"type\":\"choropleth\"}],\"contour\":[{\"colorbar\":{\"outlinewidth\":0,\"ticks\":\"\"},\"colorscale\":[[0.0,\"#0d0887\"],[0.1111111111111111,\"#46039f\"],[0.2222222222222222,\"#7201a8\"],[0.3333333333333333,\"#9c179e\"],[0.4444444444444444,\"#bd3786\"],[0.5555555555555556,\"#d8576b\"],[0.6666666666666666,\"#ed7953\"],[0.7777777777777778,\"#fb9f3a\"],[0.8888888888888888,\"#fdca26\"],[1.0,\"#f0f921\"]],\"type\":\"contour\"}],\"contourcarpet\":[{\"colorbar\":{\"outlinewidth\":0,\"ticks\":\"\"},\"type\":\"contourcarpet\"}],\"heatmap\":[{\"colorbar\":{\"outlinewidth\":0,\"ticks\":\"\"},\"colorscale\":[[0.0,\"#0d0887\"],[0.1111111111111111,\"#46039f\"],[0.2222222222222222,\"#7201a8\"],[0.3333333333333333,\"#9c179e\"],[0.4444444444444444,\"#bd3786\"],[0.5555555555555556,\"#d8576b\"],[0.6666666666666666,\"#ed7953\"],[0.7777777777777778,\"#fb9f3a\"],[0.8888888888888888,\"#fdca26\"],[1.0,\"#f0f921\"]],\"type\":\"heatmap\"}],\"heatmapgl\":[{\"colorbar\":{\"outlinewidth\":0,\"ticks\":\"\"},\"colorscale\":[[0.0,\"#0d0887\"],[0.1111111111111111,\"#46039f\"],[0.2222222222222222,\"#7201a8\"],[0.3333333333333333,\"#9c179e\"],[0.4444444444444444,\"#bd3786\"],[0.5555555555555556,\"#d8576b\"],[0.6666666666666666,\"#ed7953\"],[0.7777777777777778,\"#fb9f3a\"],[0.8888888888888888,\"#fdca26\"],[1.0,\"#f0f921\"]],\"type\":\"heatmapgl\"}],\"histogram\":[{\"marker\":{\"pattern\":{\"fillmode\":\"overlay\",\"size\":10,\"solidity\":0.2}},\"type\":\"histogram\"}],\"histogram2d\":[{\"colorbar\":{\"outlinewidth\":0,\"ticks\":\"\"},\"colorscale\":[[0.0,\"#0d0887\"],[0.1111111111111111,\"#46039f\"],[0.2222222222222222,\"#7201a8\"],[0.3333333333333333,\"#9c179e\"],[0.4444444444444444,\"#bd3786\"],[0.5555555555555556,\"#d8576b\"],[0.6666666666666666,\"#ed7953\"],[0.7777777777777778,\"#fb9f3a\"],[0.8888888888888888,\"#fdca26\"],[1.0,\"#f0f921\"]],\"type\":\"histogram2d\"}],\"histogram2dcontour\":[{\"colorbar\":{\"outlinewidth\":0,\"ticks\":\"\"},\"colorscale\":[[0.0,\"#0d0887\"],[0.1111111111111111,\"#46039f\"],[0.2222222222222222,\"#7201a8\"],[0.3333333333333333,\"#9c179e\"],[0.4444444444444444,\"#bd3786\"],[0.5555555555555556,\"#d8576b\"],[0.6666666666666666,\"#ed7953\"],[0.7777777777777778,\"#fb9f3a\"],[0.8888888888888888,\"#fdca26\"],[1.0,\"#f0f921\"]],\"type\":\"histogram2dcontour\"}],\"mesh3d\":[{\"colorbar\":{\"outlinewidth\":0,\"ticks\":\"\"},\"type\":\"mesh3d\"}],\"parcoords\":[{\"line\":{\"colorbar\":{\"outlinewidth\":0,\"ticks\":\"\"}},\"type\":\"parcoords\"}],\"pie\":[{\"automargin\":true,\"type\":\"pie\"}],\"scatter\":[{\"marker\":{\"colorbar\":{\"outlinewidth\":0,\"ticks\":\"\"}},\"type\":\"scatter\"}],\"scatter3d\":[{\"line\":{\"colorbar\":{\"outlinewidth\":0,\"ticks\":\"\"}},\"marker\":{\"colorbar\":{\"outlinewidth\":0,\"ticks\":\"\"}},\"type\":\"scatter3d\"}],\"scattercarpet\":[{\"marker\":{\"colorbar\":{\"outlinewidth\":0,\"ticks\":\"\"}},\"type\":\"scattercarpet\"}],\"scattergeo\":[{\"marker\":{\"colorbar\":{\"outlinewidth\":0,\"ticks\":\"\"}},\"type\":\"scattergeo\"}],\"scattergl\":[{\"marker\":{\"colorbar\":{\"outlinewidth\":0,\"ticks\":\"\"}},\"type\":\"scattergl\"}],\"scattermapbox\":[{\"marker\":{\"colorbar\":{\"outlinewidth\":0,\"ticks\":\"\"}},\"type\":\"scattermapbox\"}],\"scatterpolar\":[{\"marker\":{\"colorbar\":{\"outlinewidth\":0,\"ticks\":\"\"}},\"type\":\"scatterpolar\"}],\"scatterpolargl\":[{\"marker\":{\"colorbar\":{\"outlinewidth\":0,\"ticks\":\"\"}},\"type\":\"scatterpolargl\"}],\"scatterternary\":[{\"marker\":{\"colorbar\":{\"outlinewidth\":0,\"ticks\":\"\"}},\"type\":\"scatterternary\"}],\"surface\":[{\"colorbar\":{\"outlinewidth\":0,\"ticks\":\"\"},\"colorscale\":[[0.0,\"#0d0887\"],[0.1111111111111111,\"#46039f\"],[0.2222222222222222,\"#7201a8\"],[0.3333333333333333,\"#9c179e\"],[0.4444444444444444,\"#bd3786\"],[0.5555555555555556,\"#d8576b\"],[0.6666666666666666,\"#ed7953\"],[0.7777777777777778,\"#fb9f3a\"],[0.8888888888888888,\"#fdca26\"],[1.0,\"#f0f921\"]],\"type\":\"surface\"}],\"table\":[{\"cells\":{\"fill\":{\"color\":\"#EBF0F8\"},\"line\":{\"color\":\"white\"}},\"header\":{\"fill\":{\"color\":\"#C8D4E3\"},\"line\":{\"color\":\"white\"}},\"type\":\"table\"}]},\"layout\":{\"annotationdefaults\":{\"arrowcolor\":\"#2a3f5f\",\"arrowhead\":0,\"arrowwidth\":1},\"autotypenumbers\":\"strict\",\"coloraxis\":{\"colorbar\":{\"outlinewidth\":0,\"ticks\":\"\"}},\"colorscale\":{\"diverging\":[[0,\"#8e0152\"],[0.1,\"#c51b7d\"],[0.2,\"#de77ae\"],[0.3,\"#f1b6da\"],[0.4,\"#fde0ef\"],[0.5,\"#f7f7f7\"],[0.6,\"#e6f5d0\"],[0.7,\"#b8e186\"],[0.8,\"#7fbc41\"],[0.9,\"#4d9221\"],[1,\"#276419\"]],\"sequential\":[[0.0,\"#0d0887\"],[0.1111111111111111,\"#46039f\"],[0.2222222222222222,\"#7201a8\"],[0.3333333333333333,\"#9c179e\"],[0.4444444444444444,\"#bd3786\"],[0.5555555555555556,\"#d8576b\"],[0.6666666666666666,\"#ed7953\"],[0.7777777777777778,\"#fb9f3a\"],[0.8888888888888888,\"#fdca26\"],[1.0,\"#f0f921\"]],\"sequentialminus\":[[0.0,\"#0d0887\"],[0.1111111111111111,\"#46039f\"],[0.2222222222222222,\"#7201a8\"],[0.3333333333333333,\"#9c179e\"],[0.4444444444444444,\"#bd3786\"],[0.5555555555555556,\"#d8576b\"],[0.6666666666666666,\"#ed7953\"],[0.7777777777777778,\"#fb9f3a\"],[0.8888888888888888,\"#fdca26\"],[1.0,\"#f0f921\"]]},\"colorway\":[\"#636efa\",\"#EF553B\",\"#00cc96\",\"#ab63fa\",\"#FFA15A\",\"#19d3f3\",\"#FF6692\",\"#B6E880\",\"#FF97FF\",\"#FECB52\"],\"font\":{\"color\":\"#2a3f5f\"},\"geo\":{\"bgcolor\":\"white\",\"lakecolor\":\"white\",\"landcolor\":\"#E5ECF6\",\"showlakes\":true,\"showland\":true,\"subunitcolor\":\"white\"},\"hoverlabel\":{\"align\":\"left\"},\"hovermode\":\"closest\",\"mapbox\":{\"style\":\"light\"},\"paper_bgcolor\":\"white\",\"plot_bgcolor\":\"#E5ECF6\",\"polar\":{\"angularaxis\":{\"gridcolor\":\"white\",\"linecolor\":\"white\",\"ticks\":\"\"},\"bgcolor\":\"#E5ECF6\",\"radialaxis\":{\"gridcolor\":\"white\",\"linecolor\":\"white\",\"ticks\":\"\"}},\"scene\":{\"xaxis\":{\"backgroundcolor\":\"#E5ECF6\",\"gridcolor\":\"white\",\"gridwidth\":2,\"linecolor\":\"white\",\"showbackground\":true,\"ticks\":\"\",\"zerolinecolor\":\"white\"},\"yaxis\":{\"backgroundcolor\":\"#E5ECF6\",\"gridcolor\":\"white\",\"gridwidth\":2,\"linecolor\":\"white\",\"showbackground\":true,\"ticks\":\"\",\"zerolinecolor\":\"white\"},\"zaxis\":{\"backgroundcolor\":\"#E5ECF6\",\"gridcolor\":\"white\",\"gridwidth\":2,\"linecolor\":\"white\",\"showbackground\":true,\"ticks\":\"\",\"zerolinecolor\":\"white\"}},\"shapedefaults\":{\"line\":{\"color\":\"#2a3f5f\"}},\"ternary\":{\"aaxis\":{\"gridcolor\":\"white\",\"linecolor\":\"white\",\"ticks\":\"\"},\"baxis\":{\"gridcolor\":\"white\",\"linecolor\":\"white\",\"ticks\":\"\"},\"bgcolor\":\"#E5ECF6\",\"caxis\":{\"gridcolor\":\"white\",\"linecolor\":\"white\",\"ticks\":\"\"}},\"title\":{\"x\":0.05},\"xaxis\":{\"automargin\":true,\"gridcolor\":\"white\",\"linecolor\":\"white\",\"ticks\":\"\",\"title\":{\"standoff\":15},\"zerolinecolor\":\"white\",\"zerolinewidth\":2},\"yaxis\":{\"automargin\":true,\"gridcolor\":\"white\",\"linecolor\":\"white\",\"ticks\":\"\",\"title\":{\"standoff\":15},\"zerolinecolor\":\"white\",\"zerolinewidth\":2}}},\"updatemenus\":[{\"buttons\":[{\"args\":[{\"visible\":[true,true,true,false],\"link\":{\"source\":[4,0,2,3,0,3,1,6,8,11,10,7,5,9,5,19,16,14,18,13,15,17,12,27,24,22,26,21,23,25,20,26],\"target\":[6,8,11,10,7,5,9,19,16,14,18,13,15,17,12,27,24,22,26,21,23,25,20,35,32,30,34,29,31,33,28,31],\"color\":[\"#f6f4f9\",\"#fcfbfd\",\"#c5c6e1\",\"#7566ae\",\"#f7f6fa\",\"#7d78b7\",\"#f7f6fa\",\"#f6f4f9\",\"#fcfbfd\",\"#c5c6e1\",\"#7566ae\",\"#f7f6fa\",\"#705eaa\",\"#f7f6fa\",\"#f3f2f8\",\"#f6f4f9\",\"#fcfbfd\",\"#c5c6e1\",\"#7566ae\",\"#f7f6fa\",\"#705eaa\",\"#f7f6fa\",\"#f3f2f8\",\"#f6f4f9\",\"#fcfbfd\",\"#c5c6e1\",\"#7566ae\",\"#f7f6fa\",\"#705eaa\",\"#f7f6fa\",\"#f3f2f8\",\"#3f007d\"],\"value\":[99,94,101,203,107,110,32,99,94,101,203,107,97,32,13,99,94,101,203,107,97,32,13,99,94,101,202,107,97,32,13,1]}}],\"label\":\"CD3E\",\"method\":\"update\"},{\"args\":[{\"visible\":[true,true,false,true],\"link\":{\"source\":[4,0,2,3,0,3,1,6,8,11,10,7,5,9,5,19,16,14,18,13,15,17,12,27,24,22,26,21,23,25,20,26],\"target\":[6,8,11,10,7,5,9,19,16,14,18,13,15,17,12,27,24,22,26,21,23,25,20,35,32,30,34,29,31,33,28,31],\"color\":[\"#fcfbfd\",\"#fcfbfd\",\"#fbfafc\",\"#fbfafc\",\"#fcfbfd\",\"#fcfbfd\",\"#3f007d\",\"#fcfbfd\",\"#fcfbfd\",\"#fbfafc\",\"#fbfafc\",\"#fcfbfd\",\"#fcfbfd\",\"#3f007d\",\"#fcfbfd\",\"#fcfbfd\",\"#fcfbfd\",\"#fbfafc\",\"#fbfafc\",\"#fcfbfd\",\"#fcfbfd\",\"#3f007d\",\"#fcfbfd\",\"#fcfbfd\",\"#fcfbfd\",\"#fbfafc\",\"#fbfafc\",\"#fcfbfd\",\"#fcfbfd\",\"#3f007d\",\"#fcfbfd\",\"#fcfbfd\"],\"value\":[99,94,101,203,107,110,32,99,94,101,203,107,97,32,13,99,94,101,203,107,97,32,13,99,94,101,202,107,97,32,13,1]}}],\"label\":\"FCER1A\",\"method\":\"update\"}],\"y\":0.9},{\"buttons\":[{\"args\":[\"arrangement\",\"snap\"],\"label\":\"Snap\",\"method\":\"restyle\"},{\"args\":[\"arrangement\",\"perpendicular\"],\"label\":\"Perpendicular\",\"method\":\"restyle\"},{\"args\":[\"arrangement\",\"freeform\"],\"label\":\"Freeform\",\"method\":\"restyle\"},{\"args\":[\"arrangement\",\"fixed\"],\"label\":\"Fixed\",\"method\":\"restyle\"}],\"x\":0,\"y\":1.25},{\"buttons\":[{\"args\":[\"paper_bgcolor\",\"white\"],\"label\":\"Light\",\"method\":\"relayout\"},{\"args\":[\"paper_bgcolor\",\"black\"],\"label\":\"Dark\",\"method\":\"relayout\"}],\"x\":0.2,\"y\":1.25},{\"buttons\":[{\"args\":[\"node.thickness\",8],\"label\":\"Thin\",\"method\":\"restyle\"},{\"args\":[\"node.thickness\",15],\"label\":\"Thick\",\"method\":\"restyle\"}],\"x\":0.4,\"y\":1.25},{\"buttons\":[{\"args\":[\"node.pad\",15],\"label\":\"Small gap\",\"method\":\"restyle\"},{\"args\":[\"node.pad\",20],\"label\":\"Large gap\",\"method\":\"restyle\"}],\"x\":0.6,\"y\":1.25},{\"buttons\":[{\"args\":[\"orientation\",\"h\"],\"label\":\"Horizontal\",\"method\":\"restyle\"},{\"args\":[\"orientation\",\"v\"],\"label\":\"Vertical\",\"method\":\"restyle\"}],\"x\":0.8,\"y\":1.25}],\"xaxis\":{\"showticklabels\":false,\"showgrid\":false,\"zeroline\":false},\"yaxis\":{\"showticklabels\":false,\"showgrid\":false,\"zeroline\":false},\"showlegend\":false,\"plot_bgcolor\":\"rgba(0, 0, 0, 0)\",\"paper_bgcolor\":\"rgba(0, 0, 0, 0)\"},                        {\"responsive\": true}                    ).then(function(){\n",
       "                            \n",
       "var gd = document.getElementById('4dd4596d-a18d-4fc2-ba44-af5537b80c2d');\n",
       "var x = new MutationObserver(function (mutations, observer) {{\n",
       "        var display = window.getComputedStyle(gd).display;\n",
       "        if (!display || display === 'none') {{\n",
       "            console.log([gd, 'removed!']);\n",
       "            Plotly.purge(gd);\n",
       "            observer.disconnect();\n",
       "        }}\n",
       "}});\n",
       "\n",
       "// Listen for the removal of the full notebook cells\n",
       "var notebookContainer = gd.closest('#notebook-container');\n",
       "if (notebookContainer) {{\n",
       "    x.observe(notebookContainer, {childList: true});\n",
       "}}\n",
       "\n",
       "// Listen for the clearing of the current output cell\n",
       "var outputEl = gd.closest('.output');\n",
       "if (outputEl) {{\n",
       "    x.observe(outputEl, {childList: true});\n",
       "}}\n",
       "\n",
       "                        })                };                });            </script>        </div>"
      ]
     },
     "metadata": {},
     "output_type": "display_data"
    }
   ],
   "source": [
    "sankey_fig.show()"
   ]
  },
  {
   "cell_type": "code",
   "execution_count": 9,
   "metadata": {},
   "outputs": [
    {
     "data": {
      "text/plain": [
       "'PBMC_CellLayers.html'"
      ]
     },
     "execution_count": 9,
     "metadata": {},
     "output_type": "execute_result"
    }
   ],
   "source": [
    "plotly.offline.plot(sankey_fig, filename='PBMC_CellLayers.html') # export to html file"
   ]
  },
  {
   "cell_type": "markdown",
   "metadata": {},
   "source": [
    "# Figure 1 B"
   ]
  },
  {
   "cell_type": "code",
   "execution_count": 29,
   "metadata": {},
   "outputs": [],
   "source": [
    "# Import data\n",
    "pbmc_enrichment = pd.read_csv('../Data/PBMC/pbmc_enrichment.csv', index_col=[0])\n",
    "pbmc_top_genes = pd.read_csv('../Data/PBMC/pbmc_top_genes.csv', index_col=[0])\n",
    "\n",
    "# Create a list of your gene set(s) of interest\n",
    "geneset_oi = ['antigen processing and presentation of exogenous peptide antigen via MHC class II (GO:0019886)',\n",
    "              'antigen processing and presentation of exogenous peptide antigen via MHC class I, TAP-independent (GO:0002480)']\n",
    "\n",
    "genes = ['CD3E']"
   ]
  },
  {
   "cell_type": "code",
   "execution_count": 30,
   "metadata": {},
   "outputs": [
    {
     "data": {
      "text/html": [
       "<div>\n",
       "<style scoped>\n",
       "    .dataframe tbody tr th:only-of-type {\n",
       "        vertical-align: middle;\n",
       "    }\n",
       "\n",
       "    .dataframe tbody tr th {\n",
       "        vertical-align: top;\n",
       "    }\n",
       "\n",
       "    .dataframe thead th {\n",
       "        text-align: right;\n",
       "    }\n",
       "</style>\n",
       "<table border=\"1\" class=\"dataframe\">\n",
       "  <thead>\n",
       "    <tr style=\"text-align: right;\">\n",
       "      <th></th>\n",
       "      <th>gene.set</th>\n",
       "      <th>res_cluster</th>\n",
       "      <th>combined.score</th>\n",
       "    </tr>\n",
       "  </thead>\n",
       "  <tbody>\n",
       "    <tr>\n",
       "      <th>1</th>\n",
       "      <td>'de novo' posttranslational protein folding (G...</td>\n",
       "      <td>res.0.1_0</td>\n",
       "      <td>77.990977</td>\n",
       "    </tr>\n",
       "    <tr>\n",
       "      <th>2</th>\n",
       "      <td>2-oxoglutarate metabolic process (GO:0006103)</td>\n",
       "      <td>res.0.1_0</td>\n",
       "      <td>0.000000</td>\n",
       "    </tr>\n",
       "    <tr>\n",
       "      <th>3</th>\n",
       "      <td>3'-phosphoadenosine 5'-phosphosulfate metaboli...</td>\n",
       "      <td>res.0.1_0</td>\n",
       "      <td>0.000000</td>\n",
       "    </tr>\n",
       "    <tr>\n",
       "      <th>4</th>\n",
       "      <td>3'-UTR-mediated mRNA destabilization (GO:0061158)</td>\n",
       "      <td>res.0.1_0</td>\n",
       "      <td>31.320080</td>\n",
       "    </tr>\n",
       "    <tr>\n",
       "      <th>5</th>\n",
       "      <td>3'-UTR-mediated mRNA stabilization (GO:0070935)</td>\n",
       "      <td>res.0.1_0</td>\n",
       "      <td>0.000000</td>\n",
       "    </tr>\n",
       "  </tbody>\n",
       "</table>\n",
       "</div>"
      ],
      "text/plain": [
       "                                            gene.set res_cluster  \\\n",
       "1  'de novo' posttranslational protein folding (G...   res.0.1_0   \n",
       "2      2-oxoglutarate metabolic process (GO:0006103)   res.0.1_0   \n",
       "3  3'-phosphoadenosine 5'-phosphosulfate metaboli...   res.0.1_0   \n",
       "4  3'-UTR-mediated mRNA destabilization (GO:0061158)   res.0.1_0   \n",
       "5    3'-UTR-mediated mRNA stabilization (GO:0070935)   res.0.1_0   \n",
       "\n",
       "   combined.score  \n",
       "1       77.990977  \n",
       "2        0.000000  \n",
       "3        0.000000  \n",
       "4       31.320080  \n",
       "5        0.000000  "
      ]
     },
     "execution_count": 30,
     "metadata": {},
     "output_type": "execute_result"
    }
   ],
   "source": [
    "pbmc_enrichment.head()"
   ]
  },
  {
   "cell_type": "code",
   "execution_count": 31,
   "metadata": {},
   "outputs": [
    {
     "data": {
      "text/html": [
       "<div>\n",
       "<style scoped>\n",
       "    .dataframe tbody tr th:only-of-type {\n",
       "        vertical-align: middle;\n",
       "    }\n",
       "\n",
       "    .dataframe tbody tr th {\n",
       "        vertical-align: top;\n",
       "    }\n",
       "\n",
       "    .dataframe thead th {\n",
       "        text-align: right;\n",
       "    }\n",
       "</style>\n",
       "<table border=\"1\" class=\"dataframe\">\n",
       "  <thead>\n",
       "    <tr style=\"text-align: right;\">\n",
       "      <th></th>\n",
       "      <th>res_cluster</th>\n",
       "      <th>top_genes</th>\n",
       "    </tr>\n",
       "  </thead>\n",
       "  <tbody>\n",
       "    <tr>\n",
       "      <th>1</th>\n",
       "      <td>res.0.1_0</td>\n",
       "      <td>CD3D,IL32,CD3E,RPS12,RPS3</td>\n",
       "    </tr>\n",
       "    <tr>\n",
       "      <th>2</th>\n",
       "      <td>res.0.1_1</td>\n",
       "      <td>LST1,CFD,AIF1,SERPINA1,TYROBP</td>\n",
       "    </tr>\n",
       "    <tr>\n",
       "      <th>3</th>\n",
       "      <td>res.0.1_2</td>\n",
       "      <td>GZMB,FGFBP2,PRF1,GNLY,SPON2</td>\n",
       "    </tr>\n",
       "    <tr>\n",
       "      <th>4</th>\n",
       "      <td>res.0.1_3</td>\n",
       "      <td>CD79A,MS4A1,LINC00926,TCL1A,CD79B</td>\n",
       "    </tr>\n",
       "    <tr>\n",
       "      <th>5</th>\n",
       "      <td>res.0.1_4</td>\n",
       "      <td>FCER1A,SERPINF1,CLEC10A,ENHO,CLIC2</td>\n",
       "    </tr>\n",
       "  </tbody>\n",
       "</table>\n",
       "</div>"
      ],
      "text/plain": [
       "  res_cluster                           top_genes\n",
       "1   res.0.1_0           CD3D,IL32,CD3E,RPS12,RPS3\n",
       "2   res.0.1_1       LST1,CFD,AIF1,SERPINA1,TYROBP\n",
       "3   res.0.1_2         GZMB,FGFBP2,PRF1,GNLY,SPON2\n",
       "4   res.0.1_3   CD79A,MS4A1,LINC00926,TCL1A,CD79B\n",
       "5   res.0.1_4  FCER1A,SERPINF1,CLEC10A,ENHO,CLIC2"
      ]
     },
     "execution_count": 31,
     "metadata": {},
     "output_type": "execute_result"
    }
   ],
   "source": [
    "pbmc_top_genes.head()"
   ]
  },
  {
   "cell_type": "code",
   "execution_count": 32,
   "metadata": {},
   "outputs": [],
   "source": [
    "enrichment_sankey_fig, enrichment_sankey_dict = CellLayers.build_enrichment_sankey(sankey_dict,\n",
    "                                                                              geneset_oi, \n",
    "                                                                              pbmc_enrichment, \n",
    "                                                                              pbmc_top_genes,\n",
    "                                                                           genes)"
   ]
  },
  {
   "cell_type": "code",
   "execution_count": 34,
   "metadata": {},
   "outputs": [
    {
     "data": {
      "application/vnd.plotly.v1+json": {
       "config": {
        "plotlyServerURL": "https://plot.ly"
       },
       "data": [
        {
         "link": {
          "color": [
           "#f6f4f9",
           "#fcfbfd",
           "#c5c6e1",
           "#7566ae",
           "#f7f6fa",
           "#7d78b7",
           "#f7f6fa",
           "#f6f4f9",
           "#fcfbfd",
           "#c5c6e1",
           "#7566ae",
           "#f7f6fa",
           "#705eaa",
           "#f7f6fa",
           "#f3f2f8",
           "#f6f4f9",
           "#fcfbfd",
           "#c5c6e1",
           "#7566ae",
           "#f7f6fa",
           "#705eaa",
           "#f7f6fa",
           "#f3f2f8",
           "#f6f4f9",
           "#fcfbfd",
           "#c5c6e1",
           "#7566ae",
           "#f7f6fa",
           "#705eaa",
           "#f7f6fa",
           "#f3f2f8",
           "#3f007d"
          ],
          "source": [
           4,
           0,
           2,
           3,
           0,
           3,
           1,
           6,
           8,
           11,
           10,
           7,
           5,
           9,
           5,
           19,
           16,
           14,
           18,
           13,
           15,
           17,
           12,
           27,
           24,
           22,
           26,
           21,
           23,
           25,
           20,
           26
          ],
          "target": [
           6,
           8,
           11,
           10,
           7,
           5,
           9,
           19,
           16,
           14,
           18,
           13,
           15,
           17,
           12,
           27,
           24,
           22,
           26,
           21,
           23,
           25,
           20,
           35,
           32,
           30,
           34,
           29,
           31,
           33,
           28,
           31
          ],
          "value": [
           99,
           94,
           101,
           203,
           107,
           110,
           32,
           99,
           94,
           101,
           203,
           107,
           97,
           32,
           13,
           99,
           94,
           101,
           203,
           107,
           97,
           32,
           13,
           99,
           94,
           101,
           202,
           107,
           97,
           32,
           13,
           1
          ]
         },
         "node": {
          "color": [
           "#ffffe5",
           "#ffffe5",
           "#e8f6ae",
           "#fdfedd",
           "#ffffe5",
           "#004529",
           "#ffffe5",
           "#ffffe5",
           "#ffffe5",
           "#ffffe5",
           "#ffffe5",
           "#e8f6ae",
           "#ffffe5",
           "#ffffe5",
           "#e8f6ae",
           "#40aa5c",
           "#ffffe5",
           "#ffffe5",
           "#ffffe5",
           "#ffffe5",
           "#ffffe5",
           "#ffffe5",
           "#e8f6ae",
           "#40aa5c",
           "#ffffe5",
           "#ffffe5",
           "#ffffe5",
           "#ffffe5",
           "#ffffe5",
           "#ffffe5",
           "#e8f6ae",
           "#43ac5e",
           "#ffffe5",
           "#ffffe5",
           "#ffffe5",
           "#ffffe5"
          ],
          "customdata": [
           "<br />antigen processing and presentation of exogenous peptide antigen via MHC class I, TAP-independent (GO:0002480)<br />Gene Set Score: 0.0<br />Top Genes: LST1,CFD,AIF1,SERPINA1,TYROBP",
           "<br />antigen processing and presentation of exogenous peptide antigen via MHC class I, TAP-independent (GO:0002480)<br />Gene Set Score: 0.0<br />Top Genes: FCER1A,SERPINF1,CLEC10A,ENHO,CLIC2",
           "<br />antigen processing and presentation of exogenous peptide antigen via MHC class I, TAP-independent (GO:0002480)<br />Gene Set Score: 1431.81800311495<br />Top Genes: GZMB,FGFBP2,PRF1,GNLY,SPON2",
           "<br />antigen processing and presentation of exogenous peptide antigen via MHC class I, TAP-independent (GO:0002480)<br />Gene Set Score: 194.415595981971<br />Top Genes: CD3D,IL32,CD3E,RPS12,RPS3",
           "<br />antigen processing and presentation of exogenous peptide antigen via MHC class I, TAP-independent (GO:0002480)<br />Gene Set Score: 0.0<br />Top Genes: CD79A,MS4A1,LINC00926,TCL1A,CD79B",
           "<br />antigen processing and presentation of exogenous peptide antigen via MHC class I, TAP-independent (GO:0002480)<br />Gene Set Score: 7604.82710666315<br />Top Genes: CCL5,GZMK,CD8A,KLRG1,CST7",
           "<br />antigen processing and presentation of exogenous peptide antigen via MHC class I, TAP-independent (GO:0002480)<br />Gene Set Score: 0.0<br />Top Genes: CD79A,MS4A1,LINC00926,TCL1A,CD79B",
           "<br />antigen processing and presentation of exogenous peptide antigen via MHC class I, TAP-independent (GO:0002480)<br />Gene Set Score: 0.0<br />Top Genes: RP11-290F20.3,MS4A7,HES4,IFITM3,CDKN1C",
           "<br />antigen processing and presentation of exogenous peptide antigen via MHC class I, TAP-independent (GO:0002480)<br />Gene Set Score: 0.0<br />Top Genes: LGALS2,S100A8,S100A9,CD14,FCN1",
           "<br />antigen processing and presentation of exogenous peptide antigen via MHC class I, TAP-independent (GO:0002480)<br />Gene Set Score: 0.0<br />Top Genes: FCER1A,SERPINF1,CLEC10A,ENHO,CLIC2",
           "<br />antigen processing and presentation of exogenous peptide antigen via MHC class I, TAP-independent (GO:0002480)<br />Gene Set Score: 0.0<br />Top Genes: RPS12,LDHB,CD3D,RPS25,RPL32",
           "<br />antigen processing and presentation of exogenous peptide antigen via MHC class I, TAP-independent (GO:0002480)<br />Gene Set Score: 1431.81800311495<br />Top Genes: GZMB,FGFBP2,PRF1,GNLY,SPON2",
           "<br />antigen processing and presentation of exogenous peptide antigen via MHC class I, TAP-independent (GO:0002480)<br />Gene Set Score: 25.2725984054661<br />Top Genes: GP9,ITGA2B,AP001189.4,TMEM40,SEPT5",
           "<br />antigen processing and presentation of exogenous peptide antigen via MHC class I, TAP-independent (GO:0002480)<br />Gene Set Score: 0.0<br />Top Genes: RP11-290F20.3,MS4A7,HES4,IFITM3,CDKN1C",
           "<br />antigen processing and presentation of exogenous peptide antigen via MHC class I, TAP-independent (GO:0002480)<br />Gene Set Score: 1431.81800311495<br />Top Genes: GZMB,FGFBP2,PRF1,GNLY,SPON2",
           "<br />antigen processing and presentation of exogenous peptide antigen via MHC class I, TAP-independent (GO:0002480)<br />Gene Set Score: 4758.49432032796<br />Top Genes: CCL5,GZMK,CD8A,KLRG1,CST7",
           "<br />antigen processing and presentation of exogenous peptide antigen via MHC class I, TAP-independent (GO:0002480)<br />Gene Set Score: 0.0<br />Top Genes: LGALS2,S100A8,S100A9,CD14,FCN1",
           "<br />antigen processing and presentation of exogenous peptide antigen via MHC class I, TAP-independent (GO:0002480)<br />Gene Set Score: 0.0<br />Top Genes: FCER1A,SERPINF1,CLEC10A,ENHO,CLIC2",
           "<br />antigen processing and presentation of exogenous peptide antigen via MHC class I, TAP-independent (GO:0002480)<br />Gene Set Score: 0.0<br />Top Genes: RPS12,LDHB,CD3D,RPS25,RPL32",
           "<br />antigen processing and presentation of exogenous peptide antigen via MHC class I, TAP-independent (GO:0002480)<br />Gene Set Score: 0.0<br />Top Genes: CD79A,MS4A1,LINC00926,TCL1A,CD79B",
           "<br />antigen processing and presentation of exogenous peptide antigen via MHC class I, TAP-independent (GO:0002480)<br />Gene Set Score: 25.2725984054661<br />Top Genes: GP9,ITGA2B,AP001189.4,TMEM40,SEPT5",
           "<br />antigen processing and presentation of exogenous peptide antigen via MHC class I, TAP-independent (GO:0002480)<br />Gene Set Score: 0.0<br />Top Genes: RP11-290F20.3,MS4A7,HES4,IFITM3,CDKN1C",
           "<br />antigen processing and presentation of exogenous peptide antigen via MHC class I, TAP-independent (GO:0002480)<br />Gene Set Score: 1431.81800311495<br />Top Genes: GZMB,FGFBP2,PRF1,GNLY,SPON2",
           "<br />antigen processing and presentation of exogenous peptide antigen via MHC class I, TAP-independent (GO:0002480)<br />Gene Set Score: 4758.49432032796<br />Top Genes: CCL5,GZMK,CD8A,KLRG1,CST7",
           "<br />antigen processing and presentation of exogenous peptide antigen via MHC class I, TAP-independent (GO:0002480)<br />Gene Set Score: 0.0<br />Top Genes: LGALS2,S100A8,S100A9,CD14,FCN1",
           "<br />antigen processing and presentation of exogenous peptide antigen via MHC class I, TAP-independent (GO:0002480)<br />Gene Set Score: 0.0<br />Top Genes: FCER1A,SERPINF1,CLEC10A,ENHO,CLIC2",
           "<br />antigen processing and presentation of exogenous peptide antigen via MHC class I, TAP-independent (GO:0002480)<br />Gene Set Score: 0.0<br />Top Genes: RPS12,LDHB,CD3D,RPS25,RPL32",
           "<br />antigen processing and presentation of exogenous peptide antigen via MHC class I, TAP-independent (GO:0002480)<br />Gene Set Score: 0.0<br />Top Genes: CD79A,MS4A1,LINC00926,TCL1A,CD79B",
           "<br />antigen processing and presentation of exogenous peptide antigen via MHC class I, TAP-independent (GO:0002480)<br />Gene Set Score: 25.2725984054661<br />Top Genes: GP9,ITGA2B,AP001189.4,TMEM40,SEPT5",
           "<br />antigen processing and presentation of exogenous peptide antigen via MHC class I, TAP-independent (GO:0002480)<br />Gene Set Score: 0.0<br />Top Genes: RP11-290F20.3,MS4A7,HES4,IFITM3,CDKN1C",
           "<br />antigen processing and presentation of exogenous peptide antigen via MHC class I, TAP-independent (GO:0002480)<br />Gene Set Score: 1431.81800311495<br />Top Genes: GZMB,FGFBP2,PRF1,GNLY,SPON2",
           "<br />antigen processing and presentation of exogenous peptide antigen via MHC class I, TAP-independent (GO:0002480)<br />Gene Set Score: 4705.5612142774<br />Top Genes: CCL5,GZMK,CD8A,CD3D,KLRG1",
           "<br />antigen processing and presentation of exogenous peptide antigen via MHC class I, TAP-independent (GO:0002480)<br />Gene Set Score: 0.0<br />Top Genes: LGALS2,S100A8,S100A9,CD14,FCN1",
           "<br />antigen processing and presentation of exogenous peptide antigen via MHC class I, TAP-independent (GO:0002480)<br />Gene Set Score: 0.0<br />Top Genes: FCER1A,SERPINF1,CLEC10A,ENHO,CLIC2",
           "<br />antigen processing and presentation of exogenous peptide antigen via MHC class I, TAP-independent (GO:0002480)<br />Gene Set Score: 0.0<br />Top Genes: RPS12,LDHB,CD3D,RPS25,RPL32",
           "<br />antigen processing and presentation of exogenous peptide antigen via MHC class I, TAP-independent (GO:0002480)<br />Gene Set Score: 0.0<br />Top Genes: CD79A,MS4A1,LINC00926,TCL1A,CD79B"
          ],
          "hovertemplate": "%{customdata}",
          "label": [
           "res.0.1_1",
           "res.0.1_4",
           "res.0.1_2",
           "res.0.1_0",
           "res.0.1_3",
           "res.0.2_1",
           "res.0.2_4",
           "res.0.2_2",
           "res.0.2_5",
           "res.0.2_6",
           "res.0.2_0",
           "res.0.2_3",
           "res.0.3_7",
           "res.0.3_1",
           "res.0.3_2",
           "res.0.3_4",
           "res.0.3_5",
           "res.0.3_6",
           "res.0.3_0",
           "res.0.3_3",
           "res.0.4_7",
           "res.0.4_1",
           "res.0.4_2",
           "res.0.4_4",
           "res.0.4_5",
           "res.0.4_6",
           "res.0.4_0",
           "res.0.4_3",
           "res.0.5_7",
           "res.0.5_1",
           "res.0.5_2",
           "res.0.5_4",
           "res.0.5_5",
           "res.0.5_6",
           "res.0.5_0",
           "res.0.5_3"
          ],
          "pad": 10,
          "thickness": 10
         },
         "orientation": "h",
         "type": "sankey"
        },
        {
         "marker": {
          "cmax": 2.45138897878499,
          "cmin": 0.078627602249135,
          "colorscale": [
           [
            0,
            "#fcfbfd"
           ],
           [
            0.03225806451612903,
            "#fcfbfd"
           ],
           [
            0.06451612903225806,
            "#fcfbfd"
           ],
           [
            0.0967741935483871,
            "#fcfbfd"
           ],
           [
            0.12903225806451613,
            "#f7f6fa"
           ],
           [
            0.16129032258064516,
            "#f7f6fa"
           ],
           [
            0.1935483870967742,
            "#f7f6fa"
           ],
           [
            0.22580645161290322,
            "#f7f6fa"
           ],
           [
            0.25806451612903225,
            "#f7f6fa"
           ],
           [
            0.2903225806451613,
            "#f7f6fa"
           ],
           [
            0.3225806451612903,
            "#f7f6fa"
           ],
           [
            0.3548387096774194,
            "#f7f6fa"
           ],
           [
            0.3870967741935484,
            "#f6f4f9"
           ],
           [
            0.41935483870967744,
            "#f6f4f9"
           ],
           [
            0.45161290322580644,
            "#f6f4f9"
           ],
           [
            0.4838709677419355,
            "#f6f4f9"
           ],
           [
            0.5161290322580645,
            "#f3f2f8"
           ],
           [
            0.5483870967741935,
            "#f3f2f8"
           ],
           [
            0.5806451612903226,
            "#f3f2f8"
           ],
           [
            0.6129032258064516,
            "#c5c6e1"
           ],
           [
            0.6451612903225806,
            "#c5c6e1"
           ],
           [
            0.6774193548387096,
            "#c5c6e1"
           ],
           [
            0.7096774193548387,
            "#c5c6e1"
           ],
           [
            0.7419354838709677,
            "#7d78b7"
           ],
           [
            0.7741935483870968,
            "#7566ae"
           ],
           [
            0.8064516129032258,
            "#7566ae"
           ],
           [
            0.8387096774193549,
            "#7566ae"
           ],
           [
            0.8709677419354839,
            "#7566ae"
           ],
           [
            0.9032258064516129,
            "#705eaa"
           ],
           [
            0.9354838709677419,
            "#705eaa"
           ],
           [
            0.967741935483871,
            "#705eaa"
           ],
           [
            1,
            "#3f007d"
           ]
          ],
          "showscale": true
         },
         "mode": "markers",
         "type": "scatter",
         "visible": true,
         "x": [
          null
         ],
         "y": [
          null
         ]
        },
        {
         "marker": {
          "cmax": 7604.82710666315,
          "cmin": 0,
          "colorbar": {
           "x": 1.1,
           "y": 0.5
          },
          "colorscale": [
           [
            0,
            "#ffffe5"
           ],
           [
            0.02857142857142857,
            "#ffffe5"
           ],
           [
            0.05714285714285714,
            "#ffffe5"
           ],
           [
            0.08571428571428572,
            "#ffffe5"
           ],
           [
            0.11428571428571428,
            "#ffffe5"
           ],
           [
            0.14285714285714285,
            "#ffffe5"
           ],
           [
            0.17142857142857143,
            "#ffffe5"
           ],
           [
            0.2,
            "#ffffe5"
           ],
           [
            0.22857142857142856,
            "#ffffe5"
           ],
           [
            0.2571428571428571,
            "#ffffe5"
           ],
           [
            0.2857142857142857,
            "#ffffe5"
           ],
           [
            0.3142857142857143,
            "#ffffe5"
           ],
           [
            0.34285714285714286,
            "#ffffe5"
           ],
           [
            0.37142857142857144,
            "#ffffe5"
           ],
           [
            0.4,
            "#ffffe5"
           ],
           [
            0.42857142857142855,
            "#ffffe5"
           ],
           [
            0.45714285714285713,
            "#ffffe5"
           ],
           [
            0.4857142857142857,
            "#ffffe5"
           ],
           [
            0.5142857142857142,
            "#ffffe5"
           ],
           [
            0.5428571428571428,
            "#ffffe5"
           ],
           [
            0.5714285714285714,
            "#ffffe5"
           ],
           [
            0.6,
            "#ffffe5"
           ],
           [
            0.6285714285714286,
            "#ffffe5"
           ],
           [
            0.6571428571428571,
            "#ffffe5"
           ],
           [
            0.6857142857142857,
            "#ffffe5"
           ],
           [
            0.7142857142857143,
            "#ffffe5"
           ],
           [
            0.7428571428571429,
            "#fdfedd"
           ],
           [
            0.7714285714285715,
            "#e8f6ae"
           ],
           [
            0.8,
            "#e8f6ae"
           ],
           [
            0.8285714285714286,
            "#e8f6ae"
           ],
           [
            0.8571428571428571,
            "#e8f6ae"
           ],
           [
            0.8857142857142857,
            "#e8f6ae"
           ],
           [
            0.9142857142857143,
            "#43ac5e"
           ],
           [
            0.9428571428571428,
            "#40aa5c"
           ],
           [
            0.9714285714285714,
            "#40aa5c"
           ],
           [
            1,
            "#004529"
           ]
          ],
          "showscale": true
         },
         "mode": "markers",
         "type": "scatter",
         "visible": true,
         "x": [
          null
         ],
         "y": [
          null
         ]
        }
       ],
       "layout": {
        "autosize": true,
        "paper_bgcolor": "rgba(0, 0, 0, 0)",
        "plot_bgcolor": "rgba(0, 0, 0, 0)",
        "showlegend": false,
        "template": {
         "data": {
          "bar": [
           {
            "error_x": {
             "color": "#2a3f5f"
            },
            "error_y": {
             "color": "#2a3f5f"
            },
            "marker": {
             "line": {
              "color": "#E5ECF6",
              "width": 0.5
             },
             "pattern": {
              "fillmode": "overlay",
              "size": 10,
              "solidity": 0.2
             }
            },
            "type": "bar"
           }
          ],
          "barpolar": [
           {
            "marker": {
             "line": {
              "color": "#E5ECF6",
              "width": 0.5
             },
             "pattern": {
              "fillmode": "overlay",
              "size": 10,
              "solidity": 0.2
             }
            },
            "type": "barpolar"
           }
          ],
          "carpet": [
           {
            "aaxis": {
             "endlinecolor": "#2a3f5f",
             "gridcolor": "white",
             "linecolor": "white",
             "minorgridcolor": "white",
             "startlinecolor": "#2a3f5f"
            },
            "baxis": {
             "endlinecolor": "#2a3f5f",
             "gridcolor": "white",
             "linecolor": "white",
             "minorgridcolor": "white",
             "startlinecolor": "#2a3f5f"
            },
            "type": "carpet"
           }
          ],
          "choropleth": [
           {
            "colorbar": {
             "outlinewidth": 0,
             "ticks": ""
            },
            "type": "choropleth"
           }
          ],
          "contour": [
           {
            "colorbar": {
             "outlinewidth": 0,
             "ticks": ""
            },
            "colorscale": [
             [
              0,
              "#0d0887"
             ],
             [
              0.1111111111111111,
              "#46039f"
             ],
             [
              0.2222222222222222,
              "#7201a8"
             ],
             [
              0.3333333333333333,
              "#9c179e"
             ],
             [
              0.4444444444444444,
              "#bd3786"
             ],
             [
              0.5555555555555556,
              "#d8576b"
             ],
             [
              0.6666666666666666,
              "#ed7953"
             ],
             [
              0.7777777777777778,
              "#fb9f3a"
             ],
             [
              0.8888888888888888,
              "#fdca26"
             ],
             [
              1,
              "#f0f921"
             ]
            ],
            "type": "contour"
           }
          ],
          "contourcarpet": [
           {
            "colorbar": {
             "outlinewidth": 0,
             "ticks": ""
            },
            "type": "contourcarpet"
           }
          ],
          "heatmap": [
           {
            "colorbar": {
             "outlinewidth": 0,
             "ticks": ""
            },
            "colorscale": [
             [
              0,
              "#0d0887"
             ],
             [
              0.1111111111111111,
              "#46039f"
             ],
             [
              0.2222222222222222,
              "#7201a8"
             ],
             [
              0.3333333333333333,
              "#9c179e"
             ],
             [
              0.4444444444444444,
              "#bd3786"
             ],
             [
              0.5555555555555556,
              "#d8576b"
             ],
             [
              0.6666666666666666,
              "#ed7953"
             ],
             [
              0.7777777777777778,
              "#fb9f3a"
             ],
             [
              0.8888888888888888,
              "#fdca26"
             ],
             [
              1,
              "#f0f921"
             ]
            ],
            "type": "heatmap"
           }
          ],
          "heatmapgl": [
           {
            "colorbar": {
             "outlinewidth": 0,
             "ticks": ""
            },
            "colorscale": [
             [
              0,
              "#0d0887"
             ],
             [
              0.1111111111111111,
              "#46039f"
             ],
             [
              0.2222222222222222,
              "#7201a8"
             ],
             [
              0.3333333333333333,
              "#9c179e"
             ],
             [
              0.4444444444444444,
              "#bd3786"
             ],
             [
              0.5555555555555556,
              "#d8576b"
             ],
             [
              0.6666666666666666,
              "#ed7953"
             ],
             [
              0.7777777777777778,
              "#fb9f3a"
             ],
             [
              0.8888888888888888,
              "#fdca26"
             ],
             [
              1,
              "#f0f921"
             ]
            ],
            "type": "heatmapgl"
           }
          ],
          "histogram": [
           {
            "marker": {
             "pattern": {
              "fillmode": "overlay",
              "size": 10,
              "solidity": 0.2
             }
            },
            "type": "histogram"
           }
          ],
          "histogram2d": [
           {
            "colorbar": {
             "outlinewidth": 0,
             "ticks": ""
            },
            "colorscale": [
             [
              0,
              "#0d0887"
             ],
             [
              0.1111111111111111,
              "#46039f"
             ],
             [
              0.2222222222222222,
              "#7201a8"
             ],
             [
              0.3333333333333333,
              "#9c179e"
             ],
             [
              0.4444444444444444,
              "#bd3786"
             ],
             [
              0.5555555555555556,
              "#d8576b"
             ],
             [
              0.6666666666666666,
              "#ed7953"
             ],
             [
              0.7777777777777778,
              "#fb9f3a"
             ],
             [
              0.8888888888888888,
              "#fdca26"
             ],
             [
              1,
              "#f0f921"
             ]
            ],
            "type": "histogram2d"
           }
          ],
          "histogram2dcontour": [
           {
            "colorbar": {
             "outlinewidth": 0,
             "ticks": ""
            },
            "colorscale": [
             [
              0,
              "#0d0887"
             ],
             [
              0.1111111111111111,
              "#46039f"
             ],
             [
              0.2222222222222222,
              "#7201a8"
             ],
             [
              0.3333333333333333,
              "#9c179e"
             ],
             [
              0.4444444444444444,
              "#bd3786"
             ],
             [
              0.5555555555555556,
              "#d8576b"
             ],
             [
              0.6666666666666666,
              "#ed7953"
             ],
             [
              0.7777777777777778,
              "#fb9f3a"
             ],
             [
              0.8888888888888888,
              "#fdca26"
             ],
             [
              1,
              "#f0f921"
             ]
            ],
            "type": "histogram2dcontour"
           }
          ],
          "mesh3d": [
           {
            "colorbar": {
             "outlinewidth": 0,
             "ticks": ""
            },
            "type": "mesh3d"
           }
          ],
          "parcoords": [
           {
            "line": {
             "colorbar": {
              "outlinewidth": 0,
              "ticks": ""
             }
            },
            "type": "parcoords"
           }
          ],
          "pie": [
           {
            "automargin": true,
            "type": "pie"
           }
          ],
          "scatter": [
           {
            "marker": {
             "colorbar": {
              "outlinewidth": 0,
              "ticks": ""
             }
            },
            "type": "scatter"
           }
          ],
          "scatter3d": [
           {
            "line": {
             "colorbar": {
              "outlinewidth": 0,
              "ticks": ""
             }
            },
            "marker": {
             "colorbar": {
              "outlinewidth": 0,
              "ticks": ""
             }
            },
            "type": "scatter3d"
           }
          ],
          "scattercarpet": [
           {
            "marker": {
             "colorbar": {
              "outlinewidth": 0,
              "ticks": ""
             }
            },
            "type": "scattercarpet"
           }
          ],
          "scattergeo": [
           {
            "marker": {
             "colorbar": {
              "outlinewidth": 0,
              "ticks": ""
             }
            },
            "type": "scattergeo"
           }
          ],
          "scattergl": [
           {
            "marker": {
             "colorbar": {
              "outlinewidth": 0,
              "ticks": ""
             }
            },
            "type": "scattergl"
           }
          ],
          "scattermapbox": [
           {
            "marker": {
             "colorbar": {
              "outlinewidth": 0,
              "ticks": ""
             }
            },
            "type": "scattermapbox"
           }
          ],
          "scatterpolar": [
           {
            "marker": {
             "colorbar": {
              "outlinewidth": 0,
              "ticks": ""
             }
            },
            "type": "scatterpolar"
           }
          ],
          "scatterpolargl": [
           {
            "marker": {
             "colorbar": {
              "outlinewidth": 0,
              "ticks": ""
             }
            },
            "type": "scatterpolargl"
           }
          ],
          "scatterternary": [
           {
            "marker": {
             "colorbar": {
              "outlinewidth": 0,
              "ticks": ""
             }
            },
            "type": "scatterternary"
           }
          ],
          "surface": [
           {
            "colorbar": {
             "outlinewidth": 0,
             "ticks": ""
            },
            "colorscale": [
             [
              0,
              "#0d0887"
             ],
             [
              0.1111111111111111,
              "#46039f"
             ],
             [
              0.2222222222222222,
              "#7201a8"
             ],
             [
              0.3333333333333333,
              "#9c179e"
             ],
             [
              0.4444444444444444,
              "#bd3786"
             ],
             [
              0.5555555555555556,
              "#d8576b"
             ],
             [
              0.6666666666666666,
              "#ed7953"
             ],
             [
              0.7777777777777778,
              "#fb9f3a"
             ],
             [
              0.8888888888888888,
              "#fdca26"
             ],
             [
              1,
              "#f0f921"
             ]
            ],
            "type": "surface"
           }
          ],
          "table": [
           {
            "cells": {
             "fill": {
              "color": "#EBF0F8"
             },
             "line": {
              "color": "white"
             }
            },
            "header": {
             "fill": {
              "color": "#C8D4E3"
             },
             "line": {
              "color": "white"
             }
            },
            "type": "table"
           }
          ]
         },
         "layout": {
          "annotationdefaults": {
           "arrowcolor": "#2a3f5f",
           "arrowhead": 0,
           "arrowwidth": 1
          },
          "autotypenumbers": "strict",
          "coloraxis": {
           "colorbar": {
            "outlinewidth": 0,
            "ticks": ""
           }
          },
          "colorscale": {
           "diverging": [
            [
             0,
             "#8e0152"
            ],
            [
             0.1,
             "#c51b7d"
            ],
            [
             0.2,
             "#de77ae"
            ],
            [
             0.3,
             "#f1b6da"
            ],
            [
             0.4,
             "#fde0ef"
            ],
            [
             0.5,
             "#f7f7f7"
            ],
            [
             0.6,
             "#e6f5d0"
            ],
            [
             0.7,
             "#b8e186"
            ],
            [
             0.8,
             "#7fbc41"
            ],
            [
             0.9,
             "#4d9221"
            ],
            [
             1,
             "#276419"
            ]
           ],
           "sequential": [
            [
             0,
             "#0d0887"
            ],
            [
             0.1111111111111111,
             "#46039f"
            ],
            [
             0.2222222222222222,
             "#7201a8"
            ],
            [
             0.3333333333333333,
             "#9c179e"
            ],
            [
             0.4444444444444444,
             "#bd3786"
            ],
            [
             0.5555555555555556,
             "#d8576b"
            ],
            [
             0.6666666666666666,
             "#ed7953"
            ],
            [
             0.7777777777777778,
             "#fb9f3a"
            ],
            [
             0.8888888888888888,
             "#fdca26"
            ],
            [
             1,
             "#f0f921"
            ]
           ],
           "sequentialminus": [
            [
             0,
             "#0d0887"
            ],
            [
             0.1111111111111111,
             "#46039f"
            ],
            [
             0.2222222222222222,
             "#7201a8"
            ],
            [
             0.3333333333333333,
             "#9c179e"
            ],
            [
             0.4444444444444444,
             "#bd3786"
            ],
            [
             0.5555555555555556,
             "#d8576b"
            ],
            [
             0.6666666666666666,
             "#ed7953"
            ],
            [
             0.7777777777777778,
             "#fb9f3a"
            ],
            [
             0.8888888888888888,
             "#fdca26"
            ],
            [
             1,
             "#f0f921"
            ]
           ]
          },
          "colorway": [
           "#636efa",
           "#EF553B",
           "#00cc96",
           "#ab63fa",
           "#FFA15A",
           "#19d3f3",
           "#FF6692",
           "#B6E880",
           "#FF97FF",
           "#FECB52"
          ],
          "font": {
           "color": "#2a3f5f"
          },
          "geo": {
           "bgcolor": "white",
           "lakecolor": "white",
           "landcolor": "#E5ECF6",
           "showlakes": true,
           "showland": true,
           "subunitcolor": "white"
          },
          "hoverlabel": {
           "align": "left"
          },
          "hovermode": "closest",
          "mapbox": {
           "style": "light"
          },
          "paper_bgcolor": "white",
          "plot_bgcolor": "#E5ECF6",
          "polar": {
           "angularaxis": {
            "gridcolor": "white",
            "linecolor": "white",
            "ticks": ""
           },
           "bgcolor": "#E5ECF6",
           "radialaxis": {
            "gridcolor": "white",
            "linecolor": "white",
            "ticks": ""
           }
          },
          "scene": {
           "xaxis": {
            "backgroundcolor": "#E5ECF6",
            "gridcolor": "white",
            "gridwidth": 2,
            "linecolor": "white",
            "showbackground": true,
            "ticks": "",
            "zerolinecolor": "white"
           },
           "yaxis": {
            "backgroundcolor": "#E5ECF6",
            "gridcolor": "white",
            "gridwidth": 2,
            "linecolor": "white",
            "showbackground": true,
            "ticks": "",
            "zerolinecolor": "white"
           },
           "zaxis": {
            "backgroundcolor": "#E5ECF6",
            "gridcolor": "white",
            "gridwidth": 2,
            "linecolor": "white",
            "showbackground": true,
            "ticks": "",
            "zerolinecolor": "white"
           }
          },
          "shapedefaults": {
           "line": {
            "color": "#2a3f5f"
           }
          },
          "ternary": {
           "aaxis": {
            "gridcolor": "white",
            "linecolor": "white",
            "ticks": ""
           },
           "baxis": {
            "gridcolor": "white",
            "linecolor": "white",
            "ticks": ""
           },
           "bgcolor": "#E5ECF6",
           "caxis": {
            "gridcolor": "white",
            "linecolor": "white",
            "ticks": ""
           }
          },
          "title": {
           "x": 0.05
          },
          "xaxis": {
           "automargin": true,
           "gridcolor": "white",
           "linecolor": "white",
           "ticks": "",
           "title": {
            "standoff": 15
           },
           "zerolinecolor": "white",
           "zerolinewidth": 2
          },
          "yaxis": {
           "automargin": true,
           "gridcolor": "white",
           "linecolor": "white",
           "ticks": "",
           "title": {
            "standoff": 15
           },
           "zerolinecolor": "white",
           "zerolinewidth": 2
          }
         }
        },
        "updatemenus": [
         {
          "buttons": [
           {
            "args": [
             "arrangement",
             "snap"
            ],
            "label": "Snap",
            "method": "restyle"
           },
           {
            "args": [
             "arrangement",
             "perpendicular"
            ],
            "label": "Perpendicular",
            "method": "restyle"
           },
           {
            "args": [
             "arrangement",
             "freeform"
            ],
            "label": "Freeform",
            "method": "restyle"
           },
           {
            "args": [
             "arrangement",
             "fixed"
            ],
            "label": "Fixed",
            "method": "restyle"
           }
          ],
          "x": -0.05,
          "y": -0.2
         },
         {
          "buttons": [
           {
            "args": [
             "node.pad",
             15
            ],
            "label": "Small gap",
            "method": "restyle"
           },
           {
            "args": [
             "node.pad",
             20
            ],
            "label": "Large gap",
            "method": "restyle"
           }
          ],
          "x": -0.05,
          "y": 0
         },
         {
          "buttons": [
           {
            "args": [
             "orientation",
             "h"
            ],
            "label": "Horizontal",
            "method": "restyle"
           },
           {
            "args": [
             "orientation",
             "v"
            ],
            "label": "Vertical",
            "method": "restyle"
           }
          ],
          "x": -0.05,
          "y": 0.2
         },
         {
          "buttons": [
           {
            "args": [
             "paper_bgcolor",
             "white"
            ],
            "label": "Light",
            "method": "relayout"
           },
           {
            "args": [
             "paper_bgcolor",
             "black"
            ],
            "label": "Dark",
            "method": "relayout"
           }
          ],
          "x": -0.05,
          "y": 0.4
         }
        ],
        "xaxis": {
         "autorange": true,
         "range": [
          -1,
          6
         ],
         "showgrid": false,
         "showticklabels": false,
         "zeroline": false
        },
        "yaxis": {
         "autorange": true,
         "range": [
          -1,
          4
         ],
         "showgrid": false,
         "showticklabels": false,
         "zeroline": false
        }
       }
      },
      "image/png": "[encoded data removed]",
      "text/html": [
       "<div>                            <div id=\"1eacd5b6-df0b-4742-b246-9285db13d3ec\" class=\"plotly-graph-div\" style=\"height:525px; width:100%;\"></div>            <script type=\"text/javascript\">                require([\"plotly\"], function(Plotly) {                    window.PLOTLYENV=window.PLOTLYENV || {};                                    if (document.getElementById(\"1eacd5b6-df0b-4742-b246-9285db13d3ec\")) {                    Plotly.newPlot(                        \"1eacd5b6-df0b-4742-b246-9285db13d3ec\",                        [{\"link\":{\"color\":[\"#f6f4f9\",\"#fcfbfd\",\"#c5c6e1\",\"#7566ae\",\"#f7f6fa\",\"#7d78b7\",\"#f7f6fa\",\"#f6f4f9\",\"#fcfbfd\",\"#c5c6e1\",\"#7566ae\",\"#f7f6fa\",\"#705eaa\",\"#f7f6fa\",\"#f3f2f8\",\"#f6f4f9\",\"#fcfbfd\",\"#c5c6e1\",\"#7566ae\",\"#f7f6fa\",\"#705eaa\",\"#f7f6fa\",\"#f3f2f8\",\"#f6f4f9\",\"#fcfbfd\",\"#c5c6e1\",\"#7566ae\",\"#f7f6fa\",\"#705eaa\",\"#f7f6fa\",\"#f3f2f8\",\"#3f007d\"],\"source\":[4,0,2,3,0,3,1,6,8,11,10,7,5,9,5,19,16,14,18,13,15,17,12,27,24,22,26,21,23,25,20,26],\"target\":[6,8,11,10,7,5,9,19,16,14,18,13,15,17,12,27,24,22,26,21,23,25,20,35,32,30,34,29,31,33,28,31],\"value\":[99,94,101,203,107,110,32,99,94,101,203,107,97,32,13,99,94,101,203,107,97,32,13,99,94,101,202,107,97,32,13,1]},\"node\":{\"color\":[\"#ffffe5\",\"#ffffe5\",\"#e8f6ae\",\"#fdfedd\",\"#ffffe5\",\"#004529\",\"#ffffe5\",\"#ffffe5\",\"#ffffe5\",\"#ffffe5\",\"#ffffe5\",\"#e8f6ae\",\"#ffffe5\",\"#ffffe5\",\"#e8f6ae\",\"#40aa5c\",\"#ffffe5\",\"#ffffe5\",\"#ffffe5\",\"#ffffe5\",\"#ffffe5\",\"#ffffe5\",\"#e8f6ae\",\"#40aa5c\",\"#ffffe5\",\"#ffffe5\",\"#ffffe5\",\"#ffffe5\",\"#ffffe5\",\"#ffffe5\",\"#e8f6ae\",\"#43ac5e\",\"#ffffe5\",\"#ffffe5\",\"#ffffe5\",\"#ffffe5\"],\"customdata\":[\"<br />antigen processing and presentation of exogenous peptide antigen via MHC class I, TAP-independent (GO:0002480)<br />Gene Set Score: 0.0<br />Top Genes: LST1,CFD,AIF1,SERPINA1,TYROBP\",\"<br />antigen processing and presentation of exogenous peptide antigen via MHC class I, TAP-independent (GO:0002480)<br />Gene Set Score: 0.0<br />Top Genes: FCER1A,SERPINF1,CLEC10A,ENHO,CLIC2\",\"<br />antigen processing and presentation of exogenous peptide antigen via MHC class I, TAP-independent (GO:0002480)<br />Gene Set Score: 1431.81800311495<br />Top Genes: GZMB,FGFBP2,PRF1,GNLY,SPON2\",\"<br />antigen processing and presentation of exogenous peptide antigen via MHC class I, TAP-independent (GO:0002480)<br />Gene Set Score: 194.415595981971<br />Top Genes: CD3D,IL32,CD3E,RPS12,RPS3\",\"<br />antigen processing and presentation of exogenous peptide antigen via MHC class I, TAP-independent (GO:0002480)<br />Gene Set Score: 0.0<br />Top Genes: CD79A,MS4A1,LINC00926,TCL1A,CD79B\",\"<br />antigen processing and presentation of exogenous peptide antigen via MHC class I, TAP-independent (GO:0002480)<br />Gene Set Score: 7604.82710666315<br />Top Genes: CCL5,GZMK,CD8A,KLRG1,CST7\",\"<br />antigen processing and presentation of exogenous peptide antigen via MHC class I, TAP-independent (GO:0002480)<br />Gene Set Score: 0.0<br />Top Genes: CD79A,MS4A1,LINC00926,TCL1A,CD79B\",\"<br />antigen processing and presentation of exogenous peptide antigen via MHC class I, TAP-independent (GO:0002480)<br />Gene Set Score: 0.0<br />Top Genes: RP11-290F20.3,MS4A7,HES4,IFITM3,CDKN1C\",\"<br />antigen processing and presentation of exogenous peptide antigen via MHC class I, TAP-independent (GO:0002480)<br />Gene Set Score: 0.0<br />Top Genes: LGALS2,S100A8,S100A9,CD14,FCN1\",\"<br />antigen processing and presentation of exogenous peptide antigen via MHC class I, TAP-independent (GO:0002480)<br />Gene Set Score: 0.0<br />Top Genes: FCER1A,SERPINF1,CLEC10A,ENHO,CLIC2\",\"<br />antigen processing and presentation of exogenous peptide antigen via MHC class I, TAP-independent (GO:0002480)<br />Gene Set Score: 0.0<br />Top Genes: RPS12,LDHB,CD3D,RPS25,RPL32\",\"<br />antigen processing and presentation of exogenous peptide antigen via MHC class I, TAP-independent (GO:0002480)<br />Gene Set Score: 1431.81800311495<br />Top Genes: GZMB,FGFBP2,PRF1,GNLY,SPON2\",\"<br />antigen processing and presentation of exogenous peptide antigen via MHC class I, TAP-independent (GO:0002480)<br />Gene Set Score: 25.2725984054661<br />Top Genes: GP9,ITGA2B,AP001189.4,TMEM40,SEPT5\",\"<br />antigen processing and presentation of exogenous peptide antigen via MHC class I, TAP-independent (GO:0002480)<br />Gene Set Score: 0.0<br />Top Genes: RP11-290F20.3,MS4A7,HES4,IFITM3,CDKN1C\",\"<br />antigen processing and presentation of exogenous peptide antigen via MHC class I, TAP-independent (GO:0002480)<br />Gene Set Score: 1431.81800311495<br />Top Genes: GZMB,FGFBP2,PRF1,GNLY,SPON2\",\"<br />antigen processing and presentation of exogenous peptide antigen via MHC class I, TAP-independent (GO:0002480)<br />Gene Set Score: 4758.49432032796<br />Top Genes: CCL5,GZMK,CD8A,KLRG1,CST7\",\"<br />antigen processing and presentation of exogenous peptide antigen via MHC class I, TAP-independent (GO:0002480)<br />Gene Set Score: 0.0<br />Top Genes: LGALS2,S100A8,S100A9,CD14,FCN1\",\"<br />antigen processing and presentation of exogenous peptide antigen via MHC class I, TAP-independent (GO:0002480)<br />Gene Set Score: 0.0<br />Top Genes: FCER1A,SERPINF1,CLEC10A,ENHO,CLIC2\",\"<br />antigen processing and presentation of exogenous peptide antigen via MHC class I, TAP-independent (GO:0002480)<br />Gene Set Score: 0.0<br />Top Genes: RPS12,LDHB,CD3D,RPS25,RPL32\",\"<br />antigen processing and presentation of exogenous peptide antigen via MHC class I, TAP-independent (GO:0002480)<br />Gene Set Score: 0.0<br />Top Genes: CD79A,MS4A1,LINC00926,TCL1A,CD79B\",\"<br />antigen processing and presentation of exogenous peptide antigen via MHC class I, TAP-independent (GO:0002480)<br />Gene Set Score: 25.2725984054661<br />Top Genes: GP9,ITGA2B,AP001189.4,TMEM40,SEPT5\",\"<br />antigen processing and presentation of exogenous peptide antigen via MHC class I, TAP-independent (GO:0002480)<br />Gene Set Score: 0.0<br />Top Genes: RP11-290F20.3,MS4A7,HES4,IFITM3,CDKN1C\",\"<br />antigen processing and presentation of exogenous peptide antigen via MHC class I, TAP-independent (GO:0002480)<br />Gene Set Score: 1431.81800311495<br />Top Genes: GZMB,FGFBP2,PRF1,GNLY,SPON2\",\"<br />antigen processing and presentation of exogenous peptide antigen via MHC class I, TAP-independent (GO:0002480)<br />Gene Set Score: 4758.49432032796<br />Top Genes: CCL5,GZMK,CD8A,KLRG1,CST7\",\"<br />antigen processing and presentation of exogenous peptide antigen via MHC class I, TAP-independent (GO:0002480)<br />Gene Set Score: 0.0<br />Top Genes: LGALS2,S100A8,S100A9,CD14,FCN1\",\"<br />antigen processing and presentation of exogenous peptide antigen via MHC class I, TAP-independent (GO:0002480)<br />Gene Set Score: 0.0<br />Top Genes: FCER1A,SERPINF1,CLEC10A,ENHO,CLIC2\",\"<br />antigen processing and presentation of exogenous peptide antigen via MHC class I, TAP-independent (GO:0002480)<br />Gene Set Score: 0.0<br />Top Genes: RPS12,LDHB,CD3D,RPS25,RPL32\",\"<br />antigen processing and presentation of exogenous peptide antigen via MHC class I, TAP-independent (GO:0002480)<br />Gene Set Score: 0.0<br />Top Genes: CD79A,MS4A1,LINC00926,TCL1A,CD79B\",\"<br />antigen processing and presentation of exogenous peptide antigen via MHC class I, TAP-independent (GO:0002480)<br />Gene Set Score: 25.2725984054661<br />Top Genes: GP9,ITGA2B,AP001189.4,TMEM40,SEPT5\",\"<br />antigen processing and presentation of exogenous peptide antigen via MHC class I, TAP-independent (GO:0002480)<br />Gene Set Score: 0.0<br />Top Genes: RP11-290F20.3,MS4A7,HES4,IFITM3,CDKN1C\",\"<br />antigen processing and presentation of exogenous peptide antigen via MHC class I, TAP-independent (GO:0002480)<br />Gene Set Score: 1431.81800311495<br />Top Genes: GZMB,FGFBP2,PRF1,GNLY,SPON2\",\"<br />antigen processing and presentation of exogenous peptide antigen via MHC class I, TAP-independent (GO:0002480)<br />Gene Set Score: 4705.5612142774<br />Top Genes: CCL5,GZMK,CD8A,CD3D,KLRG1\",\"<br />antigen processing and presentation of exogenous peptide antigen via MHC class I, TAP-independent (GO:0002480)<br />Gene Set Score: 0.0<br />Top Genes: LGALS2,S100A8,S100A9,CD14,FCN1\",\"<br />antigen processing and presentation of exogenous peptide antigen via MHC class I, TAP-independent (GO:0002480)<br />Gene Set Score: 0.0<br />Top Genes: FCER1A,SERPINF1,CLEC10A,ENHO,CLIC2\",\"<br />antigen processing and presentation of exogenous peptide antigen via MHC class I, TAP-independent (GO:0002480)<br />Gene Set Score: 0.0<br />Top Genes: RPS12,LDHB,CD3D,RPS25,RPL32\",\"<br />antigen processing and presentation of exogenous peptide antigen via MHC class I, TAP-independent (GO:0002480)<br />Gene Set Score: 0.0<br />Top Genes: CD79A,MS4A1,LINC00926,TCL1A,CD79B\"],\"hovertemplate\":\"%{customdata}\",\"label\":[\"res.0.1_1\",\"res.0.1_4\",\"res.0.1_2\",\"res.0.1_0\",\"res.0.1_3\",\"res.0.2_1\",\"res.0.2_4\",\"res.0.2_2\",\"res.0.2_5\",\"res.0.2_6\",\"res.0.2_0\",\"res.0.2_3\",\"res.0.3_7\",\"res.0.3_1\",\"res.0.3_2\",\"res.0.3_4\",\"res.0.3_5\",\"res.0.3_6\",\"res.0.3_0\",\"res.0.3_3\",\"res.0.4_7\",\"res.0.4_1\",\"res.0.4_2\",\"res.0.4_4\",\"res.0.4_5\",\"res.0.4_6\",\"res.0.4_0\",\"res.0.4_3\",\"res.0.5_7\",\"res.0.5_1\",\"res.0.5_2\",\"res.0.5_4\",\"res.0.5_5\",\"res.0.5_6\",\"res.0.5_0\",\"res.0.5_3\"],\"pad\":10,\"thickness\":10},\"orientation\":\"h\",\"type\":\"sankey\"},{\"marker\":{\"cmax\":2.45138897878499,\"cmin\":0.078627602249135,\"colorscale\":[[0.0,\"#fcfbfd\"],[0.03225806451612903,\"#fcfbfd\"],[0.06451612903225806,\"#fcfbfd\"],[0.0967741935483871,\"#fcfbfd\"],[0.12903225806451613,\"#f7f6fa\"],[0.16129032258064516,\"#f7f6fa\"],[0.1935483870967742,\"#f7f6fa\"],[0.22580645161290322,\"#f7f6fa\"],[0.25806451612903225,\"#f7f6fa\"],[0.2903225806451613,\"#f7f6fa\"],[0.3225806451612903,\"#f7f6fa\"],[0.3548387096774194,\"#f7f6fa\"],[0.3870967741935484,\"#f6f4f9\"],[0.41935483870967744,\"#f6f4f9\"],[0.45161290322580644,\"#f6f4f9\"],[0.4838709677419355,\"#f6f4f9\"],[0.5161290322580645,\"#f3f2f8\"],[0.5483870967741935,\"#f3f2f8\"],[0.5806451612903226,\"#f3f2f8\"],[0.6129032258064516,\"#c5c6e1\"],[0.6451612903225806,\"#c5c6e1\"],[0.6774193548387096,\"#c5c6e1\"],[0.7096774193548387,\"#c5c6e1\"],[0.7419354838709677,\"#7d78b7\"],[0.7741935483870968,\"#7566ae\"],[0.8064516129032258,\"#7566ae\"],[0.8387096774193549,\"#7566ae\"],[0.8709677419354839,\"#7566ae\"],[0.9032258064516129,\"#705eaa\"],[0.9354838709677419,\"#705eaa\"],[0.967741935483871,\"#705eaa\"],[1.0,\"#3f007d\"]],\"showscale\":true},\"mode\":\"markers\",\"visible\":true,\"x\":[null],\"y\":[null],\"type\":\"scatter\"},{\"marker\":{\"cmax\":7604.82710666315,\"cmin\":0.0,\"colorbar\":{\"x\":1.1},\"colorscale\":[[0.0,\"#ffffe5\"],[0.02857142857142857,\"#ffffe5\"],[0.05714285714285714,\"#ffffe5\"],[0.08571428571428572,\"#ffffe5\"],[0.11428571428571428,\"#ffffe5\"],[0.14285714285714285,\"#ffffe5\"],[0.17142857142857143,\"#ffffe5\"],[0.2,\"#ffffe5\"],[0.22857142857142856,\"#ffffe5\"],[0.2571428571428571,\"#ffffe5\"],[0.2857142857142857,\"#ffffe5\"],[0.3142857142857143,\"#ffffe5\"],[0.34285714285714286,\"#ffffe5\"],[0.37142857142857144,\"#ffffe5\"],[0.4,\"#ffffe5\"],[0.42857142857142855,\"#ffffe5\"],[0.45714285714285713,\"#ffffe5\"],[0.4857142857142857,\"#ffffe5\"],[0.5142857142857142,\"#ffffe5\"],[0.5428571428571428,\"#ffffe5\"],[0.5714285714285714,\"#ffffe5\"],[0.6,\"#ffffe5\"],[0.6285714285714286,\"#ffffe5\"],[0.6571428571428571,\"#ffffe5\"],[0.6857142857142857,\"#ffffe5\"],[0.7142857142857143,\"#ffffe5\"],[0.7428571428571429,\"#fdfedd\"],[0.7714285714285715,\"#e8f6ae\"],[0.8,\"#e8f6ae\"],[0.8285714285714286,\"#e8f6ae\"],[0.8571428571428571,\"#e8f6ae\"],[0.8857142857142857,\"#e8f6ae\"],[0.9142857142857143,\"#43ac5e\"],[0.9428571428571428,\"#40aa5c\"],[0.9714285714285714,\"#40aa5c\"],[1.0,\"#004529\"]],\"showscale\":true},\"mode\":\"markers\",\"visible\":true,\"x\":[null],\"y\":[null],\"type\":\"scatter\"}],                        {\"template\":{\"data\":{\"bar\":[{\"error_x\":{\"color\":\"#2a3f5f\"},\"error_y\":{\"color\":\"#2a3f5f\"},\"marker\":{\"line\":{\"color\":\"#E5ECF6\",\"width\":0.5},\"pattern\":{\"fillmode\":\"overlay\",\"size\":10,\"solidity\":0.2}},\"type\":\"bar\"}],\"barpolar\":[{\"marker\":{\"line\":{\"color\":\"#E5ECF6\",\"width\":0.5},\"pattern\":{\"fillmode\":\"overlay\",\"size\":10,\"solidity\":0.2}},\"type\":\"barpolar\"}],\"carpet\":[{\"aaxis\":{\"endlinecolor\":\"#2a3f5f\",\"gridcolor\":\"white\",\"linecolor\":\"white\",\"minorgridcolor\":\"white\",\"startlinecolor\":\"#2a3f5f\"},\"baxis\":{\"endlinecolor\":\"#2a3f5f\",\"gridcolor\":\"white\",\"linecolor\":\"white\",\"minorgridcolor\":\"white\",\"startlinecolor\":\"#2a3f5f\"},\"type\":\"carpet\"}],\"choropleth\":[{\"colorbar\":{\"outlinewidth\":0,\"ticks\":\"\"},\"type\":\"choropleth\"}],\"contour\":[{\"colorbar\":{\"outlinewidth\":0,\"ticks\":\"\"},\"colorscale\":[[0.0,\"#0d0887\"],[0.1111111111111111,\"#46039f\"],[0.2222222222222222,\"#7201a8\"],[0.3333333333333333,\"#9c179e\"],[0.4444444444444444,\"#bd3786\"],[0.5555555555555556,\"#d8576b\"],[0.6666666666666666,\"#ed7953\"],[0.7777777777777778,\"#fb9f3a\"],[0.8888888888888888,\"#fdca26\"],[1.0,\"#f0f921\"]],\"type\":\"contour\"}],\"contourcarpet\":[{\"colorbar\":{\"outlinewidth\":0,\"ticks\":\"\"},\"type\":\"contourcarpet\"}],\"heatmap\":[{\"colorbar\":{\"outlinewidth\":0,\"ticks\":\"\"},\"colorscale\":[[0.0,\"#0d0887\"],[0.1111111111111111,\"#46039f\"],[0.2222222222222222,\"#7201a8\"],[0.3333333333333333,\"#9c179e\"],[0.4444444444444444,\"#bd3786\"],[0.5555555555555556,\"#d8576b\"],[0.6666666666666666,\"#ed7953\"],[0.7777777777777778,\"#fb9f3a\"],[0.8888888888888888,\"#fdca26\"],[1.0,\"#f0f921\"]],\"type\":\"heatmap\"}],\"heatmapgl\":[{\"colorbar\":{\"outlinewidth\":0,\"ticks\":\"\"},\"colorscale\":[[0.0,\"#0d0887\"],[0.1111111111111111,\"#46039f\"],[0.2222222222222222,\"#7201a8\"],[0.3333333333333333,\"#9c179e\"],[0.4444444444444444,\"#bd3786\"],[0.5555555555555556,\"#d8576b\"],[0.6666666666666666,\"#ed7953\"],[0.7777777777777778,\"#fb9f3a\"],[0.8888888888888888,\"#fdca26\"],[1.0,\"#f0f921\"]],\"type\":\"heatmapgl\"}],\"histogram\":[{\"marker\":{\"pattern\":{\"fillmode\":\"overlay\",\"size\":10,\"solidity\":0.2}},\"type\":\"histogram\"}],\"histogram2d\":[{\"colorbar\":{\"outlinewidth\":0,\"ticks\":\"\"},\"colorscale\":[[0.0,\"#0d0887\"],[0.1111111111111111,\"#46039f\"],[0.2222222222222222,\"#7201a8\"],[0.3333333333333333,\"#9c179e\"],[0.4444444444444444,\"#bd3786\"],[0.5555555555555556,\"#d8576b\"],[0.6666666666666666,\"#ed7953\"],[0.7777777777777778,\"#fb9f3a\"],[0.8888888888888888,\"#fdca26\"],[1.0,\"#f0f921\"]],\"type\":\"histogram2d\"}],\"histogram2dcontour\":[{\"colorbar\":{\"outlinewidth\":0,\"ticks\":\"\"},\"colorscale\":[[0.0,\"#0d0887\"],[0.1111111111111111,\"#46039f\"],[0.2222222222222222,\"#7201a8\"],[0.3333333333333333,\"#9c179e\"],[0.4444444444444444,\"#bd3786\"],[0.5555555555555556,\"#d8576b\"],[0.6666666666666666,\"#ed7953\"],[0.7777777777777778,\"#fb9f3a\"],[0.8888888888888888,\"#fdca26\"],[1.0,\"#f0f921\"]],\"type\":\"histogram2dcontour\"}],\"mesh3d\":[{\"colorbar\":{\"outlinewidth\":0,\"ticks\":\"\"},\"type\":\"mesh3d\"}],\"parcoords\":[{\"line\":{\"colorbar\":{\"outlinewidth\":0,\"ticks\":\"\"}},\"type\":\"parcoords\"}],\"pie\":[{\"automargin\":true,\"type\":\"pie\"}],\"scatter\":[{\"marker\":{\"colorbar\":{\"outlinewidth\":0,\"ticks\":\"\"}},\"type\":\"scatter\"}],\"scatter3d\":[{\"line\":{\"colorbar\":{\"outlinewidth\":0,\"ticks\":\"\"}},\"marker\":{\"colorbar\":{\"outlinewidth\":0,\"ticks\":\"\"}},\"type\":\"scatter3d\"}],\"scattercarpet\":[{\"marker\":{\"colorbar\":{\"outlinewidth\":0,\"ticks\":\"\"}},\"type\":\"scattercarpet\"}],\"scattergeo\":[{\"marker\":{\"colorbar\":{\"outlinewidth\":0,\"ticks\":\"\"}},\"type\":\"scattergeo\"}],\"scattergl\":[{\"marker\":{\"colorbar\":{\"outlinewidth\":0,\"ticks\":\"\"}},\"type\":\"scattergl\"}],\"scattermapbox\":[{\"marker\":{\"colorbar\":{\"outlinewidth\":0,\"ticks\":\"\"}},\"type\":\"scattermapbox\"}],\"scatterpolar\":[{\"marker\":{\"colorbar\":{\"outlinewidth\":0,\"ticks\":\"\"}},\"type\":\"scatterpolar\"}],\"scatterpolargl\":[{\"marker\":{\"colorbar\":{\"outlinewidth\":0,\"ticks\":\"\"}},\"type\":\"scatterpolargl\"}],\"scatterternary\":[{\"marker\":{\"colorbar\":{\"outlinewidth\":0,\"ticks\":\"\"}},\"type\":\"scatterternary\"}],\"surface\":[{\"colorbar\":{\"outlinewidth\":0,\"ticks\":\"\"},\"colorscale\":[[0.0,\"#0d0887\"],[0.1111111111111111,\"#46039f\"],[0.2222222222222222,\"#7201a8\"],[0.3333333333333333,\"#9c179e\"],[0.4444444444444444,\"#bd3786\"],[0.5555555555555556,\"#d8576b\"],[0.6666666666666666,\"#ed7953\"],[0.7777777777777778,\"#fb9f3a\"],[0.8888888888888888,\"#fdca26\"],[1.0,\"#f0f921\"]],\"type\":\"surface\"}],\"table\":[{\"cells\":{\"fill\":{\"color\":\"#EBF0F8\"},\"line\":{\"color\":\"white\"}},\"header\":{\"fill\":{\"color\":\"#C8D4E3\"},\"line\":{\"color\":\"white\"}},\"type\":\"table\"}]},\"layout\":{\"annotationdefaults\":{\"arrowcolor\":\"#2a3f5f\",\"arrowhead\":0,\"arrowwidth\":1},\"autotypenumbers\":\"strict\",\"coloraxis\":{\"colorbar\":{\"outlinewidth\":0,\"ticks\":\"\"}},\"colorscale\":{\"diverging\":[[0,\"#8e0152\"],[0.1,\"#c51b7d\"],[0.2,\"#de77ae\"],[0.3,\"#f1b6da\"],[0.4,\"#fde0ef\"],[0.5,\"#f7f7f7\"],[0.6,\"#e6f5d0\"],[0.7,\"#b8e186\"],[0.8,\"#7fbc41\"],[0.9,\"#4d9221\"],[1,\"#276419\"]],\"sequential\":[[0.0,\"#0d0887\"],[0.1111111111111111,\"#46039f\"],[0.2222222222222222,\"#7201a8\"],[0.3333333333333333,\"#9c179e\"],[0.4444444444444444,\"#bd3786\"],[0.5555555555555556,\"#d8576b\"],[0.6666666666666666,\"#ed7953\"],[0.7777777777777778,\"#fb9f3a\"],[0.8888888888888888,\"#fdca26\"],[1.0,\"#f0f921\"]],\"sequentialminus\":[[0.0,\"#0d0887\"],[0.1111111111111111,\"#46039f\"],[0.2222222222222222,\"#7201a8\"],[0.3333333333333333,\"#9c179e\"],[0.4444444444444444,\"#bd3786\"],[0.5555555555555556,\"#d8576b\"],[0.6666666666666666,\"#ed7953\"],[0.7777777777777778,\"#fb9f3a\"],[0.8888888888888888,\"#fdca26\"],[1.0,\"#f0f921\"]]},\"colorway\":[\"#636efa\",\"#EF553B\",\"#00cc96\",\"#ab63fa\",\"#FFA15A\",\"#19d3f3\",\"#FF6692\",\"#B6E880\",\"#FF97FF\",\"#FECB52\"],\"font\":{\"color\":\"#2a3f5f\"},\"geo\":{\"bgcolor\":\"white\",\"lakecolor\":\"white\",\"landcolor\":\"#E5ECF6\",\"showlakes\":true,\"showland\":true,\"subunitcolor\":\"white\"},\"hoverlabel\":{\"align\":\"left\"},\"hovermode\":\"closest\",\"mapbox\":{\"style\":\"light\"},\"paper_bgcolor\":\"white\",\"plot_bgcolor\":\"#E5ECF6\",\"polar\":{\"angularaxis\":{\"gridcolor\":\"white\",\"linecolor\":\"white\",\"ticks\":\"\"},\"bgcolor\":\"#E5ECF6\",\"radialaxis\":{\"gridcolor\":\"white\",\"linecolor\":\"white\",\"ticks\":\"\"}},\"scene\":{\"xaxis\":{\"backgroundcolor\":\"#E5ECF6\",\"gridcolor\":\"white\",\"gridwidth\":2,\"linecolor\":\"white\",\"showbackground\":true,\"ticks\":\"\",\"zerolinecolor\":\"white\"},\"yaxis\":{\"backgroundcolor\":\"#E5ECF6\",\"gridcolor\":\"white\",\"gridwidth\":2,\"linecolor\":\"white\",\"showbackground\":true,\"ticks\":\"\",\"zerolinecolor\":\"white\"},\"zaxis\":{\"backgroundcolor\":\"#E5ECF6\",\"gridcolor\":\"white\",\"gridwidth\":2,\"linecolor\":\"white\",\"showbackground\":true,\"ticks\":\"\",\"zerolinecolor\":\"white\"}},\"shapedefaults\":{\"line\":{\"color\":\"#2a3f5f\"}},\"ternary\":{\"aaxis\":{\"gridcolor\":\"white\",\"linecolor\":\"white\",\"ticks\":\"\"},\"baxis\":{\"gridcolor\":\"white\",\"linecolor\":\"white\",\"ticks\":\"\"},\"bgcolor\":\"#E5ECF6\",\"caxis\":{\"gridcolor\":\"white\",\"linecolor\":\"white\",\"ticks\":\"\"}},\"title\":{\"x\":0.05},\"xaxis\":{\"automargin\":true,\"gridcolor\":\"white\",\"linecolor\":\"white\",\"ticks\":\"\",\"title\":{\"standoff\":15},\"zerolinecolor\":\"white\",\"zerolinewidth\":2},\"yaxis\":{\"automargin\":true,\"gridcolor\":\"white\",\"linecolor\":\"white\",\"ticks\":\"\",\"title\":{\"standoff\":15},\"zerolinecolor\":\"white\",\"zerolinewidth\":2}}},\"plot_bgcolor\":\"rgba(0, 0, 0, 0)\",\"paper_bgcolor\":\"rgba(0, 0, 0, 0)\",\"xaxis\":{\"showticklabels\":false,\"showgrid\":false,\"zeroline\":false},\"yaxis\":{\"showticklabels\":false,\"showgrid\":false,\"zeroline\":false},\"showlegend\":false,\"updatemenus\":[{\"buttons\":[{\"args\":[\"arrangement\",\"snap\"],\"label\":\"Snap\",\"method\":\"restyle\"},{\"args\":[\"arrangement\",\"perpendicular\"],\"label\":\"Perpendicular\",\"method\":\"restyle\"},{\"args\":[\"arrangement\",\"freeform\"],\"label\":\"Freeform\",\"method\":\"restyle\"},{\"args\":[\"arrangement\",\"fixed\"],\"label\":\"Fixed\",\"method\":\"restyle\"}],\"y\":-0.2},{\"buttons\":[{\"args\":[\"node.pad\",15],\"label\":\"Small gap\",\"method\":\"restyle\"},{\"args\":[\"node.pad\",20],\"label\":\"Large gap\",\"method\":\"restyle\"}],\"y\":0},{\"buttons\":[{\"args\":[\"orientation\",\"h\"],\"label\":\"Horizontal\",\"method\":\"restyle\"},{\"args\":[\"orientation\",\"v\"],\"label\":\"Vertical\",\"method\":\"restyle\"}],\"y\":0.2},{\"buttons\":[{\"args\":[\"paper_bgcolor\",\"white\"],\"label\":\"Light\",\"method\":\"relayout\"},{\"args\":[\"paper_bgcolor\",\"black\"],\"label\":\"Dark\",\"method\":\"relayout\"}],\"y\":0.4}]},                        {\"responsive\": true}                    ).then(function(){\n",
       "                            \n",
       "var gd = document.getElementById('1eacd5b6-df0b-4742-b246-9285db13d3ec');\n",
       "var x = new MutationObserver(function (mutations, observer) {{\n",
       "        var display = window.getComputedStyle(gd).display;\n",
       "        if (!display || display === 'none') {{\n",
       "            console.log([gd, 'removed!']);\n",
       "            Plotly.purge(gd);\n",
       "            observer.disconnect();\n",
       "        }}\n",
       "}});\n",
       "\n",
       "// Listen for the removal of the full notebook cells\n",
       "var notebookContainer = gd.closest('#notebook-container');\n",
       "if (notebookContainer) {{\n",
       "    x.observe(notebookContainer, {childList: true});\n",
       "}}\n",
       "\n",
       "// Listen for the clearing of the current output cell\n",
       "var outputEl = gd.closest('.output');\n",
       "if (outputEl) {{\n",
       "    x.observe(outputEl, {childList: true});\n",
       "}}\n",
       "\n",
       "                        })                };                });            </script>        </div>"
      ]
     },
     "metadata": {},
     "output_type": "display_data"
    }
   ],
   "source": [
    "enrichment_sankey_fig.show()"
   ]
  }
 ],
 "metadata": {
  "kernelspec": {
   "display_name": "Python 3 (ipykernel)",
   "language": "python",
   "name": "python3"
  },
  "language_info": {
   "codemirror_mode": {
    "name": "ipython",
    "version": 3
   },
   "file_extension": ".py",
   "mimetype": "text/x-python",
   "name": "python",
   "nbconvert_exporter": "python",
   "pygments_lexer": "ipython3",
   "version": "3.9.7"
  }
 },
 "nbformat": 4,
 "nbformat_minor": 4
}
