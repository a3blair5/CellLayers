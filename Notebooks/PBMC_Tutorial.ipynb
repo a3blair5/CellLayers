{
 "cells": [
  {
   "cell_type": "code",
   "execution_count": 86,
   "metadata": {},
   "outputs": [],
   "source": [
    "import pandas as pd\n",
    "import CellLayers\n",
    "import plotly\n",
    "import matplotlib\n",
    "import matplotlib.colors as mcolors\n",
    "import matplotlib.cm as cm\n",
    "import plotly.graph_objects as go"
   ]
  },
  {
   "cell_type": "markdown",
   "metadata": {},
   "source": [
    "# Cell Layers- PBMC Tutorial"
   ]
  },
  {
   "cell_type": "markdown",
   "metadata": {},
   "source": [
    "## Import Expression, Meta, Cluster Modularity, and Silhouette Score Data"
   ]
  },
  {
   "cell_type": "code",
   "execution_count": 2,
   "metadata": {},
   "outputs": [],
   "source": [
    "exp_df = pd.read_csv('../Data/PBMC/PBMC_exp.csv',index_col=[0])\n",
    "meta_df = pd.read_csv('../Data/PBMC/PBMC_meta.csv',index_col=[0])\n",
    "mod_df = pd.read_csv('../Data/PBMC/pbmc_modularity.csv',index_col=[0])\n",
    "sil_df = pd.read_csv('../Data/PBMC/pbmc_silhouette_scores.csv', index_col=[0])"
   ]
  },
  {
   "cell_type": "code",
   "execution_count": 3,
   "metadata": {},
   "outputs": [
    {
     "data": {
      "text/html": [
       "<div>\n",
       "<style scoped>\n",
       "    .dataframe tbody tr th:only-of-type {\n",
       "        vertical-align: middle;\n",
       "    }\n",
       "\n",
       "    .dataframe tbody tr th {\n",
       "        vertical-align: top;\n",
       "    }\n",
       "\n",
       "    .dataframe thead th {\n",
       "        text-align: right;\n",
       "    }\n",
       "</style>\n",
       "<table border=\"1\" class=\"dataframe\">\n",
       "  <thead>\n",
       "    <tr style=\"text-align: right;\">\n",
       "      <th></th>\n",
       "      <th>AL627309.1</th>\n",
       "      <th>AP006222.2</th>\n",
       "      <th>RP11-206L10.2</th>\n",
       "      <th>RP11-206L10.9</th>\n",
       "      <th>LINC00115</th>\n",
       "      <th>NOC2L</th>\n",
       "      <th>KLHL17</th>\n",
       "      <th>PLEKHN1</th>\n",
       "      <th>RP11-54O7.17</th>\n",
       "      <th>HES4</th>\n",
       "      <th>...</th>\n",
       "      <th>MT-ND4L</th>\n",
       "      <th>MT-ND4</th>\n",
       "      <th>MT-ND5</th>\n",
       "      <th>MT-ND6</th>\n",
       "      <th>MT-CYB</th>\n",
       "      <th>AC145212.1</th>\n",
       "      <th>AL592183.1</th>\n",
       "      <th>AL354822.1</th>\n",
       "      <th>PNRC2.1</th>\n",
       "      <th>SRSF10.1</th>\n",
       "    </tr>\n",
       "  </thead>\n",
       "  <tbody>\n",
       "    <tr>\n",
       "      <th>AAACATACAACCAC</th>\n",
       "      <td>0.0</td>\n",
       "      <td>0.0</td>\n",
       "      <td>0.0</td>\n",
       "      <td>0.0</td>\n",
       "      <td>0.0</td>\n",
       "      <td>0.0</td>\n",
       "      <td>0.0</td>\n",
       "      <td>0.0</td>\n",
       "      <td>0.0</td>\n",
       "      <td>0.0</td>\n",
       "      <td>...</td>\n",
       "      <td>0.000000</td>\n",
       "      <td>3.745718</td>\n",
       "      <td>1.635873</td>\n",
       "      <td>0.0</td>\n",
       "      <td>2.864242</td>\n",
       "      <td>0.0</td>\n",
       "      <td>0.000000</td>\n",
       "      <td>0.0</td>\n",
       "      <td>0.0</td>\n",
       "      <td>0.0</td>\n",
       "    </tr>\n",
       "    <tr>\n",
       "      <th>AAACATTGAGCTAC</th>\n",
       "      <td>0.0</td>\n",
       "      <td>0.0</td>\n",
       "      <td>0.0</td>\n",
       "      <td>0.0</td>\n",
       "      <td>0.0</td>\n",
       "      <td>0.0</td>\n",
       "      <td>0.0</td>\n",
       "      <td>0.0</td>\n",
       "      <td>0.0</td>\n",
       "      <td>0.0</td>\n",
       "      <td>...</td>\n",
       "      <td>0.000000</td>\n",
       "      <td>4.223994</td>\n",
       "      <td>1.111715</td>\n",
       "      <td>0.0</td>\n",
       "      <td>2.851662</td>\n",
       "      <td>0.0</td>\n",
       "      <td>1.111715</td>\n",
       "      <td>0.0</td>\n",
       "      <td>0.0</td>\n",
       "      <td>0.0</td>\n",
       "    </tr>\n",
       "    <tr>\n",
       "      <th>AAACATTGATCAGC</th>\n",
       "      <td>0.0</td>\n",
       "      <td>0.0</td>\n",
       "      <td>0.0</td>\n",
       "      <td>0.0</td>\n",
       "      <td>0.0</td>\n",
       "      <td>0.0</td>\n",
       "      <td>0.0</td>\n",
       "      <td>0.0</td>\n",
       "      <td>0.0</td>\n",
       "      <td>0.0</td>\n",
       "      <td>...</td>\n",
       "      <td>0.000000</td>\n",
       "      <td>2.354503</td>\n",
       "      <td>1.995416</td>\n",
       "      <td>0.0</td>\n",
       "      <td>2.618163</td>\n",
       "      <td>0.0</td>\n",
       "      <td>0.000000</td>\n",
       "      <td>0.0</td>\n",
       "      <td>0.0</td>\n",
       "      <td>0.0</td>\n",
       "    </tr>\n",
       "    <tr>\n",
       "      <th>AAACCGTGCTTCCG</th>\n",
       "      <td>0.0</td>\n",
       "      <td>0.0</td>\n",
       "      <td>0.0</td>\n",
       "      <td>0.0</td>\n",
       "      <td>0.0</td>\n",
       "      <td>0.0</td>\n",
       "      <td>0.0</td>\n",
       "      <td>0.0</td>\n",
       "      <td>0.0</td>\n",
       "      <td>0.0</td>\n",
       "      <td>...</td>\n",
       "      <td>1.566387</td>\n",
       "      <td>2.515108</td>\n",
       "      <td>2.149274</td>\n",
       "      <td>0.0</td>\n",
       "      <td>2.149274</td>\n",
       "      <td>0.0</td>\n",
       "      <td>0.000000</td>\n",
       "      <td>0.0</td>\n",
       "      <td>0.0</td>\n",
       "      <td>0.0</td>\n",
       "    </tr>\n",
       "    <tr>\n",
       "      <th>AAACCGTGTATGCG</th>\n",
       "      <td>0.0</td>\n",
       "      <td>0.0</td>\n",
       "      <td>0.0</td>\n",
       "      <td>0.0</td>\n",
       "      <td>0.0</td>\n",
       "      <td>0.0</td>\n",
       "      <td>0.0</td>\n",
       "      <td>0.0</td>\n",
       "      <td>0.0</td>\n",
       "      <td>0.0</td>\n",
       "      <td>...</td>\n",
       "      <td>0.000000</td>\n",
       "      <td>0.000000</td>\n",
       "      <td>3.063772</td>\n",
       "      <td>0.0</td>\n",
       "      <td>2.416278</td>\n",
       "      <td>0.0</td>\n",
       "      <td>0.000000</td>\n",
       "      <td>0.0</td>\n",
       "      <td>0.0</td>\n",
       "      <td>0.0</td>\n",
       "    </tr>\n",
       "  </tbody>\n",
       "</table>\n",
       "<p>5 rows × 13714 columns</p>\n",
       "</div>"
      ],
      "text/plain": [
       "                AL627309.1  AP006222.2  RP11-206L10.2  RP11-206L10.9  \\\n",
       "AAACATACAACCAC         0.0         0.0            0.0            0.0   \n",
       "AAACATTGAGCTAC         0.0         0.0            0.0            0.0   \n",
       "AAACATTGATCAGC         0.0         0.0            0.0            0.0   \n",
       "AAACCGTGCTTCCG         0.0         0.0            0.0            0.0   \n",
       "AAACCGTGTATGCG         0.0         0.0            0.0            0.0   \n",
       "\n",
       "                LINC00115  NOC2L  KLHL17  PLEKHN1  RP11-54O7.17  HES4  ...  \\\n",
       "AAACATACAACCAC        0.0    0.0     0.0      0.0           0.0   0.0  ...   \n",
       "AAACATTGAGCTAC        0.0    0.0     0.0      0.0           0.0   0.0  ...   \n",
       "AAACATTGATCAGC        0.0    0.0     0.0      0.0           0.0   0.0  ...   \n",
       "AAACCGTGCTTCCG        0.0    0.0     0.0      0.0           0.0   0.0  ...   \n",
       "AAACCGTGTATGCG        0.0    0.0     0.0      0.0           0.0   0.0  ...   \n",
       "\n",
       "                 MT-ND4L    MT-ND4    MT-ND5  MT-ND6    MT-CYB  AC145212.1  \\\n",
       "AAACATACAACCAC  0.000000  3.745718  1.635873     0.0  2.864242         0.0   \n",
       "AAACATTGAGCTAC  0.000000  4.223994  1.111715     0.0  2.851662         0.0   \n",
       "AAACATTGATCAGC  0.000000  2.354503  1.995416     0.0  2.618163         0.0   \n",
       "AAACCGTGCTTCCG  1.566387  2.515108  2.149274     0.0  2.149274         0.0   \n",
       "AAACCGTGTATGCG  0.000000  0.000000  3.063772     0.0  2.416278         0.0   \n",
       "\n",
       "                AL592183.1  AL354822.1  PNRC2.1  SRSF10.1  \n",
       "AAACATACAACCAC    0.000000         0.0      0.0       0.0  \n",
       "AAACATTGAGCTAC    1.111715         0.0      0.0       0.0  \n",
       "AAACATTGATCAGC    0.000000         0.0      0.0       0.0  \n",
       "AAACCGTGCTTCCG    0.000000         0.0      0.0       0.0  \n",
       "AAACCGTGTATGCG    0.000000         0.0      0.0       0.0  \n",
       "\n",
       "[5 rows x 13714 columns]"
      ]
     },
     "execution_count": 3,
     "metadata": {},
     "output_type": "execute_result"
    }
   ],
   "source": [
    "exp_df.head()"
   ]
  },
  {
   "cell_type": "code",
   "execution_count": 4,
   "metadata": {},
   "outputs": [
    {
     "data": {
      "text/html": [
       "<div>\n",
       "<style scoped>\n",
       "    .dataframe tbody tr th:only-of-type {\n",
       "        vertical-align: middle;\n",
       "    }\n",
       "\n",
       "    .dataframe tbody tr th {\n",
       "        vertical-align: top;\n",
       "    }\n",
       "\n",
       "    .dataframe thead th {\n",
       "        text-align: right;\n",
       "    }\n",
       "</style>\n",
       "<table border=\"1\" class=\"dataframe\">\n",
       "  <thead>\n",
       "    <tr style=\"text-align: right;\">\n",
       "      <th></th>\n",
       "      <th>res.0.1</th>\n",
       "      <th>res.0.2</th>\n",
       "      <th>res.0.3</th>\n",
       "      <th>res.0.4</th>\n",
       "      <th>res.0.5</th>\n",
       "    </tr>\n",
       "  </thead>\n",
       "  <tbody>\n",
       "    <tr>\n",
       "      <th>AAACATACAACCAC</th>\n",
       "      <td>0</td>\n",
       "      <td>0</td>\n",
       "      <td>0</td>\n",
       "      <td>2</td>\n",
       "      <td>1</td>\n",
       "    </tr>\n",
       "    <tr>\n",
       "      <th>AAACATTGAGCTAC</th>\n",
       "      <td>3</td>\n",
       "      <td>3</td>\n",
       "      <td>3</td>\n",
       "      <td>3</td>\n",
       "      <td>3</td>\n",
       "    </tr>\n",
       "    <tr>\n",
       "      <th>AAACATTGATCAGC</th>\n",
       "      <td>0</td>\n",
       "      <td>0</td>\n",
       "      <td>0</td>\n",
       "      <td>2</td>\n",
       "      <td>1</td>\n",
       "    </tr>\n",
       "    <tr>\n",
       "      <th>AAACCGTGCTTCCG</th>\n",
       "      <td>1</td>\n",
       "      <td>1</td>\n",
       "      <td>1</td>\n",
       "      <td>1</td>\n",
       "      <td>2</td>\n",
       "    </tr>\n",
       "    <tr>\n",
       "      <th>AAACCGTGTATGCG</th>\n",
       "      <td>2</td>\n",
       "      <td>2</td>\n",
       "      <td>2</td>\n",
       "      <td>6</td>\n",
       "      <td>6</td>\n",
       "    </tr>\n",
       "  </tbody>\n",
       "</table>\n",
       "</div>"
      ],
      "text/plain": [
       "                res.0.1  res.0.2  res.0.3  res.0.4  res.0.5\n",
       "AAACATACAACCAC        0        0        0        2        1\n",
       "AAACATTGAGCTAC        3        3        3        3        3\n",
       "AAACATTGATCAGC        0        0        0        2        1\n",
       "AAACCGTGCTTCCG        1        1        1        1        2\n",
       "AAACCGTGTATGCG        2        2        2        6        6"
      ]
     },
     "execution_count": 4,
     "metadata": {},
     "output_type": "execute_result"
    }
   ],
   "source": [
    "meta_df.head()"
   ]
  },
  {
   "cell_type": "code",
   "execution_count": 5,
   "metadata": {},
   "outputs": [
    {
     "data": {
      "text/html": [
       "<div>\n",
       "<style scoped>\n",
       "    .dataframe tbody tr th:only-of-type {\n",
       "        vertical-align: middle;\n",
       "    }\n",
       "\n",
       "    .dataframe tbody tr th {\n",
       "        vertical-align: top;\n",
       "    }\n",
       "\n",
       "    .dataframe thead th {\n",
       "        text-align: right;\n",
       "    }\n",
       "</style>\n",
       "<table border=\"1\" class=\"dataframe\">\n",
       "  <thead>\n",
       "    <tr style=\"text-align: right;\">\n",
       "      <th></th>\n",
       "      <th>resolution</th>\n",
       "      <th>modularity</th>\n",
       "    </tr>\n",
       "  </thead>\n",
       "  <tbody>\n",
       "    <tr>\n",
       "      <th>1</th>\n",
       "      <td>res.0.1</td>\n",
       "      <td>0.9625</td>\n",
       "    </tr>\n",
       "    <tr>\n",
       "      <th>2</th>\n",
       "      <td>res.0.2</td>\n",
       "      <td>0.9348</td>\n",
       "    </tr>\n",
       "    <tr>\n",
       "      <th>3</th>\n",
       "      <td>res.0.3</td>\n",
       "      <td>0.9092</td>\n",
       "    </tr>\n",
       "    <tr>\n",
       "      <th>4</th>\n",
       "      <td>res.0.4</td>\n",
       "      <td>0.8884</td>\n",
       "    </tr>\n",
       "    <tr>\n",
       "      <th>5</th>\n",
       "      <td>res.0.5</td>\n",
       "      <td>0.8720</td>\n",
       "    </tr>\n",
       "  </tbody>\n",
       "</table>\n",
       "</div>"
      ],
      "text/plain": [
       "  resolution  modularity\n",
       "1    res.0.1      0.9625\n",
       "2    res.0.2      0.9348\n",
       "3    res.0.3      0.9092\n",
       "4    res.0.4      0.8884\n",
       "5    res.0.5      0.8720"
      ]
     },
     "execution_count": 5,
     "metadata": {},
     "output_type": "execute_result"
    }
   ],
   "source": [
    "mod_df.head()"
   ]
  },
  {
   "cell_type": "code",
   "execution_count": 6,
   "metadata": {},
   "outputs": [
    {
     "data": {
      "text/html": [
       "<div>\n",
       "<style scoped>\n",
       "    .dataframe tbody tr th:only-of-type {\n",
       "        vertical-align: middle;\n",
       "    }\n",
       "\n",
       "    .dataframe tbody tr th {\n",
       "        vertical-align: top;\n",
       "    }\n",
       "\n",
       "    .dataframe thead th {\n",
       "        text-align: right;\n",
       "    }\n",
       "</style>\n",
       "<table border=\"1\" class=\"dataframe\">\n",
       "  <thead>\n",
       "    <tr style=\"text-align: right;\">\n",
       "      <th></th>\n",
       "      <th>res</th>\n",
       "      <th>sil</th>\n",
       "    </tr>\n",
       "  </thead>\n",
       "  <tbody>\n",
       "    <tr>\n",
       "      <th>1</th>\n",
       "      <td>res.0.1_0</td>\n",
       "      <td>0.316572</td>\n",
       "    </tr>\n",
       "    <tr>\n",
       "      <th>2</th>\n",
       "      <td>res.0.1_1</td>\n",
       "      <td>0.218829</td>\n",
       "    </tr>\n",
       "    <tr>\n",
       "      <th>3</th>\n",
       "      <td>res.0.1_2</td>\n",
       "      <td>0.011805</td>\n",
       "    </tr>\n",
       "    <tr>\n",
       "      <th>4</th>\n",
       "      <td>res.0.1_3</td>\n",
       "      <td>0.246195</td>\n",
       "    </tr>\n",
       "    <tr>\n",
       "      <th>5</th>\n",
       "      <td>res.0.2_0</td>\n",
       "      <td>0.316926</td>\n",
       "    </tr>\n",
       "  </tbody>\n",
       "</table>\n",
       "</div>"
      ],
      "text/plain": [
       "         res       sil\n",
       "1  res.0.1_0  0.316572\n",
       "2  res.0.1_1  0.218829\n",
       "3  res.0.1_2  0.011805\n",
       "4  res.0.1_3  0.246195\n",
       "5  res.0.2_0  0.316926"
      ]
     },
     "execution_count": 6,
     "metadata": {},
     "output_type": "execute_result"
    }
   ],
   "source": [
    "sil_df.head()"
   ]
  },
  {
   "cell_type": "markdown",
   "metadata": {},
   "source": [
    "# Figure 1 A"
   ]
  },
  {
   "cell_type": "code",
   "execution_count": 163,
   "metadata": {},
   "outputs": [],
   "source": [
    "sankey_fig, sankey_dict = CellLayers.run(exp_df, \n",
    "                                         meta_df,\n",
    "                                         modularity=mod_df,\n",
    "                                         silhouette=sil_df, genes=['CD3E'])"
   ]
  },
  {
   "cell_type": "code",
   "execution_count": 147,
   "metadata": {},
   "outputs": [
    {
     "data": {
      "application/vnd.plotly.v1+json": {
       "config": {
        "plotlyServerURL": "https://plot.ly"
       },
       "data": [
        {
         "link": {
          "color": [
           "#807cba",
           "#fbfafc",
           "#fcfbfd",
           "#9f9cc9",
           "#faf9fc",
           "#fbfafc",
           "#9490c3",
           "#807cba",
           "#fbfafc",
           "#fcfbfd",
           "#9f9cc9",
           "#faf9fc",
           "#fbfafc",
           "#f2f0f7",
           "#3f007d",
           "#776cb1",
           "#fbfafc",
           "#fcfbfd",
           "#d1d2e7",
           "#817ebb",
           "#8683bd",
           "#faf9fc",
           "#fbfafc",
           "#acaad1",
           "#f2f0f7",
           "#3f007d",
           "#776cb1",
           "#fbfafc",
           "#fcfbfd",
           "#d1d2e7",
           "#827fbb",
           "#8683bd",
           "#faf9fc",
           "#8b87bf",
           "#fbfafc",
           "#f2f0f7",
           "#d4d4e8",
           "#705eaa"
          ],
          "source": [
           1,
           0,
           2,
           3,
           2,
           2,
           1,
           5,
           4,
           7,
           8,
           9,
           6,
           9,
           5,
           12,
           11,
           14,
           15,
           15,
           12,
           16,
           13,
           12,
           10,
           15,
           22,
           18,
           21,
           17,
           23,
           19,
           20,
           19,
           25,
           24,
           19,
           22
          ],
          "target": [
           5,
           4,
           7,
           8,
           9,
           6,
           8,
           12,
           11,
           14,
           15,
           16,
           13,
           10,
           15,
           22,
           18,
           21,
           17,
           23,
           19,
           20,
           25,
           23,
           24,
           22,
           30,
           27,
           31,
           26,
           32,
           28,
           29,
           30,
           34,
           33,
           32,
           32
          ],
          "value": [
           1189,
           344,
           480,
           415,
           176,
           32,
           2,
           1188,
           344,
           480,
           417,
           162,
           32,
           14,
           1,
           461,
           344,
           480,
           155,
           262,
           723,
           162,
           32,
           4,
           14,
           1,
           461,
           344,
           480,
           155,
           266,
           697,
           162,
           22,
           32,
           14,
           4,
           1
          ]
         },
         "node": {
          "color": [
           "#d93429",
           "#a50026",
           "#e65036",
           "#fffab7",
           "#d93429",
           "#a50026",
           "#e24731",
           "#ab0626",
           "#fffab7",
           "#fff0a8",
           "#a50026",
           "#ef633f",
           "#d62f27",
           "#f57547",
           "#f46d43",
           "#fffbb9",
           "#f57547",
           "#fecc7e",
           "#f67c4a",
           "#fdbb6d",
           "#f57547",
           "#f57547",
           "#fffbb9",
           "#fff0a8",
           "#a50026",
           "#f57547",
           "#fecc7e",
           "#f67c4a",
           "#fdbb6d",
           "#f57547",
           "#fffbb9",
           "#f57547",
           "#fff0a8",
           "#a50026",
           "#f57547"
          ],
          "customdata": [
           "Modularity 0.96<br />Silhouette 0.25",
           "Modularity 0.96<br />Silhouette 0.32",
           "Modularity 0.96<br />Silhouette 0.22",
           "Modularity 0.96<br />Silhouette 0.01",
           "Modularity 0.93<br />Silhouette 0.25",
           "Modularity 0.93<br />Silhouette 0.32",
           "Modularity 0.93<br />Silhouette 0.23",
           "Modularity 0.93<br />Silhouette 0.31",
           "Modularity 0.93<br />Silhouette 0.01",
           "Modularity 0.93<br />Silhouette 0.03",
           "Modularity 0.91<br />Silhouette 0.4",
           "Modularity 0.91<br />Silhouette 0.25",
           "Modularity 0.91<br />Silhouette 0.32",
           "Modularity 0.91<br />Silhouette 0.23",
           "Modularity 0.91<br />Silhouette 0.24",
           "Modularity 0.91<br />Silhouette 0.01",
           "Modularity 0.91<br />Silhouette 0.23",
           "Modularity 0.89<br />Silhouette 0.11",
           "Modularity 0.89<br />Silhouette 0.22",
           "Modularity 0.89<br />Silhouette 0.14",
           "Modularity 0.89<br />Silhouette 0.23",
           "Modularity 0.89<br />Silhouette 0.23",
           "Modularity 0.89<br />Silhouette 0.01",
           "Modularity 0.89<br />Silhouette 0.04",
           "Modularity 0.89<br />Silhouette 0.4",
           "Modularity 0.89<br />Silhouette 0.23",
           "Modularity 0.87<br />Silhouette 0.11",
           "Modularity 0.87<br />Silhouette 0.22",
           "Modularity 0.87<br />Silhouette 0.14",
           "Modularity 0.87<br />Silhouette 0.23",
           "Modularity 0.87<br />Silhouette 0.01",
           "Modularity 0.87<br />Silhouette 0.23",
           "Modularity 0.87<br />Silhouette 0.04",
           "Modularity 0.87<br />Silhouette 0.4",
           "Modularity 0.87<br />Silhouette 0.23"
          ],
          "hovertemplate": "%{customdata}",
          "label": [
           "res.0.1_3",
           "res.0.1_0",
           "res.0.1_1",
           "res.0.1_2",
           "res.0.2_3",
           "res.0.2_0",
           "res.0.2_5",
           "res.0.2_1",
           "res.0.2_2",
           "res.0.2_4",
           "res.0.3_6",
           "res.0.3_3",
           "res.0.3_0",
           "res.0.3_5",
           "res.0.3_1",
           "res.0.3_2",
           "res.0.3_4",
           "res.0.4_6",
           "res.0.4_3",
           "res.0.4_0",
           "res.0.4_5",
           "res.0.4_1",
           "res.0.4_2",
           "res.0.4_4",
           "res.0.4_8",
           "res.0.4_7",
           "res.0.5_6",
           "res.0.5_3",
           "res.0.5_0",
           "res.0.5_5",
           "res.0.5_1",
           "res.0.5_2",
           "res.0.5_4",
           "res.0.5_8",
           "res.0.5_7"
          ],
          "pad": 10,
          "thickness": 10
         },
         "orientation": "h",
         "type": "sankey"
        },
        {
         "marker": {
          "colorscale": [
           [
            0,
            "#d93429"
           ],
           [
            0.029411764705882353,
            "#a50026"
           ],
           [
            0.058823529411764705,
            "#e65036"
           ],
           [
            0.08823529411764706,
            "#fffab7"
           ],
           [
            0.11764705882352941,
            "#d93429"
           ],
           [
            0.14705882352941177,
            "#a50026"
           ],
           [
            0.17647058823529413,
            "#e24731"
           ],
           [
            0.20588235294117646,
            "#ab0626"
           ],
           [
            0.23529411764705882,
            "#fffab7"
           ],
           [
            0.2647058823529412,
            "#fff0a8"
           ],
           [
            0.29411764705882354,
            "#a50026"
           ],
           [
            0.3235294117647059,
            "#ef633f"
           ],
           [
            0.35294117647058826,
            "#d62f27"
           ],
           [
            0.38235294117647056,
            "#f57547"
           ],
           [
            0.4117647058823529,
            "#f46d43"
           ],
           [
            0.4411764705882353,
            "#fffbb9"
           ],
           [
            0.47058823529411764,
            "#f57547"
           ],
           [
            0.5,
            "#fecc7e"
           ],
           [
            0.5294117647058824,
            "#f67c4a"
           ],
           [
            0.5588235294117647,
            "#fdbb6d"
           ],
           [
            0.5882352941176471,
            "#f57547"
           ],
           [
            0.6176470588235294,
            "#f57547"
           ],
           [
            0.6470588235294118,
            "#fffbb9"
           ],
           [
            0.6764705882352942,
            "#fff0a8"
           ],
           [
            0.7058823529411765,
            "#a50026"
           ],
           [
            0.7352941176470589,
            "#f57547"
           ],
           [
            0.7647058823529411,
            "#fecc7e"
           ],
           [
            0.7941176470588235,
            "#f67c4a"
           ],
           [
            0.8235294117647058,
            "#fdbb6d"
           ],
           [
            0.8529411764705882,
            "#f57547"
           ],
           [
            0.8823529411764706,
            "#fffbb9"
           ],
           [
            0.9117647058823529,
            "#f57547"
           ],
           [
            0.9411764705882353,
            "#fff0a8"
           ],
           [
            0.9705882352941176,
            "#a50026"
           ],
           [
            1,
            "#f57547"
           ]
          ]
         },
         "mode": "markers",
         "type": "scatter",
         "visible": true,
         "x": [
          null
         ],
         "y": [
          null
         ]
        },
        {
         "marker": {
          "cmax": 2.6245696606237003,
          "cmin": 0.15795521061068996,
          "colorscale": [
           [
            0,
            "#fcfbfd"
           ],
           [
            0.02702702702702703,
            "#fcfbfd"
           ],
           [
            0.05405405405405406,
            "#fcfbfd"
           ],
           [
            0.08108108108108109,
            "#fcfbfd"
           ],
           [
            0.10810810810810811,
            "#fbfafc"
           ],
           [
            0.13513513513513514,
            "#fbfafc"
           ],
           [
            0.16216216216216217,
            "#fbfafc"
           ],
           [
            0.1891891891891892,
            "#fbfafc"
           ],
           [
            0.21621621621621623,
            "#fbfafc"
           ],
           [
            0.24324324324324326,
            "#fbfafc"
           ],
           [
            0.2702702702702703,
            "#fbfafc"
           ],
           [
            0.2972972972972973,
            "#fbfafc"
           ],
           [
            0.32432432432432434,
            "#faf9fc"
           ],
           [
            0.35135135135135137,
            "#faf9fc"
           ],
           [
            0.3783783783783784,
            "#faf9fc"
           ],
           [
            0.40540540540540543,
            "#faf9fc"
           ],
           [
            0.43243243243243246,
            "#f2f0f7"
           ],
           [
            0.4594594594594595,
            "#f2f0f7"
           ],
           [
            0.4864864864864865,
            "#f2f0f7"
           ],
           [
            0.5135135135135135,
            "#d4d4e8"
           ],
           [
            0.5405405405405406,
            "#d1d2e7"
           ],
           [
            0.5675675675675675,
            "#d1d2e7"
           ],
           [
            0.5945945945945946,
            "#acaad1"
           ],
           [
            0.6216216216216216,
            "#9f9cc9"
           ],
           [
            0.6486486486486487,
            "#9f9cc9"
           ],
           [
            0.6756756756756757,
            "#9490c3"
           ],
           [
            0.7027027027027027,
            "#8b87bf"
           ],
           [
            0.7297297297297297,
            "#8683bd"
           ],
           [
            0.7567567567567568,
            "#8683bd"
           ],
           [
            0.7837837837837838,
            "#827fbb"
           ],
           [
            0.8108108108108109,
            "#817ebb"
           ],
           [
            0.8378378378378378,
            "#807cba"
           ],
           [
            0.8648648648648649,
            "#807cba"
           ],
           [
            0.8918918918918919,
            "#776cb1"
           ],
           [
            0.918918918918919,
            "#776cb1"
           ],
           [
            0.9459459459459459,
            "#705eaa"
           ],
           [
            0.972972972972973,
            "#3f007d"
           ],
           [
            1,
            "#3f007d"
           ]
          ],
          "showscale": true
         },
         "mode": "markers",
         "type": "scatter",
         "visible": true,
         "x": [
          null
         ],
         "y": [
          null
         ]
        },
        {
         "marker": {
          "cmax": 1,
          "cmin": -1,
          "colorbar": {
           "x": 1.1,
           "y": 0.5
          },
          "colorscale": [
           [
            0,
            "#313695"
           ],
           [
            0.05,
            "#3a54a4"
           ],
           [
            0.1,
            "#4574b3"
           ],
           [
            0.15,
            "#5c90c2"
           ],
           [
            0.2,
            "#74add1"
           ],
           [
            0.25,
            "#90c3dd"
           ],
           [
            0.3,
            "#aad8e9"
           ],
           [
            0.35,
            "#c5e6f0"
           ],
           [
            0.4,
            "#e0f3f8"
           ],
           [
            0.45,
            "#f0f9db"
           ],
           [
            0.5,
            "#fffebe"
           ],
           [
            0.55,
            "#fff0a8"
           ],
           [
            0.6,
            "#fee090"
           ],
           [
            0.65,
            "#fdc778"
           ],
           [
            0.7,
            "#fdad60"
           ],
           [
            0.75,
            "#f88c51"
           ],
           [
            0.8,
            "#f46d43"
           ],
           [
            0.85,
            "#e54e35"
           ],
           [
            0.9,
            "#d62f27"
           ],
           [
            0.95,
            "#bd1726"
           ],
           [
            1,
            "#a50026"
           ]
          ],
          "showscale": true
         },
         "mode": "markers",
         "type": "scatter",
         "visible": true,
         "x": [
          null
         ],
         "y": [
          null
         ]
        }
       ],
       "layout": {
        "autosize": true,
        "paper_bgcolor": "rgba(0, 0, 0, 0)",
        "plot_bgcolor": "rgba(0, 0, 0, 0)",
        "showlegend": false,
        "template": {
         "data": {
          "bar": [
           {
            "error_x": {
             "color": "#2a3f5f"
            },
            "error_y": {
             "color": "#2a3f5f"
            },
            "marker": {
             "line": {
              "color": "#E5ECF6",
              "width": 0.5
             },
             "pattern": {
              "fillmode": "overlay",
              "size": 10,
              "solidity": 0.2
             }
            },
            "type": "bar"
           }
          ],
          "barpolar": [
           {
            "marker": {
             "line": {
              "color": "#E5ECF6",
              "width": 0.5
             },
             "pattern": {
              "fillmode": "overlay",
              "size": 10,
              "solidity": 0.2
             }
            },
            "type": "barpolar"
           }
          ],
          "carpet": [
           {
            "aaxis": {
             "endlinecolor": "#2a3f5f",
             "gridcolor": "white",
             "linecolor": "white",
             "minorgridcolor": "white",
             "startlinecolor": "#2a3f5f"
            },
            "baxis": {
             "endlinecolor": "#2a3f5f",
             "gridcolor": "white",
             "linecolor": "white",
             "minorgridcolor": "white",
             "startlinecolor": "#2a3f5f"
            },
            "type": "carpet"
           }
          ],
          "choropleth": [
           {
            "colorbar": {
             "outlinewidth": 0,
             "ticks": ""
            },
            "type": "choropleth"
           }
          ],
          "contour": [
           {
            "colorbar": {
             "outlinewidth": 0,
             "ticks": ""
            },
            "colorscale": [
             [
              0,
              "#0d0887"
             ],
             [
              0.1111111111111111,
              "#46039f"
             ],
             [
              0.2222222222222222,
              "#7201a8"
             ],
             [
              0.3333333333333333,
              "#9c179e"
             ],
             [
              0.4444444444444444,
              "#bd3786"
             ],
             [
              0.5555555555555556,
              "#d8576b"
             ],
             [
              0.6666666666666666,
              "#ed7953"
             ],
             [
              0.7777777777777778,
              "#fb9f3a"
             ],
             [
              0.8888888888888888,
              "#fdca26"
             ],
             [
              1,
              "#f0f921"
             ]
            ],
            "type": "contour"
           }
          ],
          "contourcarpet": [
           {
            "colorbar": {
             "outlinewidth": 0,
             "ticks": ""
            },
            "type": "contourcarpet"
           }
          ],
          "heatmap": [
           {
            "colorbar": {
             "outlinewidth": 0,
             "ticks": ""
            },
            "colorscale": [
             [
              0,
              "#0d0887"
             ],
             [
              0.1111111111111111,
              "#46039f"
             ],
             [
              0.2222222222222222,
              "#7201a8"
             ],
             [
              0.3333333333333333,
              "#9c179e"
             ],
             [
              0.4444444444444444,
              "#bd3786"
             ],
             [
              0.5555555555555556,
              "#d8576b"
             ],
             [
              0.6666666666666666,
              "#ed7953"
             ],
             [
              0.7777777777777778,
              "#fb9f3a"
             ],
             [
              0.8888888888888888,
              "#fdca26"
             ],
             [
              1,
              "#f0f921"
             ]
            ],
            "type": "heatmap"
           }
          ],
          "heatmapgl": [
           {
            "colorbar": {
             "outlinewidth": 0,
             "ticks": ""
            },
            "colorscale": [
             [
              0,
              "#0d0887"
             ],
             [
              0.1111111111111111,
              "#46039f"
             ],
             [
              0.2222222222222222,
              "#7201a8"
             ],
             [
              0.3333333333333333,
              "#9c179e"
             ],
             [
              0.4444444444444444,
              "#bd3786"
             ],
             [
              0.5555555555555556,
              "#d8576b"
             ],
             [
              0.6666666666666666,
              "#ed7953"
             ],
             [
              0.7777777777777778,
              "#fb9f3a"
             ],
             [
              0.8888888888888888,
              "#fdca26"
             ],
             [
              1,
              "#f0f921"
             ]
            ],
            "type": "heatmapgl"
           }
          ],
          "histogram": [
           {
            "marker": {
             "pattern": {
              "fillmode": "overlay",
              "size": 10,
              "solidity": 0.2
             }
            },
            "type": "histogram"
           }
          ],
          "histogram2d": [
           {
            "colorbar": {
             "outlinewidth": 0,
             "ticks": ""
            },
            "colorscale": [
             [
              0,
              "#0d0887"
             ],
             [
              0.1111111111111111,
              "#46039f"
             ],
             [
              0.2222222222222222,
              "#7201a8"
             ],
             [
              0.3333333333333333,
              "#9c179e"
             ],
             [
              0.4444444444444444,
              "#bd3786"
             ],
             [
              0.5555555555555556,
              "#d8576b"
             ],
             [
              0.6666666666666666,
              "#ed7953"
             ],
             [
              0.7777777777777778,
              "#fb9f3a"
             ],
             [
              0.8888888888888888,
              "#fdca26"
             ],
             [
              1,
              "#f0f921"
             ]
            ],
            "type": "histogram2d"
           }
          ],
          "histogram2dcontour": [
           {
            "colorbar": {
             "outlinewidth": 0,
             "ticks": ""
            },
            "colorscale": [
             [
              0,
              "#0d0887"
             ],
             [
              0.1111111111111111,
              "#46039f"
             ],
             [
              0.2222222222222222,
              "#7201a8"
             ],
             [
              0.3333333333333333,
              "#9c179e"
             ],
             [
              0.4444444444444444,
              "#bd3786"
             ],
             [
              0.5555555555555556,
              "#d8576b"
             ],
             [
              0.6666666666666666,
              "#ed7953"
             ],
             [
              0.7777777777777778,
              "#fb9f3a"
             ],
             [
              0.8888888888888888,
              "#fdca26"
             ],
             [
              1,
              "#f0f921"
             ]
            ],
            "type": "histogram2dcontour"
           }
          ],
          "mesh3d": [
           {
            "colorbar": {
             "outlinewidth": 0,
             "ticks": ""
            },
            "type": "mesh3d"
           }
          ],
          "parcoords": [
           {
            "line": {
             "colorbar": {
              "outlinewidth": 0,
              "ticks": ""
             }
            },
            "type": "parcoords"
           }
          ],
          "pie": [
           {
            "automargin": true,
            "type": "pie"
           }
          ],
          "scatter": [
           {
            "marker": {
             "colorbar": {
              "outlinewidth": 0,
              "ticks": ""
             }
            },
            "type": "scatter"
           }
          ],
          "scatter3d": [
           {
            "line": {
             "colorbar": {
              "outlinewidth": 0,
              "ticks": ""
             }
            },
            "marker": {
             "colorbar": {
              "outlinewidth": 0,
              "ticks": ""
             }
            },
            "type": "scatter3d"
           }
          ],
          "scattercarpet": [
           {
            "marker": {
             "colorbar": {
              "outlinewidth": 0,
              "ticks": ""
             }
            },
            "type": "scattercarpet"
           }
          ],
          "scattergeo": [
           {
            "marker": {
             "colorbar": {
              "outlinewidth": 0,
              "ticks": ""
             }
            },
            "type": "scattergeo"
           }
          ],
          "scattergl": [
           {
            "marker": {
             "colorbar": {
              "outlinewidth": 0,
              "ticks": ""
             }
            },
            "type": "scattergl"
           }
          ],
          "scattermapbox": [
           {
            "marker": {
             "colorbar": {
              "outlinewidth": 0,
              "ticks": ""
             }
            },
            "type": "scattermapbox"
           }
          ],
          "scatterpolar": [
           {
            "marker": {
             "colorbar": {
              "outlinewidth": 0,
              "ticks": ""
             }
            },
            "type": "scatterpolar"
           }
          ],
          "scatterpolargl": [
           {
            "marker": {
             "colorbar": {
              "outlinewidth": 0,
              "ticks": ""
             }
            },
            "type": "scatterpolargl"
           }
          ],
          "scatterternary": [
           {
            "marker": {
             "colorbar": {
              "outlinewidth": 0,
              "ticks": ""
             }
            },
            "type": "scatterternary"
           }
          ],
          "surface": [
           {
            "colorbar": {
             "outlinewidth": 0,
             "ticks": ""
            },
            "colorscale": [
             [
              0,
              "#0d0887"
             ],
             [
              0.1111111111111111,
              "#46039f"
             ],
             [
              0.2222222222222222,
              "#7201a8"
             ],
             [
              0.3333333333333333,
              "#9c179e"
             ],
             [
              0.4444444444444444,
              "#bd3786"
             ],
             [
              0.5555555555555556,
              "#d8576b"
             ],
             [
              0.6666666666666666,
              "#ed7953"
             ],
             [
              0.7777777777777778,
              "#fb9f3a"
             ],
             [
              0.8888888888888888,
              "#fdca26"
             ],
             [
              1,
              "#f0f921"
             ]
            ],
            "type": "surface"
           }
          ],
          "table": [
           {
            "cells": {
             "fill": {
              "color": "#EBF0F8"
             },
             "line": {
              "color": "white"
             }
            },
            "header": {
             "fill": {
              "color": "#C8D4E3"
             },
             "line": {
              "color": "white"
             }
            },
            "type": "table"
           }
          ]
         },
         "layout": {
          "annotationdefaults": {
           "arrowcolor": "#2a3f5f",
           "arrowhead": 0,
           "arrowwidth": 1
          },
          "autotypenumbers": "strict",
          "coloraxis": {
           "colorbar": {
            "outlinewidth": 0,
            "ticks": ""
           }
          },
          "colorscale": {
           "diverging": [
            [
             0,
             "#8e0152"
            ],
            [
             0.1,
             "#c51b7d"
            ],
            [
             0.2,
             "#de77ae"
            ],
            [
             0.3,
             "#f1b6da"
            ],
            [
             0.4,
             "#fde0ef"
            ],
            [
             0.5,
             "#f7f7f7"
            ],
            [
             0.6,
             "#e6f5d0"
            ],
            [
             0.7,
             "#b8e186"
            ],
            [
             0.8,
             "#7fbc41"
            ],
            [
             0.9,
             "#4d9221"
            ],
            [
             1,
             "#276419"
            ]
           ],
           "sequential": [
            [
             0,
             "#0d0887"
            ],
            [
             0.1111111111111111,
             "#46039f"
            ],
            [
             0.2222222222222222,
             "#7201a8"
            ],
            [
             0.3333333333333333,
             "#9c179e"
            ],
            [
             0.4444444444444444,
             "#bd3786"
            ],
            [
             0.5555555555555556,
             "#d8576b"
            ],
            [
             0.6666666666666666,
             "#ed7953"
            ],
            [
             0.7777777777777778,
             "#fb9f3a"
            ],
            [
             0.8888888888888888,
             "#fdca26"
            ],
            [
             1,
             "#f0f921"
            ]
           ],
           "sequentialminus": [
            [
             0,
             "#0d0887"
            ],
            [
             0.1111111111111111,
             "#46039f"
            ],
            [
             0.2222222222222222,
             "#7201a8"
            ],
            [
             0.3333333333333333,
             "#9c179e"
            ],
            [
             0.4444444444444444,
             "#bd3786"
            ],
            [
             0.5555555555555556,
             "#d8576b"
            ],
            [
             0.6666666666666666,
             "#ed7953"
            ],
            [
             0.7777777777777778,
             "#fb9f3a"
            ],
            [
             0.8888888888888888,
             "#fdca26"
            ],
            [
             1,
             "#f0f921"
            ]
           ]
          },
          "colorway": [
           "#636efa",
           "#EF553B",
           "#00cc96",
           "#ab63fa",
           "#FFA15A",
           "#19d3f3",
           "#FF6692",
           "#B6E880",
           "#FF97FF",
           "#FECB52"
          ],
          "font": {
           "color": "#2a3f5f"
          },
          "geo": {
           "bgcolor": "white",
           "lakecolor": "white",
           "landcolor": "#E5ECF6",
           "showlakes": true,
           "showland": true,
           "subunitcolor": "white"
          },
          "hoverlabel": {
           "align": "left"
          },
          "hovermode": "closest",
          "mapbox": {
           "style": "light"
          },
          "paper_bgcolor": "white",
          "plot_bgcolor": "#E5ECF6",
          "polar": {
           "angularaxis": {
            "gridcolor": "white",
            "linecolor": "white",
            "ticks": ""
           },
           "bgcolor": "#E5ECF6",
           "radialaxis": {
            "gridcolor": "white",
            "linecolor": "white",
            "ticks": ""
           }
          },
          "scene": {
           "xaxis": {
            "backgroundcolor": "#E5ECF6",
            "gridcolor": "white",
            "gridwidth": 2,
            "linecolor": "white",
            "showbackground": true,
            "ticks": "",
            "zerolinecolor": "white"
           },
           "yaxis": {
            "backgroundcolor": "#E5ECF6",
            "gridcolor": "white",
            "gridwidth": 2,
            "linecolor": "white",
            "showbackground": true,
            "ticks": "",
            "zerolinecolor": "white"
           },
           "zaxis": {
            "backgroundcolor": "#E5ECF6",
            "gridcolor": "white",
            "gridwidth": 2,
            "linecolor": "white",
            "showbackground": true,
            "ticks": "",
            "zerolinecolor": "white"
           }
          },
          "shapedefaults": {
           "line": {
            "color": "#2a3f5f"
           }
          },
          "ternary": {
           "aaxis": {
            "gridcolor": "white",
            "linecolor": "white",
            "ticks": ""
           },
           "baxis": {
            "gridcolor": "white",
            "linecolor": "white",
            "ticks": ""
           },
           "bgcolor": "#E5ECF6",
           "caxis": {
            "gridcolor": "white",
            "linecolor": "white",
            "ticks": ""
           }
          },
          "title": {
           "x": 0.05
          },
          "xaxis": {
           "automargin": true,
           "gridcolor": "white",
           "linecolor": "white",
           "ticks": "",
           "title": {
            "standoff": 15
           },
           "zerolinecolor": "white",
           "zerolinewidth": 2
          },
          "yaxis": {
           "automargin": true,
           "gridcolor": "white",
           "linecolor": "white",
           "ticks": "",
           "title": {
            "standoff": 15
           },
           "zerolinecolor": "white",
           "zerolinewidth": 2
          }
         }
        },
        "updatemenus": [
         {
          "buttons": [
           {
            "args": [
             {
              "link": {
               "color": [
                "#807cba",
                "#fbfafc",
                "#fcfbfd",
                "#9f9cc9",
                "#faf9fc",
                "#fbfafc",
                "#9490c3",
                "#807cba",
                "#fbfafc",
                "#fcfbfd",
                "#9f9cc9",
                "#faf9fc",
                "#fbfafc",
                "#f2f0f7",
                "#3f007d",
                "#776cb1",
                "#fbfafc",
                "#fcfbfd",
                "#d1d2e7",
                "#817ebb",
                "#8683bd",
                "#faf9fc",
                "#fbfafc",
                "#acaad1",
                "#f2f0f7",
                "#3f007d",
                "#776cb1",
                "#fbfafc",
                "#fcfbfd",
                "#d1d2e7",
                "#827fbb",
                "#8683bd",
                "#faf9fc",
                "#8b87bf",
                "#fbfafc",
                "#f2f0f7",
                "#d4d4e8",
                "#705eaa"
               ],
               "source": [
                1,
                0,
                2,
                3,
                2,
                2,
                1,
                5,
                4,
                7,
                8,
                9,
                6,
                9,
                5,
                12,
                11,
                14,
                15,
                15,
                12,
                16,
                13,
                12,
                10,
                15,
                22,
                18,
                21,
                17,
                23,
                19,
                20,
                19,
                25,
                24,
                19,
                22
               ],
               "target": [
                5,
                4,
                7,
                8,
                9,
                6,
                8,
                12,
                11,
                14,
                15,
                16,
                13,
                10,
                15,
                22,
                18,
                21,
                17,
                23,
                19,
                20,
                25,
                23,
                24,
                22,
                30,
                27,
                31,
                26,
                32,
                28,
                29,
                30,
                34,
                33,
                32,
                32
               ],
               "value": [
                1189,
                344,
                480,
                415,
                176,
                32,
                2,
                1188,
                344,
                480,
                417,
                162,
                32,
                14,
                1,
                461,
                344,
                480,
                155,
                262,
                723,
                162,
                32,
                4,
                14,
                1,
                461,
                344,
                480,
                155,
                266,
                697,
                162,
                22,
                32,
                14,
                4,
                1
               ]
              },
              "visible": [
               true,
               true,
               true
              ]
             }
            ],
            "label": "CD3E",
            "method": "update"
           }
          ],
          "x": -0.05,
          "y": 0.9
         },
         {
          "buttons": [
           {
            "args": [
             "arrangement",
             "snap"
            ],
            "label": "Snap",
            "method": "restyle"
           },
           {
            "args": [
             "arrangement",
             "perpendicular"
            ],
            "label": "Perpendicular",
            "method": "restyle"
           },
           {
            "args": [
             "arrangement",
             "freeform"
            ],
            "label": "Freeform",
            "method": "restyle"
           },
           {
            "args": [
             "arrangement",
             "fixed"
            ],
            "label": "Fixed",
            "method": "restyle"
           }
          ],
          "x": 0,
          "y": 1.25
         },
         {
          "buttons": [
           {
            "args": [
             "paper_bgcolor",
             "white"
            ],
            "label": "Light",
            "method": "relayout"
           },
           {
            "args": [
             "paper_bgcolor",
             "black"
            ],
            "label": "Dark",
            "method": "relayout"
           }
          ],
          "x": 0.2,
          "y": 1.25
         },
         {
          "buttons": [
           {
            "args": [
             "node.thickness",
             8
            ],
            "label": "Thin",
            "method": "restyle"
           },
           {
            "args": [
             "node.thickness",
             15
            ],
            "label": "Thick",
            "method": "restyle"
           }
          ],
          "x": 0.4,
          "y": 1.25
         },
         {
          "buttons": [
           {
            "args": [
             "node.pad",
             15
            ],
            "label": "Small gap",
            "method": "restyle"
           },
           {
            "args": [
             "node.pad",
             20
            ],
            "label": "Large gap",
            "method": "restyle"
           }
          ],
          "x": 0.6,
          "y": 1.25
         },
         {
          "buttons": [
           {
            "args": [
             "orientation",
             "h"
            ],
            "label": "Horizontal",
            "method": "restyle"
           },
           {
            "args": [
             "orientation",
             "v"
            ],
            "label": "Vertical",
            "method": "restyle"
           }
          ],
          "x": 0.8,
          "y": 1.25
         }
        ],
        "xaxis": {
         "autorange": true,
         "range": [
          -1,
          6
         ],
         "showgrid": false,
         "showticklabels": false,
         "zeroline": false
        },
        "yaxis": {
         "autorange": true,
         "range": [
          -1,
          4
         ],
         "showgrid": false,
         "showticklabels": false,
         "zeroline": false
        }
       }
      },
      "image/png": "[encoded data removed]",
      "text/html": [
       "<div>                            <div id=\"5c62e990-97dc-4bae-823a-a511d133abb4\" class=\"plotly-graph-div\" style=\"height:525px; width:100%;\"></div>            <script type=\"text/javascript\">                require([\"plotly\"], function(Plotly) {                    window.PLOTLYENV=window.PLOTLYENV || {};                                    if (document.getElementById(\"5c62e990-97dc-4bae-823a-a511d133abb4\")) {                    Plotly.newPlot(                        \"5c62e990-97dc-4bae-823a-a511d133abb4\",                        [{\"link\":{\"color\":[\"#807cba\",\"#fbfafc\",\"#fcfbfd\",\"#9f9cc9\",\"#faf9fc\",\"#fbfafc\",\"#9490c3\",\"#807cba\",\"#fbfafc\",\"#fcfbfd\",\"#9f9cc9\",\"#faf9fc\",\"#fbfafc\",\"#f2f0f7\",\"#3f007d\",\"#776cb1\",\"#fbfafc\",\"#fcfbfd\",\"#d1d2e7\",\"#817ebb\",\"#8683bd\",\"#faf9fc\",\"#fbfafc\",\"#acaad1\",\"#f2f0f7\",\"#3f007d\",\"#776cb1\",\"#fbfafc\",\"#fcfbfd\",\"#d1d2e7\",\"#827fbb\",\"#8683bd\",\"#faf9fc\",\"#8b87bf\",\"#fbfafc\",\"#f2f0f7\",\"#d4d4e8\",\"#705eaa\"],\"source\":[1,0,2,3,2,2,1,5,4,7,8,9,6,9,5,12,11,14,15,15,12,16,13,12,10,15,22,18,21,17,23,19,20,19,25,24,19,22],\"target\":[5,4,7,8,9,6,8,12,11,14,15,16,13,10,15,22,18,21,17,23,19,20,25,23,24,22,30,27,31,26,32,28,29,30,34,33,32,32],\"value\":[1189,344,480,415,176,32,2,1188,344,480,417,162,32,14,1,461,344,480,155,262,723,162,32,4,14,1,461,344,480,155,266,697,162,22,32,14,4,1]},\"node\":{\"color\":[\"#d93429\",\"#a50026\",\"#e65036\",\"#fffab7\",\"#d93429\",\"#a50026\",\"#e24731\",\"#ab0626\",\"#fffab7\",\"#fff0a8\",\"#a50026\",\"#ef633f\",\"#d62f27\",\"#f57547\",\"#f46d43\",\"#fffbb9\",\"#f57547\",\"#fecc7e\",\"#f67c4a\",\"#fdbb6d\",\"#f57547\",\"#f57547\",\"#fffbb9\",\"#fff0a8\",\"#a50026\",\"#f57547\",\"#fecc7e\",\"#f67c4a\",\"#fdbb6d\",\"#f57547\",\"#fffbb9\",\"#f57547\",\"#fff0a8\",\"#a50026\",\"#f57547\"],\"customdata\":[\"Modularity 0.96<br />Silhouette 0.25\",\"Modularity 0.96<br />Silhouette 0.32\",\"Modularity 0.96<br />Silhouette 0.22\",\"Modularity 0.96<br />Silhouette 0.01\",\"Modularity 0.93<br />Silhouette 0.25\",\"Modularity 0.93<br />Silhouette 0.32\",\"Modularity 0.93<br />Silhouette 0.23\",\"Modularity 0.93<br />Silhouette 0.31\",\"Modularity 0.93<br />Silhouette 0.01\",\"Modularity 0.93<br />Silhouette 0.03\",\"Modularity 0.91<br />Silhouette 0.4\",\"Modularity 0.91<br />Silhouette 0.25\",\"Modularity 0.91<br />Silhouette 0.32\",\"Modularity 0.91<br />Silhouette 0.23\",\"Modularity 0.91<br />Silhouette 0.24\",\"Modularity 0.91<br />Silhouette 0.01\",\"Modularity 0.91<br />Silhouette 0.23\",\"Modularity 0.89<br />Silhouette 0.11\",\"Modularity 0.89<br />Silhouette 0.22\",\"Modularity 0.89<br />Silhouette 0.14\",\"Modularity 0.89<br />Silhouette 0.23\",\"Modularity 0.89<br />Silhouette 0.23\",\"Modularity 0.89<br />Silhouette 0.01\",\"Modularity 0.89<br />Silhouette 0.04\",\"Modularity 0.89<br />Silhouette 0.4\",\"Modularity 0.89<br />Silhouette 0.23\",\"Modularity 0.87<br />Silhouette 0.11\",\"Modularity 0.87<br />Silhouette 0.22\",\"Modularity 0.87<br />Silhouette 0.14\",\"Modularity 0.87<br />Silhouette 0.23\",\"Modularity 0.87<br />Silhouette 0.01\",\"Modularity 0.87<br />Silhouette 0.23\",\"Modularity 0.87<br />Silhouette 0.04\",\"Modularity 0.87<br />Silhouette 0.4\",\"Modularity 0.87<br />Silhouette 0.23\"],\"hovertemplate\":\"%{customdata}\",\"label\":[\"res.0.1_3\",\"res.0.1_0\",\"res.0.1_1\",\"res.0.1_2\",\"res.0.2_3\",\"res.0.2_0\",\"res.0.2_5\",\"res.0.2_1\",\"res.0.2_2\",\"res.0.2_4\",\"res.0.3_6\",\"res.0.3_3\",\"res.0.3_0\",\"res.0.3_5\",\"res.0.3_1\",\"res.0.3_2\",\"res.0.3_4\",\"res.0.4_6\",\"res.0.4_3\",\"res.0.4_0\",\"res.0.4_5\",\"res.0.4_1\",\"res.0.4_2\",\"res.0.4_4\",\"res.0.4_8\",\"res.0.4_7\",\"res.0.5_6\",\"res.0.5_3\",\"res.0.5_0\",\"res.0.5_5\",\"res.0.5_1\",\"res.0.5_2\",\"res.0.5_4\",\"res.0.5_8\",\"res.0.5_7\"],\"pad\":10,\"thickness\":10},\"orientation\":\"h\",\"type\":\"sankey\"},{\"marker\":{\"colorscale\":[[0.0,\"#d93429\"],[0.029411764705882353,\"#a50026\"],[0.058823529411764705,\"#e65036\"],[0.08823529411764706,\"#fffab7\"],[0.11764705882352941,\"#d93429\"],[0.14705882352941177,\"#a50026\"],[0.17647058823529413,\"#e24731\"],[0.20588235294117646,\"#ab0626\"],[0.23529411764705882,\"#fffab7\"],[0.2647058823529412,\"#fff0a8\"],[0.29411764705882354,\"#a50026\"],[0.3235294117647059,\"#ef633f\"],[0.35294117647058826,\"#d62f27\"],[0.38235294117647056,\"#f57547\"],[0.4117647058823529,\"#f46d43\"],[0.4411764705882353,\"#fffbb9\"],[0.47058823529411764,\"#f57547\"],[0.5,\"#fecc7e\"],[0.5294117647058824,\"#f67c4a\"],[0.5588235294117647,\"#fdbb6d\"],[0.5882352941176471,\"#f57547\"],[0.6176470588235294,\"#f57547\"],[0.6470588235294118,\"#fffbb9\"],[0.6764705882352942,\"#fff0a8\"],[0.7058823529411765,\"#a50026\"],[0.7352941176470589,\"#f57547\"],[0.7647058823529411,\"#fecc7e\"],[0.7941176470588235,\"#f67c4a\"],[0.8235294117647058,\"#fdbb6d\"],[0.8529411764705882,\"#f57547\"],[0.8823529411764706,\"#fffbb9\"],[0.9117647058823529,\"#f57547\"],[0.9411764705882353,\"#fff0a8\"],[0.9705882352941176,\"#a50026\"],[1.0,\"#f57547\"]]},\"mode\":\"markers\",\"visible\":true,\"x\":[null],\"y\":[null],\"type\":\"scatter\"},{\"marker\":{\"cmax\":2.6245696606237003,\"cmin\":0.15795521061068996,\"colorscale\":[[0.0,\"#fcfbfd\"],[0.02702702702702703,\"#fcfbfd\"],[0.05405405405405406,\"#fcfbfd\"],[0.08108108108108109,\"#fcfbfd\"],[0.10810810810810811,\"#fbfafc\"],[0.13513513513513514,\"#fbfafc\"],[0.16216216216216217,\"#fbfafc\"],[0.1891891891891892,\"#fbfafc\"],[0.21621621621621623,\"#fbfafc\"],[0.24324324324324326,\"#fbfafc\"],[0.2702702702702703,\"#fbfafc\"],[0.2972972972972973,\"#fbfafc\"],[0.32432432432432434,\"#faf9fc\"],[0.35135135135135137,\"#faf9fc\"],[0.3783783783783784,\"#faf9fc\"],[0.40540540540540543,\"#faf9fc\"],[0.43243243243243246,\"#f2f0f7\"],[0.4594594594594595,\"#f2f0f7\"],[0.4864864864864865,\"#f2f0f7\"],[0.5135135135135135,\"#d4d4e8\"],[0.5405405405405406,\"#d1d2e7\"],[0.5675675675675675,\"#d1d2e7\"],[0.5945945945945946,\"#acaad1\"],[0.6216216216216216,\"#9f9cc9\"],[0.6486486486486487,\"#9f9cc9\"],[0.6756756756756757,\"#9490c3\"],[0.7027027027027027,\"#8b87bf\"],[0.7297297297297297,\"#8683bd\"],[0.7567567567567568,\"#8683bd\"],[0.7837837837837838,\"#827fbb\"],[0.8108108108108109,\"#817ebb\"],[0.8378378378378378,\"#807cba\"],[0.8648648648648649,\"#807cba\"],[0.8918918918918919,\"#776cb1\"],[0.918918918918919,\"#776cb1\"],[0.9459459459459459,\"#705eaa\"],[0.972972972972973,\"#3f007d\"],[1.0,\"#3f007d\"]],\"showscale\":true},\"mode\":\"markers\",\"visible\":true,\"x\":[null],\"y\":[null],\"type\":\"scatter\"},{\"marker\":{\"cmax\":1,\"cmin\":-1,\"colorbar\":{\"x\":1.1},\"colorscale\":[[0.0,\"#313695\"],[0.05,\"#3a54a4\"],[0.1,\"#4574b3\"],[0.15,\"#5c90c2\"],[0.2,\"#74add1\"],[0.25,\"#90c3dd\"],[0.3,\"#aad8e9\"],[0.35,\"#c5e6f0\"],[0.4,\"#e0f3f8\"],[0.45,\"#f0f9db\"],[0.5,\"#fffebe\"],[0.55,\"#fff0a8\"],[0.6,\"#fee090\"],[0.65,\"#fdc778\"],[0.7,\"#fdad60\"],[0.75,\"#f88c51\"],[0.8,\"#f46d43\"],[0.85,\"#e54e35\"],[0.9,\"#d62f27\"],[0.95,\"#bd1726\"],[1.0,\"#a50026\"]],\"showscale\":true},\"mode\":\"markers\",\"visible\":true,\"x\":[null],\"y\":[null],\"type\":\"scatter\"}],                        {\"template\":{\"data\":{\"bar\":[{\"error_x\":{\"color\":\"#2a3f5f\"},\"error_y\":{\"color\":\"#2a3f5f\"},\"marker\":{\"line\":{\"color\":\"#E5ECF6\",\"width\":0.5},\"pattern\":{\"fillmode\":\"overlay\",\"size\":10,\"solidity\":0.2}},\"type\":\"bar\"}],\"barpolar\":[{\"marker\":{\"line\":{\"color\":\"#E5ECF6\",\"width\":0.5},\"pattern\":{\"fillmode\":\"overlay\",\"size\":10,\"solidity\":0.2}},\"type\":\"barpolar\"}],\"carpet\":[{\"aaxis\":{\"endlinecolor\":\"#2a3f5f\",\"gridcolor\":\"white\",\"linecolor\":\"white\",\"minorgridcolor\":\"white\",\"startlinecolor\":\"#2a3f5f\"},\"baxis\":{\"endlinecolor\":\"#2a3f5f\",\"gridcolor\":\"white\",\"linecolor\":\"white\",\"minorgridcolor\":\"white\",\"startlinecolor\":\"#2a3f5f\"},\"type\":\"carpet\"}],\"choropleth\":[{\"colorbar\":{\"outlinewidth\":0,\"ticks\":\"\"},\"type\":\"choropleth\"}],\"contour\":[{\"colorbar\":{\"outlinewidth\":0,\"ticks\":\"\"},\"colorscale\":[[0.0,\"#0d0887\"],[0.1111111111111111,\"#46039f\"],[0.2222222222222222,\"#7201a8\"],[0.3333333333333333,\"#9c179e\"],[0.4444444444444444,\"#bd3786\"],[0.5555555555555556,\"#d8576b\"],[0.6666666666666666,\"#ed7953\"],[0.7777777777777778,\"#fb9f3a\"],[0.8888888888888888,\"#fdca26\"],[1.0,\"#f0f921\"]],\"type\":\"contour\"}],\"contourcarpet\":[{\"colorbar\":{\"outlinewidth\":0,\"ticks\":\"\"},\"type\":\"contourcarpet\"}],\"heatmap\":[{\"colorbar\":{\"outlinewidth\":0,\"ticks\":\"\"},\"colorscale\":[[0.0,\"#0d0887\"],[0.1111111111111111,\"#46039f\"],[0.2222222222222222,\"#7201a8\"],[0.3333333333333333,\"#9c179e\"],[0.4444444444444444,\"#bd3786\"],[0.5555555555555556,\"#d8576b\"],[0.6666666666666666,\"#ed7953\"],[0.7777777777777778,\"#fb9f3a\"],[0.8888888888888888,\"#fdca26\"],[1.0,\"#f0f921\"]],\"type\":\"heatmap\"}],\"heatmapgl\":[{\"colorbar\":{\"outlinewidth\":0,\"ticks\":\"\"},\"colorscale\":[[0.0,\"#0d0887\"],[0.1111111111111111,\"#46039f\"],[0.2222222222222222,\"#7201a8\"],[0.3333333333333333,\"#9c179e\"],[0.4444444444444444,\"#bd3786\"],[0.5555555555555556,\"#d8576b\"],[0.6666666666666666,\"#ed7953\"],[0.7777777777777778,\"#fb9f3a\"],[0.8888888888888888,\"#fdca26\"],[1.0,\"#f0f921\"]],\"type\":\"heatmapgl\"}],\"histogram\":[{\"marker\":{\"pattern\":{\"fillmode\":\"overlay\",\"size\":10,\"solidity\":0.2}},\"type\":\"histogram\"}],\"histogram2d\":[{\"colorbar\":{\"outlinewidth\":0,\"ticks\":\"\"},\"colorscale\":[[0.0,\"#0d0887\"],[0.1111111111111111,\"#46039f\"],[0.2222222222222222,\"#7201a8\"],[0.3333333333333333,\"#9c179e\"],[0.4444444444444444,\"#bd3786\"],[0.5555555555555556,\"#d8576b\"],[0.6666666666666666,\"#ed7953\"],[0.7777777777777778,\"#fb9f3a\"],[0.8888888888888888,\"#fdca26\"],[1.0,\"#f0f921\"]],\"type\":\"histogram2d\"}],\"histogram2dcontour\":[{\"colorbar\":{\"outlinewidth\":0,\"ticks\":\"\"},\"colorscale\":[[0.0,\"#0d0887\"],[0.1111111111111111,\"#46039f\"],[0.2222222222222222,\"#7201a8\"],[0.3333333333333333,\"#9c179e\"],[0.4444444444444444,\"#bd3786\"],[0.5555555555555556,\"#d8576b\"],[0.6666666666666666,\"#ed7953\"],[0.7777777777777778,\"#fb9f3a\"],[0.8888888888888888,\"#fdca26\"],[1.0,\"#f0f921\"]],\"type\":\"histogram2dcontour\"}],\"mesh3d\":[{\"colorbar\":{\"outlinewidth\":0,\"ticks\":\"\"},\"type\":\"mesh3d\"}],\"parcoords\":[{\"line\":{\"colorbar\":{\"outlinewidth\":0,\"ticks\":\"\"}},\"type\":\"parcoords\"}],\"pie\":[{\"automargin\":true,\"type\":\"pie\"}],\"scatter\":[{\"marker\":{\"colorbar\":{\"outlinewidth\":0,\"ticks\":\"\"}},\"type\":\"scatter\"}],\"scatter3d\":[{\"line\":{\"colorbar\":{\"outlinewidth\":0,\"ticks\":\"\"}},\"marker\":{\"colorbar\":{\"outlinewidth\":0,\"ticks\":\"\"}},\"type\":\"scatter3d\"}],\"scattercarpet\":[{\"marker\":{\"colorbar\":{\"outlinewidth\":0,\"ticks\":\"\"}},\"type\":\"scattercarpet\"}],\"scattergeo\":[{\"marker\":{\"colorbar\":{\"outlinewidth\":0,\"ticks\":\"\"}},\"type\":\"scattergeo\"}],\"scattergl\":[{\"marker\":{\"colorbar\":{\"outlinewidth\":0,\"ticks\":\"\"}},\"type\":\"scattergl\"}],\"scattermapbox\":[{\"marker\":{\"colorbar\":{\"outlinewidth\":0,\"ticks\":\"\"}},\"type\":\"scattermapbox\"}],\"scatterpolar\":[{\"marker\":{\"colorbar\":{\"outlinewidth\":0,\"ticks\":\"\"}},\"type\":\"scatterpolar\"}],\"scatterpolargl\":[{\"marker\":{\"colorbar\":{\"outlinewidth\":0,\"ticks\":\"\"}},\"type\":\"scatterpolargl\"}],\"scatterternary\":[{\"marker\":{\"colorbar\":{\"outlinewidth\":0,\"ticks\":\"\"}},\"type\":\"scatterternary\"}],\"surface\":[{\"colorbar\":{\"outlinewidth\":0,\"ticks\":\"\"},\"colorscale\":[[0.0,\"#0d0887\"],[0.1111111111111111,\"#46039f\"],[0.2222222222222222,\"#7201a8\"],[0.3333333333333333,\"#9c179e\"],[0.4444444444444444,\"#bd3786\"],[0.5555555555555556,\"#d8576b\"],[0.6666666666666666,\"#ed7953\"],[0.7777777777777778,\"#fb9f3a\"],[0.8888888888888888,\"#fdca26\"],[1.0,\"#f0f921\"]],\"type\":\"surface\"}],\"table\":[{\"cells\":{\"fill\":{\"color\":\"#EBF0F8\"},\"line\":{\"color\":\"white\"}},\"header\":{\"fill\":{\"color\":\"#C8D4E3\"},\"line\":{\"color\":\"white\"}},\"type\":\"table\"}]},\"layout\":{\"annotationdefaults\":{\"arrowcolor\":\"#2a3f5f\",\"arrowhead\":0,\"arrowwidth\":1},\"autotypenumbers\":\"strict\",\"coloraxis\":{\"colorbar\":{\"outlinewidth\":0,\"ticks\":\"\"}},\"colorscale\":{\"diverging\":[[0,\"#8e0152\"],[0.1,\"#c51b7d\"],[0.2,\"#de77ae\"],[0.3,\"#f1b6da\"],[0.4,\"#fde0ef\"],[0.5,\"#f7f7f7\"],[0.6,\"#e6f5d0\"],[0.7,\"#b8e186\"],[0.8,\"#7fbc41\"],[0.9,\"#4d9221\"],[1,\"#276419\"]],\"sequential\":[[0.0,\"#0d0887\"],[0.1111111111111111,\"#46039f\"],[0.2222222222222222,\"#7201a8\"],[0.3333333333333333,\"#9c179e\"],[0.4444444444444444,\"#bd3786\"],[0.5555555555555556,\"#d8576b\"],[0.6666666666666666,\"#ed7953\"],[0.7777777777777778,\"#fb9f3a\"],[0.8888888888888888,\"#fdca26\"],[1.0,\"#f0f921\"]],\"sequentialminus\":[[0.0,\"#0d0887\"],[0.1111111111111111,\"#46039f\"],[0.2222222222222222,\"#7201a8\"],[0.3333333333333333,\"#9c179e\"],[0.4444444444444444,\"#bd3786\"],[0.5555555555555556,\"#d8576b\"],[0.6666666666666666,\"#ed7953\"],[0.7777777777777778,\"#fb9f3a\"],[0.8888888888888888,\"#fdca26\"],[1.0,\"#f0f921\"]]},\"colorway\":[\"#636efa\",\"#EF553B\",\"#00cc96\",\"#ab63fa\",\"#FFA15A\",\"#19d3f3\",\"#FF6692\",\"#B6E880\",\"#FF97FF\",\"#FECB52\"],\"font\":{\"color\":\"#2a3f5f\"},\"geo\":{\"bgcolor\":\"white\",\"lakecolor\":\"white\",\"landcolor\":\"#E5ECF6\",\"showlakes\":true,\"showland\":true,\"subunitcolor\":\"white\"},\"hoverlabel\":{\"align\":\"left\"},\"hovermode\":\"closest\",\"mapbox\":{\"style\":\"light\"},\"paper_bgcolor\":\"white\",\"plot_bgcolor\":\"#E5ECF6\",\"polar\":{\"angularaxis\":{\"gridcolor\":\"white\",\"linecolor\":\"white\",\"ticks\":\"\"},\"bgcolor\":\"#E5ECF6\",\"radialaxis\":{\"gridcolor\":\"white\",\"linecolor\":\"white\",\"ticks\":\"\"}},\"scene\":{\"xaxis\":{\"backgroundcolor\":\"#E5ECF6\",\"gridcolor\":\"white\",\"gridwidth\":2,\"linecolor\":\"white\",\"showbackground\":true,\"ticks\":\"\",\"zerolinecolor\":\"white\"},\"yaxis\":{\"backgroundcolor\":\"#E5ECF6\",\"gridcolor\":\"white\",\"gridwidth\":2,\"linecolor\":\"white\",\"showbackground\":true,\"ticks\":\"\",\"zerolinecolor\":\"white\"},\"zaxis\":{\"backgroundcolor\":\"#E5ECF6\",\"gridcolor\":\"white\",\"gridwidth\":2,\"linecolor\":\"white\",\"showbackground\":true,\"ticks\":\"\",\"zerolinecolor\":\"white\"}},\"shapedefaults\":{\"line\":{\"color\":\"#2a3f5f\"}},\"ternary\":{\"aaxis\":{\"gridcolor\":\"white\",\"linecolor\":\"white\",\"ticks\":\"\"},\"baxis\":{\"gridcolor\":\"white\",\"linecolor\":\"white\",\"ticks\":\"\"},\"bgcolor\":\"#E5ECF6\",\"caxis\":{\"gridcolor\":\"white\",\"linecolor\":\"white\",\"ticks\":\"\"}},\"title\":{\"x\":0.05},\"xaxis\":{\"automargin\":true,\"gridcolor\":\"white\",\"linecolor\":\"white\",\"ticks\":\"\",\"title\":{\"standoff\":15},\"zerolinecolor\":\"white\",\"zerolinewidth\":2},\"yaxis\":{\"automargin\":true,\"gridcolor\":\"white\",\"linecolor\":\"white\",\"ticks\":\"\",\"title\":{\"standoff\":15},\"zerolinecolor\":\"white\",\"zerolinewidth\":2}}},\"updatemenus\":[{\"buttons\":[{\"args\":[{\"visible\":[true,true,true],\"link\":{\"source\":[1,0,2,3,2,2,1,5,4,7,8,9,6,9,5,12,11,14,15,15,12,16,13,12,10,15,22,18,21,17,23,19,20,19,25,24,19,22],\"target\":[5,4,7,8,9,6,8,12,11,14,15,16,13,10,15,22,18,21,17,23,19,20,25,23,24,22,30,27,31,26,32,28,29,30,34,33,32,32],\"color\":[\"#807cba\",\"#fbfafc\",\"#fcfbfd\",\"#9f9cc9\",\"#faf9fc\",\"#fbfafc\",\"#9490c3\",\"#807cba\",\"#fbfafc\",\"#fcfbfd\",\"#9f9cc9\",\"#faf9fc\",\"#fbfafc\",\"#f2f0f7\",\"#3f007d\",\"#776cb1\",\"#fbfafc\",\"#fcfbfd\",\"#d1d2e7\",\"#817ebb\",\"#8683bd\",\"#faf9fc\",\"#fbfafc\",\"#acaad1\",\"#f2f0f7\",\"#3f007d\",\"#776cb1\",\"#fbfafc\",\"#fcfbfd\",\"#d1d2e7\",\"#827fbb\",\"#8683bd\",\"#faf9fc\",\"#8b87bf\",\"#fbfafc\",\"#f2f0f7\",\"#d4d4e8\",\"#705eaa\"],\"value\":[1189,344,480,415,176,32,2,1188,344,480,417,162,32,14,1,461,344,480,155,262,723,162,32,4,14,1,461,344,480,155,266,697,162,22,32,14,4,1]}}],\"label\":\"CD3E\",\"method\":\"update\"}],\"y\":0.9},{\"buttons\":[{\"args\":[\"arrangement\",\"snap\"],\"label\":\"Snap\",\"method\":\"restyle\"},{\"args\":[\"arrangement\",\"perpendicular\"],\"label\":\"Perpendicular\",\"method\":\"restyle\"},{\"args\":[\"arrangement\",\"freeform\"],\"label\":\"Freeform\",\"method\":\"restyle\"},{\"args\":[\"arrangement\",\"fixed\"],\"label\":\"Fixed\",\"method\":\"restyle\"}],\"x\":0,\"y\":1.25},{\"buttons\":[{\"args\":[\"paper_bgcolor\",\"white\"],\"label\":\"Light\",\"method\":\"relayout\"},{\"args\":[\"paper_bgcolor\",\"black\"],\"label\":\"Dark\",\"method\":\"relayout\"}],\"x\":0.2,\"y\":1.25},{\"buttons\":[{\"args\":[\"node.thickness\",8],\"label\":\"Thin\",\"method\":\"restyle\"},{\"args\":[\"node.thickness\",15],\"label\":\"Thick\",\"method\":\"restyle\"}],\"x\":0.4,\"y\":1.25},{\"buttons\":[{\"args\":[\"node.pad\",15],\"label\":\"Small gap\",\"method\":\"restyle\"},{\"args\":[\"node.pad\",20],\"label\":\"Large gap\",\"method\":\"restyle\"}],\"x\":0.6,\"y\":1.25},{\"buttons\":[{\"args\":[\"orientation\",\"h\"],\"label\":\"Horizontal\",\"method\":\"restyle\"},{\"args\":[\"orientation\",\"v\"],\"label\":\"Vertical\",\"method\":\"restyle\"}],\"x\":0.8,\"y\":1.25}],\"xaxis\":{\"showticklabels\":false,\"showgrid\":false,\"zeroline\":false},\"yaxis\":{\"showticklabels\":false,\"showgrid\":false,\"zeroline\":false},\"showlegend\":false,\"plot_bgcolor\":\"rgba(0, 0, 0, 0)\",\"paper_bgcolor\":\"rgba(0, 0, 0, 0)\"},                        {\"responsive\": true}                    ).then(function(){\n",
       "                            \n",
       "var gd = document.getElementById('5c62e990-97dc-4bae-823a-a511d133abb4');\n",
       "var x = new MutationObserver(function (mutations, observer) {{\n",
       "        var display = window.getComputedStyle(gd).display;\n",
       "        if (!display || display === 'none') {{\n",
       "            console.log([gd, 'removed!']);\n",
       "            Plotly.purge(gd);\n",
       "            observer.disconnect();\n",
       "        }}\n",
       "}});\n",
       "\n",
       "// Listen for the removal of the full notebook cells\n",
       "var notebookContainer = gd.closest('#notebook-container');\n",
       "if (notebookContainer) {{\n",
       "    x.observe(notebookContainer, {childList: true});\n",
       "}}\n",
       "\n",
       "// Listen for the clearing of the current output cell\n",
       "var outputEl = gd.closest('.output');\n",
       "if (outputEl) {{\n",
       "    x.observe(outputEl, {childList: true});\n",
       "}}\n",
       "\n",
       "                        })                };                });            </script>        </div>"
      ]
     },
     "metadata": {},
     "output_type": "display_data"
    }
   ],
   "source": [
    "sankey_fig.show()"
   ]
  },
  {
   "cell_type": "code",
   "execution_count": 10,
   "metadata": {},
   "outputs": [
    {
     "data": {
      "text/plain": [
       "'PBMC_tutorial.html'"
      ]
     },
     "execution_count": 10,
     "metadata": {},
     "output_type": "execute_result"
    }
   ],
   "source": [
    "plotly.offline.plot(sankey_fig, filename='PBMC_tutorial.html') # export to html file"
   ]
  },
  {
   "cell_type": "markdown",
   "metadata": {},
   "source": [
    "# Figure 1 B"
   ]
  },
  {
   "cell_type": "markdown",
   "metadata": {},
   "source": [
    "## Import GSEA Data"
   ]
  },
  {
   "cell_type": "code",
   "execution_count": 164,
   "metadata": {},
   "outputs": [],
   "source": [
    "class EnrichmentSankey:\n",
    "    def __init__(self, \n",
    "                 sankey_dict,\n",
    "                 genset_oi,\n",
    "                 enrichment_df,\n",
    "                 leading_edge\n",
    "                ):\n",
    "        \"\"\"\n",
    "        Keyword arguments:\n",
    "        - sankey_dict\n",
    "        - geneset_oi\n",
    "        - enrichment_df\n",
    "        - leading_edge\n",
    "        \"\"\"\n",
    "        self.sankey_dict = sankey_dict\n",
    "        self.geneset_oi = geneset_oi\n",
    "        self.enrichment_df = enrichment_df\n",
    "        self.leading_edge = leading_edge\n",
    "        \n",
    "    def _create_enrichment_dict(self):\n",
    "        \"\"\"\n",
    "        \"\"\"\n",
    "        # Retrieve geneset(s) of interest's enrichment scores across multi-resolutions\n",
    "        enrichment_dict = {} # keys are the geneset name and values are the multi-resolution enrichment scores\n",
    "        for geneset in self.geneset_oi:\n",
    "            enrichment_dict[geneset] = self.enrichment_df.loc[self.enrichment_df['gene.set']== geneset, ['res_cluster', 'combined.score']]\n",
    "        return enrichment_dict\n",
    "\n",
    "    def _add_enrichment(self, enrichment_dict):\n",
    "        \"\"\"\n",
    "        Parameters\n",
    "        ----------\n",
    "        enrichment_dict : dict\n",
    "        \"\"\"\n",
    "        for geneset_name, geneset_df in enrichment_dict.items():\n",
    "            geneset_df = geneset_df.rename(columns = {'combined.score':geneset_name+'_combined.score'})\n",
    "            self.sankey_dict['node_data'] = pd.merge(self.sankey_dict['node_data'],\n",
    "                                                     geneset_df,\n",
    "                                                     left_on='node_labels',\n",
    "                                                     right_on='res_cluster')\n",
    "            norm = matplotlib.colors.Normalize(vmin=min(self.sankey_dict['node_data'][geneset_name+'_combined.score']),\n",
    "                                               vmax=max(self.sankey_dict['node_data'][geneset_name+'_combined.score']),\n",
    "                                               clip=False)\n",
    "            mapper = cm.ScalarMappable(norm=norm, cmap=cm.YlGn)\n",
    "            sankey_dict['node_data'][geneset_name+'_hex'] = [mcolors.to_hex(mapper.to_rgba(mapper_color)) \n",
    "                                                             for mapper_color in self.sankey_dict['node_data'][geneset_name+'_combined.score'].tolist()]\n",
    "        self.sankey_dict['node_data'] = pd.merge(self.sankey_dict['node_data'],\n",
    "                                                 self.leading_edge,\n",
    "                                                 left_on='node_labels',\n",
    "                                                 right_on='res_cluster')\n",
    "        del self.sankey_dict['node_data']['res_cluster_x']\n",
    "        del self.sankey_dict['node_data']['res_cluster_y']\n",
    "\n",
    "    def run(self):\n",
    "        enrichment_dict = self._create_enrichment_dict()\n",
    "        self._add_enrichment(enrichment_dict)\n",
    "        return sankey_fig, sankey_dict"
   ]
  },
  {
   "cell_type": "code",
   "execution_count": null,
   "metadata": {},
   "outputs": [],
   "source": [
    "class BuildEnrichmentSankey:\n",
    "    def __init__(self, \n",
    "                 sankey_dict):\n",
    "        self.sankey_dict = sankey_dict\n",
    "    def run():\n",
    "        "
   ]
  },
  {
   "cell_type": "code",
   "execution_count": 165,
   "metadata": {},
   "outputs": [],
   "source": [
    "# Import data\n",
    "pbmc_gsea = pd.read_csv('../Data/PBMC/pbmc_gsea.csv', index_col=[0])\n",
    "pbmc_leading_edge_genes = pd.read_csv('../Data/PBMC/pbmc_top_genes.csv', index_col=[0])\n",
    "\n",
    "# Create a list of your gene set(s) of interest\n",
    "geneset_oi = ['antigen processing and presentation of exogenous peptide antigen via MHC class II (GO:0019886)',\n",
    "              'antigen processing and presentation of exogenous peptide antigen via MHC class I, TAP-independent (GO:0002480)']\n",
    "\n"
   ]
  },
  {
   "cell_type": "code",
   "execution_count": 166,
   "metadata": {},
   "outputs": [],
   "source": [
    "sankey_fig, sankey_dict = EnrichmentSankey(sankey_dict,\n",
    "                                           geneset_oi,\n",
    "                                           pbmc_gsea,\n",
    "                                           pbmc_leading_edge_genes).run()"
   ]
  },
  {
   "cell_type": "code",
   "execution_count": null,
   "metadata": {},
   "outputs": [],
   "source": []
  },
  {
   "cell_type": "code",
   "execution_count": null,
   "metadata": {},
   "outputs": [],
   "source": []
  },
  {
   "cell_type": "code",
   "execution_count": null,
   "metadata": {},
   "outputs": [],
   "source": []
  },
  {
   "cell_type": "code",
   "execution_count": null,
   "metadata": {},
   "outputs": [],
   "source": []
  },
  {
   "cell_type": "code",
   "execution_count": null,
   "metadata": {},
   "outputs": [],
   "source": []
  },
  {
   "cell_type": "code",
   "execution_count": 128,
   "metadata": {},
   "outputs": [],
   "source": [
    "gsea_dict = {} # keys are the geneset name and values are the multi-resolution enrichment scores\n",
    "for geneset in geneset_oi:\n",
    "    gsea_dict[geneset] = pbmc_gsea.loc[pbmc_gsea['gene.set']== geneset, ['res_cluster', 'combined.score']]"
   ]
  },
  {
   "cell_type": "code",
   "execution_count": 129,
   "metadata": {
    "tags": []
   },
   "outputs": [],
   "source": [
    "# Add gsea data to sankey_dict['node_data']\n",
    "for geneset_name, geneset_df in gsea_dict.items():\n",
    "    geneset_df = geneset_df.rename(columns = {'combined.score':geneset_name+'_combined.score'})\n",
    "    sankey_dict['node_data'] = pd.mergsankey_dicte(sankey_dict['node_data'], \n",
    "                                        geneset_df, \n",
    "                                        left_on='node_labels', \n",
    "                                        right_on='res_cluster')\n",
    "    norm = matplotlib.colors.Normalize(vmin=min(sankey_dict['node_data'][geneset_name+'_combined.score']),\n",
    "                                       vmax=max(sankey_dict['node_data'][geneset_name+'_combined.score']),\n",
    "                                       clip=False)\n",
    "    mapper = cm.ScalarMappable(norm=norm, cmap=cm.YlGn)\n",
    "    sankey_dict['node_data'][geneset_name+'_hex'] = [mcolors.to_hex(mapper.to_rgba(mapper_color)) \n",
    "                                                     for mapper_color in sankey_dict['node_data'][geneset_name+'_combined.score'].tolist()]\n",
    "    \n",
    "sankey_dict['node_data'] = pd.merge(sankey_dict['node_data'], \n",
    "                                    pbmc_leading_edge_genes,\n",
    "                                    left_on='node_labels', right_on='res_cluster')\n",
    "del sankey_dict['node_data']['res_cluster_x']\n",
    "del sankey_dict['node_data']['res_cluster_y']"
   ]
  },
  {
   "cell_type": "code",
   "execution_count": 133,
   "metadata": {},
   "outputs": [
    {
     "data": {
      "application/vnd.plotly.v1+json": {
       "config": {
        "plotlyServerURL": "https://plot.ly"
       },
       "data": [
        {
         "link": {
          "color": [
           "#807cba",
           "#fbfafc",
           "#fcfbfd",
           "#9f9cc9",
           "#faf9fc",
           "#fbfafc",
           "#9490c3",
           "#807cba",
           "#fbfafc",
           "#fcfbfd",
           "#9f9cc9",
           "#faf9fc",
           "#fbfafc",
           "#f2f0f7",
           "#3f007d",
           "#776cb1",
           "#fbfafc",
           "#fcfbfd",
           "#d1d2e7",
           "#817ebb",
           "#8683bd",
           "#faf9fc",
           "#fbfafc",
           "#acaad1",
           "#f2f0f7",
           "#3f007d",
           "#776cb1",
           "#fbfafc",
           "#fcfbfd",
           "#d1d2e7",
           "#827fbb",
           "#8683bd",
           "#faf9fc",
           "#8b87bf",
           "#fbfafc",
           "#f2f0f7",
           "#d4d4e8",
           "#705eaa"
          ],
          "source": [
           1,
           0,
           2,
           3,
           2,
           2,
           1,
           5,
           4,
           7,
           8,
           9,
           6,
           9,
           5,
           12,
           11,
           14,
           15,
           15,
           12,
           16,
           13,
           12,
           10,
           15,
           22,
           18,
           21,
           17,
           23,
           19,
           20,
           19,
           25,
           24,
           19,
           22
          ],
          "target": [
           5,
           4,
           7,
           8,
           9,
           6,
           8,
           12,
           11,
           14,
           15,
           16,
           13,
           10,
           15,
           22,
           18,
           21,
           17,
           23,
           19,
           20,
           25,
           23,
           24,
           22,
           30,
           27,
           31,
           26,
           32,
           28,
           29,
           30,
           34,
           33,
           32,
           32
          ],
          "value": [
           1189,
           344,
           480,
           415,
           176,
           32,
           2,
           1188,
           344,
           480,
           417,
           162,
           32,
           14,
           1,
           461,
           344,
           480,
           155,
           262,
           723,
           162,
           32,
           4,
           14,
           1,
           461,
           344,
           480,
           155,
           266,
           697,
           162,
           22,
           32,
           14,
           4,
           1
          ]
         },
         "node": {
          "color": [
           "#ffffe5",
           "#ffffe5",
           "#ffffe5",
           "#75c578",
           "#ffffe5",
           "#ffffe5",
           "#ffffe5",
           "#ffffe5",
           "#70c275",
           "#ffffe5",
           "#fdfeda",
           "#ffffe5",
           "#ffffe5",
           "#ffffe5",
           "#ffffe5",
           "#6dc073",
           "#ffffe5",
           "#ccea9d",
           "#ffffe5",
           "#ffffe5",
           "#ffffe5",
           "#ffffe5",
           "#ffffe5",
           "#004a2b",
           "#fdfeda",
           "#ffffe5",
           "#ccea9d",
           "#ffffe5",
           "#ffffe5",
           "#ffffe5",
           "#ffffe5",
           "#ffffe5",
           "#004529",
           "#fdfeda",
           "#ffffe5"
          ],
          "customdata": [
           "<br />antigen processing and presentation of exogenous peptide antigen via MHC class I, TAP-independent (GO:0002480)<br />Gene Set Score: 0.0<br />Top Genes: CD79A,MS4A1,CD79B,LINC00926,TCL1A",
           "<br />antigen processing and presentation of exogenous peptide antigen via MHC class I, TAP-independent (GO:0002480)<br />Gene Set Score: 0.0<br />Top Genes: LDHB,RPS12,CD3D,RPS25,RPS3",
           "<br />antigen processing and presentation of exogenous peptide antigen via MHC class I, TAP-independent (GO:0002480)<br />Gene Set Score: 0.0<br />Top Genes: S100A9,S100A8,LYZ,CST3,LST1",
           "<br />antigen processing and presentation of exogenous peptide antigen via MHC class I, TAP-independent (GO:0002480)<br />Gene Set Score: 1426.25056809731<br />Top Genes: NKG7,CST7,GZMA,PRF1,CTSW",
           "<br />antigen processing and presentation of exogenous peptide antigen via MHC class I, TAP-independent (GO:0002480)<br />Gene Set Score: 0.0<br />Top Genes: CD79A,MS4A1,CD79B,LINC00926,TCL1A",
           "<br />antigen processing and presentation of exogenous peptide antigen via MHC class I, TAP-independent (GO:0002480)<br />Gene Set Score: 0.0<br />Top Genes: LDHB,RPS12,CD3D,RPS25,RPS3",
           "<br />antigen processing and presentation of exogenous peptide antigen via MHC class I, TAP-independent (GO:0002480)<br />Gene Set Score: 0.0<br />Top Genes: FCER1A,SERPINF1,CLEC10A,ENHO,CLIC2",
           "<br />antigen processing and presentation of exogenous peptide antigen via MHC class I, TAP-independent (GO:0002480)<br />Gene Set Score: 0.0<br />Top Genes: S100A9,S100A8,LGALS2,FCN1,CD14",
           "<br />antigen processing and presentation of exogenous peptide antigen via MHC class I, TAP-independent (GO:0002480)<br />Gene Set Score: 1460.65871885986<br />Top Genes: NKG7,CST7,GZMA,PRF1,CTSW",
           "<br />antigen processing and presentation of exogenous peptide antigen via MHC class I, TAP-independent (GO:0002480)<br />Gene Set Score: 0.0<br />Top Genes: CDKN1C,HES4,RP11-290F20.3,MS4A7,FCGR3A",
           "<br />antigen processing and presentation of exogenous peptide antigen via MHC class I, TAP-independent (GO:0002480)<br />Gene Set Score: 97.4426389716303<br />Top Genes: GP9,ITGA2B,TMEM40,AP001189.4,LY6G6F",
           "<br />antigen processing and presentation of exogenous peptide antigen via MHC class I, TAP-independent (GO:0002480)<br />Gene Set Score: 0.0<br />Top Genes: CD79A,MS4A1,CD79B,LINC00926,TCL1A",
           "<br />antigen processing and presentation of exogenous peptide antigen via MHC class I, TAP-independent (GO:0002480)<br />Gene Set Score: 0.0<br />Top Genes: LDHB,RPS12,CD3D,RPS25,RPS3",
           "<br />antigen processing and presentation of exogenous peptide antigen via MHC class I, TAP-independent (GO:0002480)<br />Gene Set Score: 0.0<br />Top Genes: FCER1A,SERPINF1,CLEC10A,ENHO,CLIC2",
           "<br />antigen processing and presentation of exogenous peptide antigen via MHC class I, TAP-independent (GO:0002480)<br />Gene Set Score: 0.0<br />Top Genes: S100A9,S100A8,LGALS2,FCN1,CD14",
           "<br />antigen processing and presentation of exogenous peptide antigen via MHC class I, TAP-independent (GO:0002480)<br />Gene Set Score: 1478.41234006271<br />Top Genes: NKG7,CST7,GZMA,PRF1,CTSW",
           "<br />antigen processing and presentation of exogenous peptide antigen via MHC class I, TAP-independent (GO:0002480)<br />Gene Set Score: 0.0<br />Top Genes: CDKN1C,HES4,RP11-290F20.3,MS4A7,FCGR3A",
           "<br />antigen processing and presentation of exogenous peptide antigen via MHC class I, TAP-independent (GO:0002480)<br />Gene Set Score: 803.677482768284<br />Top Genes: GZMB,FGFBP2,SPON2,PRF1,GNLY",
           "<br />antigen processing and presentation of exogenous peptide antigen via MHC class I, TAP-independent (GO:0002480)<br />Gene Set Score: 0.0<br />Top Genes: CD79A,MS4A1,CD79B,LINC00926,TCL1A",
           "<br />antigen processing and presentation of exogenous peptide antigen via MHC class I, TAP-independent (GO:0002480)<br />Gene Set Score: 0.0<br />Top Genes: RPS12,RPS6,RPS27,RPL32,RPS14",
           "<br />antigen processing and presentation of exogenous peptide antigen via MHC class I, TAP-independent (GO:0002480)<br />Gene Set Score: 0.0<br />Top Genes: CDKN1C,HES4,RP11-290F20.3,MS4A7,FCGR3A",
           "<br />antigen processing and presentation of exogenous peptide antigen via MHC class I, TAP-independent (GO:0002480)<br />Gene Set Score: 0.0<br />Top Genes: S100A9,S100A8,LGALS2,FCN1,CD14",
           "<br />antigen processing and presentation of exogenous peptide antigen via MHC class I, TAP-independent (GO:0002480)<br />Gene Set Score: 0.0<br />Top Genes: IL32,LTB,CD3D,IL7R,LDHB",
           "<br />antigen processing and presentation of exogenous peptide antigen via MHC class I, TAP-independent (GO:0002480)<br />Gene Set Score: 2762.78125461411<br />Top Genes: CCL5,NKG7,CST7,GZMA,GZMK",
           "<br />antigen processing and presentation of exogenous peptide antigen via MHC class I, TAP-independent (GO:0002480)<br />Gene Set Score: 97.4426389716303<br />Top Genes: GP9,ITGA2B,TMEM40,AP001189.4,LY6G6F",
           "<br />antigen processing and presentation of exogenous peptide antigen via MHC class I, TAP-independent (GO:0002480)<br />Gene Set Score: 0.0<br />Top Genes: FCER1A,SERPINF1,CLEC10A,ENHO,CLIC2",
           "<br />antigen processing and presentation of exogenous peptide antigen via MHC class I, TAP-independent (GO:0002480)<br />Gene Set Score: 803.677482768284<br />Top Genes: GZMB,FGFBP2,SPON2,PRF1,GNLY",
           "<br />antigen processing and presentation of exogenous peptide antigen via MHC class I, TAP-independent (GO:0002480)<br />Gene Set Score: 0.0<br />Top Genes: CD79A,MS4A1,CD79B,LINC00926,TCL1A",
           "<br />antigen processing and presentation of exogenous peptide antigen via MHC class I, TAP-independent (GO:0002480)<br />Gene Set Score: 0.0<br />Top Genes: RPS12,RPS27,RPS6,RPL32,RPS14",
           "<br />antigen processing and presentation of exogenous peptide antigen via MHC class I, TAP-independent (GO:0002480)<br />Gene Set Score: 0.0<br />Top Genes: CDKN1C,HES4,RP11-290F20.3,MS4A7,FCGR3A",
           "<br />antigen processing and presentation of exogenous peptide antigen via MHC class I, TAP-independent (GO:0002480)<br />Gene Set Score: 0.0<br />Top Genes: IL32,LTB,CD3D,IL7R,LDHB",
           "<br />antigen processing and presentation of exogenous peptide antigen via MHC class I, TAP-independent (GO:0002480)<br />Gene Set Score: 0.0<br />Top Genes: S100A9,S100A8,LGALS2,FCN1,CD14",
           "<br />antigen processing and presentation of exogenous peptide antigen via MHC class I, TAP-independent (GO:0002480)<br />Gene Set Score: 2817.85023679681<br />Top Genes: CCL5,NKG7,GZMA,CST7,GZMK",
           "<br />antigen processing and presentation of exogenous peptide antigen via MHC class I, TAP-independent (GO:0002480)<br />Gene Set Score: 97.4426389716303<br />Top Genes: GP9,ITGA2B,TMEM40,AP001189.4,LY6G6F",
           "<br />antigen processing and presentation of exogenous peptide antigen via MHC class I, TAP-independent (GO:0002480)<br />Gene Set Score: 0.0<br />Top Genes: FCER1A,SERPINF1,CLEC10A,ENHO,CLIC2"
          ],
          "hovertemplate": "%{customdata}",
          "label": [
           "res.0.1_3",
           "res.0.1_0",
           "res.0.1_1",
           "res.0.1_2",
           "res.0.2_3",
           "res.0.2_0",
           "res.0.2_5",
           "res.0.2_1",
           "res.0.2_2",
           "res.0.2_4",
           "res.0.3_6",
           "res.0.3_3",
           "res.0.3_0",
           "res.0.3_5",
           "res.0.3_1",
           "res.0.3_2",
           "res.0.3_4",
           "res.0.4_6",
           "res.0.4_3",
           "res.0.4_0",
           "res.0.4_5",
           "res.0.4_1",
           "res.0.4_2",
           "res.0.4_4",
           "res.0.4_8",
           "res.0.4_7",
           "res.0.5_6",
           "res.0.5_3",
           "res.0.5_0",
           "res.0.5_5",
           "res.0.5_1",
           "res.0.5_2",
           "res.0.5_4",
           "res.0.5_8",
           "res.0.5_7"
          ],
          "pad": 10,
          "thickness": 10
         },
         "orientation": "h",
         "type": "sankey"
        },
        {
         "marker": {
          "cmax": 2.6245696606237003,
          "cmin": 0.15795521061068996,
          "colorscale": [
           [
            0,
            "#fcfbfd"
           ],
           [
            0.02702702702702703,
            "#fcfbfd"
           ],
           [
            0.05405405405405406,
            "#fcfbfd"
           ],
           [
            0.08108108108108109,
            "#fcfbfd"
           ],
           [
            0.10810810810810811,
            "#fbfafc"
           ],
           [
            0.13513513513513514,
            "#fbfafc"
           ],
           [
            0.16216216216216217,
            "#fbfafc"
           ],
           [
            0.1891891891891892,
            "#fbfafc"
           ],
           [
            0.21621621621621623,
            "#fbfafc"
           ],
           [
            0.24324324324324326,
            "#fbfafc"
           ],
           [
            0.2702702702702703,
            "#fbfafc"
           ],
           [
            0.2972972972972973,
            "#fbfafc"
           ],
           [
            0.32432432432432434,
            "#faf9fc"
           ],
           [
            0.35135135135135137,
            "#faf9fc"
           ],
           [
            0.3783783783783784,
            "#faf9fc"
           ],
           [
            0.40540540540540543,
            "#faf9fc"
           ],
           [
            0.43243243243243246,
            "#f2f0f7"
           ],
           [
            0.4594594594594595,
            "#f2f0f7"
           ],
           [
            0.4864864864864865,
            "#f2f0f7"
           ],
           [
            0.5135135135135135,
            "#d4d4e8"
           ],
           [
            0.5405405405405406,
            "#d1d2e7"
           ],
           [
            0.5675675675675675,
            "#d1d2e7"
           ],
           [
            0.5945945945945946,
            "#acaad1"
           ],
           [
            0.6216216216216216,
            "#9f9cc9"
           ],
           [
            0.6486486486486487,
            "#9f9cc9"
           ],
           [
            0.6756756756756757,
            "#9490c3"
           ],
           [
            0.7027027027027027,
            "#8b87bf"
           ],
           [
            0.7297297297297297,
            "#8683bd"
           ],
           [
            0.7567567567567568,
            "#8683bd"
           ],
           [
            0.7837837837837838,
            "#827fbb"
           ],
           [
            0.8108108108108109,
            "#817ebb"
           ],
           [
            0.8378378378378378,
            "#807cba"
           ],
           [
            0.8648648648648649,
            "#807cba"
           ],
           [
            0.8918918918918919,
            "#776cb1"
           ],
           [
            0.918918918918919,
            "#776cb1"
           ],
           [
            0.9459459459459459,
            "#705eaa"
           ],
           [
            0.972972972972973,
            "#3f007d"
           ],
           [
            1,
            "#3f007d"
           ]
          ],
          "showscale": true
         },
         "mode": "markers",
         "type": "scatter",
         "visible": true,
         "x": [
          null
         ],
         "y": [
          null
         ]
        },
        {
         "marker": {
          "cmax": 2817.85023679681,
          "cmin": 0,
          "colorbar": {
           "x": 1.1,
           "y": 0.5
          },
          "colorscale": [
           [
            0,
            "#ffffe5"
           ],
           [
            0.029411764705882353,
            "#ffffe5"
           ],
           [
            0.058823529411764705,
            "#ffffe5"
           ],
           [
            0.08823529411764706,
            "#ffffe5"
           ],
           [
            0.11764705882352941,
            "#ffffe5"
           ],
           [
            0.14705882352941177,
            "#ffffe5"
           ],
           [
            0.17647058823529413,
            "#ffffe5"
           ],
           [
            0.20588235294117646,
            "#ffffe5"
           ],
           [
            0.23529411764705882,
            "#ffffe5"
           ],
           [
            0.2647058823529412,
            "#ffffe5"
           ],
           [
            0.29411764705882354,
            "#ffffe5"
           ],
           [
            0.3235294117647059,
            "#ffffe5"
           ],
           [
            0.35294117647058826,
            "#ffffe5"
           ],
           [
            0.38235294117647056,
            "#ffffe5"
           ],
           [
            0.4117647058823529,
            "#ffffe5"
           ],
           [
            0.4411764705882353,
            "#ffffe5"
           ],
           [
            0.47058823529411764,
            "#ffffe5"
           ],
           [
            0.5,
            "#ffffe5"
           ],
           [
            0.5294117647058824,
            "#ffffe5"
           ],
           [
            0.5588235294117647,
            "#ffffe5"
           ],
           [
            0.5882352941176471,
            "#ffffe5"
           ],
           [
            0.6176470588235294,
            "#ffffe5"
           ],
           [
            0.6470588235294118,
            "#ffffe5"
           ],
           [
            0.6764705882352942,
            "#ffffe5"
           ],
           [
            0.7058823529411765,
            "#ffffe5"
           ],
           [
            0.7352941176470589,
            "#fdfeda"
           ],
           [
            0.7647058823529411,
            "#fdfeda"
           ],
           [
            0.7941176470588235,
            "#fdfeda"
           ],
           [
            0.8235294117647058,
            "#ccea9d"
           ],
           [
            0.8529411764705882,
            "#ccea9d"
           ],
           [
            0.8823529411764706,
            "#75c578"
           ],
           [
            0.9117647058823529,
            "#70c275"
           ],
           [
            0.9411764705882353,
            "#6dc073"
           ],
           [
            0.9705882352941176,
            "#004a2b"
           ],
           [
            1,
            "#004529"
           ]
          ],
          "showscale": true
         },
         "mode": "markers",
         "type": "scatter",
         "visible": true,
         "x": [
          null
         ],
         "y": [
          null
         ]
        }
       ],
       "layout": {
        "autosize": true,
        "paper_bgcolor": "rgba(0, 0, 0, 0)",
        "plot_bgcolor": "rgba(0, 0, 0, 0)",
        "showlegend": false,
        "template": {
         "data": {
          "bar": [
           {
            "error_x": {
             "color": "#2a3f5f"
            },
            "error_y": {
             "color": "#2a3f5f"
            },
            "marker": {
             "line": {
              "color": "#E5ECF6",
              "width": 0.5
             },
             "pattern": {
              "fillmode": "overlay",
              "size": 10,
              "solidity": 0.2
             }
            },
            "type": "bar"
           }
          ],
          "barpolar": [
           {
            "marker": {
             "line": {
              "color": "#E5ECF6",
              "width": 0.5
             },
             "pattern": {
              "fillmode": "overlay",
              "size": 10,
              "solidity": 0.2
             }
            },
            "type": "barpolar"
           }
          ],
          "carpet": [
           {
            "aaxis": {
             "endlinecolor": "#2a3f5f",
             "gridcolor": "white",
             "linecolor": "white",
             "minorgridcolor": "white",
             "startlinecolor": "#2a3f5f"
            },
            "baxis": {
             "endlinecolor": "#2a3f5f",
             "gridcolor": "white",
             "linecolor": "white",
             "minorgridcolor": "white",
             "startlinecolor": "#2a3f5f"
            },
            "type": "carpet"
           }
          ],
          "choropleth": [
           {
            "colorbar": {
             "outlinewidth": 0,
             "ticks": ""
            },
            "type": "choropleth"
           }
          ],
          "contour": [
           {
            "colorbar": {
             "outlinewidth": 0,
             "ticks": ""
            },
            "colorscale": [
             [
              0,
              "#0d0887"
             ],
             [
              0.1111111111111111,
              "#46039f"
             ],
             [
              0.2222222222222222,
              "#7201a8"
             ],
             [
              0.3333333333333333,
              "#9c179e"
             ],
             [
              0.4444444444444444,
              "#bd3786"
             ],
             [
              0.5555555555555556,
              "#d8576b"
             ],
             [
              0.6666666666666666,
              "#ed7953"
             ],
             [
              0.7777777777777778,
              "#fb9f3a"
             ],
             [
              0.8888888888888888,
              "#fdca26"
             ],
             [
              1,
              "#f0f921"
             ]
            ],
            "type": "contour"
           }
          ],
          "contourcarpet": [
           {
            "colorbar": {
             "outlinewidth": 0,
             "ticks": ""
            },
            "type": "contourcarpet"
           }
          ],
          "heatmap": [
           {
            "colorbar": {
             "outlinewidth": 0,
             "ticks": ""
            },
            "colorscale": [
             [
              0,
              "#0d0887"
             ],
             [
              0.1111111111111111,
              "#46039f"
             ],
             [
              0.2222222222222222,
              "#7201a8"
             ],
             [
              0.3333333333333333,
              "#9c179e"
             ],
             [
              0.4444444444444444,
              "#bd3786"
             ],
             [
              0.5555555555555556,
              "#d8576b"
             ],
             [
              0.6666666666666666,
              "#ed7953"
             ],
             [
              0.7777777777777778,
              "#fb9f3a"
             ],
             [
              0.8888888888888888,
              "#fdca26"
             ],
             [
              1,
              "#f0f921"
             ]
            ],
            "type": "heatmap"
           }
          ],
          "heatmapgl": [
           {
            "colorbar": {
             "outlinewidth": 0,
             "ticks": ""
            },
            "colorscale": [
             [
              0,
              "#0d0887"
             ],
             [
              0.1111111111111111,
              "#46039f"
             ],
             [
              0.2222222222222222,
              "#7201a8"
             ],
             [
              0.3333333333333333,
              "#9c179e"
             ],
             [
              0.4444444444444444,
              "#bd3786"
             ],
             [
              0.5555555555555556,
              "#d8576b"
             ],
             [
              0.6666666666666666,
              "#ed7953"
             ],
             [
              0.7777777777777778,
              "#fb9f3a"
             ],
             [
              0.8888888888888888,
              "#fdca26"
             ],
             [
              1,
              "#f0f921"
             ]
            ],
            "type": "heatmapgl"
           }
          ],
          "histogram": [
           {
            "marker": {
             "pattern": {
              "fillmode": "overlay",
              "size": 10,
              "solidity": 0.2
             }
            },
            "type": "histogram"
           }
          ],
          "histogram2d": [
           {
            "colorbar": {
             "outlinewidth": 0,
             "ticks": ""
            },
            "colorscale": [
             [
              0,
              "#0d0887"
             ],
             [
              0.1111111111111111,
              "#46039f"
             ],
             [
              0.2222222222222222,
              "#7201a8"
             ],
             [
              0.3333333333333333,
              "#9c179e"
             ],
             [
              0.4444444444444444,
              "#bd3786"
             ],
             [
              0.5555555555555556,
              "#d8576b"
             ],
             [
              0.6666666666666666,
              "#ed7953"
             ],
             [
              0.7777777777777778,
              "#fb9f3a"
             ],
             [
              0.8888888888888888,
              "#fdca26"
             ],
             [
              1,
              "#f0f921"
             ]
            ],
            "type": "histogram2d"
           }
          ],
          "histogram2dcontour": [
           {
            "colorbar": {
             "outlinewidth": 0,
             "ticks": ""
            },
            "colorscale": [
             [
              0,
              "#0d0887"
             ],
             [
              0.1111111111111111,
              "#46039f"
             ],
             [
              0.2222222222222222,
              "#7201a8"
             ],
             [
              0.3333333333333333,
              "#9c179e"
             ],
             [
              0.4444444444444444,
              "#bd3786"
             ],
             [
              0.5555555555555556,
              "#d8576b"
             ],
             [
              0.6666666666666666,
              "#ed7953"
             ],
             [
              0.7777777777777778,
              "#fb9f3a"
             ],
             [
              0.8888888888888888,
              "#fdca26"
             ],
             [
              1,
              "#f0f921"
             ]
            ],
            "type": "histogram2dcontour"
           }
          ],
          "mesh3d": [
           {
            "colorbar": {
             "outlinewidth": 0,
             "ticks": ""
            },
            "type": "mesh3d"
           }
          ],
          "parcoords": [
           {
            "line": {
             "colorbar": {
              "outlinewidth": 0,
              "ticks": ""
             }
            },
            "type": "parcoords"
           }
          ],
          "pie": [
           {
            "automargin": true,
            "type": "pie"
           }
          ],
          "scatter": [
           {
            "marker": {
             "colorbar": {
              "outlinewidth": 0,
              "ticks": ""
             }
            },
            "type": "scatter"
           }
          ],
          "scatter3d": [
           {
            "line": {
             "colorbar": {
              "outlinewidth": 0,
              "ticks": ""
             }
            },
            "marker": {
             "colorbar": {
              "outlinewidth": 0,
              "ticks": ""
             }
            },
            "type": "scatter3d"
           }
          ],
          "scattercarpet": [
           {
            "marker": {
             "colorbar": {
              "outlinewidth": 0,
              "ticks": ""
             }
            },
            "type": "scattercarpet"
           }
          ],
          "scattergeo": [
           {
            "marker": {
             "colorbar": {
              "outlinewidth": 0,
              "ticks": ""
             }
            },
            "type": "scattergeo"
           }
          ],
          "scattergl": [
           {
            "marker": {
             "colorbar": {
              "outlinewidth": 0,
              "ticks": ""
             }
            },
            "type": "scattergl"
           }
          ],
          "scattermapbox": [
           {
            "marker": {
             "colorbar": {
              "outlinewidth": 0,
              "ticks": ""
             }
            },
            "type": "scattermapbox"
           }
          ],
          "scatterpolar": [
           {
            "marker": {
             "colorbar": {
              "outlinewidth": 0,
              "ticks": ""
             }
            },
            "type": "scatterpolar"
           }
          ],
          "scatterpolargl": [
           {
            "marker": {
             "colorbar": {
              "outlinewidth": 0,
              "ticks": ""
             }
            },
            "type": "scatterpolargl"
           }
          ],
          "scatterternary": [
           {
            "marker": {
             "colorbar": {
              "outlinewidth": 0,
              "ticks": ""
             }
            },
            "type": "scatterternary"
           }
          ],
          "surface": [
           {
            "colorbar": {
             "outlinewidth": 0,
             "ticks": ""
            },
            "colorscale": [
             [
              0,
              "#0d0887"
             ],
             [
              0.1111111111111111,
              "#46039f"
             ],
             [
              0.2222222222222222,
              "#7201a8"
             ],
             [
              0.3333333333333333,
              "#9c179e"
             ],
             [
              0.4444444444444444,
              "#bd3786"
             ],
             [
              0.5555555555555556,
              "#d8576b"
             ],
             [
              0.6666666666666666,
              "#ed7953"
             ],
             [
              0.7777777777777778,
              "#fb9f3a"
             ],
             [
              0.8888888888888888,
              "#fdca26"
             ],
             [
              1,
              "#f0f921"
             ]
            ],
            "type": "surface"
           }
          ],
          "table": [
           {
            "cells": {
             "fill": {
              "color": "#EBF0F8"
             },
             "line": {
              "color": "white"
             }
            },
            "header": {
             "fill": {
              "color": "#C8D4E3"
             },
             "line": {
              "color": "white"
             }
            },
            "type": "table"
           }
          ]
         },
         "layout": {
          "annotationdefaults": {
           "arrowcolor": "#2a3f5f",
           "arrowhead": 0,
           "arrowwidth": 1
          },
          "autotypenumbers": "strict",
          "coloraxis": {
           "colorbar": {
            "outlinewidth": 0,
            "ticks": ""
           }
          },
          "colorscale": {
           "diverging": [
            [
             0,
             "#8e0152"
            ],
            [
             0.1,
             "#c51b7d"
            ],
            [
             0.2,
             "#de77ae"
            ],
            [
             0.3,
             "#f1b6da"
            ],
            [
             0.4,
             "#fde0ef"
            ],
            [
             0.5,
             "#f7f7f7"
            ],
            [
             0.6,
             "#e6f5d0"
            ],
            [
             0.7,
             "#b8e186"
            ],
            [
             0.8,
             "#7fbc41"
            ],
            [
             0.9,
             "#4d9221"
            ],
            [
             1,
             "#276419"
            ]
           ],
           "sequential": [
            [
             0,
             "#0d0887"
            ],
            [
             0.1111111111111111,
             "#46039f"
            ],
            [
             0.2222222222222222,
             "#7201a8"
            ],
            [
             0.3333333333333333,
             "#9c179e"
            ],
            [
             0.4444444444444444,
             "#bd3786"
            ],
            [
             0.5555555555555556,
             "#d8576b"
            ],
            [
             0.6666666666666666,
             "#ed7953"
            ],
            [
             0.7777777777777778,
             "#fb9f3a"
            ],
            [
             0.8888888888888888,
             "#fdca26"
            ],
            [
             1,
             "#f0f921"
            ]
           ],
           "sequentialminus": [
            [
             0,
             "#0d0887"
            ],
            [
             0.1111111111111111,
             "#46039f"
            ],
            [
             0.2222222222222222,
             "#7201a8"
            ],
            [
             0.3333333333333333,
             "#9c179e"
            ],
            [
             0.4444444444444444,
             "#bd3786"
            ],
            [
             0.5555555555555556,
             "#d8576b"
            ],
            [
             0.6666666666666666,
             "#ed7953"
            ],
            [
             0.7777777777777778,
             "#fb9f3a"
            ],
            [
             0.8888888888888888,
             "#fdca26"
            ],
            [
             1,
             "#f0f921"
            ]
           ]
          },
          "colorway": [
           "#636efa",
           "#EF553B",
           "#00cc96",
           "#ab63fa",
           "#FFA15A",
           "#19d3f3",
           "#FF6692",
           "#B6E880",
           "#FF97FF",
           "#FECB52"
          ],
          "font": {
           "color": "#2a3f5f"
          },
          "geo": {
           "bgcolor": "white",
           "lakecolor": "white",
           "landcolor": "#E5ECF6",
           "showlakes": true,
           "showland": true,
           "subunitcolor": "white"
          },
          "hoverlabel": {
           "align": "left"
          },
          "hovermode": "closest",
          "mapbox": {
           "style": "light"
          },
          "paper_bgcolor": "white",
          "plot_bgcolor": "#E5ECF6",
          "polar": {
           "angularaxis": {
            "gridcolor": "white",
            "linecolor": "white",
            "ticks": ""
           },
           "bgcolor": "#E5ECF6",
           "radialaxis": {
            "gridcolor": "white",
            "linecolor": "white",
            "ticks": ""
           }
          },
          "scene": {
           "xaxis": {
            "backgroundcolor": "#E5ECF6",
            "gridcolor": "white",
            "gridwidth": 2,
            "linecolor": "white",
            "showbackground": true,
            "ticks": "",
            "zerolinecolor": "white"
           },
           "yaxis": {
            "backgroundcolor": "#E5ECF6",
            "gridcolor": "white",
            "gridwidth": 2,
            "linecolor": "white",
            "showbackground": true,
            "ticks": "",
            "zerolinecolor": "white"
           },
           "zaxis": {
            "backgroundcolor": "#E5ECF6",
            "gridcolor": "white",
            "gridwidth": 2,
            "linecolor": "white",
            "showbackground": true,
            "ticks": "",
            "zerolinecolor": "white"
           }
          },
          "shapedefaults": {
           "line": {
            "color": "#2a3f5f"
           }
          },
          "ternary": {
           "aaxis": {
            "gridcolor": "white",
            "linecolor": "white",
            "ticks": ""
           },
           "baxis": {
            "gridcolor": "white",
            "linecolor": "white",
            "ticks": ""
           },
           "bgcolor": "#E5ECF6",
           "caxis": {
            "gridcolor": "white",
            "linecolor": "white",
            "ticks": ""
           }
          },
          "title": {
           "x": 0.05
          },
          "xaxis": {
           "automargin": true,
           "gridcolor": "white",
           "linecolor": "white",
           "ticks": "",
           "title": {
            "standoff": 15
           },
           "zerolinecolor": "white",
           "zerolinewidth": 2
          },
          "yaxis": {
           "automargin": true,
           "gridcolor": "white",
           "linecolor": "white",
           "ticks": "",
           "title": {
            "standoff": 15
           },
           "zerolinecolor": "white",
           "zerolinewidth": 2
          }
         }
        },
        "updatemenus": [
         {
          "buttons": [
           {
            "args": [
             "paper_bgcolor",
             "white"
            ],
            "label": "CD3E",
            "method": "relayout"
           },
           {
            "args": [
             "paper_bgcolor",
             "black"
            ],
            "label": "Dark",
            "method": "relayout"
           }
          ],
          "x": -0.05,
          "y": 1.2
         },
         {
          "buttons": [
           {
            "args": [
             "node.thickness",
             8
            ],
            "label": "Thin",
            "method": "restyle"
           },
           {
            "args": [
             "node.thickness",
             15
            ],
            "label": "Thick",
            "method": "restyle"
           }
          ],
          "x": -0.05,
          "y": 0.6
         },
         {
          "buttons": [
           {
            "args": [
             "arrangement",
             "snap"
            ],
            "label": "Snap",
            "method": "restyle"
           },
           {
            "args": [
             "arrangement",
             "perpendicular"
            ],
            "label": "Perpendicular",
            "method": "restyle"
           },
           {
            "args": [
             "arrangement",
             "freeform"
            ],
            "label": "Freeform",
            "method": "restyle"
           },
           {
            "args": [
             "arrangement",
             "fixed"
            ],
            "label": "Fixed",
            "method": "restyle"
           }
          ],
          "x": -0.05,
          "y": -0.2
         },
         {
          "buttons": [
           {
            "args": [
             "node.pad",
             15
            ],
            "label": "Small gap",
            "method": "restyle"
           },
           {
            "args": [
             "node.pad",
             20
            ],
            "label": "Large gap",
            "method": "restyle"
           }
          ],
          "x": -0.05,
          "y": 0
         },
         {
          "buttons": [
           {
            "args": [
             "orientation",
             "h"
            ],
            "label": "Horizontal",
            "method": "restyle"
           },
           {
            "args": [
             "orientation",
             "v"
            ],
            "label": "Vertical",
            "method": "restyle"
           }
          ],
          "x": -0.05,
          "y": 0.2
         },
         {
          "buttons": [
           {
            "args": [
             "paper_bgcolor",
             "white"
            ],
            "label": "Light",
            "method": "relayout"
           },
           {
            "args": [
             "paper_bgcolor",
             "black"
            ],
            "label": "Dark",
            "method": "relayout"
           }
          ],
          "x": -0.05,
          "y": 0.4
         }
        ],
        "xaxis": {
         "autorange": true,
         "range": [
          -1,
          6
         ],
         "showgrid": false,
         "showticklabels": false,
         "zeroline": false
        },
        "yaxis": {
         "autorange": true,
         "range": [
          -1,
          4
         ],
         "showgrid": false,
         "showticklabels": false,
         "zeroline": false
        }
       }
      },
      "image/png": "[encoded data removed]",
      "text/html": [
       "<div>                            <div id=\"d7c1820f-2d83-474c-885d-f8fb5b80e6f5\" class=\"plotly-graph-div\" style=\"height:525px; width:100%;\"></div>            <script type=\"text/javascript\">                require([\"plotly\"], function(Plotly) {                    window.PLOTLYENV=window.PLOTLYENV || {};                                    if (document.getElementById(\"d7c1820f-2d83-474c-885d-f8fb5b80e6f5\")) {                    Plotly.newPlot(                        \"d7c1820f-2d83-474c-885d-f8fb5b80e6f5\",                        [{\"link\":{\"color\":[\"#807cba\",\"#fbfafc\",\"#fcfbfd\",\"#9f9cc9\",\"#faf9fc\",\"#fbfafc\",\"#9490c3\",\"#807cba\",\"#fbfafc\",\"#fcfbfd\",\"#9f9cc9\",\"#faf9fc\",\"#fbfafc\",\"#f2f0f7\",\"#3f007d\",\"#776cb1\",\"#fbfafc\",\"#fcfbfd\",\"#d1d2e7\",\"#817ebb\",\"#8683bd\",\"#faf9fc\",\"#fbfafc\",\"#acaad1\",\"#f2f0f7\",\"#3f007d\",\"#776cb1\",\"#fbfafc\",\"#fcfbfd\",\"#d1d2e7\",\"#827fbb\",\"#8683bd\",\"#faf9fc\",\"#8b87bf\",\"#fbfafc\",\"#f2f0f7\",\"#d4d4e8\",\"#705eaa\"],\"source\":[1,0,2,3,2,2,1,5,4,7,8,9,6,9,5,12,11,14,15,15,12,16,13,12,10,15,22,18,21,17,23,19,20,19,25,24,19,22],\"target\":[5,4,7,8,9,6,8,12,11,14,15,16,13,10,15,22,18,21,17,23,19,20,25,23,24,22,30,27,31,26,32,28,29,30,34,33,32,32],\"value\":[1189,344,480,415,176,32,2,1188,344,480,417,162,32,14,1,461,344,480,155,262,723,162,32,4,14,1,461,344,480,155,266,697,162,22,32,14,4,1]},\"node\":{\"color\":[\"#ffffe5\",\"#ffffe5\",\"#ffffe5\",\"#75c578\",\"#ffffe5\",\"#ffffe5\",\"#ffffe5\",\"#ffffe5\",\"#70c275\",\"#ffffe5\",\"#fdfeda\",\"#ffffe5\",\"#ffffe5\",\"#ffffe5\",\"#ffffe5\",\"#6dc073\",\"#ffffe5\",\"#ccea9d\",\"#ffffe5\",\"#ffffe5\",\"#ffffe5\",\"#ffffe5\",\"#ffffe5\",\"#004a2b\",\"#fdfeda\",\"#ffffe5\",\"#ccea9d\",\"#ffffe5\",\"#ffffe5\",\"#ffffe5\",\"#ffffe5\",\"#ffffe5\",\"#004529\",\"#fdfeda\",\"#ffffe5\"],\"customdata\":[\"<br />antigen processing and presentation of exogenous peptide antigen via MHC class I, TAP-independent (GO:0002480)<br />Gene Set Score: 0.0<br />Top Genes: CD79A,MS4A1,CD79B,LINC00926,TCL1A\",\"<br />antigen processing and presentation of exogenous peptide antigen via MHC class I, TAP-independent (GO:0002480)<br />Gene Set Score: 0.0<br />Top Genes: LDHB,RPS12,CD3D,RPS25,RPS3\",\"<br />antigen processing and presentation of exogenous peptide antigen via MHC class I, TAP-independent (GO:0002480)<br />Gene Set Score: 0.0<br />Top Genes: S100A9,S100A8,LYZ,CST3,LST1\",\"<br />antigen processing and presentation of exogenous peptide antigen via MHC class I, TAP-independent (GO:0002480)<br />Gene Set Score: 1426.25056809731<br />Top Genes: NKG7,CST7,GZMA,PRF1,CTSW\",\"<br />antigen processing and presentation of exogenous peptide antigen via MHC class I, TAP-independent (GO:0002480)<br />Gene Set Score: 0.0<br />Top Genes: CD79A,MS4A1,CD79B,LINC00926,TCL1A\",\"<br />antigen processing and presentation of exogenous peptide antigen via MHC class I, TAP-independent (GO:0002480)<br />Gene Set Score: 0.0<br />Top Genes: LDHB,RPS12,CD3D,RPS25,RPS3\",\"<br />antigen processing and presentation of exogenous peptide antigen via MHC class I, TAP-independent (GO:0002480)<br />Gene Set Score: 0.0<br />Top Genes: FCER1A,SERPINF1,CLEC10A,ENHO,CLIC2\",\"<br />antigen processing and presentation of exogenous peptide antigen via MHC class I, TAP-independent (GO:0002480)<br />Gene Set Score: 0.0<br />Top Genes: S100A9,S100A8,LGALS2,FCN1,CD14\",\"<br />antigen processing and presentation of exogenous peptide antigen via MHC class I, TAP-independent (GO:0002480)<br />Gene Set Score: 1460.65871885986<br />Top Genes: NKG7,CST7,GZMA,PRF1,CTSW\",\"<br />antigen processing and presentation of exogenous peptide antigen via MHC class I, TAP-independent (GO:0002480)<br />Gene Set Score: 0.0<br />Top Genes: CDKN1C,HES4,RP11-290F20.3,MS4A7,FCGR3A\",\"<br />antigen processing and presentation of exogenous peptide antigen via MHC class I, TAP-independent (GO:0002480)<br />Gene Set Score: 97.4426389716303<br />Top Genes: GP9,ITGA2B,TMEM40,AP001189.4,LY6G6F\",\"<br />antigen processing and presentation of exogenous peptide antigen via MHC class I, TAP-independent (GO:0002480)<br />Gene Set Score: 0.0<br />Top Genes: CD79A,MS4A1,CD79B,LINC00926,TCL1A\",\"<br />antigen processing and presentation of exogenous peptide antigen via MHC class I, TAP-independent (GO:0002480)<br />Gene Set Score: 0.0<br />Top Genes: LDHB,RPS12,CD3D,RPS25,RPS3\",\"<br />antigen processing and presentation of exogenous peptide antigen via MHC class I, TAP-independent (GO:0002480)<br />Gene Set Score: 0.0<br />Top Genes: FCER1A,SERPINF1,CLEC10A,ENHO,CLIC2\",\"<br />antigen processing and presentation of exogenous peptide antigen via MHC class I, TAP-independent (GO:0002480)<br />Gene Set Score: 0.0<br />Top Genes: S100A9,S100A8,LGALS2,FCN1,CD14\",\"<br />antigen processing and presentation of exogenous peptide antigen via MHC class I, TAP-independent (GO:0002480)<br />Gene Set Score: 1478.41234006271<br />Top Genes: NKG7,CST7,GZMA,PRF1,CTSW\",\"<br />antigen processing and presentation of exogenous peptide antigen via MHC class I, TAP-independent (GO:0002480)<br />Gene Set Score: 0.0<br />Top Genes: CDKN1C,HES4,RP11-290F20.3,MS4A7,FCGR3A\",\"<br />antigen processing and presentation of exogenous peptide antigen via MHC class I, TAP-independent (GO:0002480)<br />Gene Set Score: 803.677482768284<br />Top Genes: GZMB,FGFBP2,SPON2,PRF1,GNLY\",\"<br />antigen processing and presentation of exogenous peptide antigen via MHC class I, TAP-independent (GO:0002480)<br />Gene Set Score: 0.0<br />Top Genes: CD79A,MS4A1,CD79B,LINC00926,TCL1A\",\"<br />antigen processing and presentation of exogenous peptide antigen via MHC class I, TAP-independent (GO:0002480)<br />Gene Set Score: 0.0<br />Top Genes: RPS12,RPS6,RPS27,RPL32,RPS14\",\"<br />antigen processing and presentation of exogenous peptide antigen via MHC class I, TAP-independent (GO:0002480)<br />Gene Set Score: 0.0<br />Top Genes: CDKN1C,HES4,RP11-290F20.3,MS4A7,FCGR3A\",\"<br />antigen processing and presentation of exogenous peptide antigen via MHC class I, TAP-independent (GO:0002480)<br />Gene Set Score: 0.0<br />Top Genes: S100A9,S100A8,LGALS2,FCN1,CD14\",\"<br />antigen processing and presentation of exogenous peptide antigen via MHC class I, TAP-independent (GO:0002480)<br />Gene Set Score: 0.0<br />Top Genes: IL32,LTB,CD3D,IL7R,LDHB\",\"<br />antigen processing and presentation of exogenous peptide antigen via MHC class I, TAP-independent (GO:0002480)<br />Gene Set Score: 2762.78125461411<br />Top Genes: CCL5,NKG7,CST7,GZMA,GZMK\",\"<br />antigen processing and presentation of exogenous peptide antigen via MHC class I, TAP-independent (GO:0002480)<br />Gene Set Score: 97.4426389716303<br />Top Genes: GP9,ITGA2B,TMEM40,AP001189.4,LY6G6F\",\"<br />antigen processing and presentation of exogenous peptide antigen via MHC class I, TAP-independent (GO:0002480)<br />Gene Set Score: 0.0<br />Top Genes: FCER1A,SERPINF1,CLEC10A,ENHO,CLIC2\",\"<br />antigen processing and presentation of exogenous peptide antigen via MHC class I, TAP-independent (GO:0002480)<br />Gene Set Score: 803.677482768284<br />Top Genes: GZMB,FGFBP2,SPON2,PRF1,GNLY\",\"<br />antigen processing and presentation of exogenous peptide antigen via MHC class I, TAP-independent (GO:0002480)<br />Gene Set Score: 0.0<br />Top Genes: CD79A,MS4A1,CD79B,LINC00926,TCL1A\",\"<br />antigen processing and presentation of exogenous peptide antigen via MHC class I, TAP-independent (GO:0002480)<br />Gene Set Score: 0.0<br />Top Genes: RPS12,RPS27,RPS6,RPL32,RPS14\",\"<br />antigen processing and presentation of exogenous peptide antigen via MHC class I, TAP-independent (GO:0002480)<br />Gene Set Score: 0.0<br />Top Genes: CDKN1C,HES4,RP11-290F20.3,MS4A7,FCGR3A\",\"<br />antigen processing and presentation of exogenous peptide antigen via MHC class I, TAP-independent (GO:0002480)<br />Gene Set Score: 0.0<br />Top Genes: IL32,LTB,CD3D,IL7R,LDHB\",\"<br />antigen processing and presentation of exogenous peptide antigen via MHC class I, TAP-independent (GO:0002480)<br />Gene Set Score: 0.0<br />Top Genes: S100A9,S100A8,LGALS2,FCN1,CD14\",\"<br />antigen processing and presentation of exogenous peptide antigen via MHC class I, TAP-independent (GO:0002480)<br />Gene Set Score: 2817.85023679681<br />Top Genes: CCL5,NKG7,GZMA,CST7,GZMK\",\"<br />antigen processing and presentation of exogenous peptide antigen via MHC class I, TAP-independent (GO:0002480)<br />Gene Set Score: 97.4426389716303<br />Top Genes: GP9,ITGA2B,TMEM40,AP001189.4,LY6G6F\",\"<br />antigen processing and presentation of exogenous peptide antigen via MHC class I, TAP-independent (GO:0002480)<br />Gene Set Score: 0.0<br />Top Genes: FCER1A,SERPINF1,CLEC10A,ENHO,CLIC2\"],\"hovertemplate\":\"%{customdata}\",\"label\":[\"res.0.1_3\",\"res.0.1_0\",\"res.0.1_1\",\"res.0.1_2\",\"res.0.2_3\",\"res.0.2_0\",\"res.0.2_5\",\"res.0.2_1\",\"res.0.2_2\",\"res.0.2_4\",\"res.0.3_6\",\"res.0.3_3\",\"res.0.3_0\",\"res.0.3_5\",\"res.0.3_1\",\"res.0.3_2\",\"res.0.3_4\",\"res.0.4_6\",\"res.0.4_3\",\"res.0.4_0\",\"res.0.4_5\",\"res.0.4_1\",\"res.0.4_2\",\"res.0.4_4\",\"res.0.4_8\",\"res.0.4_7\",\"res.0.5_6\",\"res.0.5_3\",\"res.0.5_0\",\"res.0.5_5\",\"res.0.5_1\",\"res.0.5_2\",\"res.0.5_4\",\"res.0.5_8\",\"res.0.5_7\"],\"pad\":10,\"thickness\":10},\"orientation\":\"h\",\"type\":\"sankey\"},{\"marker\":{\"cmax\":2.6245696606237003,\"cmin\":0.15795521061068996,\"colorscale\":[[0.0,\"#fcfbfd\"],[0.02702702702702703,\"#fcfbfd\"],[0.05405405405405406,\"#fcfbfd\"],[0.08108108108108109,\"#fcfbfd\"],[0.10810810810810811,\"#fbfafc\"],[0.13513513513513514,\"#fbfafc\"],[0.16216216216216217,\"#fbfafc\"],[0.1891891891891892,\"#fbfafc\"],[0.21621621621621623,\"#fbfafc\"],[0.24324324324324326,\"#fbfafc\"],[0.2702702702702703,\"#fbfafc\"],[0.2972972972972973,\"#fbfafc\"],[0.32432432432432434,\"#faf9fc\"],[0.35135135135135137,\"#faf9fc\"],[0.3783783783783784,\"#faf9fc\"],[0.40540540540540543,\"#faf9fc\"],[0.43243243243243246,\"#f2f0f7\"],[0.4594594594594595,\"#f2f0f7\"],[0.4864864864864865,\"#f2f0f7\"],[0.5135135135135135,\"#d4d4e8\"],[0.5405405405405406,\"#d1d2e7\"],[0.5675675675675675,\"#d1d2e7\"],[0.5945945945945946,\"#acaad1\"],[0.6216216216216216,\"#9f9cc9\"],[0.6486486486486487,\"#9f9cc9\"],[0.6756756756756757,\"#9490c3\"],[0.7027027027027027,\"#8b87bf\"],[0.7297297297297297,\"#8683bd\"],[0.7567567567567568,\"#8683bd\"],[0.7837837837837838,\"#827fbb\"],[0.8108108108108109,\"#817ebb\"],[0.8378378378378378,\"#807cba\"],[0.8648648648648649,\"#807cba\"],[0.8918918918918919,\"#776cb1\"],[0.918918918918919,\"#776cb1\"],[0.9459459459459459,\"#705eaa\"],[0.972972972972973,\"#3f007d\"],[1.0,\"#3f007d\"]],\"showscale\":true},\"mode\":\"markers\",\"visible\":true,\"x\":[null],\"y\":[null],\"type\":\"scatter\"},{\"marker\":{\"cmax\":2817.85023679681,\"cmin\":0.0,\"colorbar\":{\"x\":1.1},\"colorscale\":[[0.0,\"#ffffe5\"],[0.029411764705882353,\"#ffffe5\"],[0.058823529411764705,\"#ffffe5\"],[0.08823529411764706,\"#ffffe5\"],[0.11764705882352941,\"#ffffe5\"],[0.14705882352941177,\"#ffffe5\"],[0.17647058823529413,\"#ffffe5\"],[0.20588235294117646,\"#ffffe5\"],[0.23529411764705882,\"#ffffe5\"],[0.2647058823529412,\"#ffffe5\"],[0.29411764705882354,\"#ffffe5\"],[0.3235294117647059,\"#ffffe5\"],[0.35294117647058826,\"#ffffe5\"],[0.38235294117647056,\"#ffffe5\"],[0.4117647058823529,\"#ffffe5\"],[0.4411764705882353,\"#ffffe5\"],[0.47058823529411764,\"#ffffe5\"],[0.5,\"#ffffe5\"],[0.5294117647058824,\"#ffffe5\"],[0.5588235294117647,\"#ffffe5\"],[0.5882352941176471,\"#ffffe5\"],[0.6176470588235294,\"#ffffe5\"],[0.6470588235294118,\"#ffffe5\"],[0.6764705882352942,\"#ffffe5\"],[0.7058823529411765,\"#ffffe5\"],[0.7352941176470589,\"#fdfeda\"],[0.7647058823529411,\"#fdfeda\"],[0.7941176470588235,\"#fdfeda\"],[0.8235294117647058,\"#ccea9d\"],[0.8529411764705882,\"#ccea9d\"],[0.8823529411764706,\"#75c578\"],[0.9117647058823529,\"#70c275\"],[0.9411764705882353,\"#6dc073\"],[0.9705882352941176,\"#004a2b\"],[1.0,\"#004529\"]],\"showscale\":true},\"mode\":\"markers\",\"visible\":true,\"x\":[null],\"y\":[null],\"type\":\"scatter\"}],                        {\"template\":{\"data\":{\"bar\":[{\"error_x\":{\"color\":\"#2a3f5f\"},\"error_y\":{\"color\":\"#2a3f5f\"},\"marker\":{\"line\":{\"color\":\"#E5ECF6\",\"width\":0.5},\"pattern\":{\"fillmode\":\"overlay\",\"size\":10,\"solidity\":0.2}},\"type\":\"bar\"}],\"barpolar\":[{\"marker\":{\"line\":{\"color\":\"#E5ECF6\",\"width\":0.5},\"pattern\":{\"fillmode\":\"overlay\",\"size\":10,\"solidity\":0.2}},\"type\":\"barpolar\"}],\"carpet\":[{\"aaxis\":{\"endlinecolor\":\"#2a3f5f\",\"gridcolor\":\"white\",\"linecolor\":\"white\",\"minorgridcolor\":\"white\",\"startlinecolor\":\"#2a3f5f\"},\"baxis\":{\"endlinecolor\":\"#2a3f5f\",\"gridcolor\":\"white\",\"linecolor\":\"white\",\"minorgridcolor\":\"white\",\"startlinecolor\":\"#2a3f5f\"},\"type\":\"carpet\"}],\"choropleth\":[{\"colorbar\":{\"outlinewidth\":0,\"ticks\":\"\"},\"type\":\"choropleth\"}],\"contour\":[{\"colorbar\":{\"outlinewidth\":0,\"ticks\":\"\"},\"colorscale\":[[0.0,\"#0d0887\"],[0.1111111111111111,\"#46039f\"],[0.2222222222222222,\"#7201a8\"],[0.3333333333333333,\"#9c179e\"],[0.4444444444444444,\"#bd3786\"],[0.5555555555555556,\"#d8576b\"],[0.6666666666666666,\"#ed7953\"],[0.7777777777777778,\"#fb9f3a\"],[0.8888888888888888,\"#fdca26\"],[1.0,\"#f0f921\"]],\"type\":\"contour\"}],\"contourcarpet\":[{\"colorbar\":{\"outlinewidth\":0,\"ticks\":\"\"},\"type\":\"contourcarpet\"}],\"heatmap\":[{\"colorbar\":{\"outlinewidth\":0,\"ticks\":\"\"},\"colorscale\":[[0.0,\"#0d0887\"],[0.1111111111111111,\"#46039f\"],[0.2222222222222222,\"#7201a8\"],[0.3333333333333333,\"#9c179e\"],[0.4444444444444444,\"#bd3786\"],[0.5555555555555556,\"#d8576b\"],[0.6666666666666666,\"#ed7953\"],[0.7777777777777778,\"#fb9f3a\"],[0.8888888888888888,\"#fdca26\"],[1.0,\"#f0f921\"]],\"type\":\"heatmap\"}],\"heatmapgl\":[{\"colorbar\":{\"outlinewidth\":0,\"ticks\":\"\"},\"colorscale\":[[0.0,\"#0d0887\"],[0.1111111111111111,\"#46039f\"],[0.2222222222222222,\"#7201a8\"],[0.3333333333333333,\"#9c179e\"],[0.4444444444444444,\"#bd3786\"],[0.5555555555555556,\"#d8576b\"],[0.6666666666666666,\"#ed7953\"],[0.7777777777777778,\"#fb9f3a\"],[0.8888888888888888,\"#fdca26\"],[1.0,\"#f0f921\"]],\"type\":\"heatmapgl\"}],\"histogram\":[{\"marker\":{\"pattern\":{\"fillmode\":\"overlay\",\"size\":10,\"solidity\":0.2}},\"type\":\"histogram\"}],\"histogram2d\":[{\"colorbar\":{\"outlinewidth\":0,\"ticks\":\"\"},\"colorscale\":[[0.0,\"#0d0887\"],[0.1111111111111111,\"#46039f\"],[0.2222222222222222,\"#7201a8\"],[0.3333333333333333,\"#9c179e\"],[0.4444444444444444,\"#bd3786\"],[0.5555555555555556,\"#d8576b\"],[0.6666666666666666,\"#ed7953\"],[0.7777777777777778,\"#fb9f3a\"],[0.8888888888888888,\"#fdca26\"],[1.0,\"#f0f921\"]],\"type\":\"histogram2d\"}],\"histogram2dcontour\":[{\"colorbar\":{\"outlinewidth\":0,\"ticks\":\"\"},\"colorscale\":[[0.0,\"#0d0887\"],[0.1111111111111111,\"#46039f\"],[0.2222222222222222,\"#7201a8\"],[0.3333333333333333,\"#9c179e\"],[0.4444444444444444,\"#bd3786\"],[0.5555555555555556,\"#d8576b\"],[0.6666666666666666,\"#ed7953\"],[0.7777777777777778,\"#fb9f3a\"],[0.8888888888888888,\"#fdca26\"],[1.0,\"#f0f921\"]],\"type\":\"histogram2dcontour\"}],\"mesh3d\":[{\"colorbar\":{\"outlinewidth\":0,\"ticks\":\"\"},\"type\":\"mesh3d\"}],\"parcoords\":[{\"line\":{\"colorbar\":{\"outlinewidth\":0,\"ticks\":\"\"}},\"type\":\"parcoords\"}],\"pie\":[{\"automargin\":true,\"type\":\"pie\"}],\"scatter\":[{\"marker\":{\"colorbar\":{\"outlinewidth\":0,\"ticks\":\"\"}},\"type\":\"scatter\"}],\"scatter3d\":[{\"line\":{\"colorbar\":{\"outlinewidth\":0,\"ticks\":\"\"}},\"marker\":{\"colorbar\":{\"outlinewidth\":0,\"ticks\":\"\"}},\"type\":\"scatter3d\"}],\"scattercarpet\":[{\"marker\":{\"colorbar\":{\"outlinewidth\":0,\"ticks\":\"\"}},\"type\":\"scattercarpet\"}],\"scattergeo\":[{\"marker\":{\"colorbar\":{\"outlinewidth\":0,\"ticks\":\"\"}},\"type\":\"scattergeo\"}],\"scattergl\":[{\"marker\":{\"colorbar\":{\"outlinewidth\":0,\"ticks\":\"\"}},\"type\":\"scattergl\"}],\"scattermapbox\":[{\"marker\":{\"colorbar\":{\"outlinewidth\":0,\"ticks\":\"\"}},\"type\":\"scattermapbox\"}],\"scatterpolar\":[{\"marker\":{\"colorbar\":{\"outlinewidth\":0,\"ticks\":\"\"}},\"type\":\"scatterpolar\"}],\"scatterpolargl\":[{\"marker\":{\"colorbar\":{\"outlinewidth\":0,\"ticks\":\"\"}},\"type\":\"scatterpolargl\"}],\"scatterternary\":[{\"marker\":{\"colorbar\":{\"outlinewidth\":0,\"ticks\":\"\"}},\"type\":\"scatterternary\"}],\"surface\":[{\"colorbar\":{\"outlinewidth\":0,\"ticks\":\"\"},\"colorscale\":[[0.0,\"#0d0887\"],[0.1111111111111111,\"#46039f\"],[0.2222222222222222,\"#7201a8\"],[0.3333333333333333,\"#9c179e\"],[0.4444444444444444,\"#bd3786\"],[0.5555555555555556,\"#d8576b\"],[0.6666666666666666,\"#ed7953\"],[0.7777777777777778,\"#fb9f3a\"],[0.8888888888888888,\"#fdca26\"],[1.0,\"#f0f921\"]],\"type\":\"surface\"}],\"table\":[{\"cells\":{\"fill\":{\"color\":\"#EBF0F8\"},\"line\":{\"color\":\"white\"}},\"header\":{\"fill\":{\"color\":\"#C8D4E3\"},\"line\":{\"color\":\"white\"}},\"type\":\"table\"}]},\"layout\":{\"annotationdefaults\":{\"arrowcolor\":\"#2a3f5f\",\"arrowhead\":0,\"arrowwidth\":1},\"autotypenumbers\":\"strict\",\"coloraxis\":{\"colorbar\":{\"outlinewidth\":0,\"ticks\":\"\"}},\"colorscale\":{\"diverging\":[[0,\"#8e0152\"],[0.1,\"#c51b7d\"],[0.2,\"#de77ae\"],[0.3,\"#f1b6da\"],[0.4,\"#fde0ef\"],[0.5,\"#f7f7f7\"],[0.6,\"#e6f5d0\"],[0.7,\"#b8e186\"],[0.8,\"#7fbc41\"],[0.9,\"#4d9221\"],[1,\"#276419\"]],\"sequential\":[[0.0,\"#0d0887\"],[0.1111111111111111,\"#46039f\"],[0.2222222222222222,\"#7201a8\"],[0.3333333333333333,\"#9c179e\"],[0.4444444444444444,\"#bd3786\"],[0.5555555555555556,\"#d8576b\"],[0.6666666666666666,\"#ed7953\"],[0.7777777777777778,\"#fb9f3a\"],[0.8888888888888888,\"#fdca26\"],[1.0,\"#f0f921\"]],\"sequentialminus\":[[0.0,\"#0d0887\"],[0.1111111111111111,\"#46039f\"],[0.2222222222222222,\"#7201a8\"],[0.3333333333333333,\"#9c179e\"],[0.4444444444444444,\"#bd3786\"],[0.5555555555555556,\"#d8576b\"],[0.6666666666666666,\"#ed7953\"],[0.7777777777777778,\"#fb9f3a\"],[0.8888888888888888,\"#fdca26\"],[1.0,\"#f0f921\"]]},\"colorway\":[\"#636efa\",\"#EF553B\",\"#00cc96\",\"#ab63fa\",\"#FFA15A\",\"#19d3f3\",\"#FF6692\",\"#B6E880\",\"#FF97FF\",\"#FECB52\"],\"font\":{\"color\":\"#2a3f5f\"},\"geo\":{\"bgcolor\":\"white\",\"lakecolor\":\"white\",\"landcolor\":\"#E5ECF6\",\"showlakes\":true,\"showland\":true,\"subunitcolor\":\"white\"},\"hoverlabel\":{\"align\":\"left\"},\"hovermode\":\"closest\",\"mapbox\":{\"style\":\"light\"},\"paper_bgcolor\":\"white\",\"plot_bgcolor\":\"#E5ECF6\",\"polar\":{\"angularaxis\":{\"gridcolor\":\"white\",\"linecolor\":\"white\",\"ticks\":\"\"},\"bgcolor\":\"#E5ECF6\",\"radialaxis\":{\"gridcolor\":\"white\",\"linecolor\":\"white\",\"ticks\":\"\"}},\"scene\":{\"xaxis\":{\"backgroundcolor\":\"#E5ECF6\",\"gridcolor\":\"white\",\"gridwidth\":2,\"linecolor\":\"white\",\"showbackground\":true,\"ticks\":\"\",\"zerolinecolor\":\"white\"},\"yaxis\":{\"backgroundcolor\":\"#E5ECF6\",\"gridcolor\":\"white\",\"gridwidth\":2,\"linecolor\":\"white\",\"showbackground\":true,\"ticks\":\"\",\"zerolinecolor\":\"white\"},\"zaxis\":{\"backgroundcolor\":\"#E5ECF6\",\"gridcolor\":\"white\",\"gridwidth\":2,\"linecolor\":\"white\",\"showbackground\":true,\"ticks\":\"\",\"zerolinecolor\":\"white\"}},\"shapedefaults\":{\"line\":{\"color\":\"#2a3f5f\"}},\"ternary\":{\"aaxis\":{\"gridcolor\":\"white\",\"linecolor\":\"white\",\"ticks\":\"\"},\"baxis\":{\"gridcolor\":\"white\",\"linecolor\":\"white\",\"ticks\":\"\"},\"bgcolor\":\"#E5ECF6\",\"caxis\":{\"gridcolor\":\"white\",\"linecolor\":\"white\",\"ticks\":\"\"}},\"title\":{\"x\":0.05},\"xaxis\":{\"automargin\":true,\"gridcolor\":\"white\",\"linecolor\":\"white\",\"ticks\":\"\",\"title\":{\"standoff\":15},\"zerolinecolor\":\"white\",\"zerolinewidth\":2},\"yaxis\":{\"automargin\":true,\"gridcolor\":\"white\",\"linecolor\":\"white\",\"ticks\":\"\",\"title\":{\"standoff\":15},\"zerolinecolor\":\"white\",\"zerolinewidth\":2}}},\"xaxis\":{\"showticklabels\":false,\"showgrid\":false,\"zeroline\":false},\"yaxis\":{\"showticklabels\":false,\"showgrid\":false,\"zeroline\":false},\"showlegend\":false,\"plot_bgcolor\":\"rgba(0, 0, 0, 0)\",\"paper_bgcolor\":\"rgba(0, 0, 0, 0)\",\"updatemenus\":[{\"buttons\":[{\"args\":[\"paper_bgcolor\",\"white\"],\"label\":\"CD3E\",\"method\":\"relayout\"},{\"args\":[\"paper_bgcolor\",\"black\"],\"label\":\"Dark\",\"method\":\"relayout\"}],\"y\":1.2},{\"buttons\":[{\"args\":[\"node.thickness\",8],\"label\":\"Thin\",\"method\":\"restyle\"},{\"args\":[\"node.thickness\",15],\"label\":\"Thick\",\"method\":\"restyle\"}],\"y\":0.6},{\"buttons\":[{\"args\":[\"arrangement\",\"snap\"],\"label\":\"Snap\",\"method\":\"restyle\"},{\"args\":[\"arrangement\",\"perpendicular\"],\"label\":\"Perpendicular\",\"method\":\"restyle\"},{\"args\":[\"arrangement\",\"freeform\"],\"label\":\"Freeform\",\"method\":\"restyle\"},{\"args\":[\"arrangement\",\"fixed\"],\"label\":\"Fixed\",\"method\":\"restyle\"}],\"y\":-0.2},{\"buttons\":[{\"args\":[\"node.pad\",15],\"label\":\"Small gap\",\"method\":\"restyle\"},{\"args\":[\"node.pad\",20],\"label\":\"Large gap\",\"method\":\"restyle\"}],\"y\":0},{\"buttons\":[{\"args\":[\"orientation\",\"h\"],\"label\":\"Horizontal\",\"method\":\"restyle\"},{\"args\":[\"orientation\",\"v\"],\"label\":\"Vertical\",\"method\":\"restyle\"}],\"y\":0.2},{\"buttons\":[{\"args\":[\"paper_bgcolor\",\"white\"],\"label\":\"Light\",\"method\":\"relayout\"},{\"args\":[\"paper_bgcolor\",\"black\"],\"label\":\"Dark\",\"method\":\"relayout\"}],\"y\":0.4}]},                        {\"responsive\": true}                    ).then(function(){\n",
       "                            \n",
       "var gd = document.getElementById('d7c1820f-2d83-474c-885d-f8fb5b80e6f5');\n",
       "var x = new MutationObserver(function (mutations, observer) {{\n",
       "        var display = window.getComputedStyle(gd).display;\n",
       "        if (!display || display === 'none') {{\n",
       "            console.log([gd, 'removed!']);\n",
       "            Plotly.purge(gd);\n",
       "            observer.disconnect();\n",
       "        }}\n",
       "}});\n",
       "\n",
       "// Listen for the removal of the full notebook cells\n",
       "var notebookContainer = gd.closest('#notebook-container');\n",
       "if (notebookContainer) {{\n",
       "    x.observe(notebookContainer, {childList: true});\n",
       "}}\n",
       "\n",
       "// Listen for the clearing of the current output cell\n",
       "var outputEl = gd.closest('.output');\n",
       "if (outputEl) {{\n",
       "    x.observe(outputEl, {childList: true});\n",
       "}}\n",
       "\n",
       "                        })                };                });            </script>        </div>"
      ]
     },
     "metadata": {},
     "output_type": "display_data"
    }
   ],
   "source": [
    "starter_gene = 'CD3E'\n",
    "gene_set = 'antigen processing and presentation of exogenous peptide antigen via MHC class I, TAP-independent (GO:0002480)'\n",
    "\n",
    "# Create node label\n",
    "label_list = []\n",
    "for data in sankey_dict['node_data'][['modularity', 'silhoutte_score', gene_set + '_combined.score', 'top_genes']].values:\n",
    "    label = '<br />' + gene_set + '<br />' + 'Gene Set Score: ' + str(data[2]) + '<br />' + 'Top Genes: ' + str(data[-1])\n",
    "    label_list.append(label)\n",
    "sankey_dict['node_data']['label'] = label_list\n",
    "\n",
    "fig = go.Figure(data=[dict(type='sankey', orientation='h', \n",
    "                           node = dict(pad = 10, thickness=10,\n",
    "                                       label=sankey_dict['node_data']['node_labels'],\n",
    "                                       customdata = sankey_dict['node_data']['label'],\n",
    "                                       hovertemplate= '%{customdata}',\n",
    "                                       color = sankey_dict['node_data'][gene_set + '_hex']),\n",
    "                           link = dict(source = sankey_dict['data']['source'],\n",
    "                                       target = sankey_dict['data']['target'],\n",
    "                                       color = sankey_dict['data'][starter_gene+'_hex'],\n",
    "                                       value = sankey_dict['data']['value']))])\n",
    "\n",
    "fig.add_trace(go.Scatter(x=[None],\n",
    "                         y=[None],\n",
    "                         mode='markers',\n",
    "                         visible=True,\n",
    "                         marker=sankey_dict['exp_colorbar'][starter_gene]))\n",
    "\n",
    "fig.add_trace(go.Scatter(x=[None],\n",
    "                         y=[None],\n",
    "                         mode='markers',\n",
    "                         visible=True,\n",
    "                         marker={'colorscale':sankey_dict['node_data'][[gene_set + '_combined.score', gene_set+'_hex']].sort_values(gene_set + '_combined.score')[gene_set+'_hex'].tolist(), \n",
    "                                 'showscale':True, \n",
    "                                 'cmin':min(pbmc_gsea[pbmc_gsea['gene.set'].isin(['antigen processing and presentation of exogenous peptide antigen via MHC class I, TAP-independent (GO:0002480)'])]['combined.score'].tolist()),\n",
    "                                 'cmax':max(pbmc_gsea[pbmc_gsea['gene.set'].isin(['antigen processing and presentation of exogenous peptide antigen via MHC class I, TAP-independent (GO:0002480)'])]['combined.score'].tolist()), \n",
    "                                 'colorbar': {'x':1.1}}))\n",
    "\n",
    "fig.update_xaxes(showticklabels=False) # hide all the xticks\n",
    "fig.update_yaxes(showticklabels=False) # hide all the xticks\n",
    "fig['layout']['showlegend'] = False\n",
    "fig['layout']['xaxis']['showgrid'] = False\n",
    "fig['layout']['yaxis']['showgrid'] = False\n",
    "fig.update_layout(xaxis_zeroline=False, yaxis_zeroline=False)\n",
    "fig.update_layout({\n",
    "'plot_bgcolor': 'rgba(0, 0, 0, 0)',\n",
    "'paper_bgcolor': 'rgba(0, 0, 0, 0)'\n",
    "})\n",
    "\n",
    "fig.update_layout(\n",
    "    updatemenus=[dict(y=1.2, \n",
    "                      buttons=[dict(label=starter_gene, method='relayout', args=['paper_bgcolor', 'white']),\n",
    "                               dict(label='Dark', method='relayout', args=['paper_bgcolor', 'black'])]),\n",
    "                 # dict(y=1, \n",
    "                 #      buttons=[dict(label='Silhouette', method='relayout', args=['paper_bgcolor', 'white']),\n",
    "                 #               dict(label='Dark', method='relayout', args=['paper_bgcolor', 'black'])]),\n",
    "                 # dict(y=0.8,\n",
    "                 #      buttons=[dict(label='GO:0002480', method='restyle',args=['node.thickness', 8]),\n",
    "                 #               dict(label='Thick',method='restyle',args=['node.thickness', 15])]),\n",
    "                 dict(y=0.6,\n",
    "                      buttons=[dict(label='Thin', method='restyle',args=['node.thickness', 8]),\n",
    "                               dict(label='Thick',method='restyle',args=['node.thickness', 15])]),\n",
    "                 dict(y=-0.2,\n",
    "                      buttons=[dict(label='Snap',method='restyle', args=['arrangement', 'snap']),\n",
    "                               dict(label='Perpendicular', method='restyle',args=['arrangement', 'perpendicular']),\n",
    "                               dict(label='Freeform', method='restyle',args=['arrangement', 'freeform']),\n",
    "                               dict(label='Fixed', method='restyle',args=['arrangement', 'fixed'])]),\n",
    "                 dict(y=0,\n",
    "                      buttons=[dict(label='Small gap',method='restyle',args=['node.pad', 15]),\n",
    "                               dict(label='Large gap',method='restyle',args=['node.pad', 20])]),\n",
    "                 dict(y=0.2,\n",
    "                      buttons=[dict(label='Horizontal', method='restyle', args=['orientation', 'h']),\n",
    "                               dict(label='Vertical',method='restyle',args=['orientation', 'v'])]),\n",
    "                 dict(y=0.4,\n",
    "                      buttons=[dict(label='Light', method='relayout', args=['paper_bgcolor', 'white']),\n",
    "                               dict(label='Dark', method='relayout', args=['paper_bgcolor', 'black'])])])\n",
    "fig.show()"
   ]
  }
 ],
 "metadata": {
  "kernelspec": {
   "display_name": "Python 3 (ipykernel)",
   "language": "python",
   "name": "python3"
  },
  "language_info": {
   "codemirror_mode": {
    "name": "ipython",
    "version": 3
   },
   "file_extension": ".py",
   "mimetype": "text/x-python",
   "name": "python",
   "nbconvert_exporter": "python",
   "pygments_lexer": "ipython3",
   "version": "3.9.7"
  }
 },
 "nbformat": 4,
 "nbformat_minor": 4
}
