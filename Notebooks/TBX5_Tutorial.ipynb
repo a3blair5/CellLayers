{
 "cells": [
  {
   "cell_type": "code",
   "execution_count": 2,
   "metadata": {},
   "outputs": [],
   "source": [
    "import pandas as pd\n",
    "import CellLayers"
   ]
  },
  {
   "cell_type": "code",
   "execution_count": null,
   "metadata": {},
   "outputs": [],
   "source": [
    "exp_df = pd.read_csv('../Data/TBX5/TBX5_exp.csv',index_col=[0])\n",
    "meta_df = pd.read_csv('../Data/TBX5/TBX5_meta.csv',index_col=[0])\n",
    "mod_df = pd.read_csv('../Data/TBX5/TBX5_modularity.csv',index_col=[0])\n",
    "sil_df = pd.read_csv('../Data/TBX5/TBX5_silhouette_scores.csv', index_col=[0])"
   ]
  }
 ],
 "metadata": {
  "kernelspec": {
   "display_name": "Python 3",
   "language": "python",
   "name": "python3"
  },
  "language_info": {
   "codemirror_mode": {
    "name": "ipython",
    "version": 3
   },
   "file_extension": ".py",
   "mimetype": "text/x-python",
   "name": "python",
   "nbconvert_exporter": "python",
   "pygments_lexer": "ipython3",
   "version": "3.7.6"
  }
 },
 "nbformat": 4,
 "nbformat_minor": 4
}
