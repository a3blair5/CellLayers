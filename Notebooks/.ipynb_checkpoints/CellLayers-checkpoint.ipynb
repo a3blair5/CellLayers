{
 "cells": [
  {
   "cell_type": "code",
   "execution_count": 1,
   "metadata": {},
   "outputs": [
    {
     "name": "stderr",
     "output_type": "stream",
     "text": [
      "/opt/conda/lib/python3.7/site-packages/anndata/_core/anndata.py:21: FutureWarning: pandas.core.index is deprecated and will be removed in a future version.  The public classes are available in the top-level namespace.\n",
      "  from pandas.core.index import RangeIndex\n"
     ]
    }
   ],
   "source": [
    "import scanpy as sc\n",
    "import numpy as np\n",
    "import pandas as pd\n",
    "import collections\n",
    "\n",
    "import plotly\n",
    "import seaborn as sns\n",
    "import scipy.io as sci\n",
    "import plotly.graph_objects as go\n",
    "import chart_studio.plotly as py"
   ]
  },
  {
   "cell_type": "code",
   "execution_count": 29,
   "metadata": {},
   "outputs": [],
   "source": [
    "def CellLayers(data_df, cell_df, gene):\n",
    "    \n",
    "    # Create Sankey node labels\n",
    "    # Parse louvain resolution columns\n",
    "    resolution_list = [column for column in list(data_df) if column.split('_')[0] == 'integrated']\n",
    "    node_labels = []\n",
    "    for res in resolution_list:\n",
    "        res_n_clusters = list(map(( lambda x: res.split('_')[-1] + '_' + str(x)), list(set(data_df[res]))))\n",
    "        node_labels.append(res_n_clusters)    \n",
    "    # plotly node labels (I will need the index to line up the source, target, and values)\n",
    "    label = [item for sublist in node_labels for item in sublist]\n",
    "#     print(label)\n",
    "\n",
    "    # Set categorical cluster resolutions as categorical variables\n",
    "    for res in resolution_list:\n",
    "        data_df[res] = [str(x) for x in data_df[res]]\n",
    "    \n",
    "    \n",
    "    # Create a dict of louvain resolution directed acyclic graphs\n",
    "    dag_dict = dict(collections.Counter(tuple(dag) for dag in data_df[resolution_list].values))\n",
    "\n",
    "    # Find most frequently walked louvain resolution path\n",
    "    print('Stable cell path', max(dag_dict, key=dag_dict.get), dag_dict[max(dag_dict, key=dag_dict.get)])\n",
    "    \n",
    "    # Longest DAG\n",
    "    most_walked = [items[0].split('_')[-1] + '_' + str(items[1]) for items in zip(resolution_list, list(max(dag_dict, key=dag_dict.get)))]\n",
    "    most_walked = [most_walked[i:i+2] for i in range(0, len(most_walked), 2)]\n",
    "\n",
    "    final = []\n",
    "    for items in range(0, len(most_walked)):\n",
    "        try:\n",
    "            x = most_walked[items]\n",
    "            final.append(x)\n",
    "            v = [most_walked[items][1], most_walked[items+1][0]]\n",
    "            final.append(v)\n",
    "        except IndexError:\n",
    "            pass\n",
    "        \n",
    "    sankey_dict = dict(collections.Counter(tuple([resolution_list[res].split('_')[-1]+'_'+str(dag[0]), resolution_list[res+1].split('_')[-1] + '_' + str(dag[1])]) \\\n",
    "                                               for res in range(0, len(resolution_list)-1) for dag in data_df[[resolution_list[res], resolution_list[res+1]]].values))\n",
    "#     for res in range(0, len(resolution_list)-1):\n",
    "#         for dag in data_df[[resolution_list[res], resolution_list[res+1]]].values:\n",
    "#             print(res, dag)\n",
    "#     print(resolution_list)\n",
    "#     print(sankey_dict)\n",
    "    \n",
    "    \n",
    "    sankey_dict={i:sankey_dict[i] for i in sankey_dict if sankey_dict[i]>30}\n",
    "#     print(label)\n",
    "    sankey_df = pd.DataFrame([[k[0], k[1], label.index(k[0]), label.index(k[1]), v] for k,v in sankey_dict.items()], columns=['source_label', 'target_label', 'source', 'target', 'value'])\n",
    "\n",
    "    sankey_df['source_full'] = ['integrated_snn_'+x.split('_')[0] for x in sankey_df['source_label'].tolist()]\n",
    "    sankey_df['source_cluster'] = [x.split('_')[1] for x in sankey_df['source_label'].tolist()]\n",
    "\n",
    "    sankey_df['target_full'] = ['integrated_snn_'+x.split('_')[0] for x in sankey_df['target_label'].tolist()]\n",
    "    sankey_df['target_cluster'] = [x.split('_')[1] for x in sankey_df['target_label'].tolist()]\n",
    "    \n",
    "    \n",
    "    # Dag coloring\n",
    "    sankey_df['color'] = 'lightblue'\n",
    "    print(final)\n",
    "    for nodes in final:\n",
    "        for index, row in sankey_df[['source_label', 'target_label', 'color']].iterrows():\n",
    "            if row['source_label'] == nodes[0] and row['target_label'] == nodes[1]:\n",
    "                sankey_df.at[index, 'color'] = 'red'\n",
    "\n",
    "    # Get average expression of each cell transition\n",
    "    marker_list = []\n",
    "    for marker_genes in [gene]:\n",
    "        for cluster_data in sankey_df[['source_full', 'source_cluster', 'target_full', 'target_cluster']].values:\n",
    "            print(cluster_data)\n",
    "            cell_ids = data_df[(data_df[cluster_data[0]]==cluster_data[1]) & (data_df[cluster_data[2]]==cluster_data[3])].index.tolist()\n",
    "            marker = cell_df.loc[cell_ids][marker_genes].mean()\n",
    "            marker_list.append(marker)\n",
    "\n",
    "    sankey_df['exp_color'] = marker_list\n",
    "    \n",
    "    # Expression level adjustment\n",
    "    rgb_list = []\n",
    "    for exp in marker_list:\n",
    "        if exp <0:\n",
    "            rgb_list.append('rgba(' + str(abs(300/exp)) +', 150, 200,' + str(abs(exp)) + ')')\n",
    "        else:\n",
    "            rgb_list.append('rgba(' + str(300 * exp) + ',150,' + '200,' + str(exp) + ')')\n",
    "    sankey_df['rgba_color'] = rgb_list\n",
    "    return sankey_df, label"
   ]
  },
  {
   "cell_type": "code",
   "execution_count": 26,
   "metadata": {},
   "outputs": [
    {
     "name": "stderr",
     "output_type": "stream",
     "text": [
      "/opt/conda/lib/python3.7/site-packages/IPython/core/interactiveshell.py:3051: DtypeWarning: Columns (8) have mixed types.Specify dtype option on import or set low_memory=False.\n",
      "  interactivity=interactivity, compiler=compiler, result=result)\n"
     ]
    }
   ],
   "source": [
    "# data_df.csv\n",
    "data_df = pd.read_csv('../../bruneauHeartHub-TBX5/scripts/data_df.csv')\n",
    "cell_df = pd.read_csv('../../bruneauHeartHub-TBX5/scripts/cell_df.csv')\n",
    "\n",
    "data_df = data_df.set_index('index')\n",
    "cell_df = cell_df.set_index('Unnamed: 0')"
   ]
  },
  {
   "cell_type": "code",
   "execution_count": 31,
   "metadata": {},
   "outputs": [],
   "source": [
    "# gene = 'NR2F2'\n",
    "# sankey_df, label = CellLayers(data_df, cell_df, gene)"
   ]
  },
  {
   "cell_type": "code",
   "execution_count": 115,
   "metadata": {},
   "outputs": [
    {
     "data": {
      "text/plain": [
       "'tbx5_cm_biorep_louvain_decomposition.html'"
      ]
     },
     "execution_count": 115,
     "metadata": {},
     "output_type": "execute_result"
    }
   ],
   "source": [
    "fig = go.Figure(data=[go.Sankey(\n",
    "    node = dict(\n",
    "        pad = 20,\n",
    "        thickness = 2,\n",
    "        line = dict(color = \"black\", width = 0.5),\n",
    "#         label=label,\n",
    "        color='purple'\n",
    "    ),\n",
    "    link = dict(\n",
    "        source = sankey_df['source'],\n",
    "        target = sankey_df['target'],\n",
    "        color = sankey_df['rgba_color'],\n",
    "        value = sankey_df['value']))])\n",
    "\n",
    "fig.update_layout(\n",
    "    hovermode = 'x',\n",
    "    font=dict(size = 10, color = 'white'),\n",
    "    plot_bgcolor='black',\n",
    "    paper_bgcolor='black'\n",
    ")\n",
    "\n",
    "\n",
    "plotly.offline.plot(fig, filename='tbx5_cm_biorep_louvain_decomposition.html')\n",
    "\n",
    "# fig.update_layout(title_text=\"Louvain Resolution Decomposition of TBX5 Cardiomyocyte Biological Replicates\", font_size=10)\n",
    "# fig.show()"
   ]
  },
  {
   "cell_type": "code",
   "execution_count": 85,
   "metadata": {},
   "outputs": [
    {
     "data": {
      "text/plain": [
       "'tbx5_dag.html'"
      ]
     },
     "execution_count": 85,
     "metadata": {},
     "output_type": "execute_result"
    }
   ],
   "source": [
    "# Dag\n",
    "fig = go.Figure(data=[go.Sankey(\n",
    "    node = dict(\n",
    "        pad = 20,\n",
    "        thickness = 2,\n",
    "        line = dict(color = \"black\", width = 0.5),\n",
    "        label = label,\n",
    "        color='purple'\n",
    "    ),\n",
    "    link = dict(\n",
    "        source = sankey_df['source'],\n",
    "        target = sankey_df['target'],\n",
    "        color =  sankey_df['color'],\n",
    "        value = sankey_df['value'],\n",
    "        label = data_df['predictions']\n",
    "    ))])\n",
    "plotly.offline.plot(fig, filename='tbx5_dag.html')\n"
   ]
  }
 ],
 "metadata": {
  "kernelspec": {
   "display_name": "Python 3",
   "language": "python",
   "name": "python3"
  },
  "language_info": {
   "codemirror_mode": {
    "name": "ipython",
    "version": 3
   },
   "file_extension": ".py",
   "mimetype": "text/x-python",
   "name": "python",
   "nbconvert_exporter": "python",
   "pygments_lexer": "ipython3",
   "version": "3.7.6"
  }
 },
 "nbformat": 4,
 "nbformat_minor": 4
}
