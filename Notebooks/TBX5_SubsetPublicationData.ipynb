{
 "cells": [
  {
   "cell_type": "code",
   "execution_count": 8,
   "metadata": {},
   "outputs": [],
   "source": [
    "import glob\n",
    "import CellLayers\n",
    "import numpy as np\n",
    "import pandas as pd\n",
    "from scipy.io import mmread\n",
    "import scipy.sparse as sp"
   ]
  },
  {
   "cell_type": "markdown",
   "metadata": {},
   "source": [
    "# Import Data"
   ]
  },
  {
   "cell_type": "markdown",
   "metadata": {},
   "source": [
    "## Concatenate TBX5 Dataset and Export"
   ]
  },
  {
   "cell_type": "code",
   "execution_count": 14,
   "metadata": {},
   "outputs": [],
   "source": [
    "exp_dict = {x.split('/')[-1].split('.')[0] : mmread(x) for x in glob.glob('../Data/TBX5/TBX5_exp_*.mtx')}\n",
    "barcodes = pd.read_csv('../Data/TBX5/TBX5_barcodes.txt', header=None)\n",
    "genes = pd.read_csv('../Data/TBX5/TBX5_genes.txt', header=None)"
   ]
  },
  {
   "cell_type": "code",
   "execution_count": 16,
   "metadata": {},
   "outputs": [],
   "source": [
    "exp_list = list(exp_dict.values())\n",
    "del exp_dict\n",
    "\n",
    "exp_temp = sp.vstack((exp_list[0], exp_list[1]))\n",
    "exp = sp.vstack((exp_temp, exp_list[2]))\n",
    "del exp_temp"
   ]
  },
  {
   "cell_type": "code",
   "execution_count": 17,
   "metadata": {},
   "outputs": [],
   "source": [
    "exp_df = pd.DataFrame(exp.todense())"
   ]
  },
  {
   "cell_type": "code",
   "execution_count": 18,
   "metadata": {},
   "outputs": [],
   "source": [
    "exp_df.index = barcodes[0].tolist()\n",
    "exp_df.columns = genes[0].tolist()"
   ]
  },
  {
   "cell_type": "code",
   "execution_count": 19,
   "metadata": {},
   "outputs": [],
   "source": [
    "exp_sample_df = exp_df.sample(frac=0.5, replace=False, random_state=42)\n",
    "exp_sample_df.to_csv('../Data/TBX5/TBX5_sample_exp.csv',index_col=[0])\n",
    "del exp_df"
   ]
  },
  {
   "cell_type": "code",
   "execution_count": 20,
   "metadata": {},
   "outputs": [],
   "source": [
    "meta_df = pd.read_csv('../Data/TBX5/TBX5_meta.csv',index_col=[0])\n",
    "meta_df[meta_df.index.isin(exp_sample_df.index.tolist())].to_csv('../Data/TBX5/TBX5_sample_meta.csv')\n",
    "\n",
    "\n",
    "# mod_df = pd.read_csv('../Data/TBX5/TBX5_modularity.csv',index_col=[0])\n",
    "# sil_df = pd.read_csv('../Data/TBX5/TBX5_silhouette_scores.csv', index_col=[0])"
   ]
  },
  {
   "cell_type": "code",
   "execution_count": null,
   "metadata": {},
   "outputs": [],
   "source": [
    "exp_df.sample(frac=0.5, replace=False, random_state=1).to_csv('../Data/TBX5/TBX5_sample_exp.csv')"
   ]
  },
  {
   "cell_type": "code",
   "execution_count": 28,
   "metadata": {},
   "outputs": [],
   "source": [
    "exp_sample_df = pd.read_csv('../Data/TBX5/TBX5_sample_exp.csv',index_col=[0])"
   ]
  },
  {
   "cell_type": "code",
   "execution_count": 32,
   "metadata": {},
   "outputs": [],
   "source": [
    "meta_df[meta_df.index.isin(exp_sample_df.index.tolist())].to_csv('../Data/TBX5/TBX5_sample_meta.csv')"
   ]
  }
 ],
 "metadata": {
  "kernelspec": {
   "display_name": "Python 3 (ipykernel)",
   "language": "python",
   "name": "python3"
  },
  "language_info": {
   "codemirror_mode": {
    "name": "ipython",
    "version": 3
   },
   "file_extension": ".py",
   "mimetype": "text/x-python",
   "name": "python",
   "nbconvert_exporter": "python",
   "pygments_lexer": "ipython3",
   "version": "3.9.7"
  }
 },
 "nbformat": 4,
 "nbformat_minor": 4
}
