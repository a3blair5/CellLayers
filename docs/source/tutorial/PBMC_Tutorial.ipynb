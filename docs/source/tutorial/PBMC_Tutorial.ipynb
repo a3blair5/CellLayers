{
 "cells": [
  {
   "cell_type": "code",
   "execution_count": 1,
   "metadata": {},
   "outputs": [],
   "source": [
    "# \"nbsphinx\": \"hidden\"\n",
    "import plotly.graph_objects as go\n",
    "import plotly.io as pio\n",
    "iframe_c = pio.renderers[\"iframe_connected\"]\n",
    "iframe_c.html_directory = \"../_static/\"\n",
    "pio.renderers.default = \"iframe_connected\"\n",
    "\n",
    "\n",
    "pio.templates[\"sphinx\"] = go.layout.Template(\n",
    "    layout_margin_l = 100,   \n",
    "    layout_margin_r = 100,\n",
    "    layout_margin_t = 100,\n",
    "    layout_margin_b = 100, \n",
    ")\n",
    "pio.templates.default = \"plotly+sphinx\"\n"
   ]
  },
  {
   "cell_type": "markdown",
   "metadata": {},
   "source": [
    "# PBMC Tutorial"
   ]
  },
  {
   "cell_type": "code",
   "execution_count": 2,
   "metadata": {},
   "outputs": [],
   "source": [
    "import pandas as pd\n",
    "import CellLayers"
   ]
  },
  {
   "cell_type": "code",
   "execution_count": 3,
   "metadata": {},
   "outputs": [],
   "source": [
    "pbmc_exp = pd.read_csv('../../../data/PBMC/PBMC_exp.csv',index_col=[0])\n",
    "pbmc_meta = pd.read_csv('../../../data/PBMC/PBMC_meta.csv',index_col=[0])\n",
    "pbmc_modularity = pd.read_csv('../../../data/PBMC/pbmc_modularity.csv',index_col=[0])\n",
    "pbmc_silhouette_scores = pd.read_csv('../../../data/PBMC/pbmc_silhouette_scores.csv', index_col=[0])"
   ]
  },
  {
   "cell_type": "code",
   "execution_count": 4,
   "metadata": {},
   "outputs": [],
   "source": [
    "sankey_fig, sankey_dict = CellLayers.build_sankey(pbmc_exp,\n",
    "                                                  pbmc_meta,\n",
    "                                                  genes=['CD8A', 'CD3E', 'FCER1A'],\n",
    "                                                  coexpressed_genes=[['MS4A1','FCER1A','FCGR3A']],\n",
    "                                                  exp_color='#F7ED32',\n",
    "                                                  modularity=pbmc_modularity,\n",
    "                                                  silhouette=pbmc_silhouette_scores)"
   ]
  },
  {
   "cell_type": "code",
   "execution_count": 5,
   "metadata": {},
   "outputs": [
    {
     "data": {
      "text/html": [
       "<iframe\n",
       "    scrolling=\"no\"\n",
       "    width=\"100%\"\n",
       "    height=\"545px\"\n",
       "    src=\"../_static//figure_5.html\"\n",
       "    frameborder=\"0\"\n",
       "    allowfullscreen\n",
       "></iframe>\n"
      ]
     },
     "metadata": {},
     "output_type": "display_data"
    }
   ],
   "source": [
    "sankey_fig.show()"
   ]
  }
 ],
 "metadata": {
  "interpreter": {
   "hash": "ff46af7e9cf1d89e72adcbb5928c9249075d937aae9231a84159a6ff1dc0ee06"
  },
  "kernelspec": {
   "display_name": "Python 3.9.12 ('CellLayers')",
   "language": "python",
   "name": "python3"
  },
  "language_info": {
   "codemirror_mode": {
    "name": "ipython",
    "version": 3
   },
   "file_extension": ".py",
   "mimetype": "text/x-python",
   "name": "python",
   "nbconvert_exporter": "python",
   "pygments_lexer": "ipython3",
   "version": "3.9.12"
  }
 },
 "nbformat": 4,
 "nbformat_minor": 4
}
