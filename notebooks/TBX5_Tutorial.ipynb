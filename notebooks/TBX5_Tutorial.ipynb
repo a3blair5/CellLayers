{
 "cells": [
  {
   "cell_type": "code",
   "execution_count": 1,
   "id": "4fec5213-32a3-4a38-a383-cd976757bc1e",
   "metadata": {},
   "outputs": [],
   "source": [
    "import pandas as pd\n",
    "import CellLayers"
   ]
  },
  {
   "cell_type": "markdown",
   "id": "38ef0ac5-f0f7-40f9-aa53-515109f18315",
   "metadata": {},
   "source": [
    "# Import data"
   ]
  },
  {
   "cell_type": "code",
   "execution_count": 13,
   "id": "4a44f638-9809-418f-8914-94116a4b0ce4",
   "metadata": {},
   "outputs": [],
   "source": [
    "tbx5_exp = pd.read_csv('../data/TBX5/TBX5_sample_exp.csv',index_col=[0]).transpose()\n",
    "tbx5_meta = pd.read_csv('../data/TBX5/TBX5_sample_meta.csv',index_col=[0])\n",
    "tbx5_modularity = pd.read_csv('../data/TBX5/TBX5_sample_modularity.csv',index_col=[0])\n",
    "tbx5_silhouette_scores = pd.read_csv('../data/TBX5/TBX5_sample_silhouette_scores.csv', index_col=[0])\n",
    "tbx5_exp.index = tbx5_meta.index"
   ]
  },
  {
   "cell_type": "code",
   "execution_count": 14,
   "id": "55498fd1-0761-448c-86a8-ccf54d0d624c",
   "metadata": {},
   "outputs": [
    {
     "data": {
      "application/vnd.plotly.v1+json": {
       "config": {
        "plotlyServerURL": "https://plot.ly"
       },
       "data": [
        {
         "link": {
          "color": [
           "#d4d4e8",
           "#bdbedc",
           "#f6f5f9",
           "#cccce4",
           "#b9b9da",
           "#c9c9e2",
           "#f6f4f9",
           "#f8f7fb",
           "#705ca9",
           "#f3f2f8",
           "#fcfbfd",
           "#eae8f2",
           "#fcfbfd",
           "#cbcbe3",
           "#b9b9da",
           "#cacae3",
           "#f6f4f9",
           "#f8f7fb",
           "#f3f2f8",
           "#6d57a6",
           "#8a86bf",
           "#eceaf3",
           "#fcfbfd",
           "#fcfbfd",
           "#8582bc",
           "#b8b8d9",
           "#f3f1f7",
           "#cbcbe3",
           "#f6f4f9",
           "#f9f7fb",
           "#705ca9",
           "#f5f4f9",
           "#f2f0f7",
           "#fcfbfd",
           "#fcfbfd",
           "#fcfbfd",
           "#3f007d",
           "#eceaf3"
          ],
          "source": [
           0,
           2,
           1,
           3,
           5,
           5,
           4,
           4,
           3,
           3,
           3,
           4,
           4,
           10,
           8,
           9,
           11,
           7,
           6,
           10,
           10,
           11,
           10,
           11,
           16,
           14,
           16,
           15,
           17,
           13,
           14,
           12,
           12,
           17,
           16,
           17,
           15,
           14
          ],
          "target": [
           3,
           5,
           4,
           10,
           8,
           9,
           11,
           7,
           8,
           6,
           11,
           8,
           9,
           16,
           14,
           15,
           17,
           13,
           12,
           14,
           15,
           14,
           13,
           13,
           21,
           18,
           23,
           22,
           24,
           20,
           21,
           19,
           23,
           23,
           24,
           20,
           21,
           24
          ],
          "value": [
           559,
           256,
           285,
           463,
           187,
           69,
           208,
           75,
           1,
           92,
           3,
           1,
           1,
           456,
           189,
           70,
           208,
           75,
           92,
           1,
           2,
           2,
           4,
           1,
           198,
           189,
           257,
           71,
           203,
           80,
           1,
           41,
           51,
           4,
           1,
           1,
           1,
           2
          ]
         },
         "node": {
          "color": [
           "#a50026",
           "#fffebe",
           "#fff3ad",
           "#a50026",
           "#fffebe",
           "#fff3ad",
           "#fdbb6d",
           "#f36b42",
           "#ec5c3b",
           "#fdaf62",
           "#d93429",
           "#a50026",
           "#fdbb6d",
           "#ec5c3b",
           "#f36b42",
           "#fdaf62",
           "#d02927",
           "#a50026",
           "#ee613e",
           "#bb1526",
           "#e14430",
           "#f47044",
           "#fdb769",
           "#fdc374",
           "#a50026"
          ],
          "hovertemplate": "%{customdata}",
          "label": [
           "res.0.1_0",
           "res.0.1_1",
           "res.0.1_2",
           "res.0.2_0",
           "res.0.2_1",
           "res.0.2_2",
           "res.0.3_3",
           "res.0.3_4",
           "res.0.3_2",
           "res.0.3_5",
           "res.0.3_0",
           "res.0.3_1",
           "res.0.4_3",
           "res.0.4_4",
           "res.0.4_2",
           "res.0.4_5",
           "res.0.4_0",
           "res.0.4_1",
           "res.0.5_3",
           "res.0.5_6",
           "res.0.5_4",
           "res.0.5_2",
           "res.0.5_5",
           "res.0.5_0",
           "res.0.5_1"
          ],
          "pad": 10,
          "thickness": 10
         },
         "orientation": "h",
         "textfont": {
          "color": "black",
          "size": 15
         },
         "type": "sankey"
        },
        {
         "marker": {
          "colorscale": [
           [
            0,
            "#a50026"
           ],
           [
            0.041666666666666664,
            "#fffebe"
           ],
           [
            0.08333333333333333,
            "#fff3ad"
           ],
           [
            0.125,
            "#a50026"
           ],
           [
            0.16666666666666666,
            "#fffebe"
           ],
           [
            0.20833333333333334,
            "#fff3ad"
           ],
           [
            0.25,
            "#fdbb6d"
           ],
           [
            0.2916666666666667,
            "#f36b42"
           ],
           [
            0.3333333333333333,
            "#ec5c3b"
           ],
           [
            0.375,
            "#fdaf62"
           ],
           [
            0.4166666666666667,
            "#d93429"
           ],
           [
            0.4583333333333333,
            "#a50026"
           ],
           [
            0.5,
            "#fdbb6d"
           ],
           [
            0.5416666666666666,
            "#ec5c3b"
           ],
           [
            0.5833333333333334,
            "#f36b42"
           ],
           [
            0.625,
            "#fdaf62"
           ],
           [
            0.6666666666666666,
            "#d02927"
           ],
           [
            0.7083333333333334,
            "#a50026"
           ],
           [
            0.75,
            "#ee613e"
           ],
           [
            0.7916666666666666,
            "#bb1526"
           ],
           [
            0.8333333333333334,
            "#e14430"
           ],
           [
            0.875,
            "#f47044"
           ],
           [
            0.9166666666666666,
            "#fdb769"
           ],
           [
            0.9583333333333334,
            "#fdc374"
           ],
           [
            1,
            "#a50026"
           ]
          ]
         },
         "mode": "markers",
         "type": "scatter",
         "visible": true,
         "x": [
          null
         ],
         "y": [
          null
         ]
        },
        {
         "marker": {
          "cmax": 3.47618446220437,
          "cmin": 0,
          "colorscale": [
           [
            0,
            "#fcfbfd"
           ],
           [
            0.02702702702702703,
            "#fcfbfd"
           ],
           [
            0.05405405405405406,
            "#fcfbfd"
           ],
           [
            0.08108108108108109,
            "#fcfbfd"
           ],
           [
            0.10810810810810811,
            "#fcfbfd"
           ],
           [
            0.13513513513513514,
            "#fcfbfd"
           ],
           [
            0.16216216216216217,
            "#fcfbfd"
           ],
           [
            0.1891891891891892,
            "#f9f7fb"
           ],
           [
            0.21621621621621623,
            "#f8f7fb"
           ],
           [
            0.24324324324324326,
            "#f8f7fb"
           ],
           [
            0.2702702702702703,
            "#f6f5f9"
           ],
           [
            0.2972972972972973,
            "#f6f4f9"
           ],
           [
            0.32432432432432434,
            "#f6f4f9"
           ],
           [
            0.35135135135135137,
            "#f6f4f9"
           ],
           [
            0.3783783783783784,
            "#f5f4f9"
           ],
           [
            0.40540540540540543,
            "#f3f2f8"
           ],
           [
            0.43243243243243246,
            "#f3f2f8"
           ],
           [
            0.4594594594594595,
            "#f3f1f7"
           ],
           [
            0.4864864864864865,
            "#f2f0f7"
           ],
           [
            0.5135135135135135,
            "#eceaf3"
           ],
           [
            0.5405405405405406,
            "#eceaf3"
           ],
           [
            0.5675675675675675,
            "#eae8f2"
           ],
           [
            0.5945945945945946,
            "#d4d4e8"
           ],
           [
            0.6216216216216216,
            "#cccce4"
           ],
           [
            0.6486486486486487,
            "#cbcbe3"
           ],
           [
            0.6756756756756757,
            "#cbcbe3"
           ],
           [
            0.7027027027027027,
            "#cacae3"
           ],
           [
            0.7297297297297297,
            "#c9c9e2"
           ],
           [
            0.7567567567567568,
            "#bdbedc"
           ],
           [
            0.7837837837837838,
            "#b9b9da"
           ],
           [
            0.8108108108108109,
            "#b9b9da"
           ],
           [
            0.8378378378378378,
            "#b8b8d9"
           ],
           [
            0.8648648648648649,
            "#8a86bf"
           ],
           [
            0.8918918918918919,
            "#8582bc"
           ],
           [
            0.918918918918919,
            "#705ca9"
           ],
           [
            0.9459459459459459,
            "#705ca9"
           ],
           [
            0.972972972972973,
            "#6d57a6"
           ],
           [
            1,
            "#3f007d"
           ]
          ],
          "showscale": true
         },
         "mode": "markers",
         "type": "scatter",
         "visible": true,
         "x": [
          null
         ],
         "y": [
          null
         ]
        },
        {
         "marker": {
          "cmax": 2.2043674648486,
          "cmin": 0,
          "colorscale": [
           [
            0,
            "#fcfbfd"
           ],
           [
            0.02702702702702703,
            "#fcfbfd"
           ],
           [
            0.05405405405405406,
            "#ecebf4"
           ],
           [
            0.08108108108108109,
            "#ecebf4"
           ],
           [
            0.10810810810810811,
            "#dadaeb"
           ],
           [
            0.13513513513513514,
            "#cccce4"
           ],
           [
            0.16216216216216217,
            "#cbcbe3"
           ],
           [
            0.1891891891891892,
            "#cacae3"
           ],
           [
            0.21621621621621623,
            "#c9c9e2"
           ],
           [
            0.24324324324324326,
            "#c5c6e1"
           ],
           [
            0.2702702702702703,
            "#c5c6e1"
           ],
           [
            0.2972972972972973,
            "#c4c5e0"
           ],
           [
            0.32432432432432434,
            "#aeacd2"
           ],
           [
            0.35135135135135137,
            "#a09dca"
           ],
           [
            0.3783783783783784,
            "#a09dca"
           ],
           [
            0.40540540540540543,
            "#a09dca"
           ],
           [
            0.43243243243243246,
            "#9f9cc9"
           ],
           [
            0.4594594594594595,
            "#9f9cc9"
           ],
           [
            0.4864864864864865,
            "#827fbb"
           ],
           [
            0.5135135135135135,
            "#7a71b4"
           ],
           [
            0.5405405405405406,
            "#7a71b4"
           ],
           [
            0.5675675675675675,
            "#796eb2"
           ],
           [
            0.5945945945945946,
            "#705eaa"
           ],
           [
            0.6216216216216216,
            "#705ca9"
           ],
           [
            0.6486486486486487,
            "#705ca9"
           ],
           [
            0.6756756756756757,
            "#705ca9"
           ],
           [
            0.7027027027027027,
            "#6a51a3"
           ],
           [
            0.7297297297297297,
            "#61409b"
           ],
           [
            0.7567567567567568,
            "#613f9a"
           ],
           [
            0.7837837837837838,
            "#5e3b98"
           ],
           [
            0.8108108108108109,
            "#5a3294"
           ],
           [
            0.8378378378378378,
            "#582e92"
           ],
           [
            0.8648648648648649,
            "#54278f"
           ],
           [
            0.8918918918918919,
            "#51218c"
           ],
           [
            0.918918918918919,
            "#51218c"
           ],
           [
            0.9459459459459459,
            "#470f84"
           ],
           [
            0.972972972972973,
            "#3f007d"
           ],
           [
            1,
            "#3f007d"
           ]
          ],
          "showscale": true
         },
         "mode": "markers",
         "type": "scatter",
         "visible": false,
         "x": [
          null
         ],
         "y": [
          null
         ]
        },
        {
         "marker": {
          "cmax": 3.411037439055716,
          "cmin": 0.806133911556016,
          "colorscale": [
           [
            0,
            "#fcfbfd"
           ],
           [
            0.02702702702702703,
            "#f7f6fa"
           ],
           [
            0.05405405405405406,
            "#f7f6fa"
           ],
           [
            0.08108108108108109,
            "#f6f4f9"
           ],
           [
            0.10810810810810811,
            "#f5f4f9"
           ],
           [
            0.13513513513513514,
            "#f1eff6"
           ],
           [
            0.16216216216216217,
            "#eeecf5"
           ],
           [
            0.1891891891891892,
            "#eeecf4"
           ],
           [
            0.21621621621621623,
            "#e8e6f2"
           ],
           [
            0.24324324324324326,
            "#e7e6f1"
           ],
           [
            0.2702702702702703,
            "#e7e6f1"
           ],
           [
            0.2972972972972973,
            "#e6e5f1"
           ],
           [
            0.32432432432432434,
            "#e2e2ef"
           ],
           [
            0.35135135135135137,
            "#e2e1ef"
           ],
           [
            0.3783783783783784,
            "#dedeed"
           ],
           [
            0.40540540540540543,
            "#dedded"
           ],
           [
            0.43243243243243246,
            "#d6d6e9"
           ],
           [
            0.4594594594594595,
            "#d5d5e9"
           ],
           [
            0.4864864864864865,
            "#d5d5e9"
           ],
           [
            0.5135135135135135,
            "#cecfe5"
           ],
           [
            0.5405405405405406,
            "#cecfe5"
           ],
           [
            0.5675675675675675,
            "#cecfe5"
           ],
           [
            0.5945945945945946,
            "#cdcde4"
           ],
           [
            0.6216216216216216,
            "#cbcbe3"
           ],
           [
            0.6486486486486487,
            "#cacae3"
           ],
           [
            0.6756756756756757,
            "#cacae3"
           ],
           [
            0.7027027027027027,
            "#c9c9e2"
           ],
           [
            0.7297297297297297,
            "#c8c8e2"
           ],
           [
            0.7567567567567568,
            "#8a86bf"
           ],
           [
            0.7837837837837838,
            "#7f7bb9"
           ],
           [
            0.8108108108108109,
            "#7f7bb9"
           ],
           [
            0.8378378378378378,
            "#7a71b4"
           ],
           [
            0.8648648648648649,
            "#705ca9"
           ],
           [
            0.8918918918918919,
            "#694fa2"
           ],
           [
            0.918918918918919,
            "#674ba0"
           ],
           [
            0.9459459459459459,
            "#674ba0"
           ],
           [
            0.972972972972973,
            "#5a3294"
           ],
           [
            1,
            "#3f007d"
           ]
          ],
          "showscale": true
         },
         "mode": "markers",
         "type": "scatter",
         "visible": false,
         "x": [
          null
         ],
         "y": [
          null
         ]
        },
        {
         "marker": {
          "cmax": 1,
          "cmin": -1,
          "colorbar": {
           "x": 1.1,
           "y": 0.5
          },
          "colorscale": [
           [
            0,
            "#313695"
           ],
           [
            0.05,
            "#3a54a4"
           ],
           [
            0.1,
            "#4574b3"
           ],
           [
            0.15,
            "#5c90c2"
           ],
           [
            0.2,
            "#74add1"
           ],
           [
            0.25,
            "#90c3dd"
           ],
           [
            0.3,
            "#aad8e9"
           ],
           [
            0.35,
            "#c5e6f0"
           ],
           [
            0.4,
            "#e0f3f8"
           ],
           [
            0.45,
            "#f0f9db"
           ],
           [
            0.5,
            "#fffebe"
           ],
           [
            0.55,
            "#fff0a8"
           ],
           [
            0.6,
            "#fee090"
           ],
           [
            0.65,
            "#fdc778"
           ],
           [
            0.7,
            "#fdad60"
           ],
           [
            0.75,
            "#f88c51"
           ],
           [
            0.8,
            "#f46d43"
           ],
           [
            0.85,
            "#e54e35"
           ],
           [
            0.9,
            "#d62f27"
           ],
           [
            0.95,
            "#bd1726"
           ],
           [
            1,
            "#a50026"
           ]
          ],
          "showscale": true
         },
         "mode": "markers",
         "type": "scatter",
         "visible": true,
         "x": [
          null
         ],
         "y": [
          null
         ]
        }
       ],
       "layout": {
        "autosize": true,
        "paper_bgcolor": "rgba(0, 0, 0, 0)",
        "plot_bgcolor": "rgba(0, 0, 0, 0)",
        "showlegend": false,
        "template": {
         "data": {
          "bar": [
           {
            "error_x": {
             "color": "#2a3f5f"
            },
            "error_y": {
             "color": "#2a3f5f"
            },
            "marker": {
             "line": {
              "color": "#E5ECF6",
              "width": 0.5
             },
             "pattern": {
              "fillmode": "overlay",
              "size": 10,
              "solidity": 0.2
             }
            },
            "type": "bar"
           }
          ],
          "barpolar": [
           {
            "marker": {
             "line": {
              "color": "#E5ECF6",
              "width": 0.5
             },
             "pattern": {
              "fillmode": "overlay",
              "size": 10,
              "solidity": 0.2
             }
            },
            "type": "barpolar"
           }
          ],
          "carpet": [
           {
            "aaxis": {
             "endlinecolor": "#2a3f5f",
             "gridcolor": "white",
             "linecolor": "white",
             "minorgridcolor": "white",
             "startlinecolor": "#2a3f5f"
            },
            "baxis": {
             "endlinecolor": "#2a3f5f",
             "gridcolor": "white",
             "linecolor": "white",
             "minorgridcolor": "white",
             "startlinecolor": "#2a3f5f"
            },
            "type": "carpet"
           }
          ],
          "choropleth": [
           {
            "colorbar": {
             "outlinewidth": 0,
             "ticks": ""
            },
            "type": "choropleth"
           }
          ],
          "contour": [
           {
            "colorbar": {
             "outlinewidth": 0,
             "ticks": ""
            },
            "colorscale": [
             [
              0,
              "#0d0887"
             ],
             [
              0.1111111111111111,
              "#46039f"
             ],
             [
              0.2222222222222222,
              "#7201a8"
             ],
             [
              0.3333333333333333,
              "#9c179e"
             ],
             [
              0.4444444444444444,
              "#bd3786"
             ],
             [
              0.5555555555555556,
              "#d8576b"
             ],
             [
              0.6666666666666666,
              "#ed7953"
             ],
             [
              0.7777777777777778,
              "#fb9f3a"
             ],
             [
              0.8888888888888888,
              "#fdca26"
             ],
             [
              1,
              "#f0f921"
             ]
            ],
            "type": "contour"
           }
          ],
          "contourcarpet": [
           {
            "colorbar": {
             "outlinewidth": 0,
             "ticks": ""
            },
            "type": "contourcarpet"
           }
          ],
          "heatmap": [
           {
            "colorbar": {
             "outlinewidth": 0,
             "ticks": ""
            },
            "colorscale": [
             [
              0,
              "#0d0887"
             ],
             [
              0.1111111111111111,
              "#46039f"
             ],
             [
              0.2222222222222222,
              "#7201a8"
             ],
             [
              0.3333333333333333,
              "#9c179e"
             ],
             [
              0.4444444444444444,
              "#bd3786"
             ],
             [
              0.5555555555555556,
              "#d8576b"
             ],
             [
              0.6666666666666666,
              "#ed7953"
             ],
             [
              0.7777777777777778,
              "#fb9f3a"
             ],
             [
              0.8888888888888888,
              "#fdca26"
             ],
             [
              1,
              "#f0f921"
             ]
            ],
            "type": "heatmap"
           }
          ],
          "heatmapgl": [
           {
            "colorbar": {
             "outlinewidth": 0,
             "ticks": ""
            },
            "colorscale": [
             [
              0,
              "#0d0887"
             ],
             [
              0.1111111111111111,
              "#46039f"
             ],
             [
              0.2222222222222222,
              "#7201a8"
             ],
             [
              0.3333333333333333,
              "#9c179e"
             ],
             [
              0.4444444444444444,
              "#bd3786"
             ],
             [
              0.5555555555555556,
              "#d8576b"
             ],
             [
              0.6666666666666666,
              "#ed7953"
             ],
             [
              0.7777777777777778,
              "#fb9f3a"
             ],
             [
              0.8888888888888888,
              "#fdca26"
             ],
             [
              1,
              "#f0f921"
             ]
            ],
            "type": "heatmapgl"
           }
          ],
          "histogram": [
           {
            "marker": {
             "pattern": {
              "fillmode": "overlay",
              "size": 10,
              "solidity": 0.2
             }
            },
            "type": "histogram"
           }
          ],
          "histogram2d": [
           {
            "colorbar": {
             "outlinewidth": 0,
             "ticks": ""
            },
            "colorscale": [
             [
              0,
              "#0d0887"
             ],
             [
              0.1111111111111111,
              "#46039f"
             ],
             [
              0.2222222222222222,
              "#7201a8"
             ],
             [
              0.3333333333333333,
              "#9c179e"
             ],
             [
              0.4444444444444444,
              "#bd3786"
             ],
             [
              0.5555555555555556,
              "#d8576b"
             ],
             [
              0.6666666666666666,
              "#ed7953"
             ],
             [
              0.7777777777777778,
              "#fb9f3a"
             ],
             [
              0.8888888888888888,
              "#fdca26"
             ],
             [
              1,
              "#f0f921"
             ]
            ],
            "type": "histogram2d"
           }
          ],
          "histogram2dcontour": [
           {
            "colorbar": {
             "outlinewidth": 0,
             "ticks": ""
            },
            "colorscale": [
             [
              0,
              "#0d0887"
             ],
             [
              0.1111111111111111,
              "#46039f"
             ],
             [
              0.2222222222222222,
              "#7201a8"
             ],
             [
              0.3333333333333333,
              "#9c179e"
             ],
             [
              0.4444444444444444,
              "#bd3786"
             ],
             [
              0.5555555555555556,
              "#d8576b"
             ],
             [
              0.6666666666666666,
              "#ed7953"
             ],
             [
              0.7777777777777778,
              "#fb9f3a"
             ],
             [
              0.8888888888888888,
              "#fdca26"
             ],
             [
              1,
              "#f0f921"
             ]
            ],
            "type": "histogram2dcontour"
           }
          ],
          "mesh3d": [
           {
            "colorbar": {
             "outlinewidth": 0,
             "ticks": ""
            },
            "type": "mesh3d"
           }
          ],
          "parcoords": [
           {
            "line": {
             "colorbar": {
              "outlinewidth": 0,
              "ticks": ""
             }
            },
            "type": "parcoords"
           }
          ],
          "pie": [
           {
            "automargin": true,
            "type": "pie"
           }
          ],
          "scatter": [
           {
            "fillpattern": {
             "fillmode": "overlay",
             "size": 10,
             "solidity": 0.2
            },
            "type": "scatter"
           }
          ],
          "scatter3d": [
           {
            "line": {
             "colorbar": {
              "outlinewidth": 0,
              "ticks": ""
             }
            },
            "marker": {
             "colorbar": {
              "outlinewidth": 0,
              "ticks": ""
             }
            },
            "type": "scatter3d"
           }
          ],
          "scattercarpet": [
           {
            "marker": {
             "colorbar": {
              "outlinewidth": 0,
              "ticks": ""
             }
            },
            "type": "scattercarpet"
           }
          ],
          "scattergeo": [
           {
            "marker": {
             "colorbar": {
              "outlinewidth": 0,
              "ticks": ""
             }
            },
            "type": "scattergeo"
           }
          ],
          "scattergl": [
           {
            "marker": {
             "colorbar": {
              "outlinewidth": 0,
              "ticks": ""
             }
            },
            "type": "scattergl"
           }
          ],
          "scattermapbox": [
           {
            "marker": {
             "colorbar": {
              "outlinewidth": 0,
              "ticks": ""
             }
            },
            "type": "scattermapbox"
           }
          ],
          "scatterpolar": [
           {
            "marker": {
             "colorbar": {
              "outlinewidth": 0,
              "ticks": ""
             }
            },
            "type": "scatterpolar"
           }
          ],
          "scatterpolargl": [
           {
            "marker": {
             "colorbar": {
              "outlinewidth": 0,
              "ticks": ""
             }
            },
            "type": "scatterpolargl"
           }
          ],
          "scatterternary": [
           {
            "marker": {
             "colorbar": {
              "outlinewidth": 0,
              "ticks": ""
             }
            },
            "type": "scatterternary"
           }
          ],
          "surface": [
           {
            "colorbar": {
             "outlinewidth": 0,
             "ticks": ""
            },
            "colorscale": [
             [
              0,
              "#0d0887"
             ],
             [
              0.1111111111111111,
              "#46039f"
             ],
             [
              0.2222222222222222,
              "#7201a8"
             ],
             [
              0.3333333333333333,
              "#9c179e"
             ],
             [
              0.4444444444444444,
              "#bd3786"
             ],
             [
              0.5555555555555556,
              "#d8576b"
             ],
             [
              0.6666666666666666,
              "#ed7953"
             ],
             [
              0.7777777777777778,
              "#fb9f3a"
             ],
             [
              0.8888888888888888,
              "#fdca26"
             ],
             [
              1,
              "#f0f921"
             ]
            ],
            "type": "surface"
           }
          ],
          "table": [
           {
            "cells": {
             "fill": {
              "color": "#EBF0F8"
             },
             "line": {
              "color": "white"
             }
            },
            "header": {
             "fill": {
              "color": "#C8D4E3"
             },
             "line": {
              "color": "white"
             }
            },
            "type": "table"
           }
          ]
         },
         "layout": {
          "annotationdefaults": {
           "arrowcolor": "#2a3f5f",
           "arrowhead": 0,
           "arrowwidth": 1
          },
          "autotypenumbers": "strict",
          "coloraxis": {
           "colorbar": {
            "outlinewidth": 0,
            "ticks": ""
           }
          },
          "colorscale": {
           "diverging": [
            [
             0,
             "#8e0152"
            ],
            [
             0.1,
             "#c51b7d"
            ],
            [
             0.2,
             "#de77ae"
            ],
            [
             0.3,
             "#f1b6da"
            ],
            [
             0.4,
             "#fde0ef"
            ],
            [
             0.5,
             "#f7f7f7"
            ],
            [
             0.6,
             "#e6f5d0"
            ],
            [
             0.7,
             "#b8e186"
            ],
            [
             0.8,
             "#7fbc41"
            ],
            [
             0.9,
             "#4d9221"
            ],
            [
             1,
             "#276419"
            ]
           ],
           "sequential": [
            [
             0,
             "#0d0887"
            ],
            [
             0.1111111111111111,
             "#46039f"
            ],
            [
             0.2222222222222222,
             "#7201a8"
            ],
            [
             0.3333333333333333,
             "#9c179e"
            ],
            [
             0.4444444444444444,
             "#bd3786"
            ],
            [
             0.5555555555555556,
             "#d8576b"
            ],
            [
             0.6666666666666666,
             "#ed7953"
            ],
            [
             0.7777777777777778,
             "#fb9f3a"
            ],
            [
             0.8888888888888888,
             "#fdca26"
            ],
            [
             1,
             "#f0f921"
            ]
           ],
           "sequentialminus": [
            [
             0,
             "#0d0887"
            ],
            [
             0.1111111111111111,
             "#46039f"
            ],
            [
             0.2222222222222222,
             "#7201a8"
            ],
            [
             0.3333333333333333,
             "#9c179e"
            ],
            [
             0.4444444444444444,
             "#bd3786"
            ],
            [
             0.5555555555555556,
             "#d8576b"
            ],
            [
             0.6666666666666666,
             "#ed7953"
            ],
            [
             0.7777777777777778,
             "#fb9f3a"
            ],
            [
             0.8888888888888888,
             "#fdca26"
            ],
            [
             1,
             "#f0f921"
            ]
           ]
          },
          "colorway": [
           "#636efa",
           "#EF553B",
           "#00cc96",
           "#ab63fa",
           "#FFA15A",
           "#19d3f3",
           "#FF6692",
           "#B6E880",
           "#FF97FF",
           "#FECB52"
          ],
          "font": {
           "color": "#2a3f5f"
          },
          "geo": {
           "bgcolor": "white",
           "lakecolor": "white",
           "landcolor": "#E5ECF6",
           "showlakes": true,
           "showland": true,
           "subunitcolor": "white"
          },
          "hoverlabel": {
           "align": "left"
          },
          "hovermode": "closest",
          "mapbox": {
           "style": "light"
          },
          "paper_bgcolor": "white",
          "plot_bgcolor": "#E5ECF6",
          "polar": {
           "angularaxis": {
            "gridcolor": "white",
            "linecolor": "white",
            "ticks": ""
           },
           "bgcolor": "#E5ECF6",
           "radialaxis": {
            "gridcolor": "white",
            "linecolor": "white",
            "ticks": ""
           }
          },
          "scene": {
           "xaxis": {
            "backgroundcolor": "#E5ECF6",
            "gridcolor": "white",
            "gridwidth": 2,
            "linecolor": "white",
            "showbackground": true,
            "ticks": "",
            "zerolinecolor": "white"
           },
           "yaxis": {
            "backgroundcolor": "#E5ECF6",
            "gridcolor": "white",
            "gridwidth": 2,
            "linecolor": "white",
            "showbackground": true,
            "ticks": "",
            "zerolinecolor": "white"
           },
           "zaxis": {
            "backgroundcolor": "#E5ECF6",
            "gridcolor": "white",
            "gridwidth": 2,
            "linecolor": "white",
            "showbackground": true,
            "ticks": "",
            "zerolinecolor": "white"
           }
          },
          "shapedefaults": {
           "line": {
            "color": "#2a3f5f"
           }
          },
          "ternary": {
           "aaxis": {
            "gridcolor": "white",
            "linecolor": "white",
            "ticks": ""
           },
           "baxis": {
            "gridcolor": "white",
            "linecolor": "white",
            "ticks": ""
           },
           "bgcolor": "#E5ECF6",
           "caxis": {
            "gridcolor": "white",
            "linecolor": "white",
            "ticks": ""
           }
          },
          "title": {
           "x": 0.05
          },
          "xaxis": {
           "automargin": true,
           "gridcolor": "white",
           "linecolor": "white",
           "ticks": "",
           "title": {
            "standoff": 15
           },
           "zerolinecolor": "white",
           "zerolinewidth": 2
          },
          "yaxis": {
           "automargin": true,
           "gridcolor": "white",
           "linecolor": "white",
           "ticks": "",
           "title": {
            "standoff": 15
           },
           "zerolinecolor": "white",
           "zerolinewidth": 2
          }
         }
        },
        "updatemenus": [
         {
          "buttons": [
           {
            "args": [
             {
              "link": {
               "color": [
                "#d4d4e8",
                "#bdbedc",
                "#f6f5f9",
                "#cccce4",
                "#b9b9da",
                "#c9c9e2",
                "#f6f4f9",
                "#f8f7fb",
                "#705ca9",
                "#f3f2f8",
                "#fcfbfd",
                "#eae8f2",
                "#fcfbfd",
                "#cbcbe3",
                "#b9b9da",
                "#cacae3",
                "#f6f4f9",
                "#f8f7fb",
                "#f3f2f8",
                "#6d57a6",
                "#8a86bf",
                "#eceaf3",
                "#fcfbfd",
                "#fcfbfd",
                "#8582bc",
                "#b8b8d9",
                "#f3f1f7",
                "#cbcbe3",
                "#f6f4f9",
                "#f9f7fb",
                "#705ca9",
                "#f5f4f9",
                "#f2f0f7",
                "#fcfbfd",
                "#fcfbfd",
                "#fcfbfd",
                "#3f007d",
                "#eceaf3"
               ],
               "source": [
                0,
                2,
                1,
                3,
                5,
                5,
                4,
                4,
                3,
                3,
                3,
                4,
                4,
                10,
                8,
                9,
                11,
                7,
                6,
                10,
                10,
                11,
                10,
                11,
                16,
                14,
                16,
                15,
                17,
                13,
                14,
                12,
                12,
                17,
                16,
                17,
                15,
                14
               ],
               "target": [
                3,
                5,
                4,
                10,
                8,
                9,
                11,
                7,
                8,
                6,
                11,
                8,
                9,
                16,
                14,
                15,
                17,
                13,
                12,
                14,
                15,
                14,
                13,
                13,
                21,
                18,
                23,
                22,
                24,
                20,
                21,
                19,
                23,
                23,
                24,
                20,
                21,
                24
               ],
               "value": [
                559,
                256,
                285,
                463,
                187,
                69,
                208,
                75,
                1,
                92,
                3,
                1,
                1,
                456,
                189,
                70,
                208,
                75,
                92,
                1,
                2,
                2,
                4,
                1,
                198,
                189,
                257,
                71,
                203,
                80,
                1,
                41,
                51,
                4,
                1,
                1,
                1,
                2
               ]
              },
              "visible": [
               true,
               true,
               true,
               false,
               false
              ]
             }
            ],
            "label": "NPPA",
            "method": "update"
           },
           {
            "args": [
             {
              "link": {
               "color": [
                "#5e3b98",
                "#7a71b4",
                "#cacae3",
                "#61409b",
                "#705ca9",
                "#9f9cc9",
                "#cccce4",
                "#c5c6e1",
                "#3f007d",
                "#51218c",
                "#705eaa",
                "#dadaeb",
                "#fcfbfd",
                "#613f9a",
                "#705ca9",
                "#a09dca",
                "#c9c9e2",
                "#c5c6e1",
                "#51218c",
                "#582e92",
                "#9f9cc9",
                "#ecebf4",
                "#a09dca",
                "#fcfbfd",
                "#54278f",
                "#705ca9",
                "#6a51a3",
                "#a09dca",
                "#cbcbe3",
                "#c4c5e0",
                "#3f007d",
                "#470f84",
                "#5a3294",
                "#7a71b4",
                "#796eb2",
                "#827fbb",
                "#aeacd2",
                "#ecebf4"
               ],
               "source": [
                0,
                2,
                1,
                3,
                5,
                5,
                4,
                4,
                3,
                3,
                3,
                4,
                4,
                10,
                8,
                9,
                11,
                7,
                6,
                10,
                10,
                11,
                10,
                11,
                16,
                14,
                16,
                15,
                17,
                13,
                14,
                12,
                12,
                17,
                16,
                17,
                15,
                14
               ],
               "target": [
                3,
                5,
                4,
                10,
                8,
                9,
                11,
                7,
                8,
                6,
                11,
                8,
                9,
                16,
                14,
                15,
                17,
                13,
                12,
                14,
                15,
                14,
                13,
                13,
                21,
                18,
                23,
                22,
                24,
                20,
                21,
                19,
                23,
                23,
                24,
                20,
                21,
                24
               ],
               "value": [
                559,
                256,
                285,
                463,
                187,
                69,
                208,
                75,
                1,
                92,
                3,
                1,
                1,
                456,
                189,
                70,
                208,
                75,
                92,
                1,
                2,
                2,
                4,
                1,
                198,
                189,
                257,
                71,
                203,
                80,
                1,
                41,
                51,
                4,
                1,
                1,
                1,
                2
               ]
              },
              "visible": [
               true,
               true,
               false,
               true,
               false
              ]
             }
            ],
            "label": "TECRL",
            "method": "update"
           },
           {
            "args": [
             {
              "link": {
               "color": [
                "#c9c9e2",
                "#e2e2ef",
                "#cdcde4",
                "#dedded",
                "#e7e6f1",
                "#d5d5e9",
                "#cbcbe3",
                "#cecfe5",
                "#7f7bb9",
                "#674ba0",
                "#5a3294",
                "#eeecf4",
                "#e2e1ef",
                "#dedeed",
                "#e6e5f1",
                "#d5d5e9",
                "#c8c8e2",
                "#cecfe5",
                "#674ba0",
                "#fcfbfd",
                "#f1eff6",
                "#f7f6fa",
                "#694fa2",
                "#e8e6f2",
                "#eeecf5",
                "#e7e6f1",
                "#cecfe5",
                "#d6d6e9",
                "#cacae3",
                "#cacae3",
                "#7f7bb9",
                "#3f007d",
                "#8a86bf",
                "#7a71b4",
                "#f5f4f9",
                "#705ca9",
                "#f6f4f9",
                "#f7f6fa"
               ],
               "source": [
                0,
                2,
                1,
                3,
                5,
                5,
                4,
                4,
                3,
                3,
                3,
                4,
                4,
                10,
                8,
                9,
                11,
                7,
                6,
                10,
                10,
                11,
                10,
                11,
                16,
                14,
                16,
                15,
                17,
                13,
                14,
                12,
                12,
                17,
                16,
                17,
                15,
                14
               ],
               "target": [
                3,
                5,
                4,
                10,
                8,
                9,
                11,
                7,
                8,
                6,
                11,
                8,
                9,
                16,
                14,
                15,
                17,
                13,
                12,
                14,
                15,
                14,
                13,
                13,
                21,
                18,
                23,
                22,
                24,
                20,
                21,
                19,
                23,
                23,
                24,
                20,
                21,
                24
               ],
               "value": [
                559,
                256,
                285,
                463,
                187,
                69,
                208,
                75,
                1,
                92,
                3,
                1,
                1,
                456,
                189,
                70,
                208,
                75,
                92,
                1,
                2,
                2,
                4,
                1,
                198,
                189,
                257,
                71,
                203,
                80,
                1,
                41,
                51,
                4,
                1,
                1,
                1,
                2
               ]
              },
              "visible": [
               true,
               true,
               false,
               false,
               true
              ]
             }
            ],
            "label": "MYH6",
            "method": "update"
           }
          ],
          "font": {
           "size": 15
          },
          "x": -0.05,
          "y": 0.9
         },
         {
          "buttons": [
           {
            "args": [
             {
              "visible": true
             }
            ],
            "label": "Silhouette Scores",
            "method": "update"
           }
          ],
          "font": {
           "size": 15
          },
          "x": -0.05,
          "y": 0.5
         },
         {
          "buttons": [
           {
            "args": [
             "arrangement",
             "snap"
            ],
            "label": "Snap",
            "method": "restyle"
           },
           {
            "args": [
             "arrangement",
             "perpendicular"
            ],
            "label": "Perpendicular",
            "method": "restyle"
           },
           {
            "args": [
             "arrangement",
             "freeform"
            ],
            "label": "Freeform",
            "method": "restyle"
           },
           {
            "args": [
             "arrangement",
             "fixed"
            ],
            "label": "Fixed",
            "method": "restyle"
           }
          ],
          "font": {
           "size": 15
          },
          "x": 0,
          "y": 1.3
         },
         {
          "buttons": [
           {
            "args": [
             "paper_bgcolor",
             "white"
            ],
            "label": "Light",
            "method": "relayout"
           },
           {
            "args": [
             "paper_bgcolor",
             "black"
            ],
            "label": "Dark",
            "method": "relayout"
           }
          ],
          "font": {
           "size": 15
          },
          "x": 0.2,
          "y": 1.3
         },
         {
          "buttons": [
           {
            "args": [
             "node.thickness",
             8
            ],
            "label": "Thin",
            "method": "restyle"
           },
           {
            "args": [
             "node.thickness",
             15
            ],
            "label": "Thick",
            "method": "restyle"
           }
          ],
          "font": {
           "size": 15
          },
          "x": 0.4,
          "y": 1.3
         },
         {
          "buttons": [
           {
            "args": [
             "node.pad",
             15
            ],
            "label": "Small gap",
            "method": "restyle"
           },
           {
            "args": [
             "node.pad",
             20
            ],
            "label": "Large gap",
            "method": "restyle"
           }
          ],
          "font": {
           "size": 15
          },
          "x": 0.6,
          "y": 1.3
         },
         {
          "buttons": [
           {
            "args": [
             "orientation",
             "h"
            ],
            "label": "Horizontal",
            "method": "restyle"
           },
           {
            "args": [
             "orientation",
             "v"
            ],
            "label": "Vertical",
            "method": "restyle"
           }
          ],
          "font": {
           "size": 15
          },
          "x": 0.8,
          "y": 1.3
         }
        ],
        "xaxis": {
         "autorange": true,
         "range": [
          -1,
          6
         ],
         "showgrid": false,
         "showticklabels": false,
         "zeroline": false
        },
        "yaxis": {
         "autorange": true,
         "range": [
          -1,
          4
         ],
         "showgrid": false,
         "showticklabels": false,
         "zeroline": false
        }
       }
      },
      "image/png": "[encoded data removed]",
      "text/html": [
       "<div>                            <div id=\"0cd51077-9a19-441e-80ca-80720b702c24\" class=\"plotly-graph-div\" style=\"height:525px; width:100%;\"></div>            <script type=\"text/javascript\">                require([\"plotly\"], function(Plotly) {                    window.PLOTLYENV=window.PLOTLYENV || {};                                    if (document.getElementById(\"0cd51077-9a19-441e-80ca-80720b702c24\")) {                    Plotly.newPlot(                        \"0cd51077-9a19-441e-80ca-80720b702c24\",                        [{\"link\":{\"color\":[\"#d4d4e8\",\"#bdbedc\",\"#f6f5f9\",\"#cccce4\",\"#b9b9da\",\"#c9c9e2\",\"#f6f4f9\",\"#f8f7fb\",\"#705ca9\",\"#f3f2f8\",\"#fcfbfd\",\"#eae8f2\",\"#fcfbfd\",\"#cbcbe3\",\"#b9b9da\",\"#cacae3\",\"#f6f4f9\",\"#f8f7fb\",\"#f3f2f8\",\"#6d57a6\",\"#8a86bf\",\"#eceaf3\",\"#fcfbfd\",\"#fcfbfd\",\"#8582bc\",\"#b8b8d9\",\"#f3f1f7\",\"#cbcbe3\",\"#f6f4f9\",\"#f9f7fb\",\"#705ca9\",\"#f5f4f9\",\"#f2f0f7\",\"#fcfbfd\",\"#fcfbfd\",\"#fcfbfd\",\"#3f007d\",\"#eceaf3\"],\"source\":[0,2,1,3,5,5,4,4,3,3,3,4,4,10,8,9,11,7,6,10,10,11,10,11,16,14,16,15,17,13,14,12,12,17,16,17,15,14],\"target\":[3,5,4,10,8,9,11,7,8,6,11,8,9,16,14,15,17,13,12,14,15,14,13,13,21,18,23,22,24,20,21,19,23,23,24,20,21,24],\"value\":[559,256,285,463,187,69,208,75,1,92,3,1,1,456,189,70,208,75,92,1,2,2,4,1,198,189,257,71,203,80,1,41,51,4,1,1,1,2]},\"node\":{\"color\":[\"#a50026\",\"#fffebe\",\"#fff3ad\",\"#a50026\",\"#fffebe\",\"#fff3ad\",\"#fdbb6d\",\"#f36b42\",\"#ec5c3b\",\"#fdaf62\",\"#d93429\",\"#a50026\",\"#fdbb6d\",\"#ec5c3b\",\"#f36b42\",\"#fdaf62\",\"#d02927\",\"#a50026\",\"#ee613e\",\"#bb1526\",\"#e14430\",\"#f47044\",\"#fdb769\",\"#fdc374\",\"#a50026\"],\"hovertemplate\":\"%{customdata}\",\"label\":[\"res.0.1_0\",\"res.0.1_1\",\"res.0.1_2\",\"res.0.2_0\",\"res.0.2_1\",\"res.0.2_2\",\"res.0.3_3\",\"res.0.3_4\",\"res.0.3_2\",\"res.0.3_5\",\"res.0.3_0\",\"res.0.3_1\",\"res.0.4_3\",\"res.0.4_4\",\"res.0.4_2\",\"res.0.4_5\",\"res.0.4_0\",\"res.0.4_1\",\"res.0.5_3\",\"res.0.5_6\",\"res.0.5_4\",\"res.0.5_2\",\"res.0.5_5\",\"res.0.5_0\",\"res.0.5_1\"],\"pad\":10,\"thickness\":10},\"orientation\":\"h\",\"textfont\":{\"color\":\"black\",\"size\":15},\"type\":\"sankey\"},{\"marker\":{\"colorscale\":[[0.0,\"#a50026\"],[0.041666666666666664,\"#fffebe\"],[0.08333333333333333,\"#fff3ad\"],[0.125,\"#a50026\"],[0.16666666666666666,\"#fffebe\"],[0.20833333333333334,\"#fff3ad\"],[0.25,\"#fdbb6d\"],[0.2916666666666667,\"#f36b42\"],[0.3333333333333333,\"#ec5c3b\"],[0.375,\"#fdaf62\"],[0.4166666666666667,\"#d93429\"],[0.4583333333333333,\"#a50026\"],[0.5,\"#fdbb6d\"],[0.5416666666666666,\"#ec5c3b\"],[0.5833333333333334,\"#f36b42\"],[0.625,\"#fdaf62\"],[0.6666666666666666,\"#d02927\"],[0.7083333333333334,\"#a50026\"],[0.75,\"#ee613e\"],[0.7916666666666666,\"#bb1526\"],[0.8333333333333334,\"#e14430\"],[0.875,\"#f47044\"],[0.9166666666666666,\"#fdb769\"],[0.9583333333333334,\"#fdc374\"],[1.0,\"#a50026\"]]},\"mode\":\"markers\",\"visible\":true,\"x\":[null],\"y\":[null],\"type\":\"scatter\"},{\"marker\":{\"cmax\":3.47618446220437,\"cmin\":0.0,\"colorscale\":[[0.0,\"#fcfbfd\"],[0.02702702702702703,\"#fcfbfd\"],[0.05405405405405406,\"#fcfbfd\"],[0.08108108108108109,\"#fcfbfd\"],[0.10810810810810811,\"#fcfbfd\"],[0.13513513513513514,\"#fcfbfd\"],[0.16216216216216217,\"#fcfbfd\"],[0.1891891891891892,\"#f9f7fb\"],[0.21621621621621623,\"#f8f7fb\"],[0.24324324324324326,\"#f8f7fb\"],[0.2702702702702703,\"#f6f5f9\"],[0.2972972972972973,\"#f6f4f9\"],[0.32432432432432434,\"#f6f4f9\"],[0.35135135135135137,\"#f6f4f9\"],[0.3783783783783784,\"#f5f4f9\"],[0.40540540540540543,\"#f3f2f8\"],[0.43243243243243246,\"#f3f2f8\"],[0.4594594594594595,\"#f3f1f7\"],[0.4864864864864865,\"#f2f0f7\"],[0.5135135135135135,\"#eceaf3\"],[0.5405405405405406,\"#eceaf3\"],[0.5675675675675675,\"#eae8f2\"],[0.5945945945945946,\"#d4d4e8\"],[0.6216216216216216,\"#cccce4\"],[0.6486486486486487,\"#cbcbe3\"],[0.6756756756756757,\"#cbcbe3\"],[0.7027027027027027,\"#cacae3\"],[0.7297297297297297,\"#c9c9e2\"],[0.7567567567567568,\"#bdbedc\"],[0.7837837837837838,\"#b9b9da\"],[0.8108108108108109,\"#b9b9da\"],[0.8378378378378378,\"#b8b8d9\"],[0.8648648648648649,\"#8a86bf\"],[0.8918918918918919,\"#8582bc\"],[0.918918918918919,\"#705ca9\"],[0.9459459459459459,\"#705ca9\"],[0.972972972972973,\"#6d57a6\"],[1.0,\"#3f007d\"]],\"showscale\":true},\"mode\":\"markers\",\"visible\":true,\"x\":[null],\"y\":[null],\"type\":\"scatter\"},{\"marker\":{\"cmax\":2.2043674648486,\"cmin\":0.0,\"colorscale\":[[0.0,\"#fcfbfd\"],[0.02702702702702703,\"#fcfbfd\"],[0.05405405405405406,\"#ecebf4\"],[0.08108108108108109,\"#ecebf4\"],[0.10810810810810811,\"#dadaeb\"],[0.13513513513513514,\"#cccce4\"],[0.16216216216216217,\"#cbcbe3\"],[0.1891891891891892,\"#cacae3\"],[0.21621621621621623,\"#c9c9e2\"],[0.24324324324324326,\"#c5c6e1\"],[0.2702702702702703,\"#c5c6e1\"],[0.2972972972972973,\"#c4c5e0\"],[0.32432432432432434,\"#aeacd2\"],[0.35135135135135137,\"#a09dca\"],[0.3783783783783784,\"#a09dca\"],[0.40540540540540543,\"#a09dca\"],[0.43243243243243246,\"#9f9cc9\"],[0.4594594594594595,\"#9f9cc9\"],[0.4864864864864865,\"#827fbb\"],[0.5135135135135135,\"#7a71b4\"],[0.5405405405405406,\"#7a71b4\"],[0.5675675675675675,\"#796eb2\"],[0.5945945945945946,\"#705eaa\"],[0.6216216216216216,\"#705ca9\"],[0.6486486486486487,\"#705ca9\"],[0.6756756756756757,\"#705ca9\"],[0.7027027027027027,\"#6a51a3\"],[0.7297297297297297,\"#61409b\"],[0.7567567567567568,\"#613f9a\"],[0.7837837837837838,\"#5e3b98\"],[0.8108108108108109,\"#5a3294\"],[0.8378378378378378,\"#582e92\"],[0.8648648648648649,\"#54278f\"],[0.8918918918918919,\"#51218c\"],[0.918918918918919,\"#51218c\"],[0.9459459459459459,\"#470f84\"],[0.972972972972973,\"#3f007d\"],[1.0,\"#3f007d\"]],\"showscale\":true},\"mode\":\"markers\",\"visible\":false,\"x\":[null],\"y\":[null],\"type\":\"scatter\"},{\"marker\":{\"cmax\":3.411037439055716,\"cmin\":0.806133911556016,\"colorscale\":[[0.0,\"#fcfbfd\"],[0.02702702702702703,\"#f7f6fa\"],[0.05405405405405406,\"#f7f6fa\"],[0.08108108108108109,\"#f6f4f9\"],[0.10810810810810811,\"#f5f4f9\"],[0.13513513513513514,\"#f1eff6\"],[0.16216216216216217,\"#eeecf5\"],[0.1891891891891892,\"#eeecf4\"],[0.21621621621621623,\"#e8e6f2\"],[0.24324324324324326,\"#e7e6f1\"],[0.2702702702702703,\"#e7e6f1\"],[0.2972972972972973,\"#e6e5f1\"],[0.32432432432432434,\"#e2e2ef\"],[0.35135135135135137,\"#e2e1ef\"],[0.3783783783783784,\"#dedeed\"],[0.40540540540540543,\"#dedded\"],[0.43243243243243246,\"#d6d6e9\"],[0.4594594594594595,\"#d5d5e9\"],[0.4864864864864865,\"#d5d5e9\"],[0.5135135135135135,\"#cecfe5\"],[0.5405405405405406,\"#cecfe5\"],[0.5675675675675675,\"#cecfe5\"],[0.5945945945945946,\"#cdcde4\"],[0.6216216216216216,\"#cbcbe3\"],[0.6486486486486487,\"#cacae3\"],[0.6756756756756757,\"#cacae3\"],[0.7027027027027027,\"#c9c9e2\"],[0.7297297297297297,\"#c8c8e2\"],[0.7567567567567568,\"#8a86bf\"],[0.7837837837837838,\"#7f7bb9\"],[0.8108108108108109,\"#7f7bb9\"],[0.8378378378378378,\"#7a71b4\"],[0.8648648648648649,\"#705ca9\"],[0.8918918918918919,\"#694fa2\"],[0.918918918918919,\"#674ba0\"],[0.9459459459459459,\"#674ba0\"],[0.972972972972973,\"#5a3294\"],[1.0,\"#3f007d\"]],\"showscale\":true},\"mode\":\"markers\",\"visible\":false,\"x\":[null],\"y\":[null],\"type\":\"scatter\"},{\"marker\":{\"cmax\":1,\"cmin\":-1,\"colorbar\":{\"x\":1.1},\"colorscale\":[[0.0,\"#313695\"],[0.05,\"#3a54a4\"],[0.1,\"#4574b3\"],[0.15,\"#5c90c2\"],[0.2,\"#74add1\"],[0.25,\"#90c3dd\"],[0.3,\"#aad8e9\"],[0.35,\"#c5e6f0\"],[0.4,\"#e0f3f8\"],[0.45,\"#f0f9db\"],[0.5,\"#fffebe\"],[0.55,\"#fff0a8\"],[0.6,\"#fee090\"],[0.65,\"#fdc778\"],[0.7,\"#fdad60\"],[0.75,\"#f88c51\"],[0.8,\"#f46d43\"],[0.85,\"#e54e35\"],[0.9,\"#d62f27\"],[0.95,\"#bd1726\"],[1.0,\"#a50026\"]],\"showscale\":true},\"mode\":\"markers\",\"visible\":true,\"x\":[null],\"y\":[null],\"type\":\"scatter\"}],                        {\"template\":{\"data\":{\"histogram2dcontour\":[{\"type\":\"histogram2dcontour\",\"colorbar\":{\"outlinewidth\":0,\"ticks\":\"\"},\"colorscale\":[[0.0,\"#0d0887\"],[0.1111111111111111,\"#46039f\"],[0.2222222222222222,\"#7201a8\"],[0.3333333333333333,\"#9c179e\"],[0.4444444444444444,\"#bd3786\"],[0.5555555555555556,\"#d8576b\"],[0.6666666666666666,\"#ed7953\"],[0.7777777777777778,\"#fb9f3a\"],[0.8888888888888888,\"#fdca26\"],[1.0,\"#f0f921\"]]}],\"choropleth\":[{\"type\":\"choropleth\",\"colorbar\":{\"outlinewidth\":0,\"ticks\":\"\"}}],\"histogram2d\":[{\"type\":\"histogram2d\",\"colorbar\":{\"outlinewidth\":0,\"ticks\":\"\"},\"colorscale\":[[0.0,\"#0d0887\"],[0.1111111111111111,\"#46039f\"],[0.2222222222222222,\"#7201a8\"],[0.3333333333333333,\"#9c179e\"],[0.4444444444444444,\"#bd3786\"],[0.5555555555555556,\"#d8576b\"],[0.6666666666666666,\"#ed7953\"],[0.7777777777777778,\"#fb9f3a\"],[0.8888888888888888,\"#fdca26\"],[1.0,\"#f0f921\"]]}],\"heatmap\":[{\"type\":\"heatmap\",\"colorbar\":{\"outlinewidth\":0,\"ticks\":\"\"},\"colorscale\":[[0.0,\"#0d0887\"],[0.1111111111111111,\"#46039f\"],[0.2222222222222222,\"#7201a8\"],[0.3333333333333333,\"#9c179e\"],[0.4444444444444444,\"#bd3786\"],[0.5555555555555556,\"#d8576b\"],[0.6666666666666666,\"#ed7953\"],[0.7777777777777778,\"#fb9f3a\"],[0.8888888888888888,\"#fdca26\"],[1.0,\"#f0f921\"]]}],\"heatmapgl\":[{\"type\":\"heatmapgl\",\"colorbar\":{\"outlinewidth\":0,\"ticks\":\"\"},\"colorscale\":[[0.0,\"#0d0887\"],[0.1111111111111111,\"#46039f\"],[0.2222222222222222,\"#7201a8\"],[0.3333333333333333,\"#9c179e\"],[0.4444444444444444,\"#bd3786\"],[0.5555555555555556,\"#d8576b\"],[0.6666666666666666,\"#ed7953\"],[0.7777777777777778,\"#fb9f3a\"],[0.8888888888888888,\"#fdca26\"],[1.0,\"#f0f921\"]]}],\"contourcarpet\":[{\"type\":\"contourcarpet\",\"colorbar\":{\"outlinewidth\":0,\"ticks\":\"\"}}],\"contour\":[{\"type\":\"contour\",\"colorbar\":{\"outlinewidth\":0,\"ticks\":\"\"},\"colorscale\":[[0.0,\"#0d0887\"],[0.1111111111111111,\"#46039f\"],[0.2222222222222222,\"#7201a8\"],[0.3333333333333333,\"#9c179e\"],[0.4444444444444444,\"#bd3786\"],[0.5555555555555556,\"#d8576b\"],[0.6666666666666666,\"#ed7953\"],[0.7777777777777778,\"#fb9f3a\"],[0.8888888888888888,\"#fdca26\"],[1.0,\"#f0f921\"]]}],\"surface\":[{\"type\":\"surface\",\"colorbar\":{\"outlinewidth\":0,\"ticks\":\"\"},\"colorscale\":[[0.0,\"#0d0887\"],[0.1111111111111111,\"#46039f\"],[0.2222222222222222,\"#7201a8\"],[0.3333333333333333,\"#9c179e\"],[0.4444444444444444,\"#bd3786\"],[0.5555555555555556,\"#d8576b\"],[0.6666666666666666,\"#ed7953\"],[0.7777777777777778,\"#fb9f3a\"],[0.8888888888888888,\"#fdca26\"],[1.0,\"#f0f921\"]]}],\"mesh3d\":[{\"type\":\"mesh3d\",\"colorbar\":{\"outlinewidth\":0,\"ticks\":\"\"}}],\"scatter\":[{\"fillpattern\":{\"fillmode\":\"overlay\",\"size\":10,\"solidity\":0.2},\"type\":\"scatter\"}],\"parcoords\":[{\"type\":\"parcoords\",\"line\":{\"colorbar\":{\"outlinewidth\":0,\"ticks\":\"\"}}}],\"scatterpolargl\":[{\"type\":\"scatterpolargl\",\"marker\":{\"colorbar\":{\"outlinewidth\":0,\"ticks\":\"\"}}}],\"bar\":[{\"error_x\":{\"color\":\"#2a3f5f\"},\"error_y\":{\"color\":\"#2a3f5f\"},\"marker\":{\"line\":{\"color\":\"#E5ECF6\",\"width\":0.5},\"pattern\":{\"fillmode\":\"overlay\",\"size\":10,\"solidity\":0.2}},\"type\":\"bar\"}],\"scattergeo\":[{\"type\":\"scattergeo\",\"marker\":{\"colorbar\":{\"outlinewidth\":0,\"ticks\":\"\"}}}],\"scatterpolar\":[{\"type\":\"scatterpolar\",\"marker\":{\"colorbar\":{\"outlinewidth\":0,\"ticks\":\"\"}}}],\"histogram\":[{\"marker\":{\"pattern\":{\"fillmode\":\"overlay\",\"size\":10,\"solidity\":0.2}},\"type\":\"histogram\"}],\"scattergl\":[{\"type\":\"scattergl\",\"marker\":{\"colorbar\":{\"outlinewidth\":0,\"ticks\":\"\"}}}],\"scatter3d\":[{\"type\":\"scatter3d\",\"line\":{\"colorbar\":{\"outlinewidth\":0,\"ticks\":\"\"}},\"marker\":{\"colorbar\":{\"outlinewidth\":0,\"ticks\":\"\"}}}],\"scattermapbox\":[{\"type\":\"scattermapbox\",\"marker\":{\"colorbar\":{\"outlinewidth\":0,\"ticks\":\"\"}}}],\"scatterternary\":[{\"type\":\"scatterternary\",\"marker\":{\"colorbar\":{\"outlinewidth\":0,\"ticks\":\"\"}}}],\"scattercarpet\":[{\"type\":\"scattercarpet\",\"marker\":{\"colorbar\":{\"outlinewidth\":0,\"ticks\":\"\"}}}],\"carpet\":[{\"aaxis\":{\"endlinecolor\":\"#2a3f5f\",\"gridcolor\":\"white\",\"linecolor\":\"white\",\"minorgridcolor\":\"white\",\"startlinecolor\":\"#2a3f5f\"},\"baxis\":{\"endlinecolor\":\"#2a3f5f\",\"gridcolor\":\"white\",\"linecolor\":\"white\",\"minorgridcolor\":\"white\",\"startlinecolor\":\"#2a3f5f\"},\"type\":\"carpet\"}],\"table\":[{\"cells\":{\"fill\":{\"color\":\"#EBF0F8\"},\"line\":{\"color\":\"white\"}},\"header\":{\"fill\":{\"color\":\"#C8D4E3\"},\"line\":{\"color\":\"white\"}},\"type\":\"table\"}],\"barpolar\":[{\"marker\":{\"line\":{\"color\":\"#E5ECF6\",\"width\":0.5},\"pattern\":{\"fillmode\":\"overlay\",\"size\":10,\"solidity\":0.2}},\"type\":\"barpolar\"}],\"pie\":[{\"automargin\":true,\"type\":\"pie\"}]},\"layout\":{\"autotypenumbers\":\"strict\",\"colorway\":[\"#636efa\",\"#EF553B\",\"#00cc96\",\"#ab63fa\",\"#FFA15A\",\"#19d3f3\",\"#FF6692\",\"#B6E880\",\"#FF97FF\",\"#FECB52\"],\"font\":{\"color\":\"#2a3f5f\"},\"hovermode\":\"closest\",\"hoverlabel\":{\"align\":\"left\"},\"paper_bgcolor\":\"white\",\"plot_bgcolor\":\"#E5ECF6\",\"polar\":{\"bgcolor\":\"#E5ECF6\",\"angularaxis\":{\"gridcolor\":\"white\",\"linecolor\":\"white\",\"ticks\":\"\"},\"radialaxis\":{\"gridcolor\":\"white\",\"linecolor\":\"white\",\"ticks\":\"\"}},\"ternary\":{\"bgcolor\":\"#E5ECF6\",\"aaxis\":{\"gridcolor\":\"white\",\"linecolor\":\"white\",\"ticks\":\"\"},\"baxis\":{\"gridcolor\":\"white\",\"linecolor\":\"white\",\"ticks\":\"\"},\"caxis\":{\"gridcolor\":\"white\",\"linecolor\":\"white\",\"ticks\":\"\"}},\"coloraxis\":{\"colorbar\":{\"outlinewidth\":0,\"ticks\":\"\"}},\"colorscale\":{\"sequential\":[[0.0,\"#0d0887\"],[0.1111111111111111,\"#46039f\"],[0.2222222222222222,\"#7201a8\"],[0.3333333333333333,\"#9c179e\"],[0.4444444444444444,\"#bd3786\"],[0.5555555555555556,\"#d8576b\"],[0.6666666666666666,\"#ed7953\"],[0.7777777777777778,\"#fb9f3a\"],[0.8888888888888888,\"#fdca26\"],[1.0,\"#f0f921\"]],\"sequentialminus\":[[0.0,\"#0d0887\"],[0.1111111111111111,\"#46039f\"],[0.2222222222222222,\"#7201a8\"],[0.3333333333333333,\"#9c179e\"],[0.4444444444444444,\"#bd3786\"],[0.5555555555555556,\"#d8576b\"],[0.6666666666666666,\"#ed7953\"],[0.7777777777777778,\"#fb9f3a\"],[0.8888888888888888,\"#fdca26\"],[1.0,\"#f0f921\"]],\"diverging\":[[0,\"#8e0152\"],[0.1,\"#c51b7d\"],[0.2,\"#de77ae\"],[0.3,\"#f1b6da\"],[0.4,\"#fde0ef\"],[0.5,\"#f7f7f7\"],[0.6,\"#e6f5d0\"],[0.7,\"#b8e186\"],[0.8,\"#7fbc41\"],[0.9,\"#4d9221\"],[1,\"#276419\"]]},\"xaxis\":{\"gridcolor\":\"white\",\"linecolor\":\"white\",\"ticks\":\"\",\"title\":{\"standoff\":15},\"zerolinecolor\":\"white\",\"automargin\":true,\"zerolinewidth\":2},\"yaxis\":{\"gridcolor\":\"white\",\"linecolor\":\"white\",\"ticks\":\"\",\"title\":{\"standoff\":15},\"zerolinecolor\":\"white\",\"automargin\":true,\"zerolinewidth\":2},\"scene\":{\"xaxis\":{\"backgroundcolor\":\"#E5ECF6\",\"gridcolor\":\"white\",\"linecolor\":\"white\",\"showbackground\":true,\"ticks\":\"\",\"zerolinecolor\":\"white\",\"gridwidth\":2},\"yaxis\":{\"backgroundcolor\":\"#E5ECF6\",\"gridcolor\":\"white\",\"linecolor\":\"white\",\"showbackground\":true,\"ticks\":\"\",\"zerolinecolor\":\"white\",\"gridwidth\":2},\"zaxis\":{\"backgroundcolor\":\"#E5ECF6\",\"gridcolor\":\"white\",\"linecolor\":\"white\",\"showbackground\":true,\"ticks\":\"\",\"zerolinecolor\":\"white\",\"gridwidth\":2}},\"shapedefaults\":{\"line\":{\"color\":\"#2a3f5f\"}},\"annotationdefaults\":{\"arrowcolor\":\"#2a3f5f\",\"arrowhead\":0,\"arrowwidth\":1},\"geo\":{\"bgcolor\":\"white\",\"landcolor\":\"#E5ECF6\",\"subunitcolor\":\"white\",\"showland\":true,\"showlakes\":true,\"lakecolor\":\"white\"},\"title\":{\"x\":0.05},\"mapbox\":{\"style\":\"light\"}}},\"xaxis\":{\"showticklabels\":false,\"showgrid\":false,\"zeroline\":false},\"yaxis\":{\"showticklabels\":false,\"showgrid\":false,\"zeroline\":false},\"showlegend\":false,\"plot_bgcolor\":\"rgba(0, 0, 0, 0)\",\"paper_bgcolor\":\"rgba(0, 0, 0, 0)\",\"updatemenus\":[{\"buttons\":[{\"args\":[{\"visible\":[true,true,true,false,false],\"link\":{\"source\":[0,2,1,3,5,5,4,4,3,3,3,4,4,10,8,9,11,7,6,10,10,11,10,11,16,14,16,15,17,13,14,12,12,17,16,17,15,14],\"target\":[3,5,4,10,8,9,11,7,8,6,11,8,9,16,14,15,17,13,12,14,15,14,13,13,21,18,23,22,24,20,21,19,23,23,24,20,21,24],\"color\":[\"#d4d4e8\",\"#bdbedc\",\"#f6f5f9\",\"#cccce4\",\"#b9b9da\",\"#c9c9e2\",\"#f6f4f9\",\"#f8f7fb\",\"#705ca9\",\"#f3f2f8\",\"#fcfbfd\",\"#eae8f2\",\"#fcfbfd\",\"#cbcbe3\",\"#b9b9da\",\"#cacae3\",\"#f6f4f9\",\"#f8f7fb\",\"#f3f2f8\",\"#6d57a6\",\"#8a86bf\",\"#eceaf3\",\"#fcfbfd\",\"#fcfbfd\",\"#8582bc\",\"#b8b8d9\",\"#f3f1f7\",\"#cbcbe3\",\"#f6f4f9\",\"#f9f7fb\",\"#705ca9\",\"#f5f4f9\",\"#f2f0f7\",\"#fcfbfd\",\"#fcfbfd\",\"#fcfbfd\",\"#3f007d\",\"#eceaf3\"],\"value\":[559,256,285,463,187,69,208,75,1,92,3,1,1,456,189,70,208,75,92,1,2,2,4,1,198,189,257,71,203,80,1,41,51,4,1,1,1,2]}}],\"label\":\"NPPA\",\"method\":\"update\"},{\"args\":[{\"visible\":[true,true,false,true,false],\"link\":{\"source\":[0,2,1,3,5,5,4,4,3,3,3,4,4,10,8,9,11,7,6,10,10,11,10,11,16,14,16,15,17,13,14,12,12,17,16,17,15,14],\"target\":[3,5,4,10,8,9,11,7,8,6,11,8,9,16,14,15,17,13,12,14,15,14,13,13,21,18,23,22,24,20,21,19,23,23,24,20,21,24],\"color\":[\"#5e3b98\",\"#7a71b4\",\"#cacae3\",\"#61409b\",\"#705ca9\",\"#9f9cc9\",\"#cccce4\",\"#c5c6e1\",\"#3f007d\",\"#51218c\",\"#705eaa\",\"#dadaeb\",\"#fcfbfd\",\"#613f9a\",\"#705ca9\",\"#a09dca\",\"#c9c9e2\",\"#c5c6e1\",\"#51218c\",\"#582e92\",\"#9f9cc9\",\"#ecebf4\",\"#a09dca\",\"#fcfbfd\",\"#54278f\",\"#705ca9\",\"#6a51a3\",\"#a09dca\",\"#cbcbe3\",\"#c4c5e0\",\"#3f007d\",\"#470f84\",\"#5a3294\",\"#7a71b4\",\"#796eb2\",\"#827fbb\",\"#aeacd2\",\"#ecebf4\"],\"value\":[559,256,285,463,187,69,208,75,1,92,3,1,1,456,189,70,208,75,92,1,2,2,4,1,198,189,257,71,203,80,1,41,51,4,1,1,1,2]}}],\"label\":\"TECRL\",\"method\":\"update\"},{\"args\":[{\"visible\":[true,true,false,false,true],\"link\":{\"source\":[0,2,1,3,5,5,4,4,3,3,3,4,4,10,8,9,11,7,6,10,10,11,10,11,16,14,16,15,17,13,14,12,12,17,16,17,15,14],\"target\":[3,5,4,10,8,9,11,7,8,6,11,8,9,16,14,15,17,13,12,14,15,14,13,13,21,18,23,22,24,20,21,19,23,23,24,20,21,24],\"color\":[\"#c9c9e2\",\"#e2e2ef\",\"#cdcde4\",\"#dedded\",\"#e7e6f1\",\"#d5d5e9\",\"#cbcbe3\",\"#cecfe5\",\"#7f7bb9\",\"#674ba0\",\"#5a3294\",\"#eeecf4\",\"#e2e1ef\",\"#dedeed\",\"#e6e5f1\",\"#d5d5e9\",\"#c8c8e2\",\"#cecfe5\",\"#674ba0\",\"#fcfbfd\",\"#f1eff6\",\"#f7f6fa\",\"#694fa2\",\"#e8e6f2\",\"#eeecf5\",\"#e7e6f1\",\"#cecfe5\",\"#d6d6e9\",\"#cacae3\",\"#cacae3\",\"#7f7bb9\",\"#3f007d\",\"#8a86bf\",\"#7a71b4\",\"#f5f4f9\",\"#705ca9\",\"#f6f4f9\",\"#f7f6fa\"],\"value\":[559,256,285,463,187,69,208,75,1,92,3,1,1,456,189,70,208,75,92,1,2,2,4,1,198,189,257,71,203,80,1,41,51,4,1,1,1,2]}}],\"label\":\"MYH6\",\"method\":\"update\"}],\"font\":{\"size\":15},\"y\":0.9},{\"buttons\":[{\"args\":[{\"visible\":true}],\"label\":\"Silhouette Scores\",\"method\":\"update\"}],\"font\":{\"size\":15},\"y\":0.5},{\"buttons\":[{\"args\":[\"arrangement\",\"snap\"],\"label\":\"Snap\",\"method\":\"restyle\"},{\"args\":[\"arrangement\",\"perpendicular\"],\"label\":\"Perpendicular\",\"method\":\"restyle\"},{\"args\":[\"arrangement\",\"freeform\"],\"label\":\"Freeform\",\"method\":\"restyle\"},{\"args\":[\"arrangement\",\"fixed\"],\"label\":\"Fixed\",\"method\":\"restyle\"}],\"font\":{\"size\":15},\"x\":0,\"y\":1.3},{\"buttons\":[{\"args\":[\"paper_bgcolor\",\"white\"],\"label\":\"Light\",\"method\":\"relayout\"},{\"args\":[\"paper_bgcolor\",\"black\"],\"label\":\"Dark\",\"method\":\"relayout\"}],\"font\":{\"size\":15},\"x\":0.2,\"y\":1.3},{\"buttons\":[{\"args\":[\"node.thickness\",8],\"label\":\"Thin\",\"method\":\"restyle\"},{\"args\":[\"node.thickness\",15],\"label\":\"Thick\",\"method\":\"restyle\"}],\"font\":{\"size\":15},\"x\":0.4,\"y\":1.3},{\"buttons\":[{\"args\":[\"node.pad\",15],\"label\":\"Small gap\",\"method\":\"restyle\"},{\"args\":[\"node.pad\",20],\"label\":\"Large gap\",\"method\":\"restyle\"}],\"font\":{\"size\":15},\"x\":0.6,\"y\":1.3},{\"buttons\":[{\"args\":[\"orientation\",\"h\"],\"label\":\"Horizontal\",\"method\":\"restyle\"},{\"args\":[\"orientation\",\"v\"],\"label\":\"Vertical\",\"method\":\"restyle\"}],\"font\":{\"size\":15},\"x\":0.8,\"y\":1.3}]},                        {\"responsive\": true}                    ).then(function(){\n",
       "                            \n",
       "var gd = document.getElementById('0cd51077-9a19-441e-80ca-80720b702c24');\n",
       "var x = new MutationObserver(function (mutations, observer) {{\n",
       "        var display = window.getComputedStyle(gd).display;\n",
       "        if (!display || display === 'none') {{\n",
       "            console.log([gd, 'removed!']);\n",
       "            Plotly.purge(gd);\n",
       "            observer.disconnect();\n",
       "        }}\n",
       "}});\n",
       "\n",
       "// Listen for the removal of the full notebook cells\n",
       "var notebookContainer = gd.closest('#notebook-container');\n",
       "if (notebookContainer) {{\n",
       "    x.observe(notebookContainer, {childList: true});\n",
       "}}\n",
       "\n",
       "// Listen for the clearing of the current output cell\n",
       "var outputEl = gd.closest('.output');\n",
       "if (outputEl) {{\n",
       "    x.observe(outputEl, {childList: true});\n",
       "}}\n",
       "\n",
       "                        })                };                });            </script>        </div>"
      ]
     },
     "metadata": {},
     "output_type": "display_data"
    }
   ],
   "source": [
    "sankey_fig, sankey_dict = CellLayers.build_sankey(tbx5_exp,\n",
    "                                                  tbx5_meta,\n",
    "                                                  genes=['NPPA', 'TECRL', 'MYH6'],\n",
    "                                                  coexpressed_genes=[['NPPA', 'TECRL', 'MYH6']],\n",
    "                                                  exp_color='#F7ED32',\n",
    "                                                  modularity=tbx5_modularity,\n",
    "                                                  silhouette=tbx5_silhouette_scores)"
   ]
  },
  {
   "cell_type": "code",
   "execution_count": null,
   "id": "7a4184c6-b17b-43be-9a5b-a1f7d269da95",
   "metadata": {},
   "outputs": [],
   "source": [
    "sankey_fig.show()"
   ]
  },
  {
   "cell_type": "code",
   "execution_count": null,
   "id": "f0464897-9d60-46ab-887b-09f10da19472",
   "metadata": {},
   "outputs": [],
   "source": [
    "plotly.offline.plot(sankey_fig, filename='TBX5.html')"
   ]
  },
  {
   "cell_type": "markdown",
   "id": "4feb78fb-5f31-44eb-81dd-4450b9aaf770",
   "metadata": {},
   "source": [
    "# Build Fig. 1C"
   ]
  },
  {
   "cell_type": "code",
   "execution_count": 15,
   "id": "6444359a-c8b0-4e19-a383-154f12417911",
   "metadata": {},
   "outputs": [],
   "source": [
    "coexpression_sankey_fig = CellLayers.build_coexpression_sankey(sankey_dict)"
   ]
  },
  {
   "cell_type": "code",
   "execution_count": 16,
   "id": "4ccfc0ea-e3f8-425a-ba50-5de19fe62309",
   "metadata": {},
   "outputs": [
    {
     "data": {
      "application/vnd.plotly.v1+json": {
       "config": {
        "plotlyServerURL": "https://plot.ly"
       },
       "data": [
        {
         "marker": {
          "cmax": 1,
          "cmin": -1,
          "colorbar": {
           "tickfont": {
            "size": 10
           },
           "x": 1.1,
           "y": 0.5
          },
          "colorscale": [
           [
            0,
            "#313695"
           ],
           [
            0.05,
            "#3a54a4"
           ],
           [
            0.1,
            "#4574b3"
           ],
           [
            0.15,
            "#5c90c2"
           ],
           [
            0.2,
            "#74add1"
           ],
           [
            0.25,
            "#90c3dd"
           ],
           [
            0.3,
            "#aad8e9"
           ],
           [
            0.35,
            "#c5e6f0"
           ],
           [
            0.4,
            "#e0f3f8"
           ],
           [
            0.45,
            "#f0f9db"
           ],
           [
            0.5,
            "#fffebe"
           ],
           [
            0.55,
            "#fff0a8"
           ],
           [
            0.6,
            "#fee090"
           ],
           [
            0.65,
            "#fdc778"
           ],
           [
            0.7,
            "#fdad60"
           ],
           [
            0.75,
            "#f88c51"
           ],
           [
            0.8,
            "#f46d43"
           ],
           [
            0.85,
            "#e54e35"
           ],
           [
            0.9,
            "#d62f27"
           ],
           [
            0.95,
            "#bd1726"
           ],
           [
            1,
            "#a50026"
           ]
          ],
          "showscale": true
         },
         "mode": "markers",
         "type": "scatter",
         "visible": true,
         "x": [
          null
         ],
         "y": [
          null
         ]
        },
        {
         "domain": {
          "x": [
           0.55,
           1
          ],
          "y": [
           0,
           1
          ]
         },
         "link": {
          "color": [
           "#376860",
           "#515b53",
           "#1347a4",
           "#416a54",
           "#52604d",
           "#4d4b68",
           "#1545a4",
           "#0d4ea4",
           "#594f58",
           "#0f638d",
           "#0058a7",
           "#3e3e83",
           "#0000ff",
           "#416a54",
           "#52604d",
           "#4c4a68",
           "#1546a4",
           "#0d4ea4",
           "#0f638d",
           "#7c5c27",
           "#7b4242",
           "#4a2e87",
           "#0047b8",
           "#0000ff",
           "#675f39",
           "#53604d",
           "#177672",
           "#4c4b68",
           "#1545a4",
           "#0c4da6",
           "#594f58",
           "#0b5d97",
           "#136983",
           "#005da2",
           "#009966",
           "#0056a9",
           "#a42d2d",
           "#4a2e87"
          ],
          "source": [
           0,
           2,
           1,
           3,
           5,
           5,
           4,
           4,
           3,
           3,
           3,
           4,
           4,
           10,
           8,
           9,
           11,
           7,
           6,
           10,
           10,
           11,
           10,
           11,
           16,
           14,
           16,
           15,
           17,
           13,
           14,
           12,
           12,
           17,
           16,
           17,
           15,
           14
          ],
          "target": [
           3,
           5,
           4,
           10,
           8,
           9,
           11,
           7,
           8,
           6,
           11,
           8,
           9,
           16,
           14,
           15,
           17,
           13,
           12,
           14,
           15,
           14,
           13,
           13,
           21,
           18,
           23,
           22,
           24,
           20,
           21,
           19,
           23,
           23,
           24,
           20,
           21,
           24
          ],
          "value": [
           559,
           256,
           285,
           463,
           187,
           69,
           208,
           75,
           1,
           92,
           3,
           1,
           1,
           456,
           189,
           70,
           208,
           75,
           92,
           1,
           2,
           2,
           4,
           1,
           198,
           189,
           257,
           71,
           203,
           80,
           1,
           41,
           51,
           4,
           1,
           1,
           1,
           2
          ]
         },
         "node": {
          "color": [
           "#a50026",
           "#fffebe",
           "#fff3ad",
           "#a50026",
           "#fffebe",
           "#fff3ad",
           "#fdbb6d",
           "#f36b42",
           "#ec5c3b",
           "#fdaf62",
           "#d93429",
           "#a50026",
           "#fdbb6d",
           "#ec5c3b",
           "#f36b42",
           "#fdaf62",
           "#d02927",
           "#a50026",
           "#ee613e",
           "#bb1526",
           "#e14430",
           "#f47044",
           "#fdb769",
           "#fdc374",
           "#a50026"
          ],
          "label": [
           "res.0.1_0",
           "res.0.1_1",
           "res.0.1_2",
           "res.0.2_0",
           "res.0.2_1",
           "res.0.2_2",
           "res.0.3_3",
           "res.0.3_4",
           "res.0.3_2",
           "res.0.3_5",
           "res.0.3_0",
           "res.0.3_1",
           "res.0.4_3",
           "res.0.4_4",
           "res.0.4_2",
           "res.0.4_5",
           "res.0.4_0",
           "res.0.4_1",
           "res.0.5_3",
           "res.0.5_6",
           "res.0.5_4",
           "res.0.5_2",
           "res.0.5_5",
           "res.0.5_0",
           "res.0.5_1"
          ]
         },
         "textfont": {
          "color": "black",
          "size": 20
         },
         "type": "sankey"
        },
        {
         "a": [
          0.2167907987630107,
          0.31735684978007833,
          0.07630774248906472,
          0.25531834019120137,
          0.32289761343876516,
          0.3004334105744172,
          0.08414878960551955,
          0.05249091448468449,
          0.3482362461646502,
          0.05885176758719524,
          0,
          0.24274360242353532,
          0,
          0.2557394230057896,
          0.3228991493333835,
          0.2988790864500114,
          0.08082944975267196,
          0.05249091448468449,
          0.05885176758719524,
          0.4864107366743851,
          0.4818621274604715,
          0.28908639623838683,
          0,
          0,
          0.40534207971191577,
          0.32375099752641245,
          0.08862627502464152,
          0.2976595134230285,
          0.08395606947319953,
          0.0481387988782103,
          0.3482362461646502,
          0.04193954002679779,
          0.07611172994088561,
          0,
          0,
          0,
          0.643360311288438,
          0.28908639623838683
         ],
         "b": [
          0.4085490423650061,
          0.3560208611009557,
          0.28015552901748,
          0.4143864449120463,
          0.37656352937990434,
          0.2932763336032351,
          0.272517420977946,
          0.30440975148692734,
          0.30855294188906357,
          0.38736994273248976,
          0.3445541031556696,
          0.24274360242353532,
          0,
          0.4162811370571516,
          0.37557431493709004,
          0.2917590373758773,
          0.27561505411612197,
          0.30440975148692734,
          0.38736994273248976,
          0.35965751469203366,
          0.25906893626976424,
          0.1799140293952317,
          0.2797957132980206,
          0,
          0.3730400035503282,
          0.37607316949445146,
          0.4642905633543443,
          0.29304940501436944,
          0.2723605448739343,
          0.30063480115977,
          0.30855294188906357,
          0.3648736313903449,
          0.41032880403421174,
          0.3655718027078348,
          0.5990714713601368,
          0.33682463148901237,
          0.17831984435578108,
          0.1799140293952317
         ],
         "c": [
          0.3746601588719832,
          0.32662228911896596,
          0.6435367284934552,
          0.3302952148967523,
          0.30053885718133055,
          0.40629025582234785,
          0.6433337894165344,
          0.6430993340283881,
          0.34321081194628617,
          0.553778289680315,
          0.6554458968443304,
          0.5145127951529294,
          1,
          0.32797943993705886,
          0.30152653572952653,
          0.40936187617411146,
          0.6435554961312062,
          0.6430993340283881,
          0.553778289680315,
          0.1539317486335813,
          0.25906893626976424,
          0.5309995743663815,
          0.7202042867019793,
          1,
          0.22161791673775602,
          0.3001758329791361,
          0.4470831616210141,
          0.4092910815626019,
          0.6436833856528662,
          0.6512263999620197,
          0.34321081194628617,
          0.5931868285828573,
          0.5135594660249027,
          0.6344281972921653,
          0.40092852863986317,
          0.6631753685109877,
          0.17831984435578108,
          0.5309995743663815
         ],
         "hovertemplate": "NPPA: %{a} <br>TECRL: %{b} <br>MYH6: %{c}",
         "marker": {
          "color": [
           "#376860",
           "#515b53",
           "#1347a4",
           "#416a54",
           "#52604d",
           "#4d4b68",
           "#1545a4",
           "#0d4ea4",
           "#594f58",
           "#0f638d",
           "#0058a7",
           "#3e3e83",
           "#0000ff",
           "#416a54",
           "#52604d",
           "#4c4a68",
           "#1546a4",
           "#0d4ea4",
           "#0f638d",
           "#7c5c27",
           "#7b4242",
           "#4a2e87",
           "#0047b8",
           "#0000ff",
           "#675f39",
           "#53604d",
           "#177672",
           "#4c4b68",
           "#1545a4",
           "#0c4da6",
           "#594f58",
           "#0b5d97",
           "#136983",
           "#005da2",
           "#009966",
           "#0056a9",
           "#a42d2d",
           "#4a2e87"
          ],
          "size": [
           18.25340894568638,
           16,
           16.30963621810421,
           17.70973676652047,
           15.093788919775273,
           12.217048913556338,
           15.400879436282183,
           12.45763738099176,
           0,
           13.047123912114026,
           3.169925001442312,
           0,
           0,
           17.665780028329483,
           15.124484848442146,
           12.258566033889933,
           15.400879436282183,
           12.45763738099176,
           13.047123912114026,
           0,
           2,
           2,
           4,
           0,
           15.258713240159219,
           15.124484848442146,
           16.011249098387758,
           12.299494239009364,
           15.330671834370353,
           12.643856189774725,
           0,
           10.715104009236168,
           11.34485068394299,
           4,
           0,
           0,
           0,
           2
          ]
         },
         "mode": "markers",
         "subplot": "ternary",
         "text": "Percentile Expression",
         "type": "scatterternary"
        }
       ],
       "layout": {
        "autosize": true,
        "paper_bgcolor": "rgba(0, 0, 0, 0)",
        "plot_bgcolor": "rgba(0, 0, 0, 0)",
        "showlegend": false,
        "template": {
         "data": {
          "bar": [
           {
            "error_x": {
             "color": "#2a3f5f"
            },
            "error_y": {
             "color": "#2a3f5f"
            },
            "marker": {
             "line": {
              "color": "#E5ECF6",
              "width": 0.5
             },
             "pattern": {
              "fillmode": "overlay",
              "size": 10,
              "solidity": 0.2
             }
            },
            "type": "bar"
           }
          ],
          "barpolar": [
           {
            "marker": {
             "line": {
              "color": "#E5ECF6",
              "width": 0.5
             },
             "pattern": {
              "fillmode": "overlay",
              "size": 10,
              "solidity": 0.2
             }
            },
            "type": "barpolar"
           }
          ],
          "carpet": [
           {
            "aaxis": {
             "endlinecolor": "#2a3f5f",
             "gridcolor": "white",
             "linecolor": "white",
             "minorgridcolor": "white",
             "startlinecolor": "#2a3f5f"
            },
            "baxis": {
             "endlinecolor": "#2a3f5f",
             "gridcolor": "white",
             "linecolor": "white",
             "minorgridcolor": "white",
             "startlinecolor": "#2a3f5f"
            },
            "type": "carpet"
           }
          ],
          "choropleth": [
           {
            "colorbar": {
             "outlinewidth": 0,
             "ticks": ""
            },
            "type": "choropleth"
           }
          ],
          "contour": [
           {
            "colorbar": {
             "outlinewidth": 0,
             "ticks": ""
            },
            "colorscale": [
             [
              0,
              "#0d0887"
             ],
             [
              0.1111111111111111,
              "#46039f"
             ],
             [
              0.2222222222222222,
              "#7201a8"
             ],
             [
              0.3333333333333333,
              "#9c179e"
             ],
             [
              0.4444444444444444,
              "#bd3786"
             ],
             [
              0.5555555555555556,
              "#d8576b"
             ],
             [
              0.6666666666666666,
              "#ed7953"
             ],
             [
              0.7777777777777778,
              "#fb9f3a"
             ],
             [
              0.8888888888888888,
              "#fdca26"
             ],
             [
              1,
              "#f0f921"
             ]
            ],
            "type": "contour"
           }
          ],
          "contourcarpet": [
           {
            "colorbar": {
             "outlinewidth": 0,
             "ticks": ""
            },
            "type": "contourcarpet"
           }
          ],
          "heatmap": [
           {
            "colorbar": {
             "outlinewidth": 0,
             "ticks": ""
            },
            "colorscale": [
             [
              0,
              "#0d0887"
             ],
             [
              0.1111111111111111,
              "#46039f"
             ],
             [
              0.2222222222222222,
              "#7201a8"
             ],
             [
              0.3333333333333333,
              "#9c179e"
             ],
             [
              0.4444444444444444,
              "#bd3786"
             ],
             [
              0.5555555555555556,
              "#d8576b"
             ],
             [
              0.6666666666666666,
              "#ed7953"
             ],
             [
              0.7777777777777778,
              "#fb9f3a"
             ],
             [
              0.8888888888888888,
              "#fdca26"
             ],
             [
              1,
              "#f0f921"
             ]
            ],
            "type": "heatmap"
           }
          ],
          "heatmapgl": [
           {
            "colorbar": {
             "outlinewidth": 0,
             "ticks": ""
            },
            "colorscale": [
             [
              0,
              "#0d0887"
             ],
             [
              0.1111111111111111,
              "#46039f"
             ],
             [
              0.2222222222222222,
              "#7201a8"
             ],
             [
              0.3333333333333333,
              "#9c179e"
             ],
             [
              0.4444444444444444,
              "#bd3786"
             ],
             [
              0.5555555555555556,
              "#d8576b"
             ],
             [
              0.6666666666666666,
              "#ed7953"
             ],
             [
              0.7777777777777778,
              "#fb9f3a"
             ],
             [
              0.8888888888888888,
              "#fdca26"
             ],
             [
              1,
              "#f0f921"
             ]
            ],
            "type": "heatmapgl"
           }
          ],
          "histogram": [
           {
            "marker": {
             "pattern": {
              "fillmode": "overlay",
              "size": 10,
              "solidity": 0.2
             }
            },
            "type": "histogram"
           }
          ],
          "histogram2d": [
           {
            "colorbar": {
             "outlinewidth": 0,
             "ticks": ""
            },
            "colorscale": [
             [
              0,
              "#0d0887"
             ],
             [
              0.1111111111111111,
              "#46039f"
             ],
             [
              0.2222222222222222,
              "#7201a8"
             ],
             [
              0.3333333333333333,
              "#9c179e"
             ],
             [
              0.4444444444444444,
              "#bd3786"
             ],
             [
              0.5555555555555556,
              "#d8576b"
             ],
             [
              0.6666666666666666,
              "#ed7953"
             ],
             [
              0.7777777777777778,
              "#fb9f3a"
             ],
             [
              0.8888888888888888,
              "#fdca26"
             ],
             [
              1,
              "#f0f921"
             ]
            ],
            "type": "histogram2d"
           }
          ],
          "histogram2dcontour": [
           {
            "colorbar": {
             "outlinewidth": 0,
             "ticks": ""
            },
            "colorscale": [
             [
              0,
              "#0d0887"
             ],
             [
              0.1111111111111111,
              "#46039f"
             ],
             [
              0.2222222222222222,
              "#7201a8"
             ],
             [
              0.3333333333333333,
              "#9c179e"
             ],
             [
              0.4444444444444444,
              "#bd3786"
             ],
             [
              0.5555555555555556,
              "#d8576b"
             ],
             [
              0.6666666666666666,
              "#ed7953"
             ],
             [
              0.7777777777777778,
              "#fb9f3a"
             ],
             [
              0.8888888888888888,
              "#fdca26"
             ],
             [
              1,
              "#f0f921"
             ]
            ],
            "type": "histogram2dcontour"
           }
          ],
          "mesh3d": [
           {
            "colorbar": {
             "outlinewidth": 0,
             "ticks": ""
            },
            "type": "mesh3d"
           }
          ],
          "parcoords": [
           {
            "line": {
             "colorbar": {
              "outlinewidth": 0,
              "ticks": ""
             }
            },
            "type": "parcoords"
           }
          ],
          "pie": [
           {
            "automargin": true,
            "type": "pie"
           }
          ],
          "scatter": [
           {
            "fillpattern": {
             "fillmode": "overlay",
             "size": 10,
             "solidity": 0.2
            },
            "type": "scatter"
           }
          ],
          "scatter3d": [
           {
            "line": {
             "colorbar": {
              "outlinewidth": 0,
              "ticks": ""
             }
            },
            "marker": {
             "colorbar": {
              "outlinewidth": 0,
              "ticks": ""
             }
            },
            "type": "scatter3d"
           }
          ],
          "scattercarpet": [
           {
            "marker": {
             "colorbar": {
              "outlinewidth": 0,
              "ticks": ""
             }
            },
            "type": "scattercarpet"
           }
          ],
          "scattergeo": [
           {
            "marker": {
             "colorbar": {
              "outlinewidth": 0,
              "ticks": ""
             }
            },
            "type": "scattergeo"
           }
          ],
          "scattergl": [
           {
            "marker": {
             "colorbar": {
              "outlinewidth": 0,
              "ticks": ""
             }
            },
            "type": "scattergl"
           }
          ],
          "scattermapbox": [
           {
            "marker": {
             "colorbar": {
              "outlinewidth": 0,
              "ticks": ""
             }
            },
            "type": "scattermapbox"
           }
          ],
          "scatterpolar": [
           {
            "marker": {
             "colorbar": {
              "outlinewidth": 0,
              "ticks": ""
             }
            },
            "type": "scatterpolar"
           }
          ],
          "scatterpolargl": [
           {
            "marker": {
             "colorbar": {
              "outlinewidth": 0,
              "ticks": ""
             }
            },
            "type": "scatterpolargl"
           }
          ],
          "scatterternary": [
           {
            "marker": {
             "colorbar": {
              "outlinewidth": 0,
              "ticks": ""
             }
            },
            "type": "scatterternary"
           }
          ],
          "surface": [
           {
            "colorbar": {
             "outlinewidth": 0,
             "ticks": ""
            },
            "colorscale": [
             [
              0,
              "#0d0887"
             ],
             [
              0.1111111111111111,
              "#46039f"
             ],
             [
              0.2222222222222222,
              "#7201a8"
             ],
             [
              0.3333333333333333,
              "#9c179e"
             ],
             [
              0.4444444444444444,
              "#bd3786"
             ],
             [
              0.5555555555555556,
              "#d8576b"
             ],
             [
              0.6666666666666666,
              "#ed7953"
             ],
             [
              0.7777777777777778,
              "#fb9f3a"
             ],
             [
              0.8888888888888888,
              "#fdca26"
             ],
             [
              1,
              "#f0f921"
             ]
            ],
            "type": "surface"
           }
          ],
          "table": [
           {
            "cells": {
             "fill": {
              "color": "#EBF0F8"
             },
             "line": {
              "color": "white"
             }
            },
            "header": {
             "fill": {
              "color": "#C8D4E3"
             },
             "line": {
              "color": "white"
             }
            },
            "type": "table"
           }
          ]
         },
         "layout": {
          "annotationdefaults": {
           "arrowcolor": "#2a3f5f",
           "arrowhead": 0,
           "arrowwidth": 1
          },
          "autotypenumbers": "strict",
          "coloraxis": {
           "colorbar": {
            "outlinewidth": 0,
            "ticks": ""
           }
          },
          "colorscale": {
           "diverging": [
            [
             0,
             "#8e0152"
            ],
            [
             0.1,
             "#c51b7d"
            ],
            [
             0.2,
             "#de77ae"
            ],
            [
             0.3,
             "#f1b6da"
            ],
            [
             0.4,
             "#fde0ef"
            ],
            [
             0.5,
             "#f7f7f7"
            ],
            [
             0.6,
             "#e6f5d0"
            ],
            [
             0.7,
             "#b8e186"
            ],
            [
             0.8,
             "#7fbc41"
            ],
            [
             0.9,
             "#4d9221"
            ],
            [
             1,
             "#276419"
            ]
           ],
           "sequential": [
            [
             0,
             "#0d0887"
            ],
            [
             0.1111111111111111,
             "#46039f"
            ],
            [
             0.2222222222222222,
             "#7201a8"
            ],
            [
             0.3333333333333333,
             "#9c179e"
            ],
            [
             0.4444444444444444,
             "#bd3786"
            ],
            [
             0.5555555555555556,
             "#d8576b"
            ],
            [
             0.6666666666666666,
             "#ed7953"
            ],
            [
             0.7777777777777778,
             "#fb9f3a"
            ],
            [
             0.8888888888888888,
             "#fdca26"
            ],
            [
             1,
             "#f0f921"
            ]
           ],
           "sequentialminus": [
            [
             0,
             "#0d0887"
            ],
            [
             0.1111111111111111,
             "#46039f"
            ],
            [
             0.2222222222222222,
             "#7201a8"
            ],
            [
             0.3333333333333333,
             "#9c179e"
            ],
            [
             0.4444444444444444,
             "#bd3786"
            ],
            [
             0.5555555555555556,
             "#d8576b"
            ],
            [
             0.6666666666666666,
             "#ed7953"
            ],
            [
             0.7777777777777778,
             "#fb9f3a"
            ],
            [
             0.8888888888888888,
             "#fdca26"
            ],
            [
             1,
             "#f0f921"
            ]
           ]
          },
          "colorway": [
           "#636efa",
           "#EF553B",
           "#00cc96",
           "#ab63fa",
           "#FFA15A",
           "#19d3f3",
           "#FF6692",
           "#B6E880",
           "#FF97FF",
           "#FECB52"
          ],
          "font": {
           "color": "#2a3f5f"
          },
          "geo": {
           "bgcolor": "white",
           "lakecolor": "white",
           "landcolor": "#E5ECF6",
           "showlakes": true,
           "showland": true,
           "subunitcolor": "white"
          },
          "hoverlabel": {
           "align": "left"
          },
          "hovermode": "closest",
          "mapbox": {
           "style": "light"
          },
          "paper_bgcolor": "white",
          "plot_bgcolor": "#E5ECF6",
          "polar": {
           "angularaxis": {
            "gridcolor": "white",
            "linecolor": "white",
            "ticks": ""
           },
           "bgcolor": "#E5ECF6",
           "radialaxis": {
            "gridcolor": "white",
            "linecolor": "white",
            "ticks": ""
           }
          },
          "scene": {
           "xaxis": {
            "backgroundcolor": "#E5ECF6",
            "gridcolor": "white",
            "gridwidth": 2,
            "linecolor": "white",
            "showbackground": true,
            "ticks": "",
            "zerolinecolor": "white"
           },
           "yaxis": {
            "backgroundcolor": "#E5ECF6",
            "gridcolor": "white",
            "gridwidth": 2,
            "linecolor": "white",
            "showbackground": true,
            "ticks": "",
            "zerolinecolor": "white"
           },
           "zaxis": {
            "backgroundcolor": "#E5ECF6",
            "gridcolor": "white",
            "gridwidth": 2,
            "linecolor": "white",
            "showbackground": true,
            "ticks": "",
            "zerolinecolor": "white"
           }
          },
          "shapedefaults": {
           "line": {
            "color": "#2a3f5f"
           }
          },
          "ternary": {
           "aaxis": {
            "gridcolor": "white",
            "linecolor": "white",
            "ticks": ""
           },
           "baxis": {
            "gridcolor": "white",
            "linecolor": "white",
            "ticks": ""
           },
           "bgcolor": "#E5ECF6",
           "caxis": {
            "gridcolor": "white",
            "linecolor": "white",
            "ticks": ""
           }
          },
          "title": {
           "x": 0.05
          },
          "xaxis": {
           "automargin": true,
           "gridcolor": "white",
           "linecolor": "white",
           "ticks": "",
           "title": {
            "standoff": 15
           },
           "zerolinecolor": "white",
           "zerolinewidth": 2
          },
          "yaxis": {
           "automargin": true,
           "gridcolor": "white",
           "linecolor": "white",
           "ticks": "",
           "title": {
            "standoff": 15
           },
           "zerolinecolor": "white",
           "zerolinewidth": 2
          }
         }
        },
        "ternary": {
         "aaxis": {
          "showgrid": true,
          "showline": true,
          "tickangle": 0,
          "tickcolor": "rgba(0, 0, 0, 0)",
          "tickfont": {
           "size": 30
          },
          "ticklen": 5,
          "title": {
           "font": {
            "size": 30
           },
           "text": "<i>NPPA</i>"
          }
         },
         "baxis": {
          "showgrid": true,
          "showline": true,
          "tickangle": 45,
          "tickcolor": "rgba(0, 0, 0, 0)",
          "tickfont": {
           "size": 30
          },
          "ticklen": 5,
          "title": {
           "font": {
            "size": 30
           },
           "text": "<br><i>TECRL</i>"
          }
         },
         "caxis": {
          "showgrid": true,
          "showline": true,
          "tickangle": -45,
          "tickcolor": "rgba(0, 0, 0, 0)",
          "tickfont": {
           "size": 30
          },
          "ticklen": 5,
          "title": {
           "font": {
            "size": 30
           },
           "text": "<br><i>MYH6</i>"
          }
         },
         "domain": {
          "x": [
           0,
           0.45
          ],
          "y": [
           0,
           1
          ]
         },
         "sum": 100
        },
        "updatemenus": [
         {
          "buttons": [
           {
            "args": [
             {
              "visible": [
               true
              ]
             }
            ],
            "label": "NPPA,TECRL,MYH6",
            "method": "update"
           }
          ],
          "font": {
           "size": 20
          },
          "x": 0,
          "y": 1.05
         },
         {
          "buttons": [
           {
            "args": [
             {
              "visible": [
               true
              ]
             }
            ],
            "label": "Silhouette Scores",
            "method": "update"
           }
          ],
          "font": {
           "size": 20
          },
          "x": 0,
          "y": 0.9
         },
         {
          "buttons": [
           {
            "args": [
             "arrangement",
             "snap"
            ],
            "label": "Snap",
            "method": "restyle"
           },
           {
            "args": [
             "arrangement",
             "perpendicular"
            ],
            "label": "Perpendicular",
            "method": "restyle"
           },
           {
            "args": [
             "arrangement",
             "freeform"
            ],
            "label": "Freeform",
            "method": "restyle"
           },
           {
            "args": [
             "arrangement",
             "fixed"
            ],
            "label": "Fixed",
            "method": "restyle"
           }
          ],
          "font": {
           "size": 20
          },
          "x": 0,
          "y": 1.25
         },
         {
          "buttons": [
           {
            "args": [
             "paper_bgcolor",
             "white"
            ],
            "label": "Light",
            "method": "relayout"
           },
           {
            "args": [
             "paper_bgcolor",
             "black"
            ],
            "label": "Dark",
            "method": "relayout"
           }
          ],
          "font": {
           "size": 20
          },
          "x": 0.2,
          "y": 1.25
         },
         {
          "buttons": [
           {
            "args": [
             "node.thickness",
             8
            ],
            "label": "Thin",
            "method": "restyle"
           },
           {
            "args": [
             "node.thickness",
             15
            ],
            "label": "Thick",
            "method": "restyle"
           }
          ],
          "font": {
           "size": 20
          },
          "x": 0.4,
          "y": 1.25
         },
         {
          "buttons": [
           {
            "args": [
             "node.pad",
             15
            ],
            "label": "Small gap",
            "method": "restyle"
           },
           {
            "args": [
             "node.pad",
             20
            ],
            "label": "Large gap",
            "method": "restyle"
           }
          ],
          "font": {
           "size": 20
          },
          "x": 0.6,
          "y": 1.25
         },
         {
          "buttons": [
           {
            "args": [
             "orientation",
             "h"
            ],
            "label": "Horizontal",
            "method": "restyle"
           },
           {
            "args": [
             "orientation",
             "v"
            ],
            "label": "Vertical",
            "method": "restyle"
           }
          ],
          "font": {
           "size": 20
          },
          "x": 0.8,
          "y": 1.25
         }
        ],
        "xaxis": {
         "anchor": "y",
         "autorange": true,
         "domain": [
          0,
          0.45
         ],
         "range": [
          -1,
          6
         ],
         "showgrid": false,
         "showticklabels": false,
         "zeroline": false
        },
        "xaxis2": {
         "anchor": "y2",
         "domain": [
          0.55,
          1
         ],
         "showticklabels": false
        },
        "yaxis": {
         "anchor": "x",
         "autorange": true,
         "domain": [
          0,
          0.425
         ],
         "range": [
          -1,
          4
         ],
         "showgrid": false,
         "showticklabels": false,
         "zeroline": false
        },
        "yaxis2": {
         "anchor": "x2",
         "domain": [
          0,
          0.425
         ],
         "showticklabels": false
        }
       }
      },
      "image/png": "[encoded data removed]",
      "text/html": [
       "<div>                            <div id=\"f031bdc6-9415-45a9-92dd-281117ca90b7\" class=\"plotly-graph-div\" style=\"height:700px; width:100%;\"></div>            <script type=\"text/javascript\">                require([\"plotly\"], function(Plotly) {                    window.PLOTLYENV=window.PLOTLYENV || {};                                    if (document.getElementById(\"f031bdc6-9415-45a9-92dd-281117ca90b7\")) {                    Plotly.newPlot(                        \"f031bdc6-9415-45a9-92dd-281117ca90b7\",                        [{\"marker\":{\"cmax\":1,\"cmin\":-1,\"colorbar\":{\"tickfont\":{\"size\":10},\"x\":1.1},\"colorscale\":[[0.0,\"#313695\"],[0.05,\"#3a54a4\"],[0.1,\"#4574b3\"],[0.15,\"#5c90c2\"],[0.2,\"#74add1\"],[0.25,\"#90c3dd\"],[0.3,\"#aad8e9\"],[0.35,\"#c5e6f0\"],[0.4,\"#e0f3f8\"],[0.45,\"#f0f9db\"],[0.5,\"#fffebe\"],[0.55,\"#fff0a8\"],[0.6,\"#fee090\"],[0.65,\"#fdc778\"],[0.7,\"#fdad60\"],[0.75,\"#f88c51\"],[0.8,\"#f46d43\"],[0.85,\"#e54e35\"],[0.9,\"#d62f27\"],[0.95,\"#bd1726\"],[1.0,\"#a50026\"]],\"showscale\":true},\"mode\":\"markers\",\"visible\":true,\"x\":[null],\"y\":[null],\"type\":\"scatter\"},{\"link\":{\"color\":[\"#376860\",\"#515b53\",\"#1347a4\",\"#416a54\",\"#52604d\",\"#4d4b68\",\"#1545a4\",\"#0d4ea4\",\"#594f58\",\"#0f638d\",\"#0058a7\",\"#3e3e83\",\"#0000ff\",\"#416a54\",\"#52604d\",\"#4c4a68\",\"#1546a4\",\"#0d4ea4\",\"#0f638d\",\"#7c5c27\",\"#7b4242\",\"#4a2e87\",\"#0047b8\",\"#0000ff\",\"#675f39\",\"#53604d\",\"#177672\",\"#4c4b68\",\"#1545a4\",\"#0c4da6\",\"#594f58\",\"#0b5d97\",\"#136983\",\"#005da2\",\"#009966\",\"#0056a9\",\"#a42d2d\",\"#4a2e87\"],\"source\":[0,2,1,3,5,5,4,4,3,3,3,4,4,10,8,9,11,7,6,10,10,11,10,11,16,14,16,15,17,13,14,12,12,17,16,17,15,14],\"target\":[3,5,4,10,8,9,11,7,8,6,11,8,9,16,14,15,17,13,12,14,15,14,13,13,21,18,23,22,24,20,21,19,23,23,24,20,21,24],\"value\":[559,256,285,463,187,69,208,75,1,92,3,1,1,456,189,70,208,75,92,1,2,2,4,1,198,189,257,71,203,80,1,41,51,4,1,1,1,2]},\"node\":{\"color\":[\"#a50026\",\"#fffebe\",\"#fff3ad\",\"#a50026\",\"#fffebe\",\"#fff3ad\",\"#fdbb6d\",\"#f36b42\",\"#ec5c3b\",\"#fdaf62\",\"#d93429\",\"#a50026\",\"#fdbb6d\",\"#ec5c3b\",\"#f36b42\",\"#fdaf62\",\"#d02927\",\"#a50026\",\"#ee613e\",\"#bb1526\",\"#e14430\",\"#f47044\",\"#fdb769\",\"#fdc374\",\"#a50026\"],\"label\":[\"res.0.1_0\",\"res.0.1_1\",\"res.0.1_2\",\"res.0.2_0\",\"res.0.2_1\",\"res.0.2_2\",\"res.0.3_3\",\"res.0.3_4\",\"res.0.3_2\",\"res.0.3_5\",\"res.0.3_0\",\"res.0.3_1\",\"res.0.4_3\",\"res.0.4_4\",\"res.0.4_2\",\"res.0.4_5\",\"res.0.4_0\",\"res.0.4_1\",\"res.0.5_3\",\"res.0.5_6\",\"res.0.5_4\",\"res.0.5_2\",\"res.0.5_5\",\"res.0.5_0\",\"res.0.5_1\"]},\"textfont\":{\"color\":\"black\",\"size\":20},\"type\":\"sankey\",\"domain\":{\"x\":[0.55,1.0],\"y\":[0.0,1.0]}},{\"a\":[0.2167907987630107,0.31735684978007833,0.07630774248906472,0.25531834019120137,0.32289761343876516,0.3004334105744172,0.08414878960551955,0.05249091448468449,0.3482362461646502,0.05885176758719524,0.0,0.24274360242353532,0.0,0.2557394230057896,0.3228991493333835,0.2988790864500114,0.08082944975267196,0.05249091448468449,0.05885176758719524,0.4864107366743851,0.4818621274604715,0.28908639623838683,0.0,0.0,0.40534207971191577,0.32375099752641245,0.08862627502464152,0.2976595134230285,0.08395606947319953,0.0481387988782103,0.3482362461646502,0.04193954002679779,0.07611172994088561,0.0,0.0,0.0,0.643360311288438,0.28908639623838683],\"b\":[0.4085490423650061,0.3560208611009557,0.28015552901748,0.4143864449120463,0.37656352937990434,0.2932763336032351,0.272517420977946,0.30440975148692734,0.30855294188906357,0.38736994273248976,0.3445541031556696,0.24274360242353532,0.0,0.4162811370571516,0.37557431493709004,0.2917590373758773,0.27561505411612197,0.30440975148692734,0.38736994273248976,0.35965751469203366,0.25906893626976424,0.1799140293952317,0.2797957132980206,0.0,0.3730400035503282,0.37607316949445146,0.4642905633543443,0.29304940501436944,0.2723605448739343,0.30063480115977,0.30855294188906357,0.3648736313903449,0.41032880403421174,0.3655718027078348,0.5990714713601368,0.33682463148901237,0.17831984435578108,0.1799140293952317],\"c\":[0.3746601588719832,0.32662228911896596,0.6435367284934552,0.3302952148967523,0.30053885718133055,0.40629025582234785,0.6433337894165344,0.6430993340283881,0.34321081194628617,0.553778289680315,0.6554458968443304,0.5145127951529294,1.0,0.32797943993705886,0.30152653572952653,0.40936187617411146,0.6435554961312062,0.6430993340283881,0.553778289680315,0.1539317486335813,0.25906893626976424,0.5309995743663815,0.7202042867019793,1.0,0.22161791673775602,0.3001758329791361,0.4470831616210141,0.4092910815626019,0.6436833856528662,0.6512263999620197,0.34321081194628617,0.5931868285828573,0.5135594660249027,0.6344281972921653,0.40092852863986317,0.6631753685109877,0.17831984435578108,0.5309995743663815],\"hovertemplate\":\"NPPA: %{a} <br>TECRL: %{b} <br>MYH6: %{c}\",\"marker\":{\"color\":[\"#376860\",\"#515b53\",\"#1347a4\",\"#416a54\",\"#52604d\",\"#4d4b68\",\"#1545a4\",\"#0d4ea4\",\"#594f58\",\"#0f638d\",\"#0058a7\",\"#3e3e83\",\"#0000ff\",\"#416a54\",\"#52604d\",\"#4c4a68\",\"#1546a4\",\"#0d4ea4\",\"#0f638d\",\"#7c5c27\",\"#7b4242\",\"#4a2e87\",\"#0047b8\",\"#0000ff\",\"#675f39\",\"#53604d\",\"#177672\",\"#4c4b68\",\"#1545a4\",\"#0c4da6\",\"#594f58\",\"#0b5d97\",\"#136983\",\"#005da2\",\"#009966\",\"#0056a9\",\"#a42d2d\",\"#4a2e87\"],\"size\":[18.25340894568638,16.0,16.30963621810421,17.70973676652047,15.093788919775273,12.217048913556338,15.400879436282183,12.45763738099176,0.0,13.047123912114026,3.169925001442312,0.0,0.0,17.665780028329483,15.124484848442146,12.258566033889933,15.400879436282183,12.45763738099176,13.047123912114026,0.0,2.0,2.0,4.0,0.0,15.258713240159219,15.124484848442146,16.011249098387758,12.299494239009364,15.330671834370353,12.643856189774725,0.0,10.715104009236168,11.34485068394299,4.0,0.0,0.0,0.0,2.0]},\"mode\":\"markers\",\"text\":\"Percentile Expression\",\"type\":\"scatterternary\",\"subplot\":\"ternary\"}],                        {\"template\":{\"data\":{\"histogram2dcontour\":[{\"type\":\"histogram2dcontour\",\"colorbar\":{\"outlinewidth\":0,\"ticks\":\"\"},\"colorscale\":[[0.0,\"#0d0887\"],[0.1111111111111111,\"#46039f\"],[0.2222222222222222,\"#7201a8\"],[0.3333333333333333,\"#9c179e\"],[0.4444444444444444,\"#bd3786\"],[0.5555555555555556,\"#d8576b\"],[0.6666666666666666,\"#ed7953\"],[0.7777777777777778,\"#fb9f3a\"],[0.8888888888888888,\"#fdca26\"],[1.0,\"#f0f921\"]]}],\"choropleth\":[{\"type\":\"choropleth\",\"colorbar\":{\"outlinewidth\":0,\"ticks\":\"\"}}],\"histogram2d\":[{\"type\":\"histogram2d\",\"colorbar\":{\"outlinewidth\":0,\"ticks\":\"\"},\"colorscale\":[[0.0,\"#0d0887\"],[0.1111111111111111,\"#46039f\"],[0.2222222222222222,\"#7201a8\"],[0.3333333333333333,\"#9c179e\"],[0.4444444444444444,\"#bd3786\"],[0.5555555555555556,\"#d8576b\"],[0.6666666666666666,\"#ed7953\"],[0.7777777777777778,\"#fb9f3a\"],[0.8888888888888888,\"#fdca26\"],[1.0,\"#f0f921\"]]}],\"heatmap\":[{\"type\":\"heatmap\",\"colorbar\":{\"outlinewidth\":0,\"ticks\":\"\"},\"colorscale\":[[0.0,\"#0d0887\"],[0.1111111111111111,\"#46039f\"],[0.2222222222222222,\"#7201a8\"],[0.3333333333333333,\"#9c179e\"],[0.4444444444444444,\"#bd3786\"],[0.5555555555555556,\"#d8576b\"],[0.6666666666666666,\"#ed7953\"],[0.7777777777777778,\"#fb9f3a\"],[0.8888888888888888,\"#fdca26\"],[1.0,\"#f0f921\"]]}],\"heatmapgl\":[{\"type\":\"heatmapgl\",\"colorbar\":{\"outlinewidth\":0,\"ticks\":\"\"},\"colorscale\":[[0.0,\"#0d0887\"],[0.1111111111111111,\"#46039f\"],[0.2222222222222222,\"#7201a8\"],[0.3333333333333333,\"#9c179e\"],[0.4444444444444444,\"#bd3786\"],[0.5555555555555556,\"#d8576b\"],[0.6666666666666666,\"#ed7953\"],[0.7777777777777778,\"#fb9f3a\"],[0.8888888888888888,\"#fdca26\"],[1.0,\"#f0f921\"]]}],\"contourcarpet\":[{\"type\":\"contourcarpet\",\"colorbar\":{\"outlinewidth\":0,\"ticks\":\"\"}}],\"contour\":[{\"type\":\"contour\",\"colorbar\":{\"outlinewidth\":0,\"ticks\":\"\"},\"colorscale\":[[0.0,\"#0d0887\"],[0.1111111111111111,\"#46039f\"],[0.2222222222222222,\"#7201a8\"],[0.3333333333333333,\"#9c179e\"],[0.4444444444444444,\"#bd3786\"],[0.5555555555555556,\"#d8576b\"],[0.6666666666666666,\"#ed7953\"],[0.7777777777777778,\"#fb9f3a\"],[0.8888888888888888,\"#fdca26\"],[1.0,\"#f0f921\"]]}],\"surface\":[{\"type\":\"surface\",\"colorbar\":{\"outlinewidth\":0,\"ticks\":\"\"},\"colorscale\":[[0.0,\"#0d0887\"],[0.1111111111111111,\"#46039f\"],[0.2222222222222222,\"#7201a8\"],[0.3333333333333333,\"#9c179e\"],[0.4444444444444444,\"#bd3786\"],[0.5555555555555556,\"#d8576b\"],[0.6666666666666666,\"#ed7953\"],[0.7777777777777778,\"#fb9f3a\"],[0.8888888888888888,\"#fdca26\"],[1.0,\"#f0f921\"]]}],\"mesh3d\":[{\"type\":\"mesh3d\",\"colorbar\":{\"outlinewidth\":0,\"ticks\":\"\"}}],\"scatter\":[{\"fillpattern\":{\"fillmode\":\"overlay\",\"size\":10,\"solidity\":0.2},\"type\":\"scatter\"}],\"parcoords\":[{\"type\":\"parcoords\",\"line\":{\"colorbar\":{\"outlinewidth\":0,\"ticks\":\"\"}}}],\"scatterpolargl\":[{\"type\":\"scatterpolargl\",\"marker\":{\"colorbar\":{\"outlinewidth\":0,\"ticks\":\"\"}}}],\"bar\":[{\"error_x\":{\"color\":\"#2a3f5f\"},\"error_y\":{\"color\":\"#2a3f5f\"},\"marker\":{\"line\":{\"color\":\"#E5ECF6\",\"width\":0.5},\"pattern\":{\"fillmode\":\"overlay\",\"size\":10,\"solidity\":0.2}},\"type\":\"bar\"}],\"scattergeo\":[{\"type\":\"scattergeo\",\"marker\":{\"colorbar\":{\"outlinewidth\":0,\"ticks\":\"\"}}}],\"scatterpolar\":[{\"type\":\"scatterpolar\",\"marker\":{\"colorbar\":{\"outlinewidth\":0,\"ticks\":\"\"}}}],\"histogram\":[{\"marker\":{\"pattern\":{\"fillmode\":\"overlay\",\"size\":10,\"solidity\":0.2}},\"type\":\"histogram\"}],\"scattergl\":[{\"type\":\"scattergl\",\"marker\":{\"colorbar\":{\"outlinewidth\":0,\"ticks\":\"\"}}}],\"scatter3d\":[{\"type\":\"scatter3d\",\"line\":{\"colorbar\":{\"outlinewidth\":0,\"ticks\":\"\"}},\"marker\":{\"colorbar\":{\"outlinewidth\":0,\"ticks\":\"\"}}}],\"scattermapbox\":[{\"type\":\"scattermapbox\",\"marker\":{\"colorbar\":{\"outlinewidth\":0,\"ticks\":\"\"}}}],\"scatterternary\":[{\"type\":\"scatterternary\",\"marker\":{\"colorbar\":{\"outlinewidth\":0,\"ticks\":\"\"}}}],\"scattercarpet\":[{\"type\":\"scattercarpet\",\"marker\":{\"colorbar\":{\"outlinewidth\":0,\"ticks\":\"\"}}}],\"carpet\":[{\"aaxis\":{\"endlinecolor\":\"#2a3f5f\",\"gridcolor\":\"white\",\"linecolor\":\"white\",\"minorgridcolor\":\"white\",\"startlinecolor\":\"#2a3f5f\"},\"baxis\":{\"endlinecolor\":\"#2a3f5f\",\"gridcolor\":\"white\",\"linecolor\":\"white\",\"minorgridcolor\":\"white\",\"startlinecolor\":\"#2a3f5f\"},\"type\":\"carpet\"}],\"table\":[{\"cells\":{\"fill\":{\"color\":\"#EBF0F8\"},\"line\":{\"color\":\"white\"}},\"header\":{\"fill\":{\"color\":\"#C8D4E3\"},\"line\":{\"color\":\"white\"}},\"type\":\"table\"}],\"barpolar\":[{\"marker\":{\"line\":{\"color\":\"#E5ECF6\",\"width\":0.5},\"pattern\":{\"fillmode\":\"overlay\",\"size\":10,\"solidity\":0.2}},\"type\":\"barpolar\"}],\"pie\":[{\"automargin\":true,\"type\":\"pie\"}]},\"layout\":{\"autotypenumbers\":\"strict\",\"colorway\":[\"#636efa\",\"#EF553B\",\"#00cc96\",\"#ab63fa\",\"#FFA15A\",\"#19d3f3\",\"#FF6692\",\"#B6E880\",\"#FF97FF\",\"#FECB52\"],\"font\":{\"color\":\"#2a3f5f\"},\"hovermode\":\"closest\",\"hoverlabel\":{\"align\":\"left\"},\"paper_bgcolor\":\"white\",\"plot_bgcolor\":\"#E5ECF6\",\"polar\":{\"bgcolor\":\"#E5ECF6\",\"angularaxis\":{\"gridcolor\":\"white\",\"linecolor\":\"white\",\"ticks\":\"\"},\"radialaxis\":{\"gridcolor\":\"white\",\"linecolor\":\"white\",\"ticks\":\"\"}},\"ternary\":{\"bgcolor\":\"#E5ECF6\",\"aaxis\":{\"gridcolor\":\"white\",\"linecolor\":\"white\",\"ticks\":\"\"},\"baxis\":{\"gridcolor\":\"white\",\"linecolor\":\"white\",\"ticks\":\"\"},\"caxis\":{\"gridcolor\":\"white\",\"linecolor\":\"white\",\"ticks\":\"\"}},\"coloraxis\":{\"colorbar\":{\"outlinewidth\":0,\"ticks\":\"\"}},\"colorscale\":{\"sequential\":[[0.0,\"#0d0887\"],[0.1111111111111111,\"#46039f\"],[0.2222222222222222,\"#7201a8\"],[0.3333333333333333,\"#9c179e\"],[0.4444444444444444,\"#bd3786\"],[0.5555555555555556,\"#d8576b\"],[0.6666666666666666,\"#ed7953\"],[0.7777777777777778,\"#fb9f3a\"],[0.8888888888888888,\"#fdca26\"],[1.0,\"#f0f921\"]],\"sequentialminus\":[[0.0,\"#0d0887\"],[0.1111111111111111,\"#46039f\"],[0.2222222222222222,\"#7201a8\"],[0.3333333333333333,\"#9c179e\"],[0.4444444444444444,\"#bd3786\"],[0.5555555555555556,\"#d8576b\"],[0.6666666666666666,\"#ed7953\"],[0.7777777777777778,\"#fb9f3a\"],[0.8888888888888888,\"#fdca26\"],[1.0,\"#f0f921\"]],\"diverging\":[[0,\"#8e0152\"],[0.1,\"#c51b7d\"],[0.2,\"#de77ae\"],[0.3,\"#f1b6da\"],[0.4,\"#fde0ef\"],[0.5,\"#f7f7f7\"],[0.6,\"#e6f5d0\"],[0.7,\"#b8e186\"],[0.8,\"#7fbc41\"],[0.9,\"#4d9221\"],[1,\"#276419\"]]},\"xaxis\":{\"gridcolor\":\"white\",\"linecolor\":\"white\",\"ticks\":\"\",\"title\":{\"standoff\":15},\"zerolinecolor\":\"white\",\"automargin\":true,\"zerolinewidth\":2},\"yaxis\":{\"gridcolor\":\"white\",\"linecolor\":\"white\",\"ticks\":\"\",\"title\":{\"standoff\":15},\"zerolinecolor\":\"white\",\"automargin\":true,\"zerolinewidth\":2},\"scene\":{\"xaxis\":{\"backgroundcolor\":\"#E5ECF6\",\"gridcolor\":\"white\",\"linecolor\":\"white\",\"showbackground\":true,\"ticks\":\"\",\"zerolinecolor\":\"white\",\"gridwidth\":2},\"yaxis\":{\"backgroundcolor\":\"#E5ECF6\",\"gridcolor\":\"white\",\"linecolor\":\"white\",\"showbackground\":true,\"ticks\":\"\",\"zerolinecolor\":\"white\",\"gridwidth\":2},\"zaxis\":{\"backgroundcolor\":\"#E5ECF6\",\"gridcolor\":\"white\",\"linecolor\":\"white\",\"showbackground\":true,\"ticks\":\"\",\"zerolinecolor\":\"white\",\"gridwidth\":2}},\"shapedefaults\":{\"line\":{\"color\":\"#2a3f5f\"}},\"annotationdefaults\":{\"arrowcolor\":\"#2a3f5f\",\"arrowhead\":0,\"arrowwidth\":1},\"geo\":{\"bgcolor\":\"white\",\"landcolor\":\"#E5ECF6\",\"subunitcolor\":\"white\",\"showland\":true,\"showlakes\":true,\"lakecolor\":\"white\"},\"title\":{\"x\":0.05},\"mapbox\":{\"style\":\"light\"}}},\"ternary\":{\"domain\":{\"x\":[0.0,0.45],\"y\":[0.0,1.0]},\"aaxis\":{\"title\":{\"text\":\"<i>NPPA</i>\",\"font\":{\"size\":30}},\"tickfont\":{\"size\":30},\"tickangle\":0,\"tickcolor\":\"rgba(0,0,0,0)\",\"ticklen\":5,\"showline\":true,\"showgrid\":true},\"baxis\":{\"title\":{\"text\":\"<br><i>TECRL</i>\",\"font\":{\"size\":30}},\"tickfont\":{\"size\":30},\"tickangle\":45,\"tickcolor\":\"rgba(0,0,0,0)\",\"ticklen\":5,\"showline\":true,\"showgrid\":true},\"caxis\":{\"title\":{\"text\":\"<br><i>MYH6</i>\",\"font\":{\"size\":30}},\"tickfont\":{\"size\":30},\"tickangle\":-45,\"tickcolor\":\"rgba(0,0,0,0)\",\"ticklen\":5,\"showline\":true,\"showgrid\":true},\"sum\":100},\"xaxis\":{\"anchor\":\"y\",\"domain\":[0.0,0.45],\"showticklabels\":false,\"showgrid\":false,\"zeroline\":false},\"yaxis\":{\"anchor\":\"x\",\"domain\":[0.0,0.425],\"showticklabels\":false,\"showgrid\":false,\"zeroline\":false},\"xaxis2\":{\"anchor\":\"y2\",\"domain\":[0.55,1.0],\"showticklabels\":false},\"yaxis2\":{\"anchor\":\"x2\",\"domain\":[0.0,0.425],\"showticklabels\":false},\"showlegend\":false,\"plot_bgcolor\":\"rgba(0, 0, 0, 0)\",\"paper_bgcolor\":\"rgba(0, 0, 0, 0)\",\"height\":700,\"updatemenus\":[{\"buttons\":[{\"args\":[{\"visible\":[true]}],\"label\":\"NPPA,TECRL,MYH6\",\"method\":\"update\"}],\"font\":{\"size\":20},\"x\":0,\"y\":1.05},{\"buttons\":[{\"args\":[{\"visible\":[true]}],\"label\":\"Silhouette Scores\",\"method\":\"update\"}],\"font\":{\"size\":20},\"x\":0,\"y\":0.9},{\"buttons\":[{\"args\":[\"arrangement\",\"snap\"],\"label\":\"Snap\",\"method\":\"restyle\"},{\"args\":[\"arrangement\",\"perpendicular\"],\"label\":\"Perpendicular\",\"method\":\"restyle\"},{\"args\":[\"arrangement\",\"freeform\"],\"label\":\"Freeform\",\"method\":\"restyle\"},{\"args\":[\"arrangement\",\"fixed\"],\"label\":\"Fixed\",\"method\":\"restyle\"}],\"font\":{\"size\":20},\"x\":0,\"y\":1.25},{\"buttons\":[{\"args\":[\"paper_bgcolor\",\"white\"],\"label\":\"Light\",\"method\":\"relayout\"},{\"args\":[\"paper_bgcolor\",\"black\"],\"label\":\"Dark\",\"method\":\"relayout\"}],\"font\":{\"size\":20},\"x\":0.2,\"y\":1.25},{\"buttons\":[{\"args\":[\"node.thickness\",8],\"label\":\"Thin\",\"method\":\"restyle\"},{\"args\":[\"node.thickness\",15],\"label\":\"Thick\",\"method\":\"restyle\"}],\"font\":{\"size\":20},\"x\":0.4,\"y\":1.25},{\"buttons\":[{\"args\":[\"node.pad\",15],\"label\":\"Small gap\",\"method\":\"restyle\"},{\"args\":[\"node.pad\",20],\"label\":\"Large gap\",\"method\":\"restyle\"}],\"font\":{\"size\":20},\"x\":0.6,\"y\":1.25},{\"buttons\":[{\"args\":[\"orientation\",\"h\"],\"label\":\"Horizontal\",\"method\":\"restyle\"},{\"args\":[\"orientation\",\"v\"],\"label\":\"Vertical\",\"method\":\"restyle\"}],\"font\":{\"size\":20},\"x\":0.8,\"y\":1.25}]},                        {\"responsive\": true}                    ).then(function(){\n",
       "                            \n",
       "var gd = document.getElementById('f031bdc6-9415-45a9-92dd-281117ca90b7');\n",
       "var x = new MutationObserver(function (mutations, observer) {{\n",
       "        var display = window.getComputedStyle(gd).display;\n",
       "        if (!display || display === 'none') {{\n",
       "            console.log([gd, 'removed!']);\n",
       "            Plotly.purge(gd);\n",
       "            observer.disconnect();\n",
       "        }}\n",
       "}});\n",
       "\n",
       "// Listen for the removal of the full notebook cells\n",
       "var notebookContainer = gd.closest('#notebook-container');\n",
       "if (notebookContainer) {{\n",
       "    x.observe(notebookContainer, {childList: true});\n",
       "}}\n",
       "\n",
       "// Listen for the clearing of the current output cell\n",
       "var outputEl = gd.closest('.output');\n",
       "if (outputEl) {{\n",
       "    x.observe(outputEl, {childList: true});\n",
       "}}\n",
       "\n",
       "                        })                };                });            </script>        </div>"
      ]
     },
     "metadata": {},
     "output_type": "display_data"
    }
   ],
   "source": [
    "coexpression_sankey_fig.show()"
   ]
  }
 ],
 "metadata": {
  "kernelspec": {
   "display_name": "Python 3 (ipykernel)",
   "language": "python",
   "name": "python3"
  },
  "language_info": {
   "codemirror_mode": {
    "name": "ipython",
    "version": 3
   },
   "file_extension": ".py",
   "mimetype": "text/x-python",
   "name": "python",
   "nbconvert_exporter": "python",
   "pygments_lexer": "ipython3",
   "version": "3.9.12"
  }
 },
 "nbformat": 4,
 "nbformat_minor": 5
}
