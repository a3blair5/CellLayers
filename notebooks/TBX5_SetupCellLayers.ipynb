{
 "cells": [
  {
   "cell_type": "code",
   "execution_count": 2,
   "id": "2fdaa850-e8c6-41e7-97a8-ad87d209088a",
   "metadata": {},
   "outputs": [],
   "source": [
    "library(enrichR)\n",
    "library(Seurat)\n",
    "library(SetupCellLayers)\n",
    "library(Matrix)"
   ]
  },
  {
   "cell_type": "code",
   "execution_count": null,
   "id": "9e4af014-ec0c-4eb1-875c-c3ac9362ba57",
   "metadata": {},
   "outputs": [],
   "source": [
    "# countsData <- read.csv(file = \"../Data/TBX5/TBX5_sample_exp.csv\", header = TRUE, row.names = 1)\n",
    "# sobj <- CreateSeuratObject(counts = t(countsData))"
   ]
  },
  {
   "cell_type": "code",
   "execution_count": null,
   "id": "092a9435-924b-4b56-a8f2-18c061e58b43",
   "metadata": {},
   "outputs": [],
   "source": [
    "# metaData <- read.csv(file = \"../Data/TBX5/TBX5_sample_meta.csv\", header = TRUE, row.names = 1)\n",
    "# metaData <- metaData[match(row.names(countsData), row.names(metaData)),]\n",
    "# sobj@meta.data <- metaData"
   ]
  },
  {
   "cell_type": "code",
   "execution_count": 3,
   "id": "2150c4ff-ad5a-4b6b-a96b-b0c8f1ec95b4",
   "metadata": {},
   "outputs": [],
   "source": [
    "sobj <- readRDS('../data/TBX5/cmsonly_biorep_int_by_rep_ccregressed.rds')"
   ]
  },
  {
   "cell_type": "code",
   "execution_count": 4,
   "id": "93706fe1-3323-4ccd-8fa5-6aeb21162ea6",
   "metadata": {},
   "outputs": [],
   "source": [
    "sobj <- subset(x = sobj, downsample = 50)"
   ]
  },
  {
   "cell_type": "code",
   "execution_count": 11,
   "id": "e4eb7d79-eee6-4461-991b-267069f294d4",
   "metadata": {},
   "outputs": [],
   "source": [
    "sobj@meta.data <- sobj@meta.data[,c('orig.ident','gem.group', 'niceorder')]"
   ]
  },
  {
   "cell_type": "code",
   "execution_count": 14,
   "id": "f92f1f43-bed8-4a15-af4a-2d944f08dd8d",
   "metadata": {},
   "outputs": [
    {
     "name": "stderr",
     "output_type": "stream",
     "text": [
      "Centering and scaling data matrix\n",
      "\n",
      "PC_ 1 \n",
      "Positive:  SOX2, DRAXIN, NPPC, CRABP1, MEOX1, MAB21L1, NMU, DLX5, KRT17, NR2F2 \n",
      "\t   TTYH1, MSX1, ACTG1, VGLL3, FAM162B, SERTAD4, H3F3B, SFRP2, TFAP2B, PRRX2 \n",
      "\t   TUBB2B, SOX17, ELN, KIF15, PSRC1, ACTB, AURKB, RANBP1, CDC20B, CDK1 \n",
      "Negative:  ORM1, NUCKS1, LIPC, HABP2, H2AFV, NCAPD2, ITIH3, NCAPH, OIP5, FMO1 \n",
      "\t   CBX5, HNRNPA2B1, APOB, SHCBP1, CIT, KIF18B, APOLD1, AMBP, FABP1, RNF26 \n",
      "\t   ASGR2, C3, ITIH2, PHF19, CDC25B, GJB1, REEP4, SERPINA6, SPON2, RAN \n",
      "PC_ 2 \n",
      "Positive:  MEOX1, WSB1, GRM8, PTMS, FAM150A, RTN4, LBH, SUN2, TNFAIP8L1, CYTL1 \n",
      "\t   NCAM1, NUDT4, SOX17, CHPF, CCNA2, CCDC42, CDH2, GOLIM4, GDPD2, DRAXIN \n",
      "\t   EXPH5, RSPO3, ASPN, NDE1, AURKA, TTYH1, LPL, FAM83D, KIF20A, RNF26 \n",
      "Negative:  FAM81B, ARMC3, AKAP14, EFCAB10, CCDC65, MORN5, C22orf15, ZMYND10, CCDC173, SPAG17 \n",
      "\t   ZNF474, ROPN1L, MARCH10, CDC20B, EFCAB1, FAM183A, DYNLRB2, ENKUR, FAM166B, RP11-205K6.1 \n",
      "\t   RSPH1, C9orf171, CCDC170, C9orf24, CCDC39, FMO1, TPPP3, FABP6, LRRIQ1, LRRC46 \n",
      "PC_ 3 \n",
      "Positive:  MYL3, FITM1, SH3BGR, RPS6, RPS2, TNNC1, CRIP1, RPS18, CKM, IRX4 \n",
      "\t   NREP, TCAP, HMGA1, AKR1B1, CLDN6, MYL4, HEY2, LAMA4, HSPB2, NAV1 \n",
      "\t   TRH, TNNT2, RPL39, XRCC4, PPP1R14C, FHL2, HSPB3, RHOQ, AHNAK2, RPL3 \n",
      "Negative:  RGS5, COL3A1, GPC3, MFGE8, SPARC, COL1A2, BAMBI, RGS4, UACA, SOX4 \n",
      "\t   ITGA1, PRR16, ITGAV, HTRA1, TIMP1, KCNIP4, ANXA2, CDH2, LBH, RTN4 \n",
      "\t   LAPTM4A, PHOX2A, MFAP4, ASAH1, ITGB5, NCAM1, ENAH, IGF2, RBP1, MGLL \n",
      "PC_ 4 \n",
      "Positive:  MT-CO2, MT-ND4, MT-CO3, MT-CO1, MT-ATP6, MT-ND1, DPYSL3, DES, MYH7, MT-ND5 \n",
      "\t   ACTN2, XPR1, SYNPO2L, MT-ND3, C12orf75, MT-CYB, MYL7, ATP5G1, PLN, TNNI3 \n",
      "\t   MT-ND2, SORBS2, CRYAB, CYCS, ACTC1, CSRP3, HOPX, FLNC, LBH, MYBPC3 \n",
      "Negative:  VCAN, HNRNPA1, NPM1, PRDX1, MAGED2, HSP90AB1, UBB, ROBO2, KDELR1, IGFBP5 \n",
      "\t   PDIA6, UBC, PTN, TECRL, ID4, SC5D, C5orf38, BCHE, SPHKAP, TPI1 \n",
      "\t   IRX1, ZFP36L2, MYH6, PPIB, ATP1A1, IGFBP7, CORIN, FBN2, CNTN5, ENO1 \n",
      "PC_ 5 \n",
      "Positive:  TAGLN, KRT18, KRT8, TNNC1, TPM1, PDLIM3, ACTA2, FHL1, S100A10, GSTP1 \n",
      "\t   TPM2, TMSB4X, POPDC2, EMP2, NPPA, CALD1, MYH11, ANKRD1, CD63, ACTC1 \n",
      "\t   DYNLL1, TPM4, SEPT7, FABP5, ITGA1, S100A11, COL4A1, PPP1R14A, CKB, RGS4 \n",
      "Negative:  ZFP36L1, VCAM1, RSPO3, ATP1B1, RP11-332H18.4, SLC2A1, GOLIM4, SLC2A3, WSB1, TBX2 \n",
      "\t   PLN, MYH6, ADAMTS19, TNFRSF19, CNTN5, MEIS2, PEG10, SC5D, KCTD12, FAM189A2 \n",
      "\t   GRIA1, EXTL3, ENO2, ALPK2, SERPINI1, FAM162A, MB, MRPS6, NUDT4, C14orf37 \n",
      "\n",
      "Computing nearest neighbor graph\n",
      "\n",
      "Computing SNN\n",
      "\n",
      "Warning message:\n",
      "“The default method for RunUMAP has changed from calling Python UMAP via reticulate to the R-native UWOT using the cosine metric\n",
      "To use Python UMAP via reticulate, set umap.method to 'umap-learn' and metric to 'correlation'\n",
      "This message will be shown once per session”\n",
      "06:30:25 UMAP embedding parameters a = 0.9922 b = 1.112\n",
      "\n",
      "06:30:25 Read 1100 rows and found 10 numeric columns\n",
      "\n",
      "06:30:25 Using Annoy for neighbor search, n_neighbors = 30\n",
      "\n",
      "06:30:25 Building Annoy index with metric = cosine, n_trees = 50\n",
      "\n",
      "0%   10   20   30   40   50   60   70   80   90   100%\n",
      "\n",
      "[----|----|----|----|----|----|----|----|----|----|\n",
      "\n",
      "*\n",
      "*\n",
      "*\n",
      "*\n",
      "*\n",
      "*\n",
      "*\n",
      "*\n",
      "*\n",
      "*\n",
      "*\n",
      "*\n",
      "*\n",
      "*\n",
      "*\n",
      "*\n",
      "*\n",
      "*\n",
      "*\n",
      "*\n",
      "*\n",
      "*\n",
      "*\n",
      "*\n",
      "*\n",
      "*\n",
      "*\n",
      "*\n",
      "*\n",
      "*\n",
      "*\n",
      "*\n",
      "*\n",
      "*\n",
      "*\n",
      "*\n",
      "*\n",
      "*\n",
      "*\n",
      "*\n",
      "*\n",
      "*\n",
      "*\n",
      "*\n",
      "*\n",
      "*\n",
      "*\n",
      "*\n",
      "*\n",
      "*\n",
      "|\n",
      "\n",
      "06:30:28 Writing NN index file to temp file /tmp/RtmpHdH5Eo/file13474d279bd6\n",
      "\n",
      "06:30:28 Searching Annoy index using 1 thread, search_k = 3000\n",
      "\n",
      "06:30:30 Annoy recall = 100%\n",
      "\n",
      "06:30:32 Commencing smooth kNN distance calibration using 1 thread\n",
      "\n",
      "06:30:33 Initializing from normalized Laplacian + noise\n",
      "\n",
      "06:30:34 Commencing optimization for 500 epochs, with 42038 positive edges\n",
      "\n",
      "06:30:52 Optimization finished\n",
      "\n"
     ]
    }
   ],
   "source": [
    "# # Basic Seurat analysis\n",
    "sobj <- FindVariableFeatures(sobj,assay = 'RNA',  selection.method = \"vst\", nfeatures = 2000)\n",
    "all.genes <- rownames(sobj)\n",
    "sobj <- ScaleData(sobj, features = all.genes)\n",
    "sobj <- RunPCA(sobj, features = VariableFeatures(object = sobj))\n",
    "sobj <- JackStraw(sobj, num.replicate = 100)\n",
    "sobj <- ScoreJackStraw(sobj, dims = 1:20)\n",
    "sobj <- FindNeighbors(sobj, dims = 1:10)\n",
    "sobj <- RunUMAP(sobj, dims = 1:10)\n",
    "saveRDS(sobj,'../Data/TBX5/TBX5_CellLayers.rds')"
   ]
  },
  {
   "cell_type": "code",
   "execution_count": 25,
   "id": "5bf8e1be-b80d-43b5-bf6a-2dc5d693f023",
   "metadata": {},
   "outputs": [],
   "source": [
    "sobj <- readRDS('../Data/TBX5/TBX5_CellLayers.rds')"
   ]
  },
  {
   "cell_type": "code",
   "execution_count": 15,
   "id": "3425e13b-5ac0-4e35-bfb7-d8d44cd2443c",
   "metadata": {},
   "outputs": [],
   "source": [
    "cl.setup <- compute_modularity(sobj, seq(0.1, 0.5, by=0.1),\n",
    "                               '../Data/TBX5/TBX5_sample_modularity.csv')"
   ]
  },
  {
   "cell_type": "code",
   "execution_count": 16,
   "id": "7793114e-a59d-4406-8891-0b931cd365ba",
   "metadata": {},
   "outputs": [],
   "source": [
    "cl.setup[['sil']] <- compute_silhouette_scores(cl.setup$sobj,\n",
    "                                               as.character(cl.setup$mod$'resolution'),\n",
    "                                               '../data/TBX5/TBX5_sample_silhouette_scores.csv')"
   ]
  },
  {
   "cell_type": "code",
   "execution_count": 17,
   "id": "740f389d-d1e6-4cd9-8ad5-f044f9a83e2c",
   "metadata": {},
   "outputs": [
    {
     "name": "stderr",
     "output_type": "stream",
     "text": [
      "Calculating cluster 0\n",
      "\n",
      "For a more efficient implementation of the Wilcoxon Rank Sum Test,\n",
      "(default method for FindMarkers) please install the limma package\n",
      "--------------------------------------------\n",
      "install.packages('BiocManager')\n",
      "BiocManager::install('limma')\n",
      "--------------------------------------------\n",
      "After installation of limma, Seurat will automatically use the more \n",
      "efficient implementation (no further action necessary).\n",
      "This message will be shown once per session\n",
      "\n",
      "Calculating cluster 1\n",
      "\n",
      "Calculating cluster 2\n",
      "\n"
     ]
    },
    {
     "name": "stdout",
     "output_type": "stream",
     "text": [
      "Uploading data to Enrichr... Done.\n",
      "  Querying GO_Biological_Process_2018... Done.\n",
      "Parsing results... Done.\n",
      "Uploading data to Enrichr... Done.\n",
      "  Querying GO_Biological_Process_2018... Done.\n",
      "Parsing results... Done.\n",
      "Uploading data to Enrichr... Done.\n",
      "  Querying GO_Biological_Process_2018... Done.\n",
      "Parsing results... Done.\n"
     ]
    },
    {
     "name": "stderr",
     "output_type": "stream",
     "text": [
      "Calculating cluster 0\n",
      "\n",
      "Calculating cluster 1\n",
      "\n",
      "Calculating cluster 2\n",
      "\n"
     ]
    },
    {
     "name": "stdout",
     "output_type": "stream",
     "text": [
      "Uploading data to Enrichr... Done.\n",
      "  Querying GO_Biological_Process_2018... Done.\n",
      "Parsing results... Done.\n",
      "Uploading data to Enrichr... Done.\n",
      "  Querying GO_Biological_Process_2018... Done.\n",
      "Parsing results... Done.\n",
      "Uploading data to Enrichr... Done.\n",
      "  Querying GO_Biological_Process_2018... Done.\n",
      "Parsing results... Done.\n"
     ]
    },
    {
     "name": "stderr",
     "output_type": "stream",
     "text": [
      "Calculating cluster 0\n",
      "\n",
      "Calculating cluster 1\n",
      "\n",
      "Calculating cluster 2\n",
      "\n",
      "Calculating cluster 3\n",
      "\n",
      "Calculating cluster 4\n",
      "\n",
      "Calculating cluster 5\n",
      "\n"
     ]
    },
    {
     "name": "stdout",
     "output_type": "stream",
     "text": [
      "Uploading data to Enrichr... Done.\n",
      "  Querying GO_Biological_Process_2018... Done.\n",
      "Parsing results... Done.\n",
      "Uploading data to Enrichr... Done.\n",
      "  Querying GO_Biological_Process_2018... Done.\n",
      "Parsing results... Done.\n",
      "Uploading data to Enrichr... Done.\n",
      "  Querying GO_Biological_Process_2018... Done.\n",
      "Parsing results... Done.\n",
      "Uploading data to Enrichr... Done.\n",
      "  Querying GO_Biological_Process_2018... Done.\n",
      "Parsing results... Done.\n",
      "Uploading data to Enrichr... Done.\n",
      "  Querying GO_Biological_Process_2018... Done.\n",
      "Parsing results... Done.\n",
      "Uploading data to Enrichr... Done.\n",
      "  Querying GO_Biological_Process_2018... Done.\n",
      "Parsing results... Done.\n"
     ]
    },
    {
     "name": "stderr",
     "output_type": "stream",
     "text": [
      "Calculating cluster 0\n",
      "\n",
      "Calculating cluster 1\n",
      "\n",
      "Calculating cluster 2\n",
      "\n",
      "Calculating cluster 3\n",
      "\n",
      "Calculating cluster 4\n",
      "\n",
      "Calculating cluster 5\n",
      "\n"
     ]
    },
    {
     "name": "stdout",
     "output_type": "stream",
     "text": [
      "Uploading data to Enrichr... Done.\n",
      "  Querying GO_Biological_Process_2018... Done.\n",
      "Parsing results... Done.\n",
      "Uploading data to Enrichr... Done.\n",
      "  Querying GO_Biological_Process_2018... Done.\n",
      "Parsing results... Done.\n",
      "Uploading data to Enrichr... Done.\n",
      "  Querying GO_Biological_Process_2018... Done.\n",
      "Parsing results... Done.\n",
      "Uploading data to Enrichr... Done.\n",
      "  Querying GO_Biological_Process_2018... Done.\n",
      "Parsing results... Done.\n",
      "Uploading data to Enrichr... Done.\n",
      "  Querying GO_Biological_Process_2018... Done.\n",
      "Parsing results... Done.\n",
      "Uploading data to Enrichr... Done.\n",
      "  Querying GO_Biological_Process_2018... Done.\n",
      "Parsing results... Done.\n"
     ]
    },
    {
     "name": "stderr",
     "output_type": "stream",
     "text": [
      "Calculating cluster 0\n",
      "\n",
      "Calculating cluster 1\n",
      "\n",
      "Calculating cluster 2\n",
      "\n",
      "Calculating cluster 3\n",
      "\n",
      "Calculating cluster 4\n",
      "\n",
      "Calculating cluster 5\n",
      "\n",
      "Calculating cluster 6\n",
      "\n"
     ]
    },
    {
     "name": "stdout",
     "output_type": "stream",
     "text": [
      "Uploading data to Enrichr... Done.\n",
      "  Querying GO_Biological_Process_2018... Done.\n",
      "Parsing results... Done.\n",
      "Uploading data to Enrichr... Done.\n",
      "  Querying GO_Biological_Process_2018... Done.\n",
      "Parsing results... Done.\n",
      "Uploading data to Enrichr... Done.\n",
      "  Querying GO_Biological_Process_2018... Done.\n",
      "Parsing results... Done.\n",
      "Uploading data to Enrichr... Done.\n",
      "  Querying GO_Biological_Process_2018... Done.\n",
      "Parsing results... Done.\n",
      "Uploading data to Enrichr... Done.\n",
      "  Querying GO_Biological_Process_2018... Done.\n",
      "Parsing results... Done.\n",
      "Uploading data to Enrichr... Done.\n",
      "  Querying GO_Biological_Process_2018... Done.\n",
      "Parsing results... Done.\n",
      "Uploading data to Enrichr... Done.\n",
      "  Querying GO_Biological_Process_2018... Done.\n",
      "Parsing results... Done.\n"
     ]
    }
   ],
   "source": [
    "compute_enrichment(\"GO_Biological_Process_2018\", \n",
    "                   cl.setup$sobj, \n",
    "                   seq(0.1, 0.5, by=0.1), \n",
    "                   '../data/TBX5/')"
   ]
  },
  {
   "cell_type": "code",
   "execution_count": 24,
   "id": "de06ad19-9fe7-40e7-a805-c1e068153d1f",
   "metadata": {},
   "outputs": [],
   "source": [
    "write.csv(cl.setup$sobj@meta.data, '../data/TBX5/TBX5_sample_meta.csv')"
   ]
  },
  {
   "cell_type": "code",
   "execution_count": 19,
   "id": "1e5b2e9e-6cf3-4eaf-8c9f-28b4f6f88484",
   "metadata": {},
   "outputs": [],
   "source": [
    "write.csv(sobj@assays$RNA@data[sobj@assays$RNA@var.features,], '../data/TBX5/TBX5_sample_exp.csv')"
   ]
  }
 ],
 "metadata": {
  "kernelspec": {
   "display_name": "R",
   "language": "R",
   "name": "ir"
  },
  "language_info": {
   "codemirror_mode": "r",
   "file_extension": ".r",
   "mimetype": "text/x-r-source",
   "name": "R",
   "pygments_lexer": "r",
   "version": "4.1.3"
  }
 },
 "nbformat": 4,
 "nbformat_minor": 5
}
